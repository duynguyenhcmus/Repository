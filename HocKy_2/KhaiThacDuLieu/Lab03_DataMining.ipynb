{
  "nbformat": 4,
  "nbformat_minor": 0,
  "metadata": {
    "colab": {
      "name": "Lab03_DataMining.ipynb",
      "provenance": [],
      "collapsed_sections": []
    },
    "kernelspec": {
      "name": "python3",
      "display_name": "Python 3"
    },
    "language_info": {
      "name": "python"
    }
  },
  "cells": [
    {
      "cell_type": "markdown",
      "metadata": {
        "id": "tztOvuqAkHN7"
      },
      "source": [
        "#Data Mining - Lab 03\n",
        "#Ho va ten: Nguyen Duc Vu Duc\n",
        "#MSSV: 18110004"
      ]
    },
    {
      "cell_type": "code",
      "metadata": {
        "id": "n48GmhX7j1zy"
      },
      "source": [
        "import pandas as pd\n",
        "import numpy as np\n",
        "import seaborn as sns"
      ],
      "execution_count": 1,
      "outputs": []
    },
    {
      "cell_type": "code",
      "metadata": {
        "id": "rA4IZA6bkQ0z"
      },
      "source": [
        "#Import dataset\n",
        "path='/content/diabetes_null.csv'\n",
        "df=pd.read_csv(path)"
      ],
      "execution_count": 2,
      "outputs": []
    },
    {
      "cell_type": "code",
      "metadata": {
        "colab": {
          "base_uri": "https://localhost:8080/",
          "height": 204
        },
        "id": "pAcVCRgVkQ8t",
        "outputId": "30438ee2-7399-444c-c26d-0c99afc77809"
      },
      "source": [
        "df.head()"
      ],
      "execution_count": 3,
      "outputs": [
        {
          "output_type": "execute_result",
          "data": {
            "text/html": [
              "<div>\n",
              "<style scoped>\n",
              "    .dataframe tbody tr th:only-of-type {\n",
              "        vertical-align: middle;\n",
              "    }\n",
              "\n",
              "    .dataframe tbody tr th {\n",
              "        vertical-align: top;\n",
              "    }\n",
              "\n",
              "    .dataframe thead th {\n",
              "        text-align: right;\n",
              "    }\n",
              "</style>\n",
              "<table border=\"1\" class=\"dataframe\">\n",
              "  <thead>\n",
              "    <tr style=\"text-align: right;\">\n",
              "      <th></th>\n",
              "      <th>Pregnancies</th>\n",
              "      <th>Glucose</th>\n",
              "      <th>BloodPressure</th>\n",
              "      <th>SkinThickness</th>\n",
              "      <th>Insulin</th>\n",
              "      <th>BMI</th>\n",
              "      <th>DiabetesPedigreeFunction</th>\n",
              "      <th>Age</th>\n",
              "      <th>Outcome</th>\n",
              "    </tr>\n",
              "  </thead>\n",
              "  <tbody>\n",
              "    <tr>\n",
              "      <th>0</th>\n",
              "      <td>6</td>\n",
              "      <td>148.0</td>\n",
              "      <td>72.0</td>\n",
              "      <td>35.0</td>\n",
              "      <td>NaN</td>\n",
              "      <td>33.6</td>\n",
              "      <td>0.627</td>\n",
              "      <td>5</td>\n",
              "      <td>1</td>\n",
              "    </tr>\n",
              "    <tr>\n",
              "      <th>1</th>\n",
              "      <td>1</td>\n",
              "      <td>85.0</td>\n",
              "      <td>66.0</td>\n",
              "      <td>29.0</td>\n",
              "      <td>NaN</td>\n",
              "      <td>26.6</td>\n",
              "      <td>0.351</td>\n",
              "      <td>31</td>\n",
              "      <td>0</td>\n",
              "    </tr>\n",
              "    <tr>\n",
              "      <th>2</th>\n",
              "      <td>8</td>\n",
              "      <td>183.0</td>\n",
              "      <td>64.0</td>\n",
              "      <td>NaN</td>\n",
              "      <td>NaN</td>\n",
              "      <td>23.3</td>\n",
              "      <td>0.672</td>\n",
              "      <td>32</td>\n",
              "      <td>1</td>\n",
              "    </tr>\n",
              "    <tr>\n",
              "      <th>3</th>\n",
              "      <td>1</td>\n",
              "      <td>89.0</td>\n",
              "      <td>66.0</td>\n",
              "      <td>23.0</td>\n",
              "      <td>94.0</td>\n",
              "      <td>28.1</td>\n",
              "      <td>0.167</td>\n",
              "      <td>21</td>\n",
              "      <td>0</td>\n",
              "    </tr>\n",
              "    <tr>\n",
              "      <th>4</th>\n",
              "      <td>0</td>\n",
              "      <td>137.0</td>\n",
              "      <td>4.0</td>\n",
              "      <td>35.0</td>\n",
              "      <td>168.0</td>\n",
              "      <td>43.1</td>\n",
              "      <td>2.288</td>\n",
              "      <td>33</td>\n",
              "      <td>1</td>\n",
              "    </tr>\n",
              "  </tbody>\n",
              "</table>\n",
              "</div>"
            ],
            "text/plain": [
              "   Pregnancies  Glucose  BloodPressure  ...  DiabetesPedigreeFunction  Age  Outcome\n",
              "0            6    148.0           72.0  ...                     0.627    5        1\n",
              "1            1     85.0           66.0  ...                     0.351   31        0\n",
              "2            8    183.0           64.0  ...                     0.672   32        1\n",
              "3            1     89.0           66.0  ...                     0.167   21        0\n",
              "4            0    137.0            4.0  ...                     2.288   33        1\n",
              "\n",
              "[5 rows x 9 columns]"
            ]
          },
          "metadata": {
            "tags": []
          },
          "execution_count": 3
        }
      ]
    },
    {
      "cell_type": "code",
      "metadata": {
        "colab": {
          "base_uri": "https://localhost:8080/"
        },
        "id": "To-qTU2ukQ-y",
        "outputId": "dc6e59ac-f329-41f5-a83d-6336e0b8b01b"
      },
      "source": [
        "df.info()"
      ],
      "execution_count": 4,
      "outputs": [
        {
          "output_type": "stream",
          "text": [
            "<class 'pandas.core.frame.DataFrame'>\n",
            "RangeIndex: 768 entries, 0 to 767\n",
            "Data columns (total 9 columns):\n",
            " #   Column                    Non-Null Count  Dtype  \n",
            "---  ------                    --------------  -----  \n",
            " 0   Pregnancies               768 non-null    int64  \n",
            " 1   Glucose                   763 non-null    float64\n",
            " 2   BloodPressure             733 non-null    float64\n",
            " 3   SkinThickness             541 non-null    float64\n",
            " 4   Insulin                   394 non-null    float64\n",
            " 5   BMI                       757 non-null    float64\n",
            " 6   DiabetesPedigreeFunction  768 non-null    float64\n",
            " 7   Age                       768 non-null    int64  \n",
            " 8   Outcome                   768 non-null    int64  \n",
            "dtypes: float64(6), int64(3)\n",
            "memory usage: 54.1 KB\n"
          ],
          "name": "stdout"
        }
      ]
    },
    {
      "cell_type": "markdown",
      "metadata": {
        "id": "Ap2M_0Qakqsk"
      },
      "source": [
        "Xuất các đặc trưng và kèm theo số lượng dòng NULL/NAN của từng cột đó"
      ]
    },
    {
      "cell_type": "code",
      "metadata": {
        "colab": {
          "base_uri": "https://localhost:8080/"
        },
        "id": "lXbDr7ITkRBC",
        "outputId": "130b9117-09c9-4d6f-a9fe-a92a2ae2d8ae"
      },
      "source": [
        "for column in df.columns:\n",
        "  print('The number of NaN values in {} columns: {}'.format(column,df[column].isna().sum()))"
      ],
      "execution_count": 5,
      "outputs": [
        {
          "output_type": "stream",
          "text": [
            "The number of NaN values in Pregnancies columns: 0\n",
            "The number of NaN values in Glucose columns: 5\n",
            "The number of NaN values in BloodPressure columns: 35\n",
            "The number of NaN values in SkinThickness columns: 227\n",
            "The number of NaN values in Insulin columns: 374\n",
            "The number of NaN values in BMI columns: 11\n",
            "The number of NaN values in DiabetesPedigreeFunction columns: 0\n",
            "The number of NaN values in Age columns: 0\n",
            "The number of NaN values in Outcome columns: 0\n"
          ],
          "name": "stdout"
        }
      ]
    },
    {
      "cell_type": "markdown",
      "metadata": {
        "id": "p8c0htXflknI"
      },
      "source": [
        "Đặc trưng Age là đặc trưng không có giá trị NULL/NAN nên ta chọn đặc trưng Age là đặc trưng chính. Thực hiện tạo ra 2 bộ data : "
      ]
    },
    {
      "cell_type": "markdown",
      "metadata": {
        "id": "Zx37iXt8lmfe"
      },
      "source": [
        "Data 1 : gom nhóm Age theo hình thành các nhóm sau đó nếu giá trị NULL/NAN của các đặc trưng khác mà nằm trong nhóm nào thì thay bằng mean của nhóm đó "
      ]
    },
    {
      "cell_type": "code",
      "metadata": {
        "colab": {
          "base_uri": "https://localhost:8080/",
          "height": 204
        },
        "id": "mh7-Wyo2kRDT",
        "outputId": "a8dc4739-33cb-4243-947e-245a43a5f6ee"
      },
      "source": [
        "df_1=df.copy()\n",
        "df_1['Age group']=np.floor(df_1.loc[:,'Age']/10)\n",
        "df_1=df_1.fillna(df_1.mean())\n",
        "df_1=df_1.drop(['Age'],axis=1)\n",
        "df_1.head()"
      ],
      "execution_count": 6,
      "outputs": [
        {
          "output_type": "execute_result",
          "data": {
            "text/html": [
              "<div>\n",
              "<style scoped>\n",
              "    .dataframe tbody tr th:only-of-type {\n",
              "        vertical-align: middle;\n",
              "    }\n",
              "\n",
              "    .dataframe tbody tr th {\n",
              "        vertical-align: top;\n",
              "    }\n",
              "\n",
              "    .dataframe thead th {\n",
              "        text-align: right;\n",
              "    }\n",
              "</style>\n",
              "<table border=\"1\" class=\"dataframe\">\n",
              "  <thead>\n",
              "    <tr style=\"text-align: right;\">\n",
              "      <th></th>\n",
              "      <th>Pregnancies</th>\n",
              "      <th>Glucose</th>\n",
              "      <th>BloodPressure</th>\n",
              "      <th>SkinThickness</th>\n",
              "      <th>Insulin</th>\n",
              "      <th>BMI</th>\n",
              "      <th>DiabetesPedigreeFunction</th>\n",
              "      <th>Outcome</th>\n",
              "      <th>Age group</th>\n",
              "    </tr>\n",
              "  </thead>\n",
              "  <tbody>\n",
              "    <tr>\n",
              "      <th>0</th>\n",
              "      <td>6</td>\n",
              "      <td>148.0</td>\n",
              "      <td>72.0</td>\n",
              "      <td>35.000000</td>\n",
              "      <td>105.659898</td>\n",
              "      <td>33.6</td>\n",
              "      <td>0.627</td>\n",
              "      <td>1</td>\n",
              "      <td>0.0</td>\n",
              "    </tr>\n",
              "    <tr>\n",
              "      <th>1</th>\n",
              "      <td>1</td>\n",
              "      <td>85.0</td>\n",
              "      <td>66.0</td>\n",
              "      <td>29.000000</td>\n",
              "      <td>105.659898</td>\n",
              "      <td>26.6</td>\n",
              "      <td>0.351</td>\n",
              "      <td>0</td>\n",
              "      <td>3.0</td>\n",
              "    </tr>\n",
              "    <tr>\n",
              "      <th>2</th>\n",
              "      <td>8</td>\n",
              "      <td>183.0</td>\n",
              "      <td>64.0</td>\n",
              "      <td>25.876155</td>\n",
              "      <td>105.659898</td>\n",
              "      <td>23.3</td>\n",
              "      <td>0.672</td>\n",
              "      <td>1</td>\n",
              "      <td>3.0</td>\n",
              "    </tr>\n",
              "    <tr>\n",
              "      <th>3</th>\n",
              "      <td>1</td>\n",
              "      <td>89.0</td>\n",
              "      <td>66.0</td>\n",
              "      <td>23.000000</td>\n",
              "      <td>94.000000</td>\n",
              "      <td>28.1</td>\n",
              "      <td>0.167</td>\n",
              "      <td>0</td>\n",
              "      <td>2.0</td>\n",
              "    </tr>\n",
              "    <tr>\n",
              "      <th>4</th>\n",
              "      <td>0</td>\n",
              "      <td>137.0</td>\n",
              "      <td>4.0</td>\n",
              "      <td>35.000000</td>\n",
              "      <td>168.000000</td>\n",
              "      <td>43.1</td>\n",
              "      <td>2.288</td>\n",
              "      <td>1</td>\n",
              "      <td>3.0</td>\n",
              "    </tr>\n",
              "  </tbody>\n",
              "</table>\n",
              "</div>"
            ],
            "text/plain": [
              "   Pregnancies  Glucose  ...  Outcome  Age group\n",
              "0            6    148.0  ...        1        0.0\n",
              "1            1     85.0  ...        0        3.0\n",
              "2            8    183.0  ...        1        3.0\n",
              "3            1     89.0  ...        0        2.0\n",
              "4            0    137.0  ...        1        3.0\n",
              "\n",
              "[5 rows x 9 columns]"
            ]
          },
          "metadata": {
            "tags": []
          },
          "execution_count": 6
        }
      ]
    },
    {
      "cell_type": "markdown",
      "metadata": {
        "id": "i0WE9EmgqxMC"
      },
      "source": [
        "Data 2 : góm nhóm thành 5 nhóm đều nhau sau đó nếu giá trị NULL/NAN của các đặc trưng khác mà nằm trong nhóm nào thì thay bằng mean của nhóm đó \n"
      ]
    },
    {
      "cell_type": "code",
      "metadata": {
        "colab": {
          "base_uri": "https://localhost:8080/",
          "height": 204
        },
        "id": "nqbiqwgoq1T3",
        "outputId": "4c7ae5dd-c8a8-4406-953f-56a506c8afb6"
      },
      "source": [
        "from sklearn import preprocessing\n",
        "df_2=df.copy()\n",
        "df_2['Age group'] = pd.cut(df_2['Age'], bins=5)\n",
        "df_2=df_2.fillna(df_2.mean())\n",
        "df_2=df_2.drop(['Age'],axis=1)\n",
        "le = preprocessing.LabelEncoder()\n",
        "le.fit(df_2['Age group'])\n",
        "df_2['Age group']=le.transform(df_2['Age group'])\n",
        "df_2=pd.DataFrame(df_2)\n",
        "df_2.head()"
      ],
      "execution_count": 7,
      "outputs": [
        {
          "output_type": "execute_result",
          "data": {
            "text/html": [
              "<div>\n",
              "<style scoped>\n",
              "    .dataframe tbody tr th:only-of-type {\n",
              "        vertical-align: middle;\n",
              "    }\n",
              "\n",
              "    .dataframe tbody tr th {\n",
              "        vertical-align: top;\n",
              "    }\n",
              "\n",
              "    .dataframe thead th {\n",
              "        text-align: right;\n",
              "    }\n",
              "</style>\n",
              "<table border=\"1\" class=\"dataframe\">\n",
              "  <thead>\n",
              "    <tr style=\"text-align: right;\">\n",
              "      <th></th>\n",
              "      <th>Pregnancies</th>\n",
              "      <th>Glucose</th>\n",
              "      <th>BloodPressure</th>\n",
              "      <th>SkinThickness</th>\n",
              "      <th>Insulin</th>\n",
              "      <th>BMI</th>\n",
              "      <th>DiabetesPedigreeFunction</th>\n",
              "      <th>Outcome</th>\n",
              "      <th>Age group</th>\n",
              "    </tr>\n",
              "  </thead>\n",
              "  <tbody>\n",
              "    <tr>\n",
              "      <th>0</th>\n",
              "      <td>6</td>\n",
              "      <td>148.0</td>\n",
              "      <td>72.0</td>\n",
              "      <td>35.000000</td>\n",
              "      <td>105.659898</td>\n",
              "      <td>33.6</td>\n",
              "      <td>0.627</td>\n",
              "      <td>1</td>\n",
              "      <td>0</td>\n",
              "    </tr>\n",
              "    <tr>\n",
              "      <th>1</th>\n",
              "      <td>1</td>\n",
              "      <td>85.0</td>\n",
              "      <td>66.0</td>\n",
              "      <td>29.000000</td>\n",
              "      <td>105.659898</td>\n",
              "      <td>26.6</td>\n",
              "      <td>0.351</td>\n",
              "      <td>0</td>\n",
              "      <td>1</td>\n",
              "    </tr>\n",
              "    <tr>\n",
              "      <th>2</th>\n",
              "      <td>8</td>\n",
              "      <td>183.0</td>\n",
              "      <td>64.0</td>\n",
              "      <td>25.876155</td>\n",
              "      <td>105.659898</td>\n",
              "      <td>23.3</td>\n",
              "      <td>0.672</td>\n",
              "      <td>1</td>\n",
              "      <td>1</td>\n",
              "    </tr>\n",
              "    <tr>\n",
              "      <th>3</th>\n",
              "      <td>1</td>\n",
              "      <td>89.0</td>\n",
              "      <td>66.0</td>\n",
              "      <td>23.000000</td>\n",
              "      <td>94.000000</td>\n",
              "      <td>28.1</td>\n",
              "      <td>0.167</td>\n",
              "      <td>0</td>\n",
              "      <td>1</td>\n",
              "    </tr>\n",
              "    <tr>\n",
              "      <th>4</th>\n",
              "      <td>0</td>\n",
              "      <td>137.0</td>\n",
              "      <td>4.0</td>\n",
              "      <td>35.000000</td>\n",
              "      <td>168.000000</td>\n",
              "      <td>43.1</td>\n",
              "      <td>2.288</td>\n",
              "      <td>1</td>\n",
              "      <td>1</td>\n",
              "    </tr>\n",
              "  </tbody>\n",
              "</table>\n",
              "</div>"
            ],
            "text/plain": [
              "   Pregnancies  Glucose  ...  Outcome  Age group\n",
              "0            6    148.0  ...        1          0\n",
              "1            1     85.0  ...        0          1\n",
              "2            8    183.0  ...        1          1\n",
              "3            1     89.0  ...        0          1\n",
              "4            0    137.0  ...        1          1\n",
              "\n",
              "[5 rows x 9 columns]"
            ]
          },
          "metadata": {
            "tags": []
          },
          "execution_count": 7
        }
      ]
    },
    {
      "cell_type": "markdown",
      "metadata": {
        "id": "m8zB_R5-r8ih"
      },
      "source": [
        "Chạy các thuật toán Classification KNN, Decision Tree, Random Forest, Naïve Bayes"
      ]
    },
    {
      "cell_type": "code",
      "metadata": {
        "id": "nWMU7Q9Pq1c9"
      },
      "source": [
        "#Import libraries\n",
        "from sklearn.neighbors import KNeighborsClassifier\n",
        "from sklearn.tree import DecisionTreeClassifier\n",
        "from sklearn.ensemble import RandomForestClassifier\n",
        "from sklearn.naive_bayes import GaussianNB\n",
        "from sklearn.model_selection import train_test_split"
      ],
      "execution_count": 8,
      "outputs": []
    },
    {
      "cell_type": "code",
      "metadata": {
        "id": "jjFpdGXbt587"
      },
      "source": [
        "#Preprocessing dataset\n",
        "data_1=pd.concat([df_1.iloc[:,:7],df_1.iloc[:,8]],axis=1)\n",
        "data_1_label=df_1.iloc[:,7]\n",
        "\n",
        "data_2=pd.concat([df_2.iloc[:,:7],df_2.iloc[:,8]],axis=1)\n",
        "data_2_label=df_2.iloc[:,7]"
      ],
      "execution_count": 9,
      "outputs": []
    },
    {
      "cell_type": "code",
      "metadata": {
        "id": "OIPRynQUs_7i"
      },
      "source": [
        "#Train test split 2 dataset \n",
        "X_train_1,X_test_1, y_train_1,y_test_1=train_test_split(data_1,data_1_label,test_size=0.2,random_state=42)\n",
        "X_train_2,X_test_2, y_train_2,y_test_2=train_test_split(data_2,data_2_label,test_size=0.2,random_state=42)"
      ],
      "execution_count": 10,
      "outputs": []
    },
    {
      "cell_type": "code",
      "metadata": {
        "colab": {
          "base_uri": "https://localhost:8080/"
        },
        "id": "7jEONbP3sKJY",
        "outputId": "6bdb3210-bb95-48d7-afb8-22088419864b"
      },
      "source": [
        "#K Nearest Neighbors Classifier\n",
        "neigh_1 = KNeighborsClassifier(n_neighbors=10)\n",
        "neigh_1.fit(X_train_1, y_train_1)\n",
        "y_1_knn_pred= neigh_1.predict(X_test_1)\n",
        "print('Accuracy of KNN on dataset 1: ',np.sum(y_1_knn_pred == y_test_1)/len(y_test_1))\n",
        "\n",
        "neigh_2 = KNeighborsClassifier(n_neighbors=5)\n",
        "neigh_2.fit(X_train_2, y_train_2)\n",
        "y_2_knn_pred= neigh_2.predict(X_test_2)\n",
        "print('Accuracy of KNN on dataset 2: ',np.sum(y_2_knn_pred == y_test_2)/len(y_test_2))\n",
        "\n",
        "#Decision Tree\n",
        "clf_1 = DecisionTreeClassifier()\n",
        "clf_1.fit(X_train_1, y_train_1)\n",
        "y_1_dt_pred=clf_1.predict(X_test_1)\n",
        "print('Accuracy of Decision Tree on dataset 1: ',np.sum(y_1_dt_pred == y_test_1)/len(y_test_1))\n",
        "\n",
        "clf_2 = DecisionTreeClassifier()\n",
        "clf_2.fit(X_train_2, y_train_2)\n",
        "y_2_dt_pred=clf_2.predict(X_test_2)\n",
        "print('Accuracy of Decision Tree on dataset 2: ',np.sum(y_2_dt_pred == y_test_2)/len(y_test_2))\n",
        "\n",
        "#Random Forest\n",
        "rf_1 = RandomForestClassifier(max_depth=5, random_state=0)\n",
        "rf_1.fit(X_train_1, y_train_1)\n",
        "y_1_rf_pred=rf_1.predict(X_test_1)\n",
        "print('Accuracy of Random Forest on dataset 1: ',np.sum(y_1_rf_pred == y_test_1)/len(y_test_1))\n",
        "\n",
        "rf_2 = RandomForestClassifier(max_depth=5, random_state=0)\n",
        "rf_2.fit(X_train_2, y_train_2)\n",
        "y_2_rf_pred=rf_2.predict(X_test_2)\n",
        "print('Accuracy of Random Forest on dataset 2: ',np.sum(y_2_rf_pred == y_test_2)/len(y_test_2))\n",
        "\n",
        "#Naive Bayes\n",
        "nb_1=GaussianNB()\n",
        "nb_1.fit(X_train_1,y_train_1)\n",
        "y_1_nb_pred=nb_1.predict(X_test_1)\n",
        "print('Accuracy of Naive Bayes on dataset 1: ',np.sum(y_1_nb_pred == y_test_1)/len(y_test_1))\n",
        "\n",
        "nb_2=GaussianNB()\n",
        "nb_2.fit(X_train_2,y_train_2)\n",
        "y_2_nb_pred=nb_2.predict(X_test_2)\n",
        "print('Accuracy of Naive Bayes on dataset 2: ',np.sum(y_2_nb_pred == y_test_2)/len(y_test_2))"
      ],
      "execution_count": 11,
      "outputs": [
        {
          "output_type": "stream",
          "text": [
            "Accuracy of KNN on dataset 1:  0.7142857142857143\n",
            "Accuracy of KNN on dataset 2:  0.6818181818181818\n",
            "Accuracy of Decision Tree on dataset 1:  0.6818181818181818\n",
            "Accuracy of Decision Tree on dataset 2:  0.6818181818181818\n",
            "Accuracy of Random Forest on dataset 1:  0.7467532467532467\n",
            "Accuracy of Random Forest on dataset 2:  0.7532467532467533\n",
            "Accuracy of Naive Bayes on dataset 1:  0.7402597402597403\n",
            "Accuracy of Naive Bayes on dataset 2:  0.7532467532467533\n"
          ],
          "name": "stdout"
        }
      ]
    },
    {
      "cell_type": "markdown",
      "metadata": {
        "id": "-h4GkbKG0oXn"
      },
      "source": [
        "Hãy tự phân tích rồi nghĩ ra cách phân nhóm hay thay thế sao cho hiệu quả để có độ phân loại classification tốt hơn "
      ]
    },
    {
      "cell_type": "code",
      "metadata": {
        "colab": {
          "base_uri": "https://localhost:8080/",
          "height": 204
        },
        "id": "956ttCrD0r6r",
        "outputId": "89b82392-ec74-45b2-9692-62b05b697acc"
      },
      "source": [
        "df_3=df.copy()\n",
        "df_3['Age group'] = pd.qcut(df_3['Age'], q=5)\n",
        "df_3=df_3.fillna(df_3.median())\n",
        "df_3=df_3.drop(['Age'],axis=1)\n",
        "le = preprocessing.LabelEncoder()\n",
        "le.fit(df_3['Age group'])\n",
        "df_3['Age group']=le.transform(df_3['Age group'])\n",
        "df_3=pd.DataFrame(df_3)\n",
        "df_3.head()"
      ],
      "execution_count": 12,
      "outputs": [
        {
          "output_type": "execute_result",
          "data": {
            "text/html": [
              "<div>\n",
              "<style scoped>\n",
              "    .dataframe tbody tr th:only-of-type {\n",
              "        vertical-align: middle;\n",
              "    }\n",
              "\n",
              "    .dataframe tbody tr th {\n",
              "        vertical-align: top;\n",
              "    }\n",
              "\n",
              "    .dataframe thead th {\n",
              "        text-align: right;\n",
              "    }\n",
              "</style>\n",
              "<table border=\"1\" class=\"dataframe\">\n",
              "  <thead>\n",
              "    <tr style=\"text-align: right;\">\n",
              "      <th></th>\n",
              "      <th>Pregnancies</th>\n",
              "      <th>Glucose</th>\n",
              "      <th>BloodPressure</th>\n",
              "      <th>SkinThickness</th>\n",
              "      <th>Insulin</th>\n",
              "      <th>BMI</th>\n",
              "      <th>DiabetesPedigreeFunction</th>\n",
              "      <th>Outcome</th>\n",
              "      <th>Age group</th>\n",
              "    </tr>\n",
              "  </thead>\n",
              "  <tbody>\n",
              "    <tr>\n",
              "      <th>0</th>\n",
              "      <td>6</td>\n",
              "      <td>148.0</td>\n",
              "      <td>72.0</td>\n",
              "      <td>35.0</td>\n",
              "      <td>71.0</td>\n",
              "      <td>33.6</td>\n",
              "      <td>0.627</td>\n",
              "      <td>1</td>\n",
              "      <td>0</td>\n",
              "    </tr>\n",
              "    <tr>\n",
              "      <th>1</th>\n",
              "      <td>1</td>\n",
              "      <td>85.0</td>\n",
              "      <td>66.0</td>\n",
              "      <td>29.0</td>\n",
              "      <td>71.0</td>\n",
              "      <td>26.6</td>\n",
              "      <td>0.351</td>\n",
              "      <td>0</td>\n",
              "      <td>2</td>\n",
              "    </tr>\n",
              "    <tr>\n",
              "      <th>2</th>\n",
              "      <td>8</td>\n",
              "      <td>183.0</td>\n",
              "      <td>64.0</td>\n",
              "      <td>27.0</td>\n",
              "      <td>71.0</td>\n",
              "      <td>23.3</td>\n",
              "      <td>0.672</td>\n",
              "      <td>1</td>\n",
              "      <td>3</td>\n",
              "    </tr>\n",
              "    <tr>\n",
              "      <th>3</th>\n",
              "      <td>1</td>\n",
              "      <td>89.0</td>\n",
              "      <td>66.0</td>\n",
              "      <td>23.0</td>\n",
              "      <td>94.0</td>\n",
              "      <td>28.1</td>\n",
              "      <td>0.167</td>\n",
              "      <td>0</td>\n",
              "      <td>0</td>\n",
              "    </tr>\n",
              "    <tr>\n",
              "      <th>4</th>\n",
              "      <td>0</td>\n",
              "      <td>137.0</td>\n",
              "      <td>4.0</td>\n",
              "      <td>35.0</td>\n",
              "      <td>168.0</td>\n",
              "      <td>43.1</td>\n",
              "      <td>2.288</td>\n",
              "      <td>1</td>\n",
              "      <td>3</td>\n",
              "    </tr>\n",
              "  </tbody>\n",
              "</table>\n",
              "</div>"
            ],
            "text/plain": [
              "   Pregnancies  Glucose  ...  Outcome  Age group\n",
              "0            6    148.0  ...        1          0\n",
              "1            1     85.0  ...        0          2\n",
              "2            8    183.0  ...        1          3\n",
              "3            1     89.0  ...        0          0\n",
              "4            0    137.0  ...        1          3\n",
              "\n",
              "[5 rows x 9 columns]"
            ]
          },
          "metadata": {
            "tags": []
          },
          "execution_count": 12
        }
      ]
    },
    {
      "cell_type": "code",
      "metadata": {
        "id": "An9fzC6_1csz"
      },
      "source": [
        "data_3=pd.concat([df_3.iloc[:,:7],df_3.iloc[:,8]],axis=1)\n",
        "data_3_label=df_3.iloc[:,7]\n",
        "X_train_3,X_test_3, y_train_3,y_test_3=train_test_split(data_3,data_3_label,test_size=0.2,random_state=42)"
      ],
      "execution_count": 13,
      "outputs": []
    },
    {
      "cell_type": "code",
      "metadata": {
        "colab": {
          "base_uri": "https://localhost:8080/"
        },
        "id": "P233bkdf1Iec",
        "outputId": "e97a0471-fc36-4345-ec5c-9ce1cad4d490"
      },
      "source": [
        "neigh_3 = KNeighborsClassifier(n_neighbors=5)\n",
        "neigh_3.fit(X_train_3, y_train_3)\n",
        "y_3_knn_pred= neigh_3.predict(X_test_3)\n",
        "print('Accuracy of KNN on dataset 3: ',np.sum(y_3_knn_pred == y_test_3)/len(y_test_3))\n",
        "\n",
        "clf_3 = DecisionTreeClassifier(max_depth=3,random_state=0)\n",
        "clf_3.fit(X_train_3, y_train_3)\n",
        "y_3_dt_pred=clf_3.predict(X_test_3)\n",
        "print('Accuracy of Decision Tree on dataset 3: ',np.sum(y_3_dt_pred == y_test_3)/len(y_test_3))\n",
        "\n",
        "rf_3 = RandomForestClassifier(max_depth=4, random_state=0)\n",
        "rf_3.fit(X_train_1, y_train_1)\n",
        "y_3_rf_pred=rf_3.predict(X_test_3)\n",
        "print('Accuracy of Random Forest on dataset 3: ',np.sum(y_3_rf_pred == y_test_3)/len(y_test_3))\n",
        "\n",
        "nb_3=GaussianNB()\n",
        "nb_3.fit(X_train_3,y_train_3)\n",
        "y_3_nb_pred=nb_3.predict(X_test_3)\n",
        "print('Accuracy of Naive Bayes on dataset 3: ',np.sum(y_3_nb_pred == y_test_3)/len(y_test_3))"
      ],
      "execution_count": 14,
      "outputs": [
        {
          "output_type": "stream",
          "text": [
            "Accuracy of KNN on dataset 3:  0.6818181818181818\n",
            "Accuracy of Decision Tree on dataset 3:  0.7337662337662337\n",
            "Accuracy of Random Forest on dataset 3:  0.7727272727272727\n",
            "Accuracy of Naive Bayes on dataset 3:  0.7597402597402597\n"
          ],
          "name": "stdout"
        }
      ]
    },
    {
      "cell_type": "markdown",
      "metadata": {
        "id": "u5Igxzqn64jx"
      },
      "source": [
        "Với cách chọn ở df_3 thì ta có độ chính xác của dataset trên 3 thuật toán Decision Tree, Random Forest, Naive Bayes cao hơn so với ở df_1 và df_2"
      ]
    }
  ]
}