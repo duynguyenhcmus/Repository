{
  "nbformat": 4,
  "nbformat_minor": 0,
  "metadata": {
    "colab": {
      "name": "High_Dimensional_Analysis_Lab_2.ipynb",
      "provenance": [],
      "collapsed_sections": []
    },
    "kernelspec": {
      "name": "python3",
      "display_name": "Python 3"
    },
    "language_info": {
      "name": "python"
    }
  },
  "cells": [
    {
      "cell_type": "code",
      "metadata": {
        "colab": {
          "base_uri": "https://localhost:8080/",
          "height": 35
        },
        "id": "z4f4Vj2vr1mG",
        "outputId": "68cb5b08-33df-4742-9748-39a2f8eb6ffd"
      },
      "source": [
        "\"\"\"\n",
        "HiGH DIMENSIONAL ANALYSIS\n",
        "PROGRAMMING EXERCISE: 02\n",
        "Name: Nguyen Duc Vu Duy\n",
        "Student code: 18110004\n",
        "\"\"\""
      ],
      "execution_count": 1,
      "outputs": [
        {
          "output_type": "execute_result",
          "data": {
            "application/vnd.google.colaboratory.intrinsic+json": {
              "type": "string"
            },
            "text/plain": [
              "'\\nHiGH DIMENSIONAL ANALYSIS\\nPROGRAMMING EXERCISE: 02\\nName: Nguyen Duc Vu Duy\\nStudent code: 18110004\\n'"
            ]
          },
          "metadata": {
            "tags": []
          },
          "execution_count": 1
        }
      ]
    },
    {
      "cell_type": "code",
      "metadata": {
        "colab": {
          "base_uri": "https://localhost:8080/"
        },
        "id": "In51ySxhsDQW",
        "outputId": "d8ae431b-3745-4ac1-a0fd-32859eb8ccec"
      },
      "source": [
        "#Import libraries\n",
        "import numpy as np\n",
        "import pandas as pd\n",
        "import numpy as np\n",
        "from matplotlib import pyplot as plt\n",
        "from scipy.linalg import eigh\n",
        "from sklearn.discriminant_analysis import LinearDiscriminantAnalysis\n",
        "!pip install category_encoders #install category_encoders for Ordinal Encoders\n",
        "import category_encoders as ce\n",
        "from sklearn.decomposition import PCA"
      ],
      "execution_count": 2,
      "outputs": [
        {
          "output_type": "stream",
          "text": [
            "Requirement already satisfied: category_encoders in /usr/local/lib/python3.7/dist-packages (2.2.2)\n",
            "Requirement already satisfied: statsmodels>=0.9.0 in /usr/local/lib/python3.7/dist-packages (from category_encoders) (0.10.2)\n",
            "Requirement already satisfied: numpy>=1.14.0 in /usr/local/lib/python3.7/dist-packages (from category_encoders) (1.19.5)\n",
            "Requirement already satisfied: scipy>=1.0.0 in /usr/local/lib/python3.7/dist-packages (from category_encoders) (1.4.1)\n",
            "Requirement already satisfied: pandas>=0.21.1 in /usr/local/lib/python3.7/dist-packages (from category_encoders) (1.1.5)\n",
            "Requirement already satisfied: scikit-learn>=0.20.0 in /usr/local/lib/python3.7/dist-packages (from category_encoders) (0.22.2.post1)\n",
            "Requirement already satisfied: patsy>=0.5.1 in /usr/local/lib/python3.7/dist-packages (from category_encoders) (0.5.1)\n",
            "Requirement already satisfied: python-dateutil>=2.7.3 in /usr/local/lib/python3.7/dist-packages (from pandas>=0.21.1->category_encoders) (2.8.1)\n",
            "Requirement already satisfied: pytz>=2017.2 in /usr/local/lib/python3.7/dist-packages (from pandas>=0.21.1->category_encoders) (2018.9)\n",
            "Requirement already satisfied: joblib>=0.11 in /usr/local/lib/python3.7/dist-packages (from scikit-learn>=0.20.0->category_encoders) (1.0.1)\n",
            "Requirement already satisfied: six in /usr/local/lib/python3.7/dist-packages (from patsy>=0.5.1->category_encoders) (1.15.0)\n"
          ],
          "name": "stdout"
        },
        {
          "output_type": "stream",
          "text": [
            "/usr/local/lib/python3.7/dist-packages/statsmodels/tools/_testing.py:19: FutureWarning: pandas.util.testing is deprecated. Use the functions in the public API at pandas.testing instead.\n",
            "  import pandas.util.testing as tm\n"
          ],
          "name": "stderr"
        }
      ]
    },
    {
      "cell_type": "code",
      "metadata": {
        "colab": {
          "base_uri": "https://localhost:8080/",
          "height": 204
        },
        "id": "ryIL8nCDsFP2",
        "outputId": "1fb65fc3-9c96-4e78-ce37-2754a99bca9e"
      },
      "source": [
        "#Import dataset\n",
        "path='https://raw.githubusercontent.com/duynguyenhcmus/Repository/main/HocKy_2/XuLiDaChieu/iris.data'\n",
        "df=pd.read_csv(path,header=None)\n",
        "df.head()"
      ],
      "execution_count": 3,
      "outputs": [
        {
          "output_type": "execute_result",
          "data": {
            "text/html": [
              "<div>\n",
              "<style scoped>\n",
              "    .dataframe tbody tr th:only-of-type {\n",
              "        vertical-align: middle;\n",
              "    }\n",
              "\n",
              "    .dataframe tbody tr th {\n",
              "        vertical-align: top;\n",
              "    }\n",
              "\n",
              "    .dataframe thead th {\n",
              "        text-align: right;\n",
              "    }\n",
              "</style>\n",
              "<table border=\"1\" class=\"dataframe\">\n",
              "  <thead>\n",
              "    <tr style=\"text-align: right;\">\n",
              "      <th></th>\n",
              "      <th>0</th>\n",
              "      <th>1</th>\n",
              "      <th>2</th>\n",
              "      <th>3</th>\n",
              "      <th>4</th>\n",
              "    </tr>\n",
              "  </thead>\n",
              "  <tbody>\n",
              "    <tr>\n",
              "      <th>0</th>\n",
              "      <td>5.1</td>\n",
              "      <td>3.5</td>\n",
              "      <td>1.4</td>\n",
              "      <td>0.2</td>\n",
              "      <td>Iris-setosa</td>\n",
              "    </tr>\n",
              "    <tr>\n",
              "      <th>1</th>\n",
              "      <td>4.9</td>\n",
              "      <td>3.0</td>\n",
              "      <td>1.4</td>\n",
              "      <td>0.2</td>\n",
              "      <td>Iris-setosa</td>\n",
              "    </tr>\n",
              "    <tr>\n",
              "      <th>2</th>\n",
              "      <td>4.7</td>\n",
              "      <td>3.2</td>\n",
              "      <td>1.3</td>\n",
              "      <td>0.2</td>\n",
              "      <td>Iris-setosa</td>\n",
              "    </tr>\n",
              "    <tr>\n",
              "      <th>3</th>\n",
              "      <td>4.6</td>\n",
              "      <td>3.1</td>\n",
              "      <td>1.5</td>\n",
              "      <td>0.2</td>\n",
              "      <td>Iris-setosa</td>\n",
              "    </tr>\n",
              "    <tr>\n",
              "      <th>4</th>\n",
              "      <td>5.0</td>\n",
              "      <td>3.6</td>\n",
              "      <td>1.4</td>\n",
              "      <td>0.2</td>\n",
              "      <td>Iris-setosa</td>\n",
              "    </tr>\n",
              "  </tbody>\n",
              "</table>\n",
              "</div>"
            ],
            "text/plain": [
              "     0    1    2    3            4\n",
              "0  5.1  3.5  1.4  0.2  Iris-setosa\n",
              "1  4.9  3.0  1.4  0.2  Iris-setosa\n",
              "2  4.7  3.2  1.3  0.2  Iris-setosa\n",
              "3  4.6  3.1  1.5  0.2  Iris-setosa\n",
              "4  5.0  3.6  1.4  0.2  Iris-setosa"
            ]
          },
          "metadata": {
            "tags": []
          },
          "execution_count": 3
        }
      ]
    },
    {
      "cell_type": "code",
      "metadata": {
        "colab": {
          "base_uri": "https://localhost:8080/",
          "height": 204
        },
        "id": "iboLe_HG9mtW",
        "outputId": "a32f0ee5-0fde-4c24-8ff1-8f9483b7d885"
      },
      "source": [
        "#Transformation label into numeric values\n",
        "encoder = ce.OrdinalEncoder()\n",
        "df = encoder.fit_transform(df)\n",
        "df.head()"
      ],
      "execution_count": 4,
      "outputs": [
        {
          "output_type": "execute_result",
          "data": {
            "text/html": [
              "<div>\n",
              "<style scoped>\n",
              "    .dataframe tbody tr th:only-of-type {\n",
              "        vertical-align: middle;\n",
              "    }\n",
              "\n",
              "    .dataframe tbody tr th {\n",
              "        vertical-align: top;\n",
              "    }\n",
              "\n",
              "    .dataframe thead th {\n",
              "        text-align: right;\n",
              "    }\n",
              "</style>\n",
              "<table border=\"1\" class=\"dataframe\">\n",
              "  <thead>\n",
              "    <tr style=\"text-align: right;\">\n",
              "      <th></th>\n",
              "      <th>0</th>\n",
              "      <th>1</th>\n",
              "      <th>2</th>\n",
              "      <th>3</th>\n",
              "      <th>4</th>\n",
              "    </tr>\n",
              "  </thead>\n",
              "  <tbody>\n",
              "    <tr>\n",
              "      <th>0</th>\n",
              "      <td>5.1</td>\n",
              "      <td>3.5</td>\n",
              "      <td>1.4</td>\n",
              "      <td>0.2</td>\n",
              "      <td>1</td>\n",
              "    </tr>\n",
              "    <tr>\n",
              "      <th>1</th>\n",
              "      <td>4.9</td>\n",
              "      <td>3.0</td>\n",
              "      <td>1.4</td>\n",
              "      <td>0.2</td>\n",
              "      <td>1</td>\n",
              "    </tr>\n",
              "    <tr>\n",
              "      <th>2</th>\n",
              "      <td>4.7</td>\n",
              "      <td>3.2</td>\n",
              "      <td>1.3</td>\n",
              "      <td>0.2</td>\n",
              "      <td>1</td>\n",
              "    </tr>\n",
              "    <tr>\n",
              "      <th>3</th>\n",
              "      <td>4.6</td>\n",
              "      <td>3.1</td>\n",
              "      <td>1.5</td>\n",
              "      <td>0.2</td>\n",
              "      <td>1</td>\n",
              "    </tr>\n",
              "    <tr>\n",
              "      <th>4</th>\n",
              "      <td>5.0</td>\n",
              "      <td>3.6</td>\n",
              "      <td>1.4</td>\n",
              "      <td>0.2</td>\n",
              "      <td>1</td>\n",
              "    </tr>\n",
              "  </tbody>\n",
              "</table>\n",
              "</div>"
            ],
            "text/plain": [
              "     0    1    2    3  4\n",
              "0  5.1  3.5  1.4  0.2  1\n",
              "1  4.9  3.0  1.4  0.2  1\n",
              "2  4.7  3.2  1.3  0.2  1\n",
              "3  4.6  3.1  1.5  0.2  1\n",
              "4  5.0  3.6  1.4  0.2  1"
            ]
          },
          "metadata": {
            "tags": []
          },
          "execution_count": 4
        }
      ]
    },
    {
      "cell_type": "code",
      "metadata": {
        "colab": {
          "base_uri": "https://localhost:8080/"
        },
        "id": "flhbDdQ6sFSc",
        "outputId": "edf21a09-2f9d-4ddc-f608-3086274e6fbb"
      },
      "source": [
        "#Split the dataset to features and labels\n",
        "X, y = df.iloc[:, :-1].values, df.iloc[:, -1].values\n",
        "print('The shape of features: ',X.shape)"
      ],
      "execution_count": 5,
      "outputs": [
        {
          "output_type": "stream",
          "text": [
            "The shape of features:  (150, 4)\n"
          ],
          "name": "stdout"
        }
      ]
    },
    {
      "cell_type": "markdown",
      "metadata": {
        "id": "BK1yhCFsuSk0"
      },
      "source": [
        "Within - class scatter matrix có công thức tính như sau:\n",
        "\\begin{equation*}\n",
        "S_W=\\sum_{i=1}^{C}(x-\\mu_i)(x-\\mu_i)^T\n",
        "\\end{equation*}\n",
        "Between - class scatter matrix có công thức tính như sau:\n",
        "\\begin{equation*}\n",
        "S_B=\\sum_{i=1}^{C}N_i(\\mu_i-\\mu)(\\mu_i-\\mu)^T\n",
        "\\end{equation*}\n",
        "Sau khi tính được $S_B, S_W$, ta sẽ tìm các trị riêng, véctơ riêng của $S_W^{-1}S_B$\n",
        "Ta sẽ chọn các véctơ riêng có trị riêng lớn nhất, xếp thành cột để tạo thành ma trận chuyển đổi W.\n",
        "\\begin{equation*}\n",
        "X'=XW\n",
        "\\end{equation*}"
      ]
    },
    {
      "cell_type": "code",
      "metadata": {
        "id": "kEcyGQVdsFUp"
      },
      "source": [
        "#Class Linear Discriminant Analysis\n",
        "class LinearDiscriminantAnalysis:\n",
        "  def __init__(self,X=X,y=y):\n",
        "    self.X=X\n",
        "    self.y=y\n",
        "    self.mean_vecs=[]\n",
        "    self.S_W= np.zeros((self.X.shape[1], self.X.shape[1]))\n",
        "    self.S_B=np.zeros((self.X.shape[1],self.X.shape[1]))\n",
        "    self.eigen_value=np.array(())\n",
        "    self.eigen_vec=np.array(())\n",
        "    self.W=np.ones((self.X.shape[1],2))\n",
        "  \n",
        "  #Do Standard Scaler with adjusted variance\n",
        "  def preprocessing(self):\n",
        "    #Adjusted Variance\n",
        "    self.X = (self.X - self.X.mean(axis = 0))/self.X.std(axis = 0, ddof = 1)\n",
        "  \n",
        "  #Calculate mean vectors\n",
        "  def calculate_mean_feature(self):\n",
        "    for label in range(1, np.unique(self.y).shape[0]):\n",
        "        self.mean_vecs.append(np.mean(self.X[self.y == label], axis=0))\n",
        "  \n",
        "  #Within-class scatter matrix\n",
        "  def build_SW(self):\n",
        "    for label, mv in zip(range(1, np.unique(self.y).shape[0]), self.mean_vecs):\n",
        "        class_scatter = np.cov(self.X[self.y == label].T)\n",
        "        self.S_W += class_scatter\n",
        "  \n",
        "  #Between-class scatter matrix\n",
        "  def build_SB(self):\n",
        "    mean_overall = np.mean(self.X, axis=0)\n",
        "    for i, mean_vec in enumerate(self.mean_vecs):\n",
        "        n = self.X[self.y == i + 1, :].shape[0]\n",
        "        mean_vec = mean_vec.reshape(self.X.shape[1], 1)  \n",
        "        mean_overall = mean_overall.reshape(self.X.shape[1], 1)\n",
        "        self.S_B += n * (mean_vec - mean_overall).dot((mean_vec - mean_overall).T)\n",
        "  \n",
        "  #Calculate eigenvalues and eigenvectors of inv(S_W)S_B\n",
        "  def calculate_eigen(self):\n",
        "    self.eigen_value,self.eigen_vec=np.linalg.eig(np.linalg.inv(self.S_W).dot(self.S_B))\n",
        "  \n",
        "  #Build Transformation matrix by 2 eigenvectors corresponding to 2 largest eigenvalues\n",
        "  def build_W(self):\n",
        "    #Build eigenvalues and eigenvector as a pair\n",
        "    eigen_pairs = [(np.abs(self.eigen_value[i]), self.eigen_vec[:, i])\n",
        "               for i in range(len(self.eigen_value))]\n",
        "\n",
        "    #Sort the eigenvalues in ascending order\n",
        "    eigen_pairs = sorted(eigen_pairs, key=lambda k: k[0], reverse=True)\n",
        "    #Stack 2 eigenvalues as columns to construct the transformation matrix\n",
        "    self.W =self.W* np.hstack((eigen_pairs[0][1][:, np.newaxis].real,\n",
        "              eigen_pairs[1][1][:, np.newaxis].real))\n",
        "    \n",
        "    #Transform data by transformation matrix W\n",
        "  def transform(self):\n",
        "    return self.X.dot(self.W)\n",
        "  \n",
        "  #Step by step LDA\n",
        "  def full_model(self):\n",
        "    self.preprocessing()\n",
        "    self.calculate_mean_feature()\n",
        "    self.build_SW()\n",
        "    self.build_SB()\n",
        "    self.calculate_eigen()\n",
        "    self.build_W()\n",
        "    return self.transform()\n",
        "\n",
        "\n",
        "\n"
      ],
      "execution_count": 6,
      "outputs": []
    },
    {
      "cell_type": "code",
      "metadata": {
        "id": "2-zkv1ONsFW8"
      },
      "source": [
        "#Fit model\n",
        "model=LinearDiscriminantAnalysis()\n",
        "X_lda= model.full_model()"
      ],
      "execution_count": 7,
      "outputs": []
    },
    {
      "cell_type": "code",
      "metadata": {
        "colab": {
          "base_uri": "https://localhost:8080/"
        },
        "id": "AOUTAbctSqfj",
        "outputId": "bb722aa7-ac61-45a7-d5a4-266f06011e72"
      },
      "source": [
        "#Print the eigenvalues of LDA model\n",
        "model.eigen_value"
      ],
      "execution_count": 8,
      "outputs": [
        {
          "output_type": "execute_result",
          "data": {
            "text/plain": [
              "array([ 1.80406623e+03,  1.64529002e+01, -1.52693195e-13,  1.67963988e-13])"
            ]
          },
          "metadata": {
            "tags": []
          },
          "execution_count": 8
        }
      ]
    },
    {
      "cell_type": "markdown",
      "metadata": {
        "id": "kOzXHI9ZwN1e"
      },
      "source": [
        "Ta có thể thấy là 2 trị riêng ban đầu lớn hơn rất nhiều so với 2 trị riêng còn lại. Nên ta sẽ lấy 2 véctơ làm ma trận chuyển đổi. Vừa để plot kết quả và 2 véctơ riêng ban đầu cũng capture gần như hoàn toàn thông tin của bộ dữ liệu Iris."
      ]
    },
    {
      "cell_type": "code",
      "metadata": {
        "colab": {
          "base_uri": "https://localhost:8080/",
          "height": 419
        },
        "id": "AxZtWpdwsFY_",
        "outputId": "c1257af5-6403-4143-aa58-8e8eaf64902e"
      },
      "source": [
        "#Transform into dataframe with labels for plot\n",
        "X_lda_df=pd.DataFrame(np.concatenate((X_lda,y.reshape(-1,1)),axis=1))\n",
        "X_lda_df"
      ],
      "execution_count": 9,
      "outputs": [
        {
          "output_type": "execute_result",
          "data": {
            "text/html": [
              "<div>\n",
              "<style scoped>\n",
              "    .dataframe tbody tr th:only-of-type {\n",
              "        vertical-align: middle;\n",
              "    }\n",
              "\n",
              "    .dataframe tbody tr th {\n",
              "        vertical-align: top;\n",
              "    }\n",
              "\n",
              "    .dataframe thead th {\n",
              "        text-align: right;\n",
              "    }\n",
              "</style>\n",
              "<table border=\"1\" class=\"dataframe\">\n",
              "  <thead>\n",
              "    <tr style=\"text-align: right;\">\n",
              "      <th></th>\n",
              "      <th>0</th>\n",
              "      <th>1</th>\n",
              "      <th>2</th>\n",
              "    </tr>\n",
              "  </thead>\n",
              "  <tbody>\n",
              "    <tr>\n",
              "      <th>0</th>\n",
              "      <td>-1.957871</td>\n",
              "      <td>0.029172</td>\n",
              "      <td>1.0</td>\n",
              "    </tr>\n",
              "    <tr>\n",
              "      <th>1</th>\n",
              "      <td>-1.752503</td>\n",
              "      <td>0.144931</td>\n",
              "      <td>1.0</td>\n",
              "    </tr>\n",
              "    <tr>\n",
              "      <th>2</th>\n",
              "      <td>-1.860733</td>\n",
              "      <td>0.062550</td>\n",
              "      <td>1.0</td>\n",
              "    </tr>\n",
              "    <tr>\n",
              "      <th>3</th>\n",
              "      <td>-1.728683</td>\n",
              "      <td>0.158822</td>\n",
              "      <td>1.0</td>\n",
              "    </tr>\n",
              "    <tr>\n",
              "      <th>4</th>\n",
              "      <td>-1.990180</td>\n",
              "      <td>0.006239</td>\n",
              "      <td>1.0</td>\n",
              "    </tr>\n",
              "    <tr>\n",
              "      <th>...</th>\n",
              "      <td>...</td>\n",
              "      <td>...</td>\n",
              "      <td>...</td>\n",
              "    </tr>\n",
              "    <tr>\n",
              "      <th>145</th>\n",
              "      <td>1.482160</td>\n",
              "      <td>-0.556812</td>\n",
              "      <td>3.0</td>\n",
              "    </tr>\n",
              "    <tr>\n",
              "      <th>146</th>\n",
              "      <td>1.290894</td>\n",
              "      <td>-0.116351</td>\n",
              "      <td>3.0</td>\n",
              "    </tr>\n",
              "    <tr>\n",
              "      <th>147</th>\n",
              "      <td>1.253230</td>\n",
              "      <td>-0.258437</td>\n",
              "      <td>3.0</td>\n",
              "    </tr>\n",
              "    <tr>\n",
              "      <th>148</th>\n",
              "      <td>1.446401</td>\n",
              "      <td>-0.575364</td>\n",
              "      <td>3.0</td>\n",
              "    </tr>\n",
              "    <tr>\n",
              "      <th>149</th>\n",
              "      <td>1.086213</td>\n",
              "      <td>-0.095307</td>\n",
              "      <td>3.0</td>\n",
              "    </tr>\n",
              "  </tbody>\n",
              "</table>\n",
              "<p>150 rows × 3 columns</p>\n",
              "</div>"
            ],
            "text/plain": [
              "            0         1    2\n",
              "0   -1.957871  0.029172  1.0\n",
              "1   -1.752503  0.144931  1.0\n",
              "2   -1.860733  0.062550  1.0\n",
              "3   -1.728683  0.158822  1.0\n",
              "4   -1.990180  0.006239  1.0\n",
              "..        ...       ...  ...\n",
              "145  1.482160 -0.556812  3.0\n",
              "146  1.290894 -0.116351  3.0\n",
              "147  1.253230 -0.258437  3.0\n",
              "148  1.446401 -0.575364  3.0\n",
              "149  1.086213 -0.095307  3.0\n",
              "\n",
              "[150 rows x 3 columns]"
            ]
          },
          "metadata": {
            "tags": []
          },
          "execution_count": 9
        }
      ]
    },
    {
      "cell_type": "code",
      "metadata": {
        "colab": {
          "base_uri": "https://localhost:8080/",
          "height": 419
        },
        "id": "MxcRG2Z6smLB",
        "outputId": "490d8cb0-4d8a-47a8-da34-4964ec538c1b"
      },
      "source": [
        "#Fit PCA model for comparison\n",
        "pca=PCA(n_components=2,random_state=0)\n",
        "pca.fit(X)\n",
        "x_pca=pca.transform(X)\n",
        "X_pca_df=pd.DataFrame(np.concatenate((x_pca,y.reshape(-1,1)),axis=1))\n",
        "X_pca_df"
      ],
      "execution_count": 10,
      "outputs": [
        {
          "output_type": "execute_result",
          "data": {
            "text/html": [
              "<div>\n",
              "<style scoped>\n",
              "    .dataframe tbody tr th:only-of-type {\n",
              "        vertical-align: middle;\n",
              "    }\n",
              "\n",
              "    .dataframe tbody tr th {\n",
              "        vertical-align: top;\n",
              "    }\n",
              "\n",
              "    .dataframe thead th {\n",
              "        text-align: right;\n",
              "    }\n",
              "</style>\n",
              "<table border=\"1\" class=\"dataframe\">\n",
              "  <thead>\n",
              "    <tr style=\"text-align: right;\">\n",
              "      <th></th>\n",
              "      <th>0</th>\n",
              "      <th>1</th>\n",
              "      <th>2</th>\n",
              "    </tr>\n",
              "  </thead>\n",
              "  <tbody>\n",
              "    <tr>\n",
              "      <th>0</th>\n",
              "      <td>-2.684207</td>\n",
              "      <td>0.326607</td>\n",
              "      <td>1.0</td>\n",
              "    </tr>\n",
              "    <tr>\n",
              "      <th>1</th>\n",
              "      <td>-2.715391</td>\n",
              "      <td>-0.169557</td>\n",
              "      <td>1.0</td>\n",
              "    </tr>\n",
              "    <tr>\n",
              "      <th>2</th>\n",
              "      <td>-2.889820</td>\n",
              "      <td>-0.137346</td>\n",
              "      <td>1.0</td>\n",
              "    </tr>\n",
              "    <tr>\n",
              "      <th>3</th>\n",
              "      <td>-2.746437</td>\n",
              "      <td>-0.311124</td>\n",
              "      <td>1.0</td>\n",
              "    </tr>\n",
              "    <tr>\n",
              "      <th>4</th>\n",
              "      <td>-2.728593</td>\n",
              "      <td>0.333925</td>\n",
              "      <td>1.0</td>\n",
              "    </tr>\n",
              "    <tr>\n",
              "      <th>...</th>\n",
              "      <td>...</td>\n",
              "      <td>...</td>\n",
              "      <td>...</td>\n",
              "    </tr>\n",
              "    <tr>\n",
              "      <th>145</th>\n",
              "      <td>1.944017</td>\n",
              "      <td>0.187415</td>\n",
              "      <td>3.0</td>\n",
              "    </tr>\n",
              "    <tr>\n",
              "      <th>146</th>\n",
              "      <td>1.525664</td>\n",
              "      <td>-0.375021</td>\n",
              "      <td>3.0</td>\n",
              "    </tr>\n",
              "    <tr>\n",
              "      <th>147</th>\n",
              "      <td>1.764046</td>\n",
              "      <td>0.078519</td>\n",
              "      <td>3.0</td>\n",
              "    </tr>\n",
              "    <tr>\n",
              "      <th>148</th>\n",
              "      <td>1.901629</td>\n",
              "      <td>0.115877</td>\n",
              "      <td>3.0</td>\n",
              "    </tr>\n",
              "    <tr>\n",
              "      <th>149</th>\n",
              "      <td>1.389666</td>\n",
              "      <td>-0.282887</td>\n",
              "      <td>3.0</td>\n",
              "    </tr>\n",
              "  </tbody>\n",
              "</table>\n",
              "<p>150 rows × 3 columns</p>\n",
              "</div>"
            ],
            "text/plain": [
              "            0         1    2\n",
              "0   -2.684207  0.326607  1.0\n",
              "1   -2.715391 -0.169557  1.0\n",
              "2   -2.889820 -0.137346  1.0\n",
              "3   -2.746437 -0.311124  1.0\n",
              "4   -2.728593  0.333925  1.0\n",
              "..        ...       ...  ...\n",
              "145  1.944017  0.187415  3.0\n",
              "146  1.525664 -0.375021  3.0\n",
              "147  1.764046  0.078519  3.0\n",
              "148  1.901629  0.115877  3.0\n",
              "149  1.389666 -0.282887  3.0\n",
              "\n",
              "[150 rows x 3 columns]"
            ]
          },
          "metadata": {
            "tags": []
          },
          "execution_count": 10
        }
      ]
    },
    {
      "cell_type": "code",
      "metadata": {
        "colab": {
          "base_uri": "https://localhost:8080/",
          "height": 441
        },
        "id": "Mr-FM982PJkD",
        "outputId": "607eb233-8e62-4b20-849b-d1a9e6fd4157"
      },
      "source": [
        "#Plot LDA and PCA model\n",
        "f, axs = plt.subplots(1,2,figsize=(15,6))\n",
        "axs[0].scatter(x=X_lda_df.iloc[:,0],y=X_lda_df.iloc[:,1],c=X_lda_df.iloc[:,2])\n",
        "axs[0].set_title('Linear Discriminant Analysis from scratch')\n",
        "\n",
        "axs[1].scatter(x=X_pca_df.iloc[:,0],y=X_pca_df.iloc[:,1],c=X_pca_df.iloc[:,2])\n",
        "axs[1].set_title('Principal Component Analysis')\n",
        "plt.tight_layout()"
      ],
      "execution_count": 11,
      "outputs": [
        {
          "output_type": "display_data",
          "data": {
            "image/png": "[encoded data removed]",
            "text/plain": [
              "<Figure size 1080x432 with 2 Axes>"
            ]
          },
          "metadata": {
            "tags": [],
            "needs_background": "light"
          }
        }
      ]
    },
    {
      "cell_type": "markdown",
      "metadata": {
        "id": "cEtREqMgwk3n"
      },
      "source": [
        "Chạy PCA và LDA với 2 thành phần chính tương ứng với 2 véctơ riêng có trị riêng lớn nhất, ta thấy kết quả chạy của 2 thuật toán không có nhiều điểm khác biệt. Cả 2 class cụ thể là versicolor và virginica đều không quá tách biệt quá xa giữa 2 class này, trong khi đó class setosa nằm hoàn toàn ở bên trái hình vẽ, tách biệt với 2 class còn lại. Điều này có thể là do bản thân bộ dữ liệu không có nhiều tách biệt ở 2 class versicolor và virginica."
      ]
    }
  ]
}