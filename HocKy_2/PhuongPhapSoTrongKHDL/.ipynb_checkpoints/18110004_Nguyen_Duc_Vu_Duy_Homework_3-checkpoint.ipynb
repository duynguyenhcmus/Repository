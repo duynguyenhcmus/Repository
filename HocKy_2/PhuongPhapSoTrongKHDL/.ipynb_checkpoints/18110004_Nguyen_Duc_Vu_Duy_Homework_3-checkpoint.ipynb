{
 "cells": [
  {
   "cell_type": "markdown",
   "metadata": {
    "id": "9sWGWiI3aXs7"
   },
   "source": [
    "###Phương pháp số trong khoa học dữ liệu \n",
    "###Nguyễn Đức Vũ Duy - 18110004"
   ]
  },
  {
   "cell_type": "code",
   "execution_count": 1,
   "metadata": {
    "id": "hKHIeQD5ZA2t"
   },
   "outputs": [],
   "source": [
    "#Import libraries\n",
    "import numpy as np \n",
    "import matplotlib.pyplot as plt \n",
    "import random"
   ]
  },
  {
   "cell_type": "markdown",
   "metadata": {
    "id": "GFs6QX98t9l0"
   },
   "source": [
    "###Tạo bộ dữ liệu tuyến tính"
   ]
  },
  {
   "cell_type": "code",
   "execution_count": 2,
   "metadata": {
    "colab": {
     "base_uri": "https://localhost:8080/",
     "height": 300
    },
    "id": "dBw3ieGwcOpB",
    "outputId": "fb9dea37-0aa7-4a8c-b1d0-f68194490606"
   },
   "outputs": [
    {
     "data": {
      "image/png": "[encoded data removed]",
      "text/plain": [
       "<Figure size 432x288 with 1 Axes>"
      ]
     },
     "metadata": {
      "needs_background": "light",
      "tags": []
     },
     "output_type": "display_data"
    },
    {
     "data": {
      "text/plain": [
       "(13, 1)"
      ]
     },
     "execution_count": 2,
     "metadata": {
      "tags": []
     },
     "output_type": "execute_result"
    }
   ],
   "source": [
    "#Creating data\n",
    "X = np.array([[147, 150, 153, 158, 163, 165, 168, 170, 173, 175, 178, 180, 183]]).T\n",
    "#Creating target\n",
    "y = np.array([[ -33+0.5*i[0] + random.randint(1,3) for i in X]]).T\n",
    "#plot some dataset\n",
    "plt.plot(X, y, 'ro')\n",
    "plt.axis([140, 190, 45, 75])\n",
    "plt.xlabel('X')\n",
    "plt.ylabel('Y')\n",
    "plt.show()\n",
    "y.shape"
   ]
  },
  {
   "cell_type": "markdown",
   "metadata": {
    "id": "TIgooiXBuCDy"
   },
   "source": [
    "###Train linear regression hay chính là giải bài toán tuyến tính bằng MLE"
   ]
  },
  {
   "cell_type": "code",
   "execution_count": 3,
   "metadata": {
    "colab": {
     "base_uri": "https://localhost:8080/",
     "height": 334
    },
    "id": "CpkQQePheSiM",
    "outputId": "9e7eb14d-c114-4029-ef5e-fa9d218b8664"
   },
   "outputs": [
    {
     "name": "stdout",
     "output_type": "stream",
     "text": [
      "-28.038201296870604\n",
      "0.4826614040033831\n",
      "{'copy_X': True, 'fit_intercept': False, 'n_jobs': None, 'normalize': False}\n"
     ]
    },
    {
     "data": {
      "image/png": "[encoded data removed]",
      "text/plain": [
       "<Figure size 432x288 with 1 Axes>"
      ]
     },
     "metadata": {
      "needs_background": "light",
      "tags": []
     },
     "output_type": "display_data"
    }
   ],
   "source": [
    "#Import linear Regression\n",
    "from sklearn.linear_model import LinearRegression\n",
    "\n",
    "#adding one columns to X\n",
    "one = np.ones((X.shape[0], 1))\n",
    "Xbar = np.concatenate((one, X), axis = 1)\n",
    "\n",
    "#Train linear regression\n",
    "lr=LinearRegression(fit_intercept=False)\n",
    "lr.fit(Xbar,y)\n",
    "w0=lr.coef_[0][0]\n",
    "w1=lr.coef_[0][1]\n",
    "print(w0)\n",
    "print(w1)\n",
    "print(lr.get_params())\n",
    "\n",
    "x0 = np.linspace(145, 185, 2)\n",
    "y0 = w0 + w1*x0\n",
    "\n",
    "#Plot the data and fitting line\n",
    "plt.plot(X.T, y.T, 'ro')     # data \n",
    "plt.plot(x0, y0)               # the fitting line\n",
    "plt.axis([140, 190, 45, 75])\n",
    "plt.xlabel('X')\n",
    "plt.ylabel('Y')\n",
    "plt.show()"
   ]
  },
  {
   "cell_type": "code",
   "execution_count": 4,
   "metadata": {
    "colab": {
     "base_uri": "https://localhost:8080/",
     "height": 0
    },
    "id": "hIxe-NfDpypE",
    "outputId": "131d67cf-0b6e-4984-918e-89d561c2a574"
   },
   "outputs": [
    {
     "data": {
      "text/plain": [
       "0.9783715721603852"
      ]
     },
     "execution_count": 4,
     "metadata": {
      "tags": []
     },
     "output_type": "execute_result"
    }
   ],
   "source": [
    "#score of linear regression\n",
    "lr.score(Xbar,y)"
   ]
  },
  {
   "cell_type": "markdown",
   "metadata": {
    "id": "QPxzPQEwuSgK"
   },
   "source": [
    "###Train bằng ridge regression hay chính là giải bài toàn MAP"
   ]
  },
  {
   "cell_type": "code",
   "execution_count": 5,
   "metadata": {
    "colab": {
     "base_uri": "https://localhost:8080/",
     "height": 334
    },
    "id": "ZcaROXHrrr-h",
    "outputId": "bb466a12-076f-4538-f0a4-60d5a13d193c"
   },
   "outputs": [
    {
     "name": "stdout",
     "output_type": "stream",
     "text": [
      "-1.5569323159789492\n",
      "0.32422424984914716\n",
      "{'alpha': 1.0, 'copy_X': True, 'fit_intercept': False, 'max_iter': None, 'normalize': False, 'random_state': None, 'solver': 'auto', 'tol': 0.001}\n"
     ]
    },
    {
     "data": {
      "image/png": "[encoded data removed]",
      "text/plain": [
       "<Figure size 432x288 with 1 Axes>"
      ]
     },
     "metadata": {
      "needs_background": "light",
      "tags": []
     },
     "output_type": "display_data"
    }
   ],
   "source": [
    "#Import Ridge regression\n",
    "from sklearn.linear_model import Ridge\n",
    "\n",
    "#Train ridge regression\n",
    "clf = Ridge(fit_intercept=False,alpha=1.0)\n",
    "clf.fit(Xbar, y)\n",
    "\n",
    "w_0=clf.coef_[0][0]\n",
    "w_1=clf.coef_[0][1]\n",
    "print(w_0)\n",
    "print(w_1)\n",
    "print(clf.get_params())\n",
    "\n",
    "x_0 = np.linspace(145, 185, 2)\n",
    "y_0 = w_0 + w_1*x_0\n",
    "\n",
    "#Plot dataset and fitting line\n",
    "plt.plot(X.T, y.T, 'ro')     # data \n",
    "plt.plot(x_0, y_0)               # the fitting line\n",
    "plt.axis([140, 190, 45, 75])\n",
    "plt.xlabel('X')\n",
    "plt.ylabel('Y')\n",
    "plt.show()"
   ]
  },
  {
   "cell_type": "code",
   "execution_count": 6,
   "metadata": {
    "colab": {
     "base_uri": "https://localhost:8080/",
     "height": 0
    },
    "id": "qQIc3yd4sbAw",
    "outputId": "8ba68627-df9b-4935-b540-d457c7511ffe"
   },
   "outputs": [
    {
     "data": {
      "text/plain": [
       "0.8724708589970606"
      ]
     },
     "execution_count": 6,
     "metadata": {
      "tags": []
     },
     "output_type": "execute_result"
    }
   ],
   "source": [
    "clf.score(Xbar,y)"
   ]
  },
  {
   "cell_type": "markdown",
   "metadata": {
    "id": "XsAKC00JtRNX"
   },
   "source": [
    "###So sánh kết quả"
   ]
  },
  {
   "cell_type": "code",
   "execution_count": 7,
   "metadata": {
    "colab": {
     "base_uri": "https://localhost:8080/",
     "height": 329
    },
    "id": "relB2afAuZAw",
    "outputId": "71d70629-85e1-43de-bc29-8ca81b153b77"
   },
   "outputs": [
    {
     "name": "stdout",
     "output_type": "stream",
     "text": [
      "score of linear regression:  0.9783715721603852\n",
      "score of ridge regression:  0.8724708589970606\n"
     ]
    },
    {
     "data": {
      "image/png": "[encoded data removed]",
      "text/plain": [
       "<Figure size 432x288 with 1 Axes>"
      ]
     },
     "metadata": {
      "needs_background": "light",
      "tags": []
     },
     "output_type": "display_data"
    }
   ],
   "source": [
    "print('score of linear regression: ',lr.score(Xbar,y))\n",
    "print('score of ridge regression: ',clf.score(Xbar,y))\n",
    "\n",
    "#Ta có thể thấy là score của ridge regression nhỏ hơn so với linear regression\n",
    "\n",
    "#Ta sẽ vẽ plot fitting line của 2 hồi quy.\n",
    "plt.plot(X.T, y.T, 'ro')    \n",
    "plt.plot(x0, y0,color='red')   # the fitting line of linear regression\n",
    "plt.plot(x_0,y_0,color='blue') #The fitting line of ridge regression\n",
    "plt.axis([140, 190, 45, 75])\n",
    "plt.xlabel('X')\n",
    "plt.ylabel('Y')\n",
    "plt.title('Comparison between linear and ridge regression')\n",
    "plt.show()\n",
    "\n",
    "#Ta có thể thấy 2 đường cách khá gần nhau. Khi thay tham số alpha = 0.0 thì 2 đường trùng nhau.\n",
    "#Nghĩa là với alpha =0 thì linear regression với ridge regression là 1 và lúc này MAP không có \n",
    "#phân phối tiền nghiệm (priori)."
   ]
  }
 ],
 "metadata": {
  "colab": {
   "collapsed_sections": [],
   "name": "18110004_Nguyen_Duc_Vu_Duy_Homework_3.ipynb",
   "provenance": []
  },
  "kernelspec": {
   "display_name": "Python 3",
   "language": "python",
   "name": "python3"
  },
  "language_info": {
   "codemirror_mode": {
    "name": "ipython",
    "version": 3
   },
   "file_extension": ".py",
   "mimetype": "text/x-python",
   "name": "python",
   "nbconvert_exporter": "python",
   "pygments_lexer": "ipython3",
   "version": "3.8.3"
  }
 },
 "nbformat": 4,
 "nbformat_minor": 1
}
