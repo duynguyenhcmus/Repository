{
  "nbformat": 4,
  "nbformat_minor": 0,
  "metadata": {
    "colab": {
      "name": "TKNC_Nhóm_6_7.19.ipynb",
      "provenance": [],
      "collapsed_sections": []
    },
    "kernelspec": {
      "name": "python3",
      "display_name": "Python 3"
    },
    "language_info": {
      "name": "python"
    }
  },
  "cells": [
    {
      "cell_type": "markdown",
      "metadata": {
        "id": "ko7E_FlZFq6h"
      },
      "source": [
        "### Sửa bài 7.19 - Thống Kê Nhiều Chiều - Nhóm 6\n",
        "###Nguyễn Đức Vũ Duy - 18110004\n",
        "###Đinh Anh Huy - 18110103"
      ]
    },
    {
      "cell_type": "code",
      "metadata": {
        "colab": {
          "base_uri": "https://localhost:8080/"
        },
        "id": "8srMuIrSFhFK",
        "outputId": "3fac2e0e-01eb-4600-ba15-afac91a511ba"
      },
      "source": [
        "import itertools\n",
        "import time\n",
        "import numpy as np\n",
        "import pandas as pd\n",
        "import seaborn as sns\n",
        "import statsmodels.api as sm\n",
        "import matplotlib.pyplot as plt\n",
        "from sklearn import linear_model\n",
        "from scipy.stats import f\n",
        "from sklearn.metrics import mean_squared_error"
      ],
      "execution_count": 1,
      "outputs": [
        {
          "output_type": "stream",
          "text": [
            "/usr/local/lib/python3.7/dist-packages/statsmodels/tools/_testing.py:19: FutureWarning: pandas.util.testing is deprecated. Use the functions in the public API at pandas.testing instead.\n",
            "  import pandas.util.testing as tm\n"
          ],
          "name": "stderr"
        }
      ]
    },
    {
      "cell_type": "markdown",
      "metadata": {
        "id": "5ty_2bpmHZFz"
      },
      "source": [
        "###Một ứng dụng vệ tinh kích thích bởi sự phát triển của một loại pin silver_zino. Bảng 7.5 bao gồm các dữ liệu thất bại được thu thập để nghiên cứu tính hiệu quả của cục pin trong chu kì sống của nó. Sử dụng bộ dữ liệu này để:"
      ]
    },
    {
      "cell_type": "markdown",
      "metadata": {
        "id": "h-7nk22-Hyyy"
      },
      "source": [
        "###a) Tìm ước lượng hồi quy tuyến tính của ln(Y) trong bộ tập con các biến dự đoán phù hợp"
      ]
    },
    {
      "cell_type": "code",
      "metadata": {
        "colab": {
          "base_uri": "https://localhost:8080/",
          "height": 204
        },
        "id": "DrD81sjIHU0M",
        "outputId": "726e08d7-ff9f-42b4-f5d6-a24662e07598"
      },
      "source": [
        "path='/content/T7-5.DAT.txt'\n",
        "df=pd.DataFrame(np.loadtxt(path))\n",
        "df.head()"
      ],
      "execution_count": 2,
      "outputs": [
        {
          "output_type": "execute_result",
          "data": {
            "text/html": [
              "<div>\n",
              "<style scoped>\n",
              "    .dataframe tbody tr th:only-of-type {\n",
              "        vertical-align: middle;\n",
              "    }\n",
              "\n",
              "    .dataframe tbody tr th {\n",
              "        vertical-align: top;\n",
              "    }\n",
              "\n",
              "    .dataframe thead th {\n",
              "        text-align: right;\n",
              "    }\n",
              "</style>\n",
              "<table border=\"1\" class=\"dataframe\">\n",
              "  <thead>\n",
              "    <tr style=\"text-align: right;\">\n",
              "      <th></th>\n",
              "      <th>0</th>\n",
              "      <th>1</th>\n",
              "      <th>2</th>\n",
              "      <th>3</th>\n",
              "      <th>4</th>\n",
              "      <th>5</th>\n",
              "    </tr>\n",
              "  </thead>\n",
              "  <tbody>\n",
              "    <tr>\n",
              "      <th>0</th>\n",
              "      <td>0.375</td>\n",
              "      <td>3.13</td>\n",
              "      <td>60.0</td>\n",
              "      <td>40.0</td>\n",
              "      <td>2.00</td>\n",
              "      <td>101.0</td>\n",
              "    </tr>\n",
              "    <tr>\n",
              "      <th>1</th>\n",
              "      <td>1.000</td>\n",
              "      <td>3.13</td>\n",
              "      <td>76.8</td>\n",
              "      <td>30.0</td>\n",
              "      <td>1.99</td>\n",
              "      <td>141.0</td>\n",
              "    </tr>\n",
              "    <tr>\n",
              "      <th>2</th>\n",
              "      <td>1.000</td>\n",
              "      <td>3.13</td>\n",
              "      <td>60.0</td>\n",
              "      <td>20.0</td>\n",
              "      <td>2.00</td>\n",
              "      <td>96.0</td>\n",
              "    </tr>\n",
              "    <tr>\n",
              "      <th>3</th>\n",
              "      <td>1.000</td>\n",
              "      <td>3.13</td>\n",
              "      <td>60.0</td>\n",
              "      <td>20.0</td>\n",
              "      <td>1.98</td>\n",
              "      <td>125.0</td>\n",
              "    </tr>\n",
              "    <tr>\n",
              "      <th>4</th>\n",
              "      <td>1.625</td>\n",
              "      <td>3.13</td>\n",
              "      <td>43.2</td>\n",
              "      <td>10.0</td>\n",
              "      <td>2.01</td>\n",
              "      <td>43.0</td>\n",
              "    </tr>\n",
              "  </tbody>\n",
              "</table>\n",
              "</div>"
            ],
            "text/plain": [
              "       0     1     2     3     4      5\n",
              "0  0.375  3.13  60.0  40.0  2.00  101.0\n",
              "1  1.000  3.13  76.8  30.0  1.99  141.0\n",
              "2  1.000  3.13  60.0  20.0  2.00   96.0\n",
              "3  1.000  3.13  60.0  20.0  1.98  125.0\n",
              "4  1.625  3.13  43.2  10.0  2.01   43.0"
            ]
          },
          "metadata": {
            "tags": []
          },
          "execution_count": 2
        }
      ]
    },
    {
      "cell_type": "code",
      "metadata": {
        "colab": {
          "base_uri": "https://localhost:8080/",
          "height": 204
        },
        "id": "Ypk6eFEbH--9",
        "outputId": "b50e9a06-9604-48a9-adf2-41e9dcc06837"
      },
      "source": [
        "df.iloc[:,5]=np.log(df.iloc[:,5])\n",
        "df.head()"
      ],
      "execution_count": 3,
      "outputs": [
        {
          "output_type": "execute_result",
          "data": {
            "text/html": [
              "<div>\n",
              "<style scoped>\n",
              "    .dataframe tbody tr th:only-of-type {\n",
              "        vertical-align: middle;\n",
              "    }\n",
              "\n",
              "    .dataframe tbody tr th {\n",
              "        vertical-align: top;\n",
              "    }\n",
              "\n",
              "    .dataframe thead th {\n",
              "        text-align: right;\n",
              "    }\n",
              "</style>\n",
              "<table border=\"1\" class=\"dataframe\">\n",
              "  <thead>\n",
              "    <tr style=\"text-align: right;\">\n",
              "      <th></th>\n",
              "      <th>0</th>\n",
              "      <th>1</th>\n",
              "      <th>2</th>\n",
              "      <th>3</th>\n",
              "      <th>4</th>\n",
              "      <th>5</th>\n",
              "    </tr>\n",
              "  </thead>\n",
              "  <tbody>\n",
              "    <tr>\n",
              "      <th>0</th>\n",
              "      <td>0.375</td>\n",
              "      <td>3.13</td>\n",
              "      <td>60.0</td>\n",
              "      <td>40.0</td>\n",
              "      <td>2.00</td>\n",
              "      <td>4.615121</td>\n",
              "    </tr>\n",
              "    <tr>\n",
              "      <th>1</th>\n",
              "      <td>1.000</td>\n",
              "      <td>3.13</td>\n",
              "      <td>76.8</td>\n",
              "      <td>30.0</td>\n",
              "      <td>1.99</td>\n",
              "      <td>4.948760</td>\n",
              "    </tr>\n",
              "    <tr>\n",
              "      <th>2</th>\n",
              "      <td>1.000</td>\n",
              "      <td>3.13</td>\n",
              "      <td>60.0</td>\n",
              "      <td>20.0</td>\n",
              "      <td>2.00</td>\n",
              "      <td>4.564348</td>\n",
              "    </tr>\n",
              "    <tr>\n",
              "      <th>3</th>\n",
              "      <td>1.000</td>\n",
              "      <td>3.13</td>\n",
              "      <td>60.0</td>\n",
              "      <td>20.0</td>\n",
              "      <td>1.98</td>\n",
              "      <td>4.828314</td>\n",
              "    </tr>\n",
              "    <tr>\n",
              "      <th>4</th>\n",
              "      <td>1.625</td>\n",
              "      <td>3.13</td>\n",
              "      <td>43.2</td>\n",
              "      <td>10.0</td>\n",
              "      <td>2.01</td>\n",
              "      <td>3.761200</td>\n",
              "    </tr>\n",
              "  </tbody>\n",
              "</table>\n",
              "</div>"
            ],
            "text/plain": [
              "       0     1     2     3     4         5\n",
              "0  0.375  3.13  60.0  40.0  2.00  4.615121\n",
              "1  1.000  3.13  76.8  30.0  1.99  4.948760\n",
              "2  1.000  3.13  60.0  20.0  2.00  4.564348\n",
              "3  1.000  3.13  60.0  20.0  1.98  4.828314\n",
              "4  1.625  3.13  43.2  10.0  2.01  3.761200"
            ]
          },
          "metadata": {
            "tags": []
          },
          "execution_count": 3
        }
      ]
    },
    {
      "cell_type": "code",
      "metadata": {
        "id": "nuyh6pfQIB9b"
      },
      "source": [
        "def fit_linear_reg(X,Y):\n",
        "    #Fit linear regression model and return RSS and R squared values\n",
        "    model_k = linear_model.LinearRegression(fit_intercept = True)\n",
        "    model_k.fit(X,Y)\n",
        "    RSS = mean_squared_error(Y,model_k.predict(X)) * len(Y)\n",
        "    R_squared = model_k.score(X,Y)\n",
        "    return RSS, R_squared"
      ],
      "execution_count": 4,
      "outputs": []
    },
    {
      "cell_type": "code",
      "metadata": {
        "id": "LKf--9v9ID9D"
      },
      "source": [
        "#Initialization variables\n",
        "Y = df.iloc[:,5]\n",
        "X = df.iloc[:,:5]\n",
        "k = 5\n",
        "\n",
        "remaining_features = list(X.columns.values)\n",
        "features = []\n",
        "RSS_list, R_squared_list = [np.inf], [np.inf] #Due to 1 indexing of the loop...\n",
        "features_list = dict()\n",
        "\n",
        "for i in range(1,k+1):\n",
        "    best_RSS = np.inf\n",
        "    \n",
        "    for combo in itertools.combinations(remaining_features,1):\n",
        "\n",
        "            RSS = fit_linear_reg(X[list(combo) + features],Y)   #Store temp result \n",
        "\n",
        "            if RSS[0] < best_RSS:\n",
        "                best_RSS = RSS[0]\n",
        "                best_R_squared = RSS[1] \n",
        "                best_feature = combo[0]\n",
        "\n",
        "    #Updating variables for next loop\n",
        "    features.append(best_feature)\n",
        "    remaining_features.remove(best_feature)\n",
        "    \n",
        "    #Saving values for plotting\n",
        "    RSS_list.append(best_RSS)\n",
        "    R_squared_list.append(best_R_squared)\n",
        "    features_list[i] = features.copy()"
      ],
      "execution_count": 5,
      "outputs": []
    },
    {
      "cell_type": "code",
      "metadata": {
        "id": "9zrmtutsII6y"
      },
      "source": [
        "def adjusted_r_square(r,n,p):\n",
        "  return 1-(1-r)*(n-1)/(n-p-1)"
      ],
      "execution_count": 6,
      "outputs": []
    },
    {
      "cell_type": "markdown",
      "metadata": {
        "id": "6Svly7ORIODJ"
      },
      "source": [
        "Sử dụng hệ số $R^2$ có hiệu chỉnh có công thức là:\n",
        "\\begin{equation*}\n",
        "r=1-(1-R^2)\\dfrac{n-1}{n-p-1}\n",
        "\\end{equation*}"
      ]
    },
    {
      "cell_type": "code",
      "metadata": {
        "colab": {
          "base_uri": "https://localhost:8080/",
          "height": 136
        },
        "id": "5QI1nBvRILQF",
        "outputId": "017e7071-2aa5-4be7-a260-d9434fcc9e73"
      },
      "source": [
        "print('Forward stepwise subset selection')\n",
        "print('Number of features |', 'Features |', 'RSS','|R^2 coefficient')\n",
        "display([(i,features_list[i], RSS_list[i],adjusted_r_square(R_squared_list[i],df.shape[0],i)) for i in range(1,6)])"
      ],
      "execution_count": 7,
      "outputs": [
        {
          "output_type": "stream",
          "text": [
            "Forward stepwise subset selection\n",
            "Number of features | Features | RSS |R^2 coefficient\n"
          ],
          "name": "stdout"
        },
        {
          "output_type": "display_data",
          "data": {
            "text/plain": [
              "[(1, [3], 23.002033242783682, 0.4900196878616795),\n",
              " (2, [3, 1], 19.01410682028911, 0.5536385324260749),\n",
              " (3, [3, 1, 4], 17.039434517883574, 0.5749941734425128),\n",
              " (4, [3, 1, 4, 0], 16.523450642393016, 0.560388365988296),\n",
              " (5, [3, 1, 4, 0, 2], 16.03179517635035, 0.5430025163620834)]"
            ]
          },
          "metadata": {
            "tags": []
          }
        }
      ]
    },
    {
      "cell_type": "markdown",
      "metadata": {
        "id": "6XiQuwmiJjBH"
      },
      "source": [
        "Từ đây, ta sẽ chọn 3 ẩn là 1, 3, 4 vì có hệ số $R^2$ hiệu chỉnh cao nhất."
      ]
    },
    {
      "cell_type": "code",
      "metadata": {
        "id": "Tg9tyOPnKZ4G"
      },
      "source": [
        "#Construct Z, Y\n",
        "Z=np.concatenate(((np.ones((df.shape[0],1)),df.iloc[:,1:2],df.iloc[:,3:4],df.iloc[:,4:5])),axis=1)\n",
        "Y=df.iloc[:,5].values"
      ],
      "execution_count": 8,
      "outputs": []
    },
    {
      "cell_type": "code",
      "metadata": {
        "colab": {
          "base_uri": "https://localhost:8080/"
        },
        "id": "X8ZwPqTNKdMY",
        "outputId": "e803c5bb-0656-4cb3-c30c-271a2b6d1212"
      },
      "source": [
        "a=np.linalg.inv(np.matmul(Z.T,Z))\n",
        "b=np.matmul(Z.T,Y)\n",
        "beta_hat=np.matmul(np.matmul(a,Z.T),Y)\n",
        "beta_hat"
      ],
      "execution_count": 9,
      "outputs": [
        {
          "output_type": "execute_result",
          "data": {
            "text/plain": [
              "array([-64.43215359,  -0.33647019,   0.11754121,  33.59708406])"
            ]
          },
          "metadata": {
            "tags": []
          },
          "execution_count": 9
        }
      ]
    },
    {
      "cell_type": "markdown",
      "metadata": {
        "id": "djYOhJYjKgTV"
      },
      "source": [
        "Từ đây, phương trình hồi quy tuyến tính từ bộ tập con các biến phù hợp là: $ln(Y)=-64.432 -0.336z_1+0.1175z_3+33.597z_4$"
      ]
    },
    {
      "cell_type": "markdown",
      "metadata": {
        "id": "s8J9Ms40Kw-e"
      },
      "source": [
        "Ta có dự đoán $\\hat{y}$ cần tìm sẽ là"
      ]
    },
    {
      "cell_type": "code",
      "metadata": {
        "colab": {
          "base_uri": "https://localhost:8080/"
        },
        "id": "hOQjeChHKuYN",
        "outputId": "460de098-2c61-40b0-a7b3-dbddb3344086"
      },
      "source": [
        "y_hat=np.matmul(Z,beta_hat)\n",
        "y_hat"
      ],
      "execution_count": 10,
      "outputs": [
        {
          "output_type": "execute_result",
          "data": {
            "text/plain": [
              "array([6.41051131, 4.89912835, 4.05968707, 3.38774539, 3.22024579,\n",
              "       4.05968707, 4.73162875, 2.59104653, 1.91910485, 4.94187077,\n",
              "       3.43048781, 1.91910485, 3.85280976, 3.18086808, 5.86766315,\n",
              "       2.3414268 , 5.53169231, 4.69225104, 4.89912835, 4.05968707])"
            ]
          },
          "metadata": {
            "tags": []
          },
          "execution_count": 10
        }
      ]
    },
    {
      "cell_type": "markdown",
      "metadata": {
        "id": "Ecp_zWzvK388"
      },
      "source": [
        "###b) Vẽ sai số từ model đã fit ở phần a để kiểm tra giả định về tính chuẩn."
      ]
    },
    {
      "cell_type": "code",
      "metadata": {
        "colab": {
          "base_uri": "https://localhost:8080/"
        },
        "id": "rMtzZvagK1O7",
        "outputId": "2f9194ef-e0d1-43d1-c80d-9d4595a6f3d7"
      },
      "source": [
        "residuals=Y-y_hat\n",
        "residuals"
      ],
      "execution_count": 11,
      "outputs": [
        {
          "output_type": "execute_result",
          "data": {
            "text/plain": [
              "array([-1.79539079,  0.04963154,  0.50466112,  1.44056835,  0.54095432,\n",
              "       -1.28709835,  0.50481321, -0.28846144, -0.82049256,  1.0139666 ,\n",
              "        0.37617468, -1.22595767,  0.47792358,  1.17584075, -0.79248934,\n",
              "       -1.24281451, -0.1564139 , -0.40179159,  0.85026464,  1.07611137])"
            ]
          },
          "metadata": {
            "tags": []
          },
          "execution_count": 11
        }
      ]
    },
    {
      "cell_type": "code",
      "metadata": {
        "colab": {
          "base_uri": "https://localhost:8080/",
          "height": 279
        },
        "id": "T2mFnPu_K66s",
        "outputId": "8a52f621-73b8-4850-9554-835b02fb7fc7"
      },
      "source": [
        "import pylab\n",
        "import statsmodels.api as sm\n",
        "sm.qqplot(residuals,line='r')\n",
        "plt.show()"
      ],
      "execution_count": 12,
      "outputs": [
        {
          "output_type": "display_data",
          "data": {
            "image/png": "[encoded data removed]",
            "text/plain": [
              "<Figure size 432x288 with 1 Axes>"
            ]
          },
          "metadata": {
            "tags": [],
            "needs_background": "light"
          }
        }
      ]
    },
    {
      "cell_type": "markdown",
      "metadata": {
        "id": "x1z2iCGNK9-k"
      },
      "source": [
        "Theo đồ thị q-q plot thì ta thấy sai số của model trên sẽ tuân theo phân phối chuẩn."
      ]
    }
  ]
}