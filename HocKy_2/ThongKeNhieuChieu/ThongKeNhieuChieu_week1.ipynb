{
 "cells": [
  {
   "cell_type": "code",
   "execution_count": 1,
   "id": "initial-occasions",
   "metadata": {
    "scrolled": false
   },
   "outputs": [
    {
     "name": "stdout",
     "output_type": "stream",
     "text": [
      "Exercise 4.26: \n",
      "a) \n",
      "The Sample variance - covariance matrix S: \n",
      "[[ 10.62222222 -17.71022222]\n",
      " [-17.71022222  30.85436556]]\n",
      "\n",
      "The squared statistical distances of x_1 :  [[1.87530448]]\n",
      "\n",
      "The squared statistical distances of x_2 :  [[2.02032623]]\n",
      "\n",
      "The squared statistical distances of x_3 :  [[2.9009088]]\n",
      "\n",
      "The squared statistical distances of x_4 :  [[0.73526593]]\n",
      "\n",
      "The squared statistical distances of x_5 :  [[0.31051917]]\n",
      "\n",
      "The squared statistical distances of x_6 :  [[0.0176162]]\n",
      "\n",
      "The squared statistical distances of x_7 :  [[3.73290121]]\n",
      "\n",
      "The squared statistical distances of x_8 :  [[0.81654014]]\n",
      "\n",
      "The squared statistical distances of x_9 :  [[1.37533795]]\n",
      "\n",
      "The squared statistical distances of x_10 :  [[4.21527988]]\n",
      "\n"
     ]
    }
   ],
   "source": [
    "### Thong Ke Nhieu Chieu - BT ca nhan chuong 4\n",
    "# Nguyen Duc Vu Duy - 18110004\n",
    "#Import thu vien\n",
    "import numpy as np\n",
    "\n",
    "print(\"Exercise 4.26: \")\n",
    "print(\"a) \")\n",
    "x=np.array([[1,18.95],[2,19],[3,17.95],[3,15.54],[4,14],[5,12.95],[6,8.94],[8,7.49],[9,6],[11,3.99]])\n",
    "x_1,x_2=np.array(x[:,0]),np.array(x[:,1])\n",
    "\n",
    "x_1_mean=np.sum(x_1)/10\n",
    "x_2_mean=np.sum(x_2)/10\n",
    "\n",
    "x_mean=np.array([[x_1_mean],[x_2_mean]])\n",
    "\n",
    "S=np.cov(x_1,x_2)\n",
    "print('The Sample variance - covariance matrix S: ')\n",
    "print(S)\n",
    "print()\n",
    "\n",
    "sq_distance=[]\n",
    "for i in range(len(x)):\n",
    "    x_0=x[i].reshape(2,1)\n",
    "    x_left=np.dot((x_0-x_mean).T,np.linalg.pinv(S))\n",
    "    x_result=np.dot(x_left,(x_0-x_mean))\n",
    "    sq_distance.append(x_result)\n",
    "    print('The squared statistical distances of x_'+str(i+1), ': ',x_result)\n",
    "    print()"
   ]
  },
  {
   "cell_type": "code",
   "execution_count": 2,
   "id": "monthly-latest",
   "metadata": {},
   "outputs": [
    {
     "name": "stdout",
     "output_type": "stream",
     "text": [
      "b) \n",
      "Squared Statistical distances of x_j in part a) are distributed as a chi square distribution\n",
      "\n",
      "The observations falling within the estimated 50% probability contour of a bivariate normal distribution would have squared statistical distance which is lower than the 50% percentile of chi square.\n",
      "\n",
      "the 50% percentile of chi square with 2 degree of freedom is 1.3863\n",
      "\n",
      "Observation x4 fall within the estimated 50%.\n",
      "Observation x5 fall within the estimated 50%.\n",
      "Observation x6 fall within the estimated 50%.\n",
      "Observation x8 fall within the estimated 50%.\n",
      "Observation x9 fall within the estimated 50%.\n",
      "\n",
      "We have 5 among 10 observations. Thus, 50% of observations fall within the estimated 50%\n"
     ]
    }
   ],
   "source": [
    "print('b) ')\n",
    "print('Squared Statistical distances of x_j in part a) are distributed as a chi square distribution')\n",
    "print()\n",
    "print('The observations falling within the estimated 50% probability contour of a bivariate normal distribution would have squared statistical distance which is lower than the 50% percentile of chi square.')\n",
    "print()\n",
    "print('the 50% percentile of chi square with 2 degree of freedom is 1.3863')\n",
    "print()\n",
    "\n",
    "for i in range(len(x)):\n",
    "    if sq_distance[i]<1.3863:\n",
    "        print('Observation x'+str(i+1)+' fall within the estimated 50%.')\n",
    "\n",
    "print()\n",
    "print('We have 5 among 10 observations. Thus, 50% of observations fall within the estimated 50%')"
   ]
  },
  {
   "cell_type": "code",
   "execution_count": 3,
   "id": "figured-coverage",
   "metadata": {},
   "outputs": [
    {
     "name": "stdout",
     "output_type": "stream",
     "text": [
      "c) \n",
      "The ordered distances in part a) \n",
      "[array([[0.0176162]]), array([[0.31051917]]), array([[0.73526593]]), array([[0.81654014]]), array([[1.37533795]]), array([[1.87530448]]), array([[2.02032623]]), array([[2.9009088]]), array([[3.73290121]]), array([[4.21527988]])]\n",
      "\n",
      "The chi square plot\n"
     ]
    },
    {
     "data": {
      "image/png": "[encoded data removed]",
      "text/plain": [
       "<Figure size 432x288 with 1 Axes>"
      ]
     },
     "metadata": {
      "needs_background": "light"
     },
     "output_type": "display_data"
    }
   ],
   "source": [
    "print('c) ')\n",
    "print('The ordered distances in part a) ')\n",
    "sq_distance_copy=sq_distance.copy()\n",
    "sq_distance_order=sorted(sq_distance_copy)\n",
    "print(sq_distance_order)\n",
    "print()\n",
    "\n",
    "#Import thu vien\n",
    "from scipy.stats import chi2\n",
    "import matplotlib.pyplot as plt\n",
    "\n",
    "print('The chi square plot')\n",
    "sq_distance_order_array=np.array(sq_distance_order).reshape(-1)\n",
    "plt.plot(sq_distance_order_array, chi2.pdf(sq_distance_order_array, 2),'o')\n",
    "plt.show()\n"
   ]
  },
  {
   "cell_type": "code",
   "execution_count": 4,
   "id": "approved-boxing",
   "metadata": {},
   "outputs": [
    {
     "name": "stdout",
     "output_type": "stream",
     "text": [
      "d) \n",
      " From part b, 50% of the observations fall within the estimated 50% probability contour of a bivariate normal distribution\n",
      "\n",
      "Also, from part c, the line is nearly linear\n",
      "\n",
      "Therefore, the data comes from a bivariate normal distribution\n"
     ]
    }
   ],
   "source": [
    "print('d) ')\n",
    "print(' From part b, 50% of the observations fall within the estimated 50% probability contour of a bivariate normal distribution')\n",
    "print()\n",
    "print('Also, from part c, the line is nearly linear')\n",
    "print()\n",
    "print('Therefore, the data comes from a bivariate normal distribution')"
   ]
  },
  {
   "cell_type": "code",
   "execution_count": 5,
   "id": "spiritual-attendance",
   "metadata": {},
   "outputs": [
    {
     "name": "stdout",
     "output_type": "stream",
     "text": [
      "Exercise 4.29\n",
      "The Sample variance - covariance matrix S: \n",
      "[[11.36353078  3.12659698]\n",
      " [ 3.12659698 30.97851336]]\n",
      "\n",
      "The squared statistical distances of x_1 :  [[98.11679939]]\n",
      "\n",
      "The squared statistical distances of x_2 :  [[118.36034603]]\n",
      "\n",
      "The squared statistical distances of x_3 :  [[139.74972261]]\n",
      "\n",
      "The squared statistical distances of x_4 :  [[110.48985158]]\n",
      "\n",
      "The squared statistical distances of x_5 :  [[116.33019929]]\n",
      "\n",
      "The squared statistical distances of x_6 :  [[92.48813839]]\n",
      "\n",
      "The squared statistical distances of x_7 :  [[88.96389426]]\n",
      "\n",
      "The squared statistical distances of x_8 :  [[52.39345208]]\n",
      "\n",
      "The squared statistical distances of x_9 :  [[98.83255908]]\n",
      "\n",
      "The squared statistical distances of x_10 :  [[91.79073439]]\n",
      "\n",
      "The squared statistical distances of x_11 :  [[116.60915696]]\n",
      "\n",
      "The squared statistical distances of x_12 :  [[99.68997693]]\n",
      "\n",
      "The squared statistical distances of x_13 :  [[68.85971073]]\n",
      "\n",
      "The squared statistical distances of x_14 :  [[104.65375632]]\n",
      "\n",
      "The squared statistical distances of x_15 :  [[116.33019929]]\n",
      "\n",
      "The squared statistical distances of x_16 :  [[110.76852113]]\n",
      "\n",
      "The squared statistical distances of x_17 :  [[126.31916125]]\n",
      "\n",
      "The squared statistical distances of x_18 :  [[86.98235906]]\n",
      "\n",
      "The squared statistical distances of x_19 :  [[103.86054199]]\n",
      "\n",
      "The squared statistical distances of x_20 :  [[118.36034603]]\n",
      "\n",
      "The squared statistical distances of x_21 :  [[95.53309159]]\n",
      "\n",
      "The squared statistical distances of x_22 :  [[127.86738944]]\n",
      "\n",
      "The squared statistical distances of x_23 :  [[88.93986219]]\n",
      "\n",
      "The squared statistical distances of x_24 :  [[146.46051769]]\n",
      "\n",
      "The squared statistical distances of x_25 :  [[93.18098112]]\n",
      "\n",
      "The squared statistical distances of x_26 :  [[127.86738944]]\n",
      "\n",
      "The squared statistical distances of x_27 :  [[98.83255908]]\n",
      "\n",
      "The squared statistical distances of x_28 :  [[122.07290619]]\n",
      "\n",
      "The squared statistical distances of x_29 :  [[113.60603634]]\n",
      "\n",
      "The squared statistical distances of x_30 :  [[134.72435136]]\n",
      "\n",
      "The squared statistical distances of x_31 :  [[109.79856446]]\n",
      "\n",
      "The squared statistical distances of x_32 :  [[98.11679939]]\n",
      "\n",
      "The squared statistical distances of x_33 :  [[125.5299788]]\n",
      "\n",
      "The squared statistical distances of x_34 :  [[92.70682395]]\n",
      "\n",
      "The squared statistical distances of x_35 :  [[129.32738441]]\n",
      "\n",
      "The squared statistical distances of x_36 :  [[110.76852113]]\n",
      "\n",
      "The squared statistical distances of x_37 :  [[125.5343714]]\n",
      "\n",
      "The squared statistical distances of x_38 :  [[81.05356433]]\n",
      "\n",
      "The squared statistical distances of x_39 :  [[97.95378394]]\n",
      "\n",
      "The squared statistical distances of x_40 :  [[122.19776596]]\n",
      "\n",
      "The squared statistical distances of x_41 :  [[95.16391276]]\n",
      "\n",
      "The squared statistical distances of x_42 :  [[135.31440391]]\n",
      "\n"
     ]
    }
   ],
   "source": [
    "print('Exercise 4.29')\n",
    "data=np.array([[8,98,7,2,12,8,2],[7,107,4,3,9,5,3],[7,103,4,3,5,6,3],[10,88,5,2,8,15,4],[6,91,4,2,8,10,3],[8,90,5,2,12,12,4],[9,84,7,4,12,15,5],[5,72,6,4,21,14,4],[7,82,5,1,11,11,3],[8,64,5,2,13,9,4],[6,71,5,4,10,3,3],[6,91,4,2,12,7,3],[7,72,7,4,18,10,3],[10,70,4,2,11,7,3],[10,72,4,1,8,10,3],[9,77,4,1,9,10,3],[8,76,4,1,7,7,3],[8,71,5,3,16,4,4],[9,67,4,2,13,2,3],[9,69,3,3,9,5,3],[10,62,5,3,14,4,4],[9,88,4,2,7,6,3],[8,80,4,2,13,11,4],[5,30,3,3,5,2,3],[6,83,5,1,10,23,4],[8,84,3,2,7,6,3],[6,78,4,2,11,11,3],[8,79,2,1,7,10,3],[6,62,4,3,9,8,3],[10,37,3,1,7,2,3],[8,71,4,1,10,7,3],[7,52,4,1,12,8,4],[5,48,6,5,8,4,3],[6,75,4,1,10,24,3],[10,35,4,1,6,9,2],[8,85,4,1,9,10,2],[5,86,3,1,6,12,2],[5,86,7,2,13,18,2],[7,79,7,4,9,25,3],[7,79,5,2,8,6,2],[6,68,6,2,11,14,3],[8,40,4,3,6,5,2]])\n",
    "\n",
    "x_5,x_6=np.array(data[:,4]),np.array(data[:,5])\n",
    "\n",
    "x_5_mean=np.sum(x_5)/10\n",
    "x_6_mean=np.sum(x_6)/10\n",
    "\n",
    "x_mean_56=np.array([[x_5_mean],[x_6_mean]])\n",
    "\n",
    "S_56=np.cov(x_5,x_6)\n",
    "print('The Sample variance - covariance matrix S: ')\n",
    "print(S_56)\n",
    "print()\n",
    "\n",
    "sq_distance_56=[]\n",
    "for i in range(len(data)):\n",
    "    data_0=np.array([[data[i,4]],[data[i,5]]]).reshape(2,1)\n",
    "    data_left=np.dot((data_0-x_mean_56).T,np.linalg.pinv(S_56))\n",
    "    data_result=np.dot(data_left,(data_0-x_mean_56))\n",
    "    sq_distance_56.append(data_result)\n",
    "    print('The squared statistical distances of x_'+str(i+1), ': ',data_result)\n",
    "    print()"
   ]
  },
  {
   "cell_type": "code",
   "execution_count": 6,
   "id": "secret-detector",
   "metadata": {},
   "outputs": [
    {
     "name": "stdout",
     "output_type": "stream",
     "text": [
      "b) \n",
      "Squared Statistical distances of x_j in part a) are distributed as a chi square distribution\n",
      "\n",
      "The observations falling within the estimated 50% probability contour of a bivariate normal distribution would have squared statistical distance which is lower than the 50% percentile of chi square.\n",
      "\n",
      "the 50% percentile of chi square with 7 degree of freedom is 6.346\n",
      "\n",
      "\n",
      "We have 0 among 42 observations. Thus, 0% of observations fall within the estimated 50%\n"
     ]
    }
   ],
   "source": [
    "print('b) ')\n",
    "print('Squared Statistical distances of x_j in part a) are distributed as a chi square distribution')\n",
    "print()\n",
    "print('The observations falling within the estimated 50% probability contour of a bivariate normal distribution would have squared statistical distance which is lower than the 50% percentile of chi square.')\n",
    "print()\n",
    "print('the 50% percentile of chi square with 7 degree of freedom is 6.346')\n",
    "print()\n",
    "\n",
    "for i in range(len(data)):\n",
    "    if sq_distance_56[i]<6.346:\n",
    "        print('Observation x'+str(i+1)+' fall within the estimated 50%.')\n",
    "\n",
    "print()\n",
    "print('We have 0 among 42 observations. Thus, 0% of observations fall within the estimated 50%')"
   ]
  },
  {
   "cell_type": "code",
   "execution_count": 7,
   "id": "hundred-glory",
   "metadata": {},
   "outputs": [
    {
     "name": "stdout",
     "output_type": "stream",
     "text": [
      "c) \n",
      "The ordered distances in part a) \n",
      "[array([[52.39345208]]), array([[68.85971073]]), array([[81.05356433]]), array([[86.98235906]]), array([[88.93986219]]), array([[88.96389426]]), array([[91.79073439]]), array([[92.48813839]]), array([[92.70682395]]), array([[93.18098112]]), array([[95.16391276]]), array([[95.53309159]]), array([[97.95378394]]), array([[98.11679939]]), array([[98.11679939]]), array([[98.83255908]]), array([[98.83255908]]), array([[99.68997693]]), array([[103.86054199]]), array([[104.65375632]]), array([[109.79856446]]), array([[110.48985158]]), array([[110.76852113]]), array([[110.76852113]]), array([[113.60603634]]), array([[116.33019929]]), array([[116.33019929]]), array([[116.60915696]]), array([[118.36034603]]), array([[118.36034603]]), array([[122.07290619]]), array([[122.19776596]]), array([[125.5299788]]), array([[125.5343714]]), array([[126.31916125]]), array([[127.86738944]]), array([[127.86738944]]), array([[129.32738441]]), array([[134.72435136]]), array([[135.31440391]]), array([[139.74972261]]), array([[146.46051769]])]\n",
      "\n",
      "The chi square plot\n"
     ]
    },
    {
     "data": {
      "image/png": "[encoded data removed]",
      "text/plain": [
       "<Figure size 432x288 with 1 Axes>"
      ]
     },
     "metadata": {
      "needs_background": "light"
     },
     "output_type": "display_data"
    }
   ],
   "source": [
    "print('c) ')\n",
    "print('The ordered distances in part a) ')\n",
    "sq_distance_copy_56=sq_distance_56.copy()\n",
    "sq_distance_order_56=sorted(sq_distance_copy_56)\n",
    "print(sq_distance_order_56)\n",
    "print()\n",
    "\n",
    "print('The chi square plot')\n",
    "sq_distance_order_array_56=np.array(sq_distance_order_56).reshape(-1)\n",
    "plt.plot(sq_distance_order_array_56, chi2.pdf(sq_distance_order_array_56, 2),'o')\n",
    "plt.show()"
   ]
  },
  {
   "cell_type": "code",
   "execution_count": 8,
   "id": "proof-lottery",
   "metadata": {},
   "outputs": [
    {
     "name": "stdout",
     "output_type": "stream",
     "text": [
      "Exercise 4.30\n",
      "a) \n",
      "The power transformation lambda_1 that makes the x_1 values approximately normal: \n",
      "[0.37089055]\n",
      "\n",
      "The Q-Q plot for the transformed data\n"
     ]
    },
    {
     "data": {
      "image/png": "[encoded data removed]",
      "text/plain": [
       "<Figure size 432x288 with 1 Axes>"
      ]
     },
     "metadata": {
      "needs_background": "light"
     },
     "output_type": "display_data"
    }
   ],
   "source": [
    "print('Exercise 4.30')\n",
    "print('a) ')\n",
    "\n",
    "from sklearn.preprocessing import PowerTransformer\n",
    "pt_1=PowerTransformer('box-cox')\n",
    "pt_1.fit(x_1.reshape(-1,1))\n",
    "print('The power transformation lambda_1 that makes the x_1 values approximately normal: ')\n",
    "print(pt_1.lambdas_)\n",
    "print()\n",
    "\n",
    "transform_x_1=pt_1.transform(x_1.reshape(-1,1))\n",
    "\n",
    "import statsmodels.api as sm\n",
    "print('The Q-Q plot for the transformed data')\n",
    "sm.qqplot(transform_x_1,line ='45')\n",
    "plt.title('the Q-Q plot')\n",
    "plt.show()"
   ]
  },
  {
   "cell_type": "code",
   "execution_count": 9,
   "id": "medical-cannon",
   "metadata": {},
   "outputs": [
    {
     "name": "stdout",
     "output_type": "stream",
     "text": [
      "b) \n",
      "The power transformation lambda_2 that makes the x_2 values approximately normal: \n",
      "[0.93619656]\n",
      "\n",
      "The Q-Q plot for the transformed data\n"
     ]
    },
    {
     "data": {
      "image/png": "[encoded data removed]",
      "text/plain": [
       "<Figure size 432x288 with 1 Axes>"
      ]
     },
     "metadata": {
      "needs_background": "light"
     },
     "output_type": "display_data"
    }
   ],
   "source": [
    "print('b) ')\n",
    "pt_2=PowerTransformer('box-cox')\n",
    "pt_2.fit(x_2.reshape(-1,1))\n",
    "print('The power transformation lambda_2 that makes the x_2 values approximately normal: ')\n",
    "print(pt_2.lambdas_)\n",
    "print()\n",
    "\n",
    "transform_x_2=pt_2.transform(x_2.reshape(-1,1))\n",
    "\n",
    "print('The Q-Q plot for the transformed data')\n",
    "sm.qqplot(transform_x_2,line='r')\n",
    "plt.title('the Q-Q plot')\n",
    "plt.show()"
   ]
  },
  {
   "cell_type": "code",
   "execution_count": 10,
   "id": "charitable-antique",
   "metadata": {},
   "outputs": [
    {
     "name": "stdout",
     "output_type": "stream",
     "text": [
      "c) \n",
      "The power transformation lambda that makes the x_1, x_2 values jointly normal: \n",
      "[0.37089055 0.93619656]\n",
      "\n",
      "The results are the same as those obtained in part a and b\n"
     ]
    }
   ],
   "source": [
    "print('c) ')\n",
    "pt=PowerTransformer('box-cox')\n",
    "pt.fit(x)\n",
    "print('The power transformation lambda that makes the x_1, x_2 values jointly normal: ')\n",
    "print(pt.lambdas_)\n",
    "print()\n",
    "\n",
    "print('The results are the same as those obtained in part a and b')\n"
   ]
  },
  {
   "cell_type": "code",
   "execution_count": 11,
   "id": "ceramic-database",
   "metadata": {},
   "outputs": [],
   "source": [
    "dt=np.array([[27,13,14,20,11,2,1],[12,13,24,25,6,2,1],[14,20,15,16,7,2,1],[18,20,17,12,6,2,1],[9,22,22,21,6,2,1],[18,15,17,25,9,2,1],[12,18,29,18,4,2,1],\n",
    "[10,19,21,10,16,2,1\n",
    "],\n",
    "[8,23,23,19,9,2,1\n",
    "],\n",
    "[21,11,17,9,16,2,1\n",
    "],\n",
    "[15,16,16,12,19,2,1\n",
    "],\n",
    "[9,20,29,14,7,2,1\n",
    "],\n",
    "[16,22,24,17,4,2,1\n",
    "],\n",
    "[14,19,17,18,15,2,1\n",
    "],\n",
    "[13,26,23,17,5,2,1\n",
    "],\n",
    "[13,20,22,18,5,2,1\n",
    "],\n",
    "[18,17,11,23,14,2,1\n",
    "],\n",
    "[15,24,15,8,15,2,1\n",
    "],\n",
    "[18,22,24,11,6,2,1\n",
    "],\n",
    "[18,18,17,24,7,2,1\n",
    "],\n",
    "[9,16,27,18,9,2,1\n",
    "],\n",
    "[25,17,15,14,14,2,1\n",
    "],\n",
    "[9,21,21,18,4,2,1\n",
    "],\n",
    "[28,17,19,12,7,2,1\n",
    "],\n",
    "[18,18,26,14,6,2,1\n",
    "],\n",
    "[25,13,11,20,6,2,1\n",
    "],\n",
    "[6,16,22,23,15,2,1\n",
    "],\n",
    "[25,13,18,9,15,2,1\n",
    "],\n",
    "[4,23,27,16,8,2,1\n",
    "],\n",
    "[17,7,19,22,12,2,1\n",
    "],\n",
    "[13,14,16,20,16,2,1\n",
    "],\n",
    "[14,16,21,19,10,2,1\n",
    "],\n",
    "[17,12,22,19,12,2,1\n",
    "],\n",
    "[14,16,19,18,13,2,1\n",
    "],\n",
    "[10,19,23,23,3,2,1\n",
    "],\n",
    "[8,21,16,20,10,1,1\n",
    "],\n",
    "[15,12,15,23,11,1,1\n",
    "],\n",
    "[8,22,18,15,9,1,1\n",
    "],\n",
    "[9,17,29,20,10,1,1\n",
    "],\n",
    "[9,14,23,21,12,1,1\n",
    "],\n",
    "[21,16,22,11,11,1,1\n",
    "],\n",
    "[12,18,19,18,8,1,1\n",
    "],\n",
    "[18,20,13,13,17,1,1\n",
    "],\n",
    "[10,14,28,20,10,1,1\n",
    "],\n",
    "[15,11,22,25,9,1,1\n",
    "],\n",
    "[20,14,14,9,17,1,1\n",
    "],\n",
    "[7,14,23,17,23,1,1\n",
    "],\n",
    "[22,17,11,15,11,1,1\n",
    "],\n",
    "[18,21,15,8,15,1,1\n",
    "],\n",
    "[7,14,24,24,14,1,1\n",
    "],\n",
    "[13,17,19,24,8,1,1\n",
    "],\n",
    "[15,20,17,19,10,1,1\n",
    "],\n",
    "[15,19,29,17,2,1,1\n",
    "],\n",
    "[7,21,21,25,8,1,1\n",
    "],\n",
    "[29,16,8,12,18,1,1\n",
    "],\n",
    "[14,16,23,22,9,1,1\n",
    "],\n",
    "[15,19,12,15,14,1,1\n",
    "],\n",
    "[19,17,21,18,5,1,1\n",
    "],\n",
    "[9,14,21,18,17,1,1\n",
    "],\n",
    "[25,6,19,11,25,1,1\n",
    "],\n",
    "[10,18,22,18,12,1,1\n",
    "],\n",
    "[16,18,19,21,10,1,1\n",
    "],\n",
    "[12,14,21,27,9,1,1\n",
    "],\n",
    "[12,21,19,17,10,1,1\n",
    "],\n",
    "[18,22,14,8,23,1,1\n",
    "],\n",
    "[15,12,15,19,17,1,1\n",
    "],\n",
    "[8,15,25,17,16,1,1\n",
    "],\n",
    "[7,23,29,14,8,1,1\n",
    "],\n",
    "[15,16,14,18,15,1,1\n",
    "],\n",
    "[10,19,22,15,14,1,1\n",
    "],\n",
    "[10,11,28,18,9,1,1\n",
    "],\n",
    "[20,10,14,27,13,1,1\n",
    "],\n",
    "[27,13,19,4,17,1,2\n",
    "],\n",
    "[29,21,11,4,13,1,2\n",
    "],\n",
    "[16,13,9,16,22,1,2\n",
    "],\n",
    "[3,20,25,20,8,1,2\n",
    "],\n",
    "[12,17,9,14,21,1,2\n",
    "],\n",
    "[19,27,12,6,7,2,2\n",
    "],\n",
    "[22,17,21,11,9,2,2\n",
    "],\n",
    "[20,11,23,18,7,2,2\n",
    "],\n",
    "[15,21,21,14,8,2,2\n",
    "],\n",
    "[12,12,28,25,5,2,2\n",
    "],\n",
    "[26,18,9,1,19,2,2\n",
    "],\n",
    "[26,22,16,5,14,1,2\n",
    "],\n",
    "[12,17,10,15,20,1,2\n",
    "],\n",
    "[22,12,18,14,14,1,2\n",
    "],\n",
    "[19,20,17,15,11,1,2\n",
    "],\n",
    "[22,24,9,11,10,1,2\n",
    "],\n",
    "[23,15,14,14,11,1,2\n",
    "],\n",
    "[9,19,18,21,6,1,2\n",
    "],\n",
    "[15,12,12,17,21,1,2\n",
    "],\n",
    "[15,20,20,10,11,1,2\n",
    "],\n",
    "[16,19,19,16,7,1,2\n",
    "],\n",
    "[11,20,22,13,11,1,2\n",
    "],\n",
    "[14,7,20,14,19,1,2\n",
    "],\n",
    "[13,11,26,9,22,1,2\n",
    "],\n",
    "[21,13,18,19,14,1,2\n",
    "],\n",
    "[12,19,20,7,14,2,2\n",
    "],\n",
    "[22,22,14,13,4,2,2\n",
    "],\n",
    "[21,21,21,5,9,2,2\n",
    "],\n",
    "[17,19,25,10,14,2,2\n",
    "],\n",
    "[14,18,12,12,17,2,2\n",
    "],\n",
    "[16,19,14,12,15,2,2\n",
    "],\n",
    "[24,9,2,20,23,2,2\n",
    "],\n",
    "[21,18,18,8,8,2,2\n",
    "],\n",
    "[11,11,24,27,9,2,2\n",
    "],\n",
    "[28,23,11,6,10,2,2\n",
    "],\n",
    "[13,19,24,19,4,2,2\n",
    "],\n",
    "[17,19,20,8,6,2,2\n",
    "],\n",
    "[14,20,21,13,7,2,2\n",
    "],\n",
    "[31,10,6,7,21,2,2\n",
    "],\n",
    "[19,20,12,4,18,2,2\n",
    "],\n",
    "[10,19,22,11,11,2,2\n",
    "],\n",
    "[10,22,26,9,10,2,2\n",
    "],\n",
    "[18,15,19,17,9,2,2\n",
    "],\n",
    "[18,20,8,6,17,2,2\n",
    "],\n",
    "[13,19,24,17,12,2,2],[18,24,16,12,10,2,2],[20,13,18,23,7,2,2],[16,21,19,12,13,2,2],[9,19,19,19,12,2,2],[10,15,20,22,10,1,2],[13,22,14,12,9,1,2],\n",
    "[22,10,17,14,18,1,2\n",
    "],\n",
    "[16,18,16,8,16,1,2\n",
    "],\n",
    "[10,11,26,17,10,1,2\n",
    "],\n",
    "[14,12,14,11,29,1,2\n",
    "],\n",
    "[19,11,23,18,13,2,2\n",
    "],\n",
    "[27,19,22,7,9,2,2\n",
    "],\n",
    "[10,17,22,22,8,2,2]])"
   ]
  },
  {
   "cell_type": "code",
   "execution_count": 12,
   "id": "functioning-reform",
   "metadata": {},
   "outputs": [
    {
     "name": "stdout",
     "output_type": "stream",
     "text": [
      "Exercise 4.39\n",
      "a) \n"
     ]
    },
    {
     "data": {
      "image/png": "[encoded data removed]",
      "text/plain": [
       "<Figure size 432x288 with 1 Axes>"
      ]
     },
     "metadata": {
      "needs_background": "light"
     },
     "output_type": "display_data"
    },
    {
     "data": {
      "image/png": "[encoded data removed]",
      "text/plain": [
       "<Figure size 432x288 with 1 Axes>"
      ]
     },
     "metadata": {
      "needs_background": "light"
     },
     "output_type": "display_data"
    },
    {
     "data": {
      "image/png": "[encoded data removed]",
      "text/plain": [
       "<Figure size 432x288 with 1 Axes>"
      ]
     },
     "metadata": {
      "needs_background": "light"
     },
     "output_type": "display_data"
    },
    {
     "data": {
      "image/png": "[encoded data removed]",
      "text/plain": [
       "<Figure size 432x288 with 1 Axes>"
      ]
     },
     "metadata": {
      "needs_background": "light"
     },
     "output_type": "display_data"
    },
    {
     "data": {
      "image/png": "[encoded data removed]",
      "text/plain": [
       "<Figure size 432x288 with 1 Axes>"
      ]
     },
     "metadata": {
      "needs_background": "light"
     },
     "output_type": "display_data"
    },
    {
     "name": "stdout",
     "output_type": "stream",
     "text": [
      "Independence, support, leadership are the variables that are nonnormal\n"
     ]
    }
   ],
   "source": [
    "print('Exercise 4.39')\n",
    "print('a) ')\n",
    "dt_new=dt[:,0:5]\n",
    "v_0,v_1,v_2,v_3,v_4=np.array([dt_new[:,0]]),np.array([dt_new[:,1]]),np.array([dt_new[:,2]]),np.array([dt_new[:,3]]),np.array([dt_new[:,4]])\n",
    "\n",
    "v_0_new=v_0.reshape(130,1)\n",
    "v_1_new=v_1.reshape(130,1)\n",
    "v_2_new=v_2.reshape(130,1)\n",
    "v_3_new=v_3.reshape(130,1)\n",
    "v_4_new=v_4.reshape(130,1)\n",
    "\n",
    "v_0_sort=sorted(v_0_new.copy())\n",
    "v_1_sort=sorted(v_1_new.copy())\n",
    "v_2_sort=sorted(v_2_new.copy())\n",
    "v_3_sort=sorted(v_3_new.copy())\n",
    "v_4_sort=sorted(v_4_new.copy())\n",
    "\n",
    "sm.qqplot(np.array([v_0_sort]).reshape(-1,1),line='r')\n",
    "plt.title('Q - Q plot for variable independence')\n",
    "plt.show()\n",
    "\n",
    "sm.qqplot(np.array([v_1_sort]).reshape(-1,1),line='r')\n",
    "plt.title('Q - Q plot for variable support')\n",
    "plt.show()\n",
    "\n",
    "sm.qqplot(np.array([v_2_sort]).reshape(-1,1),line='r')\n",
    "plt.title('Q - Q plot for variable benevolence')\n",
    "plt.show()\n",
    "\n",
    "sm.qqplot(np.array([v_3_sort]).reshape(-1,1),line='r')\n",
    "plt.title('Q - Q plot for variable conformity')\n",
    "plt.show()\n",
    "\n",
    "sm.qqplot(np.array([v_4_sort]).reshape(-1,1),line='r')\n",
    "plt.title('Q - Q plot for variable leadership')\n",
    "plt.show()\n",
    "\n",
    "print('Independence, support, leadership are the variables that are nonnormal')"
   ]
  },
  {
   "cell_type": "code",
   "execution_count": 13,
   "id": "measured-grace",
   "metadata": {},
   "outputs": [
    {
     "name": "stdout",
     "output_type": "stream",
     "text": [
      "b) \n",
      "The Sample variance - covariance matrix S: \n",
      "[[ 34.75020871  -4.27668456 -18.07179487 -15.97286822   5.71645796]\n",
      " [ -4.27668456  17.51341682   0.41979726  -7.86821705  -8.72331544]\n",
      " [-18.07179487   0.41979726  29.84472272   9.34883721 -13.94215862]\n",
      " [-15.97286822  -7.86821705   9.34883721  33.04263566  -9.94186047]\n",
      " [  5.71645796  -8.72331544 -13.94215862  -9.94186047  26.95796064]]\n",
      "\n",
      "the 50% percentile of chi square with 5 degree of freedom is 4.3515\n",
      "\n",
      "There are 0.49230769230769234 percentage of observations whose squared distances less than 4.3515\n",
      "Therefore, all five variables do not have multivariate normality\n"
     ]
    }
   ],
   "source": [
    "print('b) ')\n",
    "\n",
    "v_0_mean=np.sum(v_0)/130\n",
    "v_1_mean=np.sum(v_1)/130\n",
    "v_2_mean=np.sum(v_2)/130\n",
    "v_3_mean=np.sum(v_3)/130\n",
    "v_4_mean=np.sum(v_4)/130\n",
    "\n",
    "v_mean=np.array([[v_0_mean],[v_1_mean],[v_2_mean],[v_3_mean],[v_4_mean]])\n",
    "data_cov = np.vstack([v_0,v_1,v_2,v_3,v_4])\n",
    "S_new = np.cov(data_cov)\n",
    "print('The Sample variance - covariance matrix S: ')\n",
    "print(S_new)\n",
    "\n",
    "sq_distance_new=[]\n",
    "for i in range(len(dt)):\n",
    "    x_0=dt[i,0:5].reshape(5,1)\n",
    "    x_left=np.dot((x_0-v_mean).T,np.linalg.pinv(S_new))\n",
    "    x_result=np.dot(x_left,(x_0-v_mean))\n",
    "    sq_distance_new.append(x_result)\n",
    "\n",
    "print()\n",
    "print('the 50% percentile of chi square with 5 degree of freedom is 4.3515')\n",
    "print()\n",
    "\n",
    "count=0\n",
    "for i in range(len(dt)):\n",
    "    if sq_distance_new[i]<4.3515:\n",
    "        count+=1\n",
    "\n",
    "print('There are '+str(count/130)+ ' percentage of observations whose squared distances less than 4.3515')\n",
    "print('Therefore, all five variables do not have multivariate normality')"
   ]
  },
  {
   "cell_type": "code",
   "execution_count": 14,
   "id": "lightweight-connection",
   "metadata": {},
   "outputs": [
    {
     "name": "stdout",
     "output_type": "stream",
     "text": [
      "c) \n",
      "The transformation to make independence variable normal:  [0.52377241]\n",
      "\n",
      "The transformation to make support variable normal:  [1.39626145]\n",
      "\n",
      "The transformation to make leadership variable normal:  [0.38154699]\n",
      "\n"
     ]
    }
   ],
   "source": [
    "print('c) ')\n",
    "pt_new_0=PowerTransformer('box-cox')\n",
    "pt_new_0.fit(v_0.reshape(-1,1))\n",
    "transform_v_0=pt_new_0.transform(v_0.reshape(-1,1))\n",
    "print('The transformation to make independence variable normal: ',pt_new_0.lambdas_)\n",
    "print()\n",
    "\n",
    "pt_new_1=PowerTransformer('box-cox')\n",
    "pt_new_1.fit(v_1.reshape(-1,1))\n",
    "transform_v_1=pt_new_1.transform(v_1.reshape(-1,1))\n",
    "print('The transformation to make support variable normal: ',pt_new_1.lambdas_)\n",
    "print()\n",
    "\n",
    "pt_new_4=PowerTransformer('box-cox')\n",
    "pt_new_4.fit(v_4.reshape(-1,1))\n",
    "transform_v_4=pt_new_4.transform(v_4.reshape(-1,1))\n",
    "print('The transformation to make leadership variable normal: ',pt_new_4.lambdas_)\n",
    "print()"
   ]
  }
 ],
 "metadata": {
  "kernelspec": {
   "display_name": "Python 3",
   "language": "python",
   "name": "python3"
  },
  "language_info": {
   "codemirror_mode": {
    "name": "ipython",
    "version": 3
   },
   "file_extension": ".py",
   "mimetype": "text/x-python",
   "name": "python",
   "nbconvert_exporter": "python",
   "pygments_lexer": "ipython3",
   "version": "3.8.5"
  }
 },
 "nbformat": 4,
 "nbformat_minor": 5
}
