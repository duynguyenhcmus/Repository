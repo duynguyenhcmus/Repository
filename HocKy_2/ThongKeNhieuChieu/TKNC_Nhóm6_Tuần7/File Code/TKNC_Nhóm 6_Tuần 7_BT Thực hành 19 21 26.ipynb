{
 "cells": [
  {
   "cell_type": "code",
   "execution_count": 1,
   "metadata": {
    "colab": {
     "base_uri": "https://localhost:8080/"
    },
    "id": "j_1t15diPNII",
    "outputId": "3a3e5817-db45-451f-8ee1-aac644a55629"
   },
   "outputs": [
    {
     "name": "stderr",
     "output_type": "stream",
     "text": [
      "/usr/local/lib/python3.7/dist-packages/statsmodels/tools/_testing.py:19: FutureWarning: pandas.util.testing is deprecated. Use the functions in the public API at pandas.testing instead.\n",
      "  import pandas.util.testing as tm\n"
     ]
    }
   ],
   "source": [
    "import itertools\n",
    "import time\n",
    "import numpy as np\n",
    "import pandas as pd\n",
    "import seaborn as sns\n",
    "import statsmodels.api as sm\n",
    "import matplotlib.pyplot as plt\n",
    "from sklearn import linear_model\n",
    "from sklearn.metrics import mean_squared_error"
   ]
  },
  {
   "cell_type": "markdown",
   "metadata": {
    "id": "3KgDqPd8UPJK"
   },
   "source": [
    "# 7.9"
   ]
  },
  {
   "cell_type": "code",
   "execution_count": 2,
   "metadata": {
    "colab": {
     "base_uri": "https://localhost:8080/"
    },
    "id": "M0gt3JKoPnUb",
    "outputId": "9e8dbea8-cff9-4c50-8ed0-fa1cf96f5df4"
   },
   "outputs": [
    {
     "name": "stdout",
     "output_type": "stream",
     "text": [
      "[[0.2 0. ]\n",
      " [0.  0.1]]\n",
      "[[15  0]\n",
      " [-9 15]]\n",
      "[[ 3.   0. ]\n",
      " [-0.9  1.5]]\n"
     ]
    }
   ],
   "source": [
    "Y=np.array([[5,-3],[3,-1],[4,-1],[2,2],[1,3]])\n",
    "Z=np.array([[1,-2],[1,-1],[1,0],[1,1],[1,2]])\n",
    "a=np.linalg.inv(np.matmul(Z.T,Z))\n",
    "b=np.matmul(Z.T,Y)\n",
    "beta=np.matmul(a,b)\n",
    "print(a)\n",
    "print(b)\n",
    "print(beta)"
   ]
  },
  {
   "cell_type": "code",
   "execution_count": 3,
   "metadata": {
    "colab": {
     "base_uri": "https://localhost:8080/"
    },
    "id": "g0LBIlZWPnbw",
    "outputId": "f82b0077-4705-4e4c-f0e4-fa0c3ae053b3"
   },
   "outputs": [
    {
     "data": {
      "text/plain": [
       "array([[ 4.8, -3. ],\n",
       "       [ 3.9, -1.5],\n",
       "       [ 3. ,  0. ],\n",
       "       [ 2.1,  1.5],\n",
       "       [ 1.2,  3. ]])"
      ]
     },
     "execution_count": 3,
     "metadata": {
      "tags": []
     },
     "output_type": "execute_result"
    }
   ],
   "source": [
    "y_hat=np.matmul(Z,beta)\n",
    "y_hat"
   ]
  },
  {
   "cell_type": "code",
   "execution_count": 4,
   "metadata": {
    "colab": {
     "base_uri": "https://localhost:8080/"
    },
    "id": "-JYVqMxaPneP",
    "outputId": "be509100-8be8-4e33-e7a0-63f967c0f0f2"
   },
   "outputs": [
    {
     "data": {
      "text/plain": [
       "array([[ 0.2,  0. ],\n",
       "       [-0.9,  0.5],\n",
       "       [ 1. , -1. ],\n",
       "       [-0.1,  0.5],\n",
       "       [-0.2,  0. ]])"
      ]
     },
     "execution_count": 4,
     "metadata": {
      "tags": []
     },
     "output_type": "execute_result"
    }
   ],
   "source": [
    "error=Y-y_hat\n",
    "error"
   ]
  },
  {
   "cell_type": "code",
   "execution_count": 5,
   "metadata": {
    "colab": {
     "base_uri": "https://localhost:8080/"
    },
    "id": "yCgjCMFiPngn",
    "outputId": "0f461cef-1495-419b-b57d-c87fc31c1e8b"
   },
   "outputs": [
    {
     "name": "stdout",
     "output_type": "stream",
     "text": [
      "[[ 55. -15.]\n",
      " [-15.  24.]]\n",
      "[[ 55 -15]\n",
      " [-15  24]]\n"
     ]
    }
   ],
   "source": [
    "print(np.matmul(y_hat.T,y_hat)+np.matmul(error.T,error))\n",
    "print(np.matmul(Y.T,Y))"
   ]
  },
  {
   "cell_type": "markdown",
   "metadata": {
    "id": "MS6uxD3rj3JP"
   },
   "source": [
    "### 7.19"
   ]
  },
  {
   "cell_type": "markdown",
   "metadata": {
    "id": "wieWsxF4j672"
   },
   "source": [
    "### Một ứng dụng vệ tinh kích thích bởi sự phát triển của một loại pin silver_zino. Bảng 7.5 bao gồm các dữ liệu thất bại được thu thập để nghiên cứu tính hiệu quả của cục pin trong chu kì sống của nó. Sử dụng bộ dữ liệu này để:"
   ]
  },
  {
   "cell_type": "markdown",
   "metadata": {
    "id": "cmVGYnfBkUTE"
   },
   "source": [
    "### a) Tìm ước lượng hồi quy tuyến tính của ln(Y) trong bộ tập con các biến dự đoán phù hợp"
   ]
  },
  {
   "cell_type": "code",
   "execution_count": 6,
   "metadata": {
    "colab": {
     "base_uri": "https://localhost:8080/",
     "height": 204
    },
    "id": "CgktX-asPni8",
    "outputId": "cf51ff55-601d-4228-e6c7-69baad39b5e7"
   },
   "outputs": [
    {
     "data": {
      "text/html": [
       "<div>\n",
       "<style scoped>\n",
       "    .dataframe tbody tr th:only-of-type {\n",
       "        vertical-align: middle;\n",
       "    }\n",
       "\n",
       "    .dataframe tbody tr th {\n",
       "        vertical-align: top;\n",
       "    }\n",
       "\n",
       "    .dataframe thead th {\n",
       "        text-align: right;\n",
       "    }\n",
       "</style>\n",
       "<table border=\"1\" class=\"dataframe\">\n",
       "  <thead>\n",
       "    <tr style=\"text-align: right;\">\n",
       "      <th></th>\n",
       "      <th>0</th>\n",
       "      <th>1</th>\n",
       "      <th>2</th>\n",
       "      <th>3</th>\n",
       "      <th>4</th>\n",
       "      <th>5</th>\n",
       "    </tr>\n",
       "  </thead>\n",
       "  <tbody>\n",
       "    <tr>\n",
       "      <th>0</th>\n",
       "      <td>0.375</td>\n",
       "      <td>3.13</td>\n",
       "      <td>60.0</td>\n",
       "      <td>40.0</td>\n",
       "      <td>2.00</td>\n",
       "      <td>101.0</td>\n",
       "    </tr>\n",
       "    <tr>\n",
       "      <th>1</th>\n",
       "      <td>1.000</td>\n",
       "      <td>3.13</td>\n",
       "      <td>76.8</td>\n",
       "      <td>30.0</td>\n",
       "      <td>1.99</td>\n",
       "      <td>141.0</td>\n",
       "    </tr>\n",
       "    <tr>\n",
       "      <th>2</th>\n",
       "      <td>1.000</td>\n",
       "      <td>3.13</td>\n",
       "      <td>60.0</td>\n",
       "      <td>20.0</td>\n",
       "      <td>2.00</td>\n",
       "      <td>96.0</td>\n",
       "    </tr>\n",
       "    <tr>\n",
       "      <th>3</th>\n",
       "      <td>1.000</td>\n",
       "      <td>3.13</td>\n",
       "      <td>60.0</td>\n",
       "      <td>20.0</td>\n",
       "      <td>1.98</td>\n",
       "      <td>125.0</td>\n",
       "    </tr>\n",
       "    <tr>\n",
       "      <th>4</th>\n",
       "      <td>1.625</td>\n",
       "      <td>3.13</td>\n",
       "      <td>43.2</td>\n",
       "      <td>10.0</td>\n",
       "      <td>2.01</td>\n",
       "      <td>43.0</td>\n",
       "    </tr>\n",
       "  </tbody>\n",
       "</table>\n",
       "</div>"
      ],
      "text/plain": [
       "       0     1     2     3     4      5\n",
       "0  0.375  3.13  60.0  40.0  2.00  101.0\n",
       "1  1.000  3.13  76.8  30.0  1.99  141.0\n",
       "2  1.000  3.13  60.0  20.0  2.00   96.0\n",
       "3  1.000  3.13  60.0  20.0  1.98  125.0\n",
       "4  1.625  3.13  43.2  10.0  2.01   43.0"
      ]
     },
     "execution_count": 6,
     "metadata": {
      "tags": []
     },
     "output_type": "execute_result"
    }
   ],
   "source": [
    "path='/content/T7-5.DAT.txt'\n",
    "df=pd.DataFrame(np.loadtxt(path))\n",
    "df.head()"
   ]
  },
  {
   "cell_type": "code",
   "execution_count": 7,
   "metadata": {
    "colab": {
     "base_uri": "https://localhost:8080/",
     "height": 204
    },
    "id": "v-ERK-A9PnlH",
    "outputId": "f80b9c14-b5d5-41ef-cfc0-c2d66f716b5f"
   },
   "outputs": [
    {
     "data": {
      "text/html": [
       "<div>\n",
       "<style scoped>\n",
       "    .dataframe tbody tr th:only-of-type {\n",
       "        vertical-align: middle;\n",
       "    }\n",
       "\n",
       "    .dataframe tbody tr th {\n",
       "        vertical-align: top;\n",
       "    }\n",
       "\n",
       "    .dataframe thead th {\n",
       "        text-align: right;\n",
       "    }\n",
       "</style>\n",
       "<table border=\"1\" class=\"dataframe\">\n",
       "  <thead>\n",
       "    <tr style=\"text-align: right;\">\n",
       "      <th></th>\n",
       "      <th>0</th>\n",
       "      <th>1</th>\n",
       "      <th>2</th>\n",
       "      <th>3</th>\n",
       "      <th>4</th>\n",
       "      <th>5</th>\n",
       "    </tr>\n",
       "  </thead>\n",
       "  <tbody>\n",
       "    <tr>\n",
       "      <th>0</th>\n",
       "      <td>0.375</td>\n",
       "      <td>3.13</td>\n",
       "      <td>60.0</td>\n",
       "      <td>40.0</td>\n",
       "      <td>2.00</td>\n",
       "      <td>4.615121</td>\n",
       "    </tr>\n",
       "    <tr>\n",
       "      <th>1</th>\n",
       "      <td>1.000</td>\n",
       "      <td>3.13</td>\n",
       "      <td>76.8</td>\n",
       "      <td>30.0</td>\n",
       "      <td>1.99</td>\n",
       "      <td>4.948760</td>\n",
       "    </tr>\n",
       "    <tr>\n",
       "      <th>2</th>\n",
       "      <td>1.000</td>\n",
       "      <td>3.13</td>\n",
       "      <td>60.0</td>\n",
       "      <td>20.0</td>\n",
       "      <td>2.00</td>\n",
       "      <td>4.564348</td>\n",
       "    </tr>\n",
       "    <tr>\n",
       "      <th>3</th>\n",
       "      <td>1.000</td>\n",
       "      <td>3.13</td>\n",
       "      <td>60.0</td>\n",
       "      <td>20.0</td>\n",
       "      <td>1.98</td>\n",
       "      <td>4.828314</td>\n",
       "    </tr>\n",
       "    <tr>\n",
       "      <th>4</th>\n",
       "      <td>1.625</td>\n",
       "      <td>3.13</td>\n",
       "      <td>43.2</td>\n",
       "      <td>10.0</td>\n",
       "      <td>2.01</td>\n",
       "      <td>3.761200</td>\n",
       "    </tr>\n",
       "  </tbody>\n",
       "</table>\n",
       "</div>"
      ],
      "text/plain": [
       "       0     1     2     3     4         5\n",
       "0  0.375  3.13  60.0  40.0  2.00  4.615121\n",
       "1  1.000  3.13  76.8  30.0  1.99  4.948760\n",
       "2  1.000  3.13  60.0  20.0  2.00  4.564348\n",
       "3  1.000  3.13  60.0  20.0  1.98  4.828314\n",
       "4  1.625  3.13  43.2  10.0  2.01  3.761200"
      ]
     },
     "execution_count": 7,
     "metadata": {
      "tags": []
     },
     "output_type": "execute_result"
    }
   ],
   "source": [
    "df.iloc[:,5]=np.log(df.iloc[:,5])\n",
    "df.head()"
   ]
  },
  {
   "cell_type": "code",
   "execution_count": 8,
   "metadata": {
    "id": "6nGM8D_-_04k"
   },
   "outputs": [],
   "source": [
    "def fit_linear_reg(X,Y):\n",
    "    #Fit linear regression model and return RSS and R squared values\n",
    "    model_k = linear_model.LinearRegression(fit_intercept = True)\n",
    "    model_k.fit(X,Y)\n",
    "    RSS = mean_squared_error(Y,model_k.predict(X)) * len(Y)\n",
    "    R_squared = model_k.score(X,Y)\n",
    "    return RSS, R_squared"
   ]
  },
  {
   "cell_type": "code",
   "execution_count": 9,
   "metadata": {
    "id": "fHP9qxQQ_c24"
   },
   "outputs": [],
   "source": [
    "#Initialization variables\n",
    "Y = df.iloc[:,5]\n",
    "X = df.iloc[:,:5]\n",
    "k = 5\n",
    "\n",
    "remaining_features = list(X.columns.values)\n",
    "features = []\n",
    "RSS_list, R_squared_list = [np.inf], [np.inf] #Due to 1 indexing of the loop...\n",
    "features_list = dict()\n",
    "\n",
    "for i in range(1,k+1):\n",
    "    best_RSS = np.inf\n",
    "    \n",
    "    for combo in itertools.combinations(remaining_features,1):\n",
    "\n",
    "            RSS = fit_linear_reg(X[list(combo) + features],Y)   #Store temp result \n",
    "\n",
    "            if RSS[0] < best_RSS:\n",
    "                best_RSS = RSS[0]\n",
    "                best_R_squared = RSS[1] \n",
    "                best_feature = combo[0]\n",
    "\n",
    "    #Updating variables for next loop\n",
    "    features.append(best_feature)\n",
    "    remaining_features.remove(best_feature)\n",
    "    \n",
    "    #Saving values for plotting\n",
    "    RSS_list.append(best_RSS)\n",
    "    R_squared_list.append(best_R_squared)\n",
    "    features_list[i] = features.copy()"
   ]
  },
  {
   "cell_type": "code",
   "execution_count": 10,
   "metadata": {
    "colab": {
     "base_uri": "https://localhost:8080/",
     "height": 136
    },
    "id": "qt4iK--3_6Uy",
    "outputId": "3beb5f34-7ba9-42b2-a4dc-4902271af167"
   },
   "outputs": [
    {
     "name": "stdout",
     "output_type": "stream",
     "text": [
      "Forward stepwise subset selection\n",
      "Number of features | Features | RSS\n"
     ]
    },
    {
     "data": {
      "text/plain": [
       "[(1, [3], 23.002033242783682),\n",
       " (2, [3, 1], 19.01410682028911),\n",
       " (3, [3, 1, 4], 17.039434517883574),\n",
       " (4, [3, 1, 4, 0], 16.523450642393016),\n",
       " (5, [3, 1, 4, 0, 2], 16.03179517635035)]"
      ]
     },
     "metadata": {
      "tags": []
     },
     "output_type": "display_data"
    }
   ],
   "source": [
    "print('Forward stepwise subset selection')\n",
    "print('Number of features |', 'Features |', 'RSS')\n",
    "display([(i,features_list[i], RSS_list[i]) for i in range(1,6)])"
   ]
  },
  {
   "cell_type": "markdown",
   "metadata": {
    "id": "IybTNeUuMx7i"
   },
   "source": [
    "Từ các bước trên, ta sẽ chọn subset gồm 2 feature là 1, 3."
   ]
  },
  {
   "cell_type": "code",
   "execution_count": 11,
   "metadata": {
    "id": "mji-1VqNlc9O"
   },
   "outputs": [],
   "source": [
    "#Construct Z, Y\n",
    "Z=np.concatenate(((np.ones((df.shape[0],1)),df.iloc[:,1:2],df.iloc[:,3:4])),axis=1)\n",
    "Y=df.iloc[:,5].values"
   ]
  },
  {
   "cell_type": "code",
   "execution_count": 12,
   "metadata": {
    "colab": {
     "base_uri": "https://localhost:8080/"
    },
    "id": "qaWp-7oznhhC",
    "outputId": "311b8e0f-45d0-4c71-f3d4-9a82b72d3ec3"
   },
   "outputs": [
    {
     "data": {
      "text/plain": [
       "array([ 2.75647514, -0.3218242 ,  0.11382396])"
      ]
     },
     "execution_count": 12,
     "metadata": {
      "tags": []
     },
     "output_type": "execute_result"
    }
   ],
   "source": [
    "a=np.linalg.inv(np.matmul(Z.T,Z))\n",
    "b=np.matmul(Z.T,Y)\n",
    "beta_hat=np.matmul(a,b)\n",
    "beta_hat"
   ]
  },
  {
   "cell_type": "markdown",
   "metadata": {
    "id": "gj7cWlzvM79n"
   },
   "source": [
    "Từ đây, phương trình hồi quy tuyến tính từ bộ tập con các biến phù hợp là: $ln(Y)=2.756 -0.322z_1+0.114z_3$"
   ]
  },
  {
   "cell_type": "markdown",
   "metadata": {
    "id": "cukzrsJxNZdT"
   },
   "source": [
    "Từ đây, ta có dự đoán cần tìm là."
   ]
  },
  {
   "cell_type": "code",
   "execution_count": 13,
   "metadata": {
    "colab": {
     "base_uri": "https://localhost:8080/"
    },
    "id": "jzSkHtAOn4pv",
    "outputId": "578840e3-6137-428c-dd4b-fdba8d7fc680"
   },
   "outputs": [
    {
     "data": {
      "text/plain": [
       "array([[6.30212399],\n",
       "       [5.16388435],\n",
       "       [4.0256447 ],\n",
       "       [4.0256447 ],\n",
       "       [2.88740506],\n",
       "       [4.0256447 ],\n",
       "       [4.0256447 ],\n",
       "       [2.28559381],\n",
       "       [2.28559381],\n",
       "       [4.5620731 ],\n",
       "       [3.42383346],\n",
       "       [2.28559381],\n",
       "       [3.49243454],\n",
       "       [3.49243454],\n",
       "       [5.76891384],\n",
       "       [2.3541949 ],\n",
       "       [5.76891384],\n",
       "       [4.63067419],\n",
       "       [5.16388435],\n",
       "       [4.0256447 ]])"
      ]
     },
     "execution_count": 13,
     "metadata": {
      "tags": []
     },
     "output_type": "execute_result"
    }
   ],
   "source": [
    "y_hat=np.matmul(Z,beta_hat).reshape(-1,1)\n",
    "y_hat"
   ]
  },
  {
   "cell_type": "markdown",
   "metadata": {
    "id": "XLAV0btgkgNE"
   },
   "source": [
    "### b) Vẽ sai số từ model đã fit ở phần a để kiểm tra giả định về tính chuẩn."
   ]
  },
  {
   "cell_type": "markdown",
   "metadata": {
    "id": "I7Iw6_oNNduk"
   },
   "source": [
    "Sai số residuals tìm được là: "
   ]
  },
  {
   "cell_type": "code",
   "execution_count": 14,
   "metadata": {
    "colab": {
     "base_uri": "https://localhost:8080/"
    },
    "id": "Yk_eB0-Dktp6",
    "outputId": "ac6cfdc0-f787-4f3b-9417-499940edb017"
   },
   "outputs": [
    {
     "data": {
      "text/plain": [
       "array([[-1.68700348],\n",
       "       [-0.21512446],\n",
       "       [ 0.53870349],\n",
       "       [ 0.80266903],\n",
       "       [ 0.87379506],\n",
       "       [-1.25305598],\n",
       "       [ 1.21079726],\n",
       "       [ 0.01699128],\n",
       "       [-1.18698152],\n",
       "       [ 1.39376427],\n",
       "       [ 0.38282903],\n",
       "       [-1.59244663],\n",
       "       [ 0.8382988 ],\n",
       "       [ 0.86427428],\n",
       "       [-0.69374002],\n",
       "       [-1.25558261],\n",
       "       [-0.39363543],\n",
       "       [-0.34021475],\n",
       "       [ 0.58550864],\n",
       "       [ 1.11015373]])"
      ]
     },
     "execution_count": 14,
     "metadata": {
      "tags": []
     },
     "output_type": "execute_result"
    }
   ],
   "source": [
    "residuals=Y.reshape(-1,1)-y_hat\n",
    "residuals"
   ]
  },
  {
   "cell_type": "code",
   "execution_count": 15,
   "metadata": {
    "colab": {
     "base_uri": "https://localhost:8080/",
     "height": 279
    },
    "id": "OnCPx0Cdop7Q",
    "outputId": "528699f6-c8e3-4769-fb3c-39bf3198ad39"
   },
   "outputs": [
    {
     "data": {
      "image/png": "[encoded data removed]",
      "text/plain": [
       "<Figure size 432x288 with 1 Axes>"
      ]
     },
     "metadata": {
      "needs_background": "light",
      "tags": []
     },
     "output_type": "display_data"
    }
   ],
   "source": [
    "import pylab\n",
    "import statsmodels.api as sm\n",
    "sm.qqplot(residuals,line='45')\n",
    "plt.show()"
   ]
  },
  {
   "cell_type": "markdown",
   "metadata": {
    "id": "al561896twdc"
   },
   "source": [
    "Ta nhận thấy đồ thị qq plot cho sai số residuals thì các điểm residuals không nằm fit trên đường thẳng. Nên ta không thể kết luận residuals tuân theo phân phối chuẩn."
   ]
  },
  {
   "cell_type": "markdown",
   "metadata": {
    "id": "fk1rk0uq1od8"
   },
   "source": [
    "### 7.21"
   ]
  },
  {
   "cell_type": "markdown",
   "metadata": {
    "id": "nzq6ZQ0wNnV5"
   },
   "source": [
    "### Xét bảng dữ liệu về ô nhiễm không khí ở bảng 1.5. Cho $Y_1= NO_2$ và $Y_2=O_3$ là 2 responses theo 2 biến là $Z_1$ = gió, $Z_2$ là bức xạ mặt trời."
   ]
  },
  {
   "cell_type": "markdown",
   "metadata": {
    "id": "9duGKREfSeDP"
   },
   "source": [
    "### (a) Thực hiện phân tích hồi quy sử dụng mối Y_1\n",
    "#(i) Đề xuất và fit model hồi quy tuyến tính phù hợp nhất\n",
    "\n",
    "#(ii) Phân tích residuals\n",
    "\n",
    "#(iii) Xây dựng khoảng tin cậy $95\\%$ cho $NO_2$ ứng với $z_1=10, z_2=80$"
   ]
  },
  {
   "cell_type": "code",
   "execution_count": 16,
   "metadata": {
    "id": "I043f5_v1nj7"
   },
   "outputs": [],
   "source": [
    "from scipy import stats \n",
    "def prediction_interval(X, y, z0, beta, alpha, name_y):\n",
    "    z0 = np.insert(z0, 0, 1, axis=0)\n",
    "    x = z0.dot(beta)\n",
    "    \n",
    "    n, r = X.shape\n",
    "    \n",
    "    t = stats.t.ppf(1-alpha/2, n-r-1)\n",
    "    z = np.concatenate([np.ones([X.shape[0],1]), X], axis=1)\n",
    "    zz = (z.T).dot(z)\n",
    "    y_hat = z.dot(beta)\n",
    "    epsilon = y - y_hat\n",
    "    s2 = (epsilon.dot(epsilon))/(n-r-1)\n",
    "    \n",
    "    c1 = t*np.sqrt(s2*(z0.dot(np.linalg.inv(zz).dot(z0))))\n",
    "    c2 = t*np.sqrt(s2*(1+z0.dot(np.linalg.inv(zz).dot(z0))))\n",
    "    \n",
    "    print(\">> {}% confidence interval for mean {} at {} is : ({}, {})\".format((1-alpha)*100, name_y, z0, x-c1, x+c1))\n",
    "    print(\"\\n>> {}% prediction interval for {} with conditions z_0 {} is : ({}, {})\".format((1-alpha)*100, name_y, z0, x-c2, x+c2))"
   ]
  },
  {
   "cell_type": "code",
   "execution_count": 17,
   "metadata": {
    "colab": {
     "base_uri": "https://localhost:8080/",
     "height": 204
    },
    "id": "lqe5mVVV1noG",
    "outputId": "e04857ca-dbfd-44b0-e8d3-db0d9e6fa89a"
   },
   "outputs": [
    {
     "data": {
      "text/html": [
       "<div>\n",
       "<style scoped>\n",
       "    .dataframe tbody tr th:only-of-type {\n",
       "        vertical-align: middle;\n",
       "    }\n",
       "\n",
       "    .dataframe tbody tr th {\n",
       "        vertical-align: top;\n",
       "    }\n",
       "\n",
       "    .dataframe thead th {\n",
       "        text-align: right;\n",
       "    }\n",
       "</style>\n",
       "<table border=\"1\" class=\"dataframe\">\n",
       "  <thead>\n",
       "    <tr style=\"text-align: right;\">\n",
       "      <th></th>\n",
       "      <th>0</th>\n",
       "      <th>1</th>\n",
       "      <th>2</th>\n",
       "      <th>3</th>\n",
       "      <th>4</th>\n",
       "      <th>5</th>\n",
       "      <th>6</th>\n",
       "    </tr>\n",
       "  </thead>\n",
       "  <tbody>\n",
       "    <tr>\n",
       "      <th>0</th>\n",
       "      <td>8.0</td>\n",
       "      <td>98.0</td>\n",
       "      <td>7.0</td>\n",
       "      <td>2.0</td>\n",
       "      <td>12.0</td>\n",
       "      <td>8.0</td>\n",
       "      <td>2.0</td>\n",
       "    </tr>\n",
       "    <tr>\n",
       "      <th>1</th>\n",
       "      <td>7.0</td>\n",
       "      <td>107.0</td>\n",
       "      <td>4.0</td>\n",
       "      <td>3.0</td>\n",
       "      <td>9.0</td>\n",
       "      <td>5.0</td>\n",
       "      <td>3.0</td>\n",
       "    </tr>\n",
       "    <tr>\n",
       "      <th>2</th>\n",
       "      <td>7.0</td>\n",
       "      <td>103.0</td>\n",
       "      <td>4.0</td>\n",
       "      <td>3.0</td>\n",
       "      <td>5.0</td>\n",
       "      <td>6.0</td>\n",
       "      <td>3.0</td>\n",
       "    </tr>\n",
       "    <tr>\n",
       "      <th>3</th>\n",
       "      <td>10.0</td>\n",
       "      <td>88.0</td>\n",
       "      <td>5.0</td>\n",
       "      <td>2.0</td>\n",
       "      <td>8.0</td>\n",
       "      <td>15.0</td>\n",
       "      <td>4.0</td>\n",
       "    </tr>\n",
       "    <tr>\n",
       "      <th>4</th>\n",
       "      <td>6.0</td>\n",
       "      <td>91.0</td>\n",
       "      <td>4.0</td>\n",
       "      <td>2.0</td>\n",
       "      <td>8.0</td>\n",
       "      <td>10.0</td>\n",
       "      <td>3.0</td>\n",
       "    </tr>\n",
       "  </tbody>\n",
       "</table>\n",
       "</div>"
      ],
      "text/plain": [
       "      0      1    2    3     4     5    6\n",
       "0   8.0   98.0  7.0  2.0  12.0   8.0  2.0\n",
       "1   7.0  107.0  4.0  3.0   9.0   5.0  3.0\n",
       "2   7.0  103.0  4.0  3.0   5.0   6.0  3.0\n",
       "3  10.0   88.0  5.0  2.0   8.0  15.0  4.0\n",
       "4   6.0   91.0  4.0  2.0   8.0  10.0  3.0"
      ]
     },
     "execution_count": 17,
     "metadata": {
      "tags": []
     },
     "output_type": "execute_result"
    }
   ],
   "source": [
    "path='/content/T1-5.dat.txt'\n",
    "df=pd.DataFrame(np.loadtxt(path))\n",
    "df.head()"
   ]
  },
  {
   "cell_type": "code",
   "execution_count": 18,
   "metadata": {
    "id": "9hLyMjNZ1nrp"
   },
   "outputs": [],
   "source": [
    "#Initialization variables\n",
    "Y = df.iloc[:,4]\n",
    "X = df.iloc[:,:2]\n",
    "k = 2\n",
    "\n",
    "remaining_features = list(X.columns.values)\n",
    "features = []\n",
    "RSS_list, R_squared_list = [np.inf], [np.inf] #Due to 1 indexing of the loop...\n",
    "features_list = dict()\n",
    "\n",
    "for i in range(1,k+1):\n",
    "    best_RSS = np.inf\n",
    "    \n",
    "    for combo in itertools.combinations(remaining_features,1):\n",
    "\n",
    "            RSS = fit_linear_reg(X[list(combo) + features],Y)   #Store temp result \n",
    "\n",
    "            if RSS[0] < best_RSS:\n",
    "                best_RSS = RSS[0]\n",
    "                best_R_squared = RSS[1] \n",
    "                best_feature = combo[0]\n",
    "\n",
    "    #Updating variables for next loop\n",
    "    features.append(best_feature)\n",
    "    remaining_features.remove(best_feature)\n",
    "    \n",
    "    #Saving values for plotting\n",
    "    RSS_list.append(best_RSS)\n",
    "    R_squared_list.append(best_R_squared)\n",
    "    features_list[i] = features.copy()"
   ]
  },
  {
   "cell_type": "code",
   "execution_count": 19,
   "metadata": {
    "colab": {
     "base_uri": "https://localhost:8080/",
     "height": 68
    },
    "id": "8nfx2kC31ntK",
    "outputId": "270a3ced-bf4e-4019-966b-53236f5b19c3"
   },
   "outputs": [
    {
     "name": "stdout",
     "output_type": "stream",
     "text": [
      "Forward stepwise subset selection\n",
      "Number of features | Features | RSS\n"
     ]
    },
    {
     "data": {
      "text/plain": [
       "[(1, [1], 459.6644830411526), (2, [1, 0], 455.1355817151742)]"
      ]
     },
     "metadata": {
      "tags": []
     },
     "output_type": "display_data"
    }
   ],
   "source": [
    "print('Forward stepwise subset selection')\n",
    "print('Number of features |', 'Features |', 'RSS')\n",
    "display([(i,features_list[i], RSS_list[i]) for i in range(1,3)])"
   ]
  },
  {
   "cell_type": "markdown",
   "metadata": {
    "id": "lWxhsED1Ykzb"
   },
   "source": [
    "Ta nhận thấy là RSS không quá khác biệt nên ta sẽ lấy cả hai biến."
   ]
  },
  {
   "cell_type": "code",
   "execution_count": 20,
   "metadata": {
    "id": "gtPHyt91YtjP"
   },
   "outputs": [],
   "source": [
    "#Construct Z, Y\n",
    "Z=np.concatenate(((np.ones((df.shape[0],1)),df.iloc[:,0:2])),axis=1)\n",
    "Y=df.iloc[:,4].values"
   ]
  },
  {
   "cell_type": "code",
   "execution_count": 21,
   "metadata": {
    "colab": {
     "base_uri": "https://localhost:8080/"
    },
    "id": "Lbd2Il7nYtlZ",
    "outputId": "1cd0b828-c1c0-436e-b67a-8c57912b65cc"
   },
   "outputs": [
    {
     "data": {
      "text/plain": [
       "array([10.11454142, -0.21129082,  0.02054992])"
      ]
     },
     "execution_count": 21,
     "metadata": {
      "tags": []
     },
     "output_type": "execute_result"
    }
   ],
   "source": [
    "a=np.linalg.inv(np.matmul(Z.T,Z))\n",
    "b=np.matmul(Z.T,Y)\n",
    "beta_hat=np.matmul(a,b)\n",
    "beta_hat"
   ]
  },
  {
   "cell_type": "markdown",
   "metadata": {
    "id": "NBBI_cBkdk-I"
   },
   "source": [
    "Từ đây, phương trình hồi quy tuyến tính từ bộ tập con các biến phù hợp là: $ln(Y)=10.115 -0.211z_0+0.0205z_1$"
   ]
  },
  {
   "cell_type": "code",
   "execution_count": 22,
   "metadata": {
    "colab": {
     "base_uri": "https://localhost:8080/"
    },
    "id": "InF2S36DYtnf",
    "outputId": "6deafa8c-5c54-42d9-ac88-9bcda6d6a425"
   },
   "outputs": [
    {
     "data": {
      "text/plain": [
       "array([[ 1.56189246],\n",
       "       [-1.83434768],\n",
       "       [-5.75214798],\n",
       "       [-1.81002666],\n",
       "       [-2.7168397 ],\n",
       "       [ 1.72629186],\n",
       "       [ 2.06088222],\n",
       "       [10.46231806],\n",
       "       [ 0.67940044],\n",
       "       [ 3.26058991],\n",
       "       [-0.3058412 ],\n",
       "       [ 1.2831603 ],\n",
       "       [ 7.88489969],\n",
       "       [ 1.55987199],\n",
       "       [-1.48122786],\n",
       "       [-0.7952683 ],\n",
       "       [-2.98600919],\n",
       "       [ 6.11674043],\n",
       "       [ 3.41023095],\n",
       "       [-0.6308689 ],\n",
       "       [ 4.72427139],\n",
       "       [-3.02131748],\n",
       "       [ 2.93179111],\n",
       "       [-4.67458509],\n",
       "       [-0.5524403 ],\n",
       "       [-3.15040859],\n",
       "       [ 0.55030933],\n",
       "       [-3.04765897],\n",
       "       [-1.12089187],\n",
       "       [-1.76198049],\n",
       "       [ 0.11674043],\n",
       "       [ 2.29589819],\n",
       "       [-2.04448374],\n",
       "       [-0.3880409 ],\n",
       "       [-2.72088064],\n",
       "       [-1.17095852],\n",
       "       [-4.82538089],\n",
       "       [ 2.17461911],\n",
       "       [-1.25894978],\n",
       "       [-2.25894978],\n",
       "       [ 0.75580858],\n",
       "       [-3.24621189]])"
      ]
     },
     "execution_count": 22,
     "metadata": {
      "tags": []
     },
     "output_type": "execute_result"
    }
   ],
   "source": [
    "y_hat=np.matmul(Z,beta_hat).reshape(-1,1)\n",
    "residuals=Y.reshape(-1,1)-y_hat\n",
    "residuals"
   ]
  },
  {
   "cell_type": "code",
   "execution_count": 23,
   "metadata": {
    "colab": {
     "base_uri": "https://localhost:8080/",
     "height": 279
    },
    "id": "cuaSACD-Ytp3",
    "outputId": "2b84d8dd-0a0b-4bff-858b-d1129b4a85c6"
   },
   "outputs": [
    {
     "data": {
      "image/png": "[encoded data removed]",
      "text/plain": [
       "<Figure size 432x288 with 1 Axes>"
      ]
     },
     "metadata": {
      "needs_background": "light",
      "tags": []
     },
     "output_type": "display_data"
    }
   ],
   "source": [
    "sm.qqplot(residuals,line='r')\n",
    "plt.show()"
   ]
  },
  {
   "cell_type": "markdown",
   "metadata": {
    "id": "kVYtBXDeemzf"
   },
   "source": [
    "Có vẻ như residuals không tuân theo phân phối chuẩn."
   ]
  },
  {
   "cell_type": "code",
   "execution_count": 24,
   "metadata": {
    "colab": {
     "base_uri": "https://localhost:8080/"
    },
    "id": "Pjgh-DDmYtsH",
    "outputId": "6f99c587-68ba-44f9-fac3-2861a553242a"
   },
   "outputs": [
    {
     "name": "stdout",
     "output_type": "stream",
     "text": [
      ">> 95.0% confidence interval for mean y_1 at [ 1 10 80] is : (7.557589248117703, 11.733665278263036)\n",
      "\n",
      ">> 95.0% prediction interval for y_1 with conditions z_0 [ 1 10 80] is : (2.4271988553043835, 16.864055671076358)\n"
     ]
    }
   ],
   "source": [
    "z0=np.array([10,80]).T\n",
    "beta=beta_hat\n",
    "alpha=0.05\n",
    "name_y='y_1'\n",
    "prediction_interval(X, Y, z0, beta, alpha, name_y)"
   ]
  },
  {
   "cell_type": "markdown",
   "metadata": {
    "id": "2ca2nyH3jrxv"
   },
   "source": [
    "### (b) Thực hiện phân tích hồi quy nhiều bién sử dụng cả 2 responses $Y_1$, $Y_2$.\n",
    "\n",
    "#(i) Đề xuất và vẽ model hồi quy tuyến tính phù hợp\n",
    "\n",
    "#(ii) Phân tích residuals\n",
    "\n",
    "#(iii) Xây dựng $95\\%$ hình ellipse dự đoán cho cả $NO_2, O_3$ cho $z_1=10, z_2=80$. So sánh ellipse này với khoảng đự đoán ở phần a. Bình luận."
   ]
  },
  {
   "cell_type": "code",
   "execution_count": 25,
   "metadata": {
    "colab": {
     "base_uri": "https://localhost:8080/"
    },
    "id": "vxUiwNfyYtu5",
    "outputId": "c2c27bc9-e2bf-41f7-9f5d-7cb3a980a106"
   },
   "outputs": [
    {
     "data": {
      "text/plain": [
       "array([[10.11454142,  8.27619196],\n",
       "       [-0.21129082, -0.78682381],\n",
       "       [ 0.02054992,  0.09518035]])"
      ]
     },
     "execution_count": 25,
     "metadata": {
      "tags": []
     },
     "output_type": "execute_result"
    }
   ],
   "source": [
    "#Construct Z, Y\n",
    "Z=np.concatenate(((np.ones((df.shape[0],1)),df.iloc[:,0:2])),axis=1)\n",
    "Y=df.iloc[:,4:6].values\n",
    "\n",
    "a=np.linalg.inv(np.matmul(Z.T,Z))\n",
    "b=np.matmul(Z.T,Y)\n",
    "beta_hat=np.matmul(a,b)\n",
    "beta_hat\n",
    "\n"
   ]
  },
  {
   "cell_type": "code",
   "execution_count": 26,
   "metadata": {
    "colab": {
     "base_uri": "https://localhost:8080/"
    },
    "id": "QrPYbkkAYtw_",
    "outputId": "472a538a-b8cf-40d0-f6bb-b975a407942d"
   },
   "outputs": [
    {
     "data": {
      "text/plain": [
       "array([[ 1.56189246, -3.30927553],\n",
       "       [-1.83434768, -7.95272247],\n",
       "       [-5.75214798, -6.57200108],\n",
       "       [-1.81002666,  6.21617556],\n",
       "       [-2.7168397 , -2.21666072],\n",
       "       [ 1.72629186,  1.45216725],\n",
       "       [ 2.06088222,  5.81007314],\n",
       "       [10.46231806,  2.80494208],\n",
       "       [ 0.67940044,  0.42678622],\n",
       "       [ 3.26058991,  0.92685628],\n",
       "       [-0.3058412 , -7.31305377],\n",
       "       [ 1.2831603 , -5.21666072],\n",
       "       [ 7.88489969,  0.37858969],\n",
       "       [ 1.55987199, -0.07057819],\n",
       "       [-1.48122786,  2.73906112],\n",
       "       [-0.7952683 ,  1.47633557],\n",
       "       [-2.98600919, -2.21530789],\n",
       "       [ 6.11674043, -4.73940615],\n",
       "       [ 3.41023095, -5.57186095],\n",
       "       [-0.6308689 , -2.76222165],\n",
       "       [ 4.72427139, -2.30913541],\n",
       "       [-3.02131748, -3.57064825],\n",
       "       [ 2.93179111,  1.40397072],\n",
       "       [-4.67458509, -5.19748333],\n",
       "       [-0.5524403 , 11.54478206],\n",
       "       [-3.15040859, -3.97675067],\n",
       "       [ 0.55030933,  0.0206838 ],\n",
       "       [-3.04765897,  0.49915107],\n",
       "       [-1.12089187, -1.45643064],\n",
       "       [-1.76198049, -1.92962672],\n",
       "       [ 0.11674043, -1.73940615],\n",
       "       [ 2.29589819,  0.28219664],\n",
       "       [-2.04448374, -4.91072959],\n",
       "       [-0.3880409 , 13.30622484],\n",
       "       [-2.72088064,  5.26073397],\n",
       "       [-1.17095852, -0.07193101],\n",
       "       [-4.82538089, -0.52758279],\n",
       "       [ 2.17461911,  5.47241721],\n",
       "       [-1.25894978, 14.71232726],\n",
       "       [-2.25894978, -4.28767274],\n",
       "       [ 0.75580858,  3.97248727],\n",
       "       [-3.24621189, -0.78881538]])"
      ]
     },
     "execution_count": 26,
     "metadata": {
      "tags": []
     },
     "output_type": "execute_result"
    }
   ],
   "source": [
    "y_hat=np.matmul(Z,beta_hat)\n",
    "residuals=Y-y_hat\n",
    "residuals"
   ]
  },
  {
   "cell_type": "code",
   "execution_count": 27,
   "metadata": {
    "colab": {
     "base_uri": "https://localhost:8080/"
    },
    "id": "9_e6VhrgsQKu",
    "outputId": "107a3e83-0696-4369-bd11-bf319cf058ba"
   },
   "outputs": [
    {
     "data": {
      "text/plain": [
       "array([[10.83656147,  1.97415605],\n",
       "       [ 1.97415605, 25.66586379]])"
      ]
     },
     "execution_count": 27,
     "metadata": {
      "tags": []
     },
     "output_type": "execute_result"
    }
   ],
   "source": [
    "z0=np.array([[1,10,80]]).T\n",
    "sigma=1/Y.shape[0]*np.matmul((Y-np.matmul(Z,beta_hat)).T,Y-np.matmul(Z,beta_hat))\n",
    "sigma"
   ]
  },
  {
   "cell_type": "code",
   "execution_count": 28,
   "metadata": {
    "colab": {
     "base_uri": "https://localhost:8080/"
    },
    "id": "PozksnqPuR7Z",
    "outputId": "7fd64329-8e0f-4369-ff2f-63c5005523ba"
   },
   "outputs": [
    {
     "data": {
      "text/plain": [
       "array([[9.64562726],\n",
       "       [8.02238166]])"
      ]
     },
     "execution_count": 28,
     "metadata": {
      "tags": []
     },
     "output_type": "execute_result"
    }
   ],
   "source": [
    "beta_hat_z_0=np.matmul(beta_hat.T,z0)\n",
    "beta_hat_z_0"
   ]
  },
  {
   "cell_type": "code",
   "execution_count": 29,
   "metadata": {
    "id": "eotUA5JNYt1I"
   },
   "outputs": [],
   "source": [
    "from matplotlib.patches import Ellipse, Rectangle\n",
    "def get_cov_ellipse(cov, centre, nstd, eig = False, **kwargs):\n",
    "    \"\"\"\n",
    "    Return a matplotlib Ellipse patch representing the covariance matrix\n",
    "    cov centred at centre and scaled by the factor nstd.\n",
    "\n",
    "    \"\"\"\n",
    "\n",
    "    # Find and sort eigenvalues and eigenvectors into descending order\n",
    "    eigvals, eigvecs = np.linalg.eigh(cov)\n",
    "    order = eigvals.argsort()[::-1]\n",
    "    eigvals, eigvecs = eigvals[order], eigvecs[:, order]\n",
    "    # The anti-clockwise angle to rotate our ellipse by \n",
    "    vx, vy = eigvecs[:,0][0], eigvecs[:,0][1]\n",
    "    theta = np.arctan2(vy, vx)\n",
    "\n",
    "    # Width and height of ellipse to draw\n",
    "    width, height = 2 * nstd * np.sqrt(eigvals)\n",
    "    if eig:\n",
    "        return Ellipse(xy=centre, width=width, height=height,\n",
    "                   angle=np.degrees(theta), **kwargs), eigvals, eigvecs\n",
    "    else: \n",
    "        return Ellipse(xy=centre, width=width, height=height,\n",
    "                   angle=np.degrees(theta), **kwargs)\n",
    "    \n",
    "def simultaneous_ci_2d(IC_1, IC_2, **kwargs):\n",
    "    height = IC_2[1]-IC_2[0]\n",
    "    width = IC_1[1]-IC_1[0]\n",
    "    point = [IC_1[0],IC_2[0]]\n",
    "    return Rectangle(point, width, height, **kwargs)"
   ]
  },
  {
   "cell_type": "code",
   "execution_count": 30,
   "metadata": {
    "colab": {
     "base_uri": "https://localhost:8080/"
    },
    "id": "oOPBai4QYt3x",
    "outputId": "f7fab990-283d-4757-e87d-aa1dc520b0a0"
   },
   "outputs": [
    {
     "data": {
      "text/plain": [
       "array([[7.26861181]])"
      ]
     },
     "execution_count": 30,
     "metadata": {
      "tags": []
     },
     "output_type": "execute_result"
    }
   ],
   "source": [
    "n=Y.shape[0]\n",
    "r=2\n",
    "m=2\n",
    "alpha=0.05\n",
    "f = stats.f.ppf(q=1-alpha, dfn=m, dfd=n-r-m)\n",
    "value=np.matmul(z0.T,np.matmul(np.linalg.inv(np.matmul(Z.T,Z)),z0))\n",
    "critical_value=(1+value)*m*(n-r-1)/(n-r-m)*f\n",
    "critical_value"
   ]
  },
  {
   "cell_type": "code",
   "execution_count": 31,
   "metadata": {
    "colab": {
     "base_uri": "https://localhost:8080/",
     "height": 284
    },
    "id": "wPDdUG1J0TiJ",
    "outputId": "afb400a8-e388-401e-e600-aaf487b97c19"
   },
   "outputs": [
    {
     "data": {
      "text/plain": [
       "<matplotlib.patches.Ellipse at 0x7f1ae995a950>"
      ]
     },
     "execution_count": 31,
     "metadata": {
      "tags": []
     },
     "output_type": "execute_result"
    },
    {
     "data": {
      "image/png": "[encoded data removed]",
      "text/plain": [
       "<Figure size 432x288 with 1 Axes>"
      ]
     },
     "metadata": {
      "needs_background": "light",
      "tags": []
     },
     "output_type": "display_data"
    }
   ],
   "source": [
    "#(2.4271988553043835, 16.864055671076358)\n",
    "fig, ax = plt.subplots()\n",
    "e = get_cov_ellipse(n/(n-r-1)*sigma, beta_hat_z_0, critical_value.item(), edgecolor='red', facecolor='None')\n",
    "ax.scatter(beta_hat_z_0[0], beta_hat_z_0[1], c='blue', s=25)\n",
    "ax.add_patch(e)"
   ]
  },
  {
   "cell_type": "markdown",
   "metadata": {
    "id": "-5BNTn8B8iy5"
   },
   "source": [
    "Nhìn vào hình ellipse trên, ta thấy khoảng dự đoán (2.4271988553043835, 16.864055671076358) ở câu a cũng nằm trong ellipse trên."
   ]
  },
  {
   "cell_type": "markdown",
   "metadata": {
    "id": "dAFM5wL184eV"
   },
   "source": [
    "### 7.26"
   ]
  },
  {
   "cell_type": "markdown",
   "metadata": {
    "id": "cZtzZIzY86e_"
   },
   "source": [
    "Phép đo về tính chất của sợi bột giấy và giấy làm từ chúng được chứa trong bảng 7.7. Có $n=62$ quan trắc của tính chất sợi bột giấy, $z_1$ là chiều dài đại số của sợi, $z_2$ là mảnh sợi dài, $z_3$ là mảnh sợi vừa, $z_4$ là sức kéo không nhịp và tính chất của giấy. $y_1$ là chiều dài breaking, $y_2$ là mođun đàn hồi, $y_3$ là áp lực ở failure, $y_4$ là sức bung."
   ]
  },
  {
   "cell_type": "markdown",
   "metadata": {
    "id": "9y-YJtTK-pQK"
   },
   "source": [
    "### (a) Thực hiện phân tích hồi quy sử dụng mỗi response variables $Y_1, Y_2, Y_3, Y_4$.\n",
    "\n",
    "#(i) Đề xuất và fit model hồi quy tuyến tính phù hợp\n",
    "\n",
    "#(ii) Phân tích residuals. Kiểm tra các điểm ngoại lai hay quan trắc có leverage cao.\n",
    "\n",
    "#(iii) Xây dựng khoảng dự đoán $95\\%$ cho SF($Y_3$) cho $z_1=.330, z_2=45.500, z_3=20.375, z_4=1.010$\n",
    "\n"
   ]
  },
  {
   "cell_type": "markdown",
   "metadata": {
    "id": "OH-PSGpKBrmk"
   },
   "source": [
    "### Với $Y_1$"
   ]
  },
  {
   "cell_type": "code",
   "execution_count": 32,
   "metadata": {
    "colab": {
     "base_uri": "https://localhost:8080/",
     "height": 0
    },
    "id": "73317Df681do",
    "outputId": "45d3d0ca-4275-4610-ab5f-9febc01020fc"
   },
   "outputs": [
    {
     "data": {
      "text/html": [
       "<div>\n",
       "<style scoped>\n",
       "    .dataframe tbody tr th:only-of-type {\n",
       "        vertical-align: middle;\n",
       "    }\n",
       "\n",
       "    .dataframe tbody tr th {\n",
       "        vertical-align: top;\n",
       "    }\n",
       "\n",
       "    .dataframe thead th {\n",
       "        text-align: right;\n",
       "    }\n",
       "</style>\n",
       "<table border=\"1\" class=\"dataframe\">\n",
       "  <thead>\n",
       "    <tr style=\"text-align: right;\">\n",
       "      <th></th>\n",
       "      <th>0</th>\n",
       "      <th>1</th>\n",
       "      <th>2</th>\n",
       "      <th>3</th>\n",
       "      <th>4</th>\n",
       "      <th>5</th>\n",
       "      <th>6</th>\n",
       "      <th>7</th>\n",
       "    </tr>\n",
       "  </thead>\n",
       "  <tbody>\n",
       "    <tr>\n",
       "      <th>0</th>\n",
       "      <td>21.312</td>\n",
       "      <td>7.039</td>\n",
       "      <td>5.326</td>\n",
       "      <td>0.932</td>\n",
       "      <td>-0.030</td>\n",
       "      <td>35.239</td>\n",
       "      <td>36.991</td>\n",
       "      <td>1.057</td>\n",
       "    </tr>\n",
       "    <tr>\n",
       "      <th>1</th>\n",
       "      <td>21.206</td>\n",
       "      <td>6.979</td>\n",
       "      <td>5.237</td>\n",
       "      <td>0.871</td>\n",
       "      <td>0.015</td>\n",
       "      <td>35.713</td>\n",
       "      <td>36.851</td>\n",
       "      <td>1.064</td>\n",
       "    </tr>\n",
       "    <tr>\n",
       "      <th>2</th>\n",
       "      <td>20.709</td>\n",
       "      <td>6.779</td>\n",
       "      <td>5.060</td>\n",
       "      <td>0.742</td>\n",
       "      <td>0.025</td>\n",
       "      <td>39.220</td>\n",
       "      <td>30.586</td>\n",
       "      <td>1.053</td>\n",
       "    </tr>\n",
       "    <tr>\n",
       "      <th>3</th>\n",
       "      <td>19.542</td>\n",
       "      <td>6.601</td>\n",
       "      <td>4.479</td>\n",
       "      <td>0.513</td>\n",
       "      <td>0.030</td>\n",
       "      <td>39.756</td>\n",
       "      <td>21.072</td>\n",
       "      <td>1.050</td>\n",
       "    </tr>\n",
       "    <tr>\n",
       "      <th>4</th>\n",
       "      <td>20.449</td>\n",
       "      <td>6.795</td>\n",
       "      <td>4.912</td>\n",
       "      <td>0.577</td>\n",
       "      <td>-0.070</td>\n",
       "      <td>32.991</td>\n",
       "      <td>36.570</td>\n",
       "      <td>1.049</td>\n",
       "    </tr>\n",
       "  </tbody>\n",
       "</table>\n",
       "</div>"
      ],
      "text/plain": [
       "        0      1      2      3      4       5       6      7\n",
       "0  21.312  7.039  5.326  0.932 -0.030  35.239  36.991  1.057\n",
       "1  21.206  6.979  5.237  0.871  0.015  35.713  36.851  1.064\n",
       "2  20.709  6.779  5.060  0.742  0.025  39.220  30.586  1.053\n",
       "3  19.542  6.601  4.479  0.513  0.030  39.756  21.072  1.050\n",
       "4  20.449  6.795  4.912  0.577 -0.070  32.991  36.570  1.049"
      ]
     },
     "execution_count": 32,
     "metadata": {
      "tags": []
     },
     "output_type": "execute_result"
    }
   ],
   "source": [
    "path='/content/T7-7.dat.txt'\n",
    "df=pd.DataFrame(np.loadtxt(path))\n",
    "df.head()"
   ]
  },
  {
   "cell_type": "code",
   "execution_count": 33,
   "metadata": {
    "colab": {
     "base_uri": "https://localhost:8080/",
     "height": 0
    },
    "id": "1H-Vh_ZqCEr_",
    "outputId": "bbb016eb-580e-44a6-f9bf-b9409ec40005"
   },
   "outputs": [
    {
     "name": "stdout",
     "output_type": "stream",
     "text": [
      "Forward stepwise subset selection\n",
      "Number of features | Features | RSS\n"
     ]
    },
    {
     "data": {
      "text/plain": [
       "[(1, [7], 164.44266543562688),\n",
       " (2, [7, 6], 150.50761700883078),\n",
       " (3, [7, 6, 5], 133.86611977637446),\n",
       " (4, [7, 6, 5, 4], 127.90660997477761)]"
      ]
     },
     "metadata": {
      "tags": []
     },
     "output_type": "display_data"
    },
    {
     "name": "stdout",
     "output_type": "stream",
     "text": [
      "beta_hat:  [-7.01168077e+01  5.93005155e-02  5.55210176e-02  8.25302467e+01]\n"
     ]
    }
   ],
   "source": [
    "#Initialization variables\n",
    "Y = df.iloc[:,0]\n",
    "X = df.iloc[:,4:]\n",
    "k = 4\n",
    "\n",
    "remaining_features = list(X.columns.values)\n",
    "features = []\n",
    "RSS_list, R_squared_list = [np.inf], [np.inf] #Due to 1 indexing of the loop...\n",
    "features_list = dict()\n",
    "\n",
    "for i in range(1,k+1):\n",
    "    best_RSS = np.inf\n",
    "    \n",
    "    for combo in itertools.combinations(remaining_features,1):\n",
    "\n",
    "            RSS = fit_linear_reg(X[list(combo) + features],Y)   #Store temp result \n",
    "\n",
    "            if RSS[0] < best_RSS:\n",
    "                best_RSS = RSS[0]\n",
    "                best_R_squared = RSS[1] \n",
    "                best_feature = combo[0]\n",
    "\n",
    "    #Updating variables for next loop\n",
    "    features.append(best_feature)\n",
    "    remaining_features.remove(best_feature)\n",
    "    \n",
    "    #Saving values for plotting\n",
    "    RSS_list.append(best_RSS)\n",
    "    R_squared_list.append(best_R_squared)\n",
    "    features_list[i] = features.copy()\n",
    "\n",
    "print('Forward stepwise subset selection')\n",
    "print('Number of features |', 'Features |', 'RSS')\n",
    "display([(i,features_list[i], RSS_list[i]) for i in range(1,5)])\n",
    "\n",
    "#Theo stepwise, ta sẽ chọn 3 ẩn 5,6,7\n",
    "\n",
    "#Construct Z, Y\n",
    "Z=np.concatenate(((np.ones((df.shape[0],1)),df.iloc[:,5:])),axis=1)\n",
    "Y=df.iloc[:,0].values\n",
    "\n",
    "#Fit the model\n",
    "a=np.linalg.inv(np.matmul(Z.T,Z))\n",
    "b=np.matmul(Z.T,Y)\n",
    "beta_hat=np.matmul(a,b)\n",
    "print('beta_hat: ',beta_hat)\n",
    "\n"
   ]
  },
  {
   "cell_type": "markdown",
   "metadata": {
    "id": "6V44lgHZDisl"
   },
   "source": [
    "Từ đây, model fit sẽ là $Y_1=-70.1+0.0593z_2+0.0552z_3+82.53z_4$"
   ]
  },
  {
   "cell_type": "code",
   "execution_count": 34,
   "metadata": {
    "colab": {
     "base_uri": "https://localhost:8080/"
    },
    "id": "JinLKYC3DqkD",
    "outputId": "be6882c3-b627-42b2-8c02-d887b8f444bc"
   },
   "outputs": [
    {
     "name": "stdout",
     "output_type": "stream",
     "text": [
      "(array([50, 51, 55]),)\n",
      "Observation 17 has high leverage\n",
      "Observation 56 has high leverage\n",
      "Observation 57 has high leverage\n",
      "Observation 58 has high leverage\n",
      "Observation 59 has high leverage\n",
      "Observation 60 has high leverage\n",
      "Observation 61 has high leverage\n"
     ]
    }
   ],
   "source": [
    "y_hat=np.matmul(Z,beta_hat)\n",
    "residuals=Y-y_hat\n",
    "Q1 = pd.DataFrame(residuals).quantile(0.25).item()\n",
    "Q3 = pd.DataFrame(residuals).quantile(0.75).item()\n",
    "IQR = Q3 - Q1\n",
    "print(np.where((residuals < (Q1 - 1.5 * IQR)) |(residuals > (Q3 + 1.5 * IQR))))\n",
    "#Do đó, ta có các quan trắc 50,51,55 có residuals làm điểm ngoại lai\n",
    "\n",
    "H=np.matmul(Z,np.linalg.inv(np.matmul(Z.T,Z)))\n",
    "H=np.matmul(H,Z.T)\n",
    "for i in range(H.shape[0]):\n",
    "  if H[i][i]>=0.1:\n",
    "    print('Observation {} has high leverage'.format(i))"
   ]
  },
  {
   "cell_type": "markdown",
   "metadata": {
    "id": "8HC0y7nAMXCx"
   },
   "source": [
    "### Với $Y_2$"
   ]
  },
  {
   "cell_type": "code",
   "execution_count": 35,
   "metadata": {
    "colab": {
     "base_uri": "https://localhost:8080/",
     "height": 0
    },
    "id": "D1osKHNkMU5S",
    "outputId": "c53448ba-ba75-4e56-9f66-3737cef20464"
   },
   "outputs": [
    {
     "name": "stdout",
     "output_type": "stream",
     "text": [
      "Forward stepwise subset selection\n",
      "Number of features | Features | RSS\n"
     ]
    },
    {
     "data": {
      "text/plain": [
       "[(1, [7], 8.711282414469641),\n",
       " (2, [7, 4], 7.352405827890526),\n",
       " (3, [7, 4, 6], 6.8999708644712525),\n",
       " (4, [7, 4, 6, 5], 6.717485571301179)]"
      ]
     },
     "metadata": {
      "tags": []
     },
     "output_type": "display_data"
    },
    {
     "name": "stdout",
     "output_type": "stream",
     "text": [
      "beta_hat:  [-21.59804537  -0.96396551  27.03701768]\n"
     ]
    }
   ],
   "source": [
    "#Initialization variables\n",
    "Y = df.iloc[:,1]\n",
    "X = df.iloc[:,4:]\n",
    "k = 4\n",
    "\n",
    "remaining_features = list(X.columns.values)\n",
    "features = []\n",
    "RSS_list, R_squared_list = [np.inf], [np.inf] #Due to 1 indexing of the loop...\n",
    "features_list = dict()\n",
    "\n",
    "for i in range(1,k+1):\n",
    "    best_RSS = np.inf\n",
    "    \n",
    "    for combo in itertools.combinations(remaining_features,1):\n",
    "\n",
    "            RSS = fit_linear_reg(X[list(combo) + features],Y)   #Store temp result \n",
    "\n",
    "            if RSS[0] < best_RSS:\n",
    "                best_RSS = RSS[0]\n",
    "                best_R_squared = RSS[1] \n",
    "                best_feature = combo[0]\n",
    "\n",
    "    #Updating variables for next loop\n",
    "    features.append(best_feature)\n",
    "    remaining_features.remove(best_feature)\n",
    "    \n",
    "    #Saving values for plotting\n",
    "    RSS_list.append(best_RSS)\n",
    "    R_squared_list.append(best_R_squared)\n",
    "    features_list[i] = features.copy()\n",
    "\n",
    "print('Forward stepwise subset selection')\n",
    "print('Number of features |', 'Features |', 'RSS')\n",
    "display([(i,features_list[i], RSS_list[i]) for i in range(1,5)])\n",
    "\n",
    "#Theo stepwise, ta sẽ chọn 2 ẩn 4 và 7\n",
    "\n",
    "#Construct Z, Y\n",
    "Z=np.concatenate(((np.ones((df.shape[0],1)),df.iloc[:,4:5],df.iloc[:,7:])),axis=1)\n",
    "Y=df.iloc[:,1].values\n",
    "\n",
    "#Fit the model\n",
    "a=np.linalg.inv(np.matmul(Z.T,Z))\n",
    "b=np.matmul(Z.T,Y)\n",
    "beta_hat=np.matmul(a,b)\n",
    "print('beta_hat: ',beta_hat)\n"
   ]
  },
  {
   "cell_type": "markdown",
   "metadata": {
    "id": "ZS79eWuxNYaP"
   },
   "source": [
    "Từ đây, model fit sẽ là $Y_2=-21.6-0.964z_1+27.04z_4$"
   ]
  },
  {
   "cell_type": "code",
   "execution_count": 36,
   "metadata": {
    "colab": {
     "base_uri": "https://localhost:8080/"
    },
    "id": "Hj6cUJ6INuPp",
    "outputId": "02f6c7e4-cb0d-4313-a158-9154f3a5f3a1"
   },
   "outputs": [
    {
     "name": "stdout",
     "output_type": "stream",
     "text": [
      "(array([32]),)\n",
      "Observation 17 has high leverage\n",
      "Observation 55 has high leverage\n",
      "Observation 56 has high leverage\n",
      "Observation 57 has high leverage\n",
      "Observation 58 has high leverage\n",
      "Observation 59 has high leverage\n"
     ]
    }
   ],
   "source": [
    "y_hat=np.matmul(Z,beta_hat)\n",
    "residuals=Y-y_hat\n",
    "Q1 = pd.DataFrame(residuals).quantile(0.25).item()\n",
    "Q3 = pd.DataFrame(residuals).quantile(0.75).item()\n",
    "IQR = Q3 - Q1\n",
    "print(np.where((residuals < (Q1 - 1.5 * IQR)) |(residuals > (Q3 + 1.5 * IQR))))\n",
    "#Do đó, ta có các quan trắc 32 có residuals làm điểm ngoại lai\n",
    "\n",
    "H=np.matmul(Z,np.linalg.inv(np.matmul(Z.T,Z)))\n",
    "H=np.matmul(H,Z.T)\n",
    "for i in range(H.shape[0]):\n",
    "  if H[i][i]>=0.1:\n",
    "    print('Observation {} has high leverage'.format(i))"
   ]
  },
  {
   "cell_type": "markdown",
   "metadata": {
    "id": "wTqmOwnSN0Gg"
   },
   "source": [
    "### Với $Y_3$"
   ]
  },
  {
   "cell_type": "code",
   "execution_count": 37,
   "metadata": {
    "colab": {
     "base_uri": "https://localhost:8080/",
     "height": 0
    },
    "id": "03k5eelqODXk",
    "outputId": "f9621795-351b-48b9-92bd-001c3f1336ba"
   },
   "outputs": [
    {
     "name": "stdout",
     "output_type": "stream",
     "text": [
      "Forward stepwise subset selection\n",
      "Number of features | Features | RSS\n"
     ]
    },
    {
     "data": {
      "text/plain": [
       "[(1, [7], 32.83525706078822),\n",
       " (2, [7, 6], 29.151273235206947),\n",
       " (3, [7, 6, 5], 25.226221653728466),\n",
       " (4, [7, 6, 5, 4], 23.87522258737808)]"
      ]
     },
     "metadata": {
      "tags": []
     },
     "output_type": "display_data"
    },
    {
     "name": "stdout",
     "output_type": "stream",
     "text": [
      "beta_hat:  [-4.38040557e+01  2.87995004e-02  2.82155567e-02  4.45860407e+01]\n"
     ]
    }
   ],
   "source": [
    "#Initialization variables\n",
    "Y = df.iloc[:,2]\n",
    "X = df.iloc[:,4:]\n",
    "k = 4\n",
    "\n",
    "remaining_features = list(X.columns.values)\n",
    "features = []\n",
    "RSS_list, R_squared_list = [np.inf], [np.inf] #Due to 1 indexing of the loop...\n",
    "features_list = dict()\n",
    "\n",
    "for i in range(1,k+1):\n",
    "    best_RSS = np.inf\n",
    "    \n",
    "    for combo in itertools.combinations(remaining_features,1):\n",
    "\n",
    "            RSS = fit_linear_reg(X[list(combo) + features],Y)   #Store temp result \n",
    "\n",
    "            if RSS[0] < best_RSS:\n",
    "                best_RSS = RSS[0]\n",
    "                best_R_squared = RSS[1] \n",
    "                best_feature = combo[0]\n",
    "\n",
    "    #Updating variables for next loop\n",
    "    features.append(best_feature)\n",
    "    remaining_features.remove(best_feature)\n",
    "    \n",
    "    #Saving values for plotting\n",
    "    RSS_list.append(best_RSS)\n",
    "    R_squared_list.append(best_R_squared)\n",
    "    features_list[i] = features.copy()\n",
    "\n",
    "print('Forward stepwise subset selection')\n",
    "print('Number of features |', 'Features |', 'RSS')\n",
    "display([(i,features_list[i], RSS_list[i]) for i in range(1,5)])\n",
    "\n",
    "#Từ stepwise ta sẽ chọn 3 ẩn là 5, 6, 7\n",
    "\n",
    "#Construct Z, Y\n",
    "Z=np.concatenate(((np.ones((df.shape[0],1)),df.iloc[:,5:])),axis=1)\n",
    "Y=df.iloc[:,2].values\n",
    "\n",
    "#Fit the model\n",
    "a=np.linalg.inv(np.matmul(Z.T,Z))\n",
    "b=np.matmul(Z.T,Y)\n",
    "beta_hat_3=np.matmul(a,b)\n",
    "print('beta_hat: ',beta_hat_3)"
   ]
  },
  {
   "cell_type": "markdown",
   "metadata": {
    "id": "w_MXMr1_Opbv"
   },
   "source": [
    "Từ đây, model fit sẽ là $Y_3=-43.8-0.0288z_2+0.0282z_3+44.6z_4$"
   ]
  },
  {
   "cell_type": "code",
   "execution_count": 38,
   "metadata": {
    "colab": {
     "base_uri": "https://localhost:8080/"
    },
    "id": "vyg06gBMODaS",
    "outputId": "5f47ed60-1318-43ad-ae7d-b994d1e08591"
   },
   "outputs": [
    {
     "name": "stdout",
     "output_type": "stream",
     "text": [
      "(array([51, 55]),)\n",
      "Observation 17 has high leverage\n",
      "Observation 56 has high leverage\n",
      "Observation 57 has high leverage\n",
      "Observation 58 has high leverage\n",
      "Observation 59 has high leverage\n",
      "Observation 60 has high leverage\n",
      "Observation 61 has high leverage\n"
     ]
    }
   ],
   "source": [
    "y_hat=np.matmul(Z,beta_hat_3)\n",
    "residuals=Y-y_hat\n",
    "Q1 = pd.DataFrame(residuals).quantile(0.25).item()\n",
    "Q3 = pd.DataFrame(residuals).quantile(0.75).item()\n",
    "IQR = Q3 - Q1\n",
    "print(np.where((residuals < (Q1 - 1.5 * IQR)) |(residuals > (Q3 + 1.5 * IQR))))\n",
    "#Do đó, ta có các quan trắc 51, 55 có residuals làm điểm ngoại lai\n",
    "\n",
    "H=np.matmul(Z,np.linalg.inv(np.matmul(Z.T,Z)))\n",
    "H=np.matmul(H,Z.T)\n",
    "for i in range(H.shape[0]):\n",
    "  if H[i][i]>=0.1:\n",
    "    print('Observation {} has high leverage'.format(i))"
   ]
  },
  {
   "cell_type": "markdown",
   "metadata": {
    "id": "X5_IwZEMPPA2"
   },
   "source": [
    "### Với $Y_4$"
   ]
  },
  {
   "cell_type": "code",
   "execution_count": 39,
   "metadata": {
    "colab": {
     "base_uri": "https://localhost:8080/",
     "height": 136
    },
    "id": "BNwGAfIoPRtk",
    "outputId": "fa026c96-f2d6-44d3-e38b-50e89d0571b1"
   },
   "outputs": [
    {
     "name": "stdout",
     "output_type": "stream",
     "text": [
      "Forward stepwise subset selection\n",
      "Number of features | Features | RSS\n"
     ]
    },
    {
     "data": {
      "text/plain": [
       "[(1, [7], 9.920642931854298),\n",
       " (2, [7, 5], 8.10942168246493),\n",
       " (3, [7, 5, 6], 7.120748790585315),\n",
       " (4, [7, 5, 6, 4], 6.935608678486385)]"
      ]
     },
     "metadata": {
      "tags": []
     },
     "output_type": "display_data"
    },
    {
     "name": "stdout",
     "output_type": "stream",
     "text": [
      "beta_hat:  [-1.70020208e+01  2.24180510e-02  1.20301686e-02  1.57712183e+01]\n"
     ]
    }
   ],
   "source": [
    "#Initialization variables\n",
    "Y = df.iloc[:,3]\n",
    "X = df.iloc[:,4:]\n",
    "k = 4\n",
    "\n",
    "remaining_features = list(X.columns.values)\n",
    "features = []\n",
    "RSS_list, R_squared_list = [np.inf], [np.inf] #Due to 1 indexing of the loop...\n",
    "features_list = dict()\n",
    "\n",
    "for i in range(1,k+1):\n",
    "    best_RSS = np.inf\n",
    "    \n",
    "    for combo in itertools.combinations(remaining_features,1):\n",
    "\n",
    "            RSS = fit_linear_reg(X[list(combo) + features],Y)   #Store temp result \n",
    "\n",
    "            if RSS[0] < best_RSS:\n",
    "                best_RSS = RSS[0]\n",
    "                best_R_squared = RSS[1] \n",
    "                best_feature = combo[0]\n",
    "\n",
    "    #Updating variables for next loop\n",
    "    features.append(best_feature)\n",
    "    remaining_features.remove(best_feature)\n",
    "    \n",
    "    #Saving values for plotting\n",
    "    RSS_list.append(best_RSS)\n",
    "    R_squared_list.append(best_R_squared)\n",
    "    features_list[i] = features.copy()\n",
    "\n",
    "print('Forward stepwise subset selection')\n",
    "print('Number of features |', 'Features |', 'RSS')\n",
    "display([(i,features_list[i], RSS_list[i]) for i in range(1,5)])\n",
    "\n",
    "#Từ đây, ta sẽ chọn 3 ẩn là 5, 6, 7\n",
    "\n",
    "#Construct Z, Y\n",
    "Z=np.concatenate(((np.ones((df.shape[0],1)),df.iloc[:,5:])),axis=1)\n",
    "Y=df.iloc[:,3].values\n",
    "\n",
    "#Fit the model\n",
    "a=np.linalg.inv(np.matmul(Z.T,Z))\n",
    "b=np.matmul(Z.T,Y)\n",
    "beta_hat=np.matmul(a,b)\n",
    "print('beta_hat: ',beta_hat)"
   ]
  },
  {
   "cell_type": "markdown",
   "metadata": {
    "id": "yFbIEeZYQhSV"
   },
   "source": [
    "Từ đây, model fit sẽ là $Y_4=-17+0.0242z_2+0.012z_3+15.77z_4$"
   ]
  },
  {
   "cell_type": "code",
   "execution_count": 40,
   "metadata": {
    "colab": {
     "base_uri": "https://localhost:8080/"
    },
    "id": "Hq8m7nQOQ3Nl",
    "outputId": "2d499611-1e13-41da-ef0f-2e3c60a2c4f7"
   },
   "outputs": [
    {
     "name": "stdout",
     "output_type": "stream",
     "text": [
      "(array([50, 51, 55]),)\n",
      "Observation 17 has high leverage\n",
      "Observation 56 has high leverage\n",
      "Observation 57 has high leverage\n",
      "Observation 58 has high leverage\n",
      "Observation 59 has high leverage\n",
      "Observation 60 has high leverage\n",
      "Observation 61 has high leverage\n"
     ]
    }
   ],
   "source": [
    "y_hat=np.matmul(Z,beta_hat)\n",
    "residuals=Y-y_hat\n",
    "Q1 = pd.DataFrame(residuals).quantile(0.25).item()\n",
    "Q3 = pd.DataFrame(residuals).quantile(0.75).item()\n",
    "IQR = Q3 - Q1\n",
    "print(np.where((residuals < (Q1 - 1.5 * IQR)) |(residuals > (Q3 + 1.5 * IQR))))\n",
    "#Do đó, ta có các quan trắc 50,51, 55 có residuals làm điểm ngoại lai\n",
    "\n",
    "H=np.matmul(Z,np.linalg.inv(np.matmul(Z.T,Z)))\n",
    "H=np.matmul(H,Z.T)\n",
    "for i in range(H.shape[0]):\n",
    "  if H[i][i]>=0.1:\n",
    "    print('Observation {} has high leverage'.format(i))"
   ]
  },
  {
   "cell_type": "markdown",
   "metadata": {
    "id": "bSXYp8GTSiqo"
   },
   "source": [
    "### Xây dựng khoảng dự đoán $95\\%$ cho SF($Y_3$) cho $z_1=.330, z_2=45.500, z_3=20.375, z_4=1.010$"
   ]
  },
  {
   "cell_type": "code",
   "execution_count": 41,
   "metadata": {
    "colab": {
     "base_uri": "https://localhost:8080/"
    },
    "id": "ZwD3bmoARIIU",
    "outputId": "77bd8b5c-779f-4018-e86a-f0fde9215a4c"
   },
   "outputs": [
    {
     "name": "stdout",
     "output_type": "stream",
     "text": [
      ">> 95.0% confidence interval for mean y_3 at [ 1.    45.5   20.375  1.01 ] is : (2.3487551129498794, 3.877474151896462)\n",
      "\n",
      ">> 95.0% prediction interval for y_3 with conditions z_0 [ 1.    45.5   20.375  1.01 ] is : (1.587672350571919, 4.638556914274423)\n"
     ]
    }
   ],
   "source": [
    "z0=np.array([45.5,20.375, 1.010]).T\n",
    "beta=beta_hat_3\n",
    "alpha=0.05\n",
    "name_y='y_3'\n",
    "prediction_interval(df.iloc[:,5:],df.iloc[:,2], z0, beta, alpha, name_y)"
   ]
  },
  {
   "cell_type": "markdown",
   "metadata": {
    "id": "8Hd5LhwwT4L4"
   },
   "source": [
    "### (b) Xây dựng mô hình hồi quy tuyến tính nhiều chiều sử dụng cả 4 response $Y_1, Y_2, Y_3, Y_4$ và 4 biến độc lập $Z_1, Z_2, Z_3,Z_4$\n",
    "\n",
    "#(i) Đề xuất và fit mô hình hồi quy tuyến tính phù hợp. Tính ma trận hệ số ước lượng $\\boldsymbol{\\hat{\\beta}}$ và ma trận hiệp phương sai lỗi ước lượng $\\boldsymbol{\\hat{\\Sigma}}$.\n",
    "\n",
    "#(ii) Phân tích residuals. Kiểm tra điểm ngoại lai\n",
    "\n",
    "#(iii) Xây dựng khoảng dự đoán đồng thời $95\\%$ cho từng responses với cài đặt giống với các biến đã chọn ở câu a. So sánh khoảng dự đoán đồng thời với khoảng dự đoán ở câu a."
   ]
  },
  {
   "cell_type": "code",
   "execution_count": 42,
   "metadata": {
    "colab": {
     "base_uri": "https://localhost:8080/",
     "height": 547
    },
    "id": "ApJTF79jV03I",
    "outputId": "538d1691-0dc1-4bad-935b-331ee87a3d58"
   },
   "outputs": [
    {
     "name": "stdout",
     "output_type": "stream",
     "text": [
      "Forward stepwise subset selection\n",
      "Number of features | Features | RSS\n"
     ]
    },
    {
     "name": "stderr",
     "output_type": "stream",
     "text": [
      "/usr/local/lib/python3.7/dist-packages/sklearn/base.py:434: FutureWarning: The default value of multioutput (not exposed in score method) will change from 'variance_weighted' to 'uniform_average' in 0.23 to keep consistent with 'metrics.r2_score'. To specify the default value manually and avoid the warning, please either call 'metrics.r2_score' directly or make a custom scorer with 'metrics.make_scorer' (the built-in scorer 'r2' uses multioutput='uniform_average').\n",
      "  \"multioutput='uniform_average').\", FutureWarning)\n",
      "/usr/local/lib/python3.7/dist-packages/sklearn/base.py:434: FutureWarning: The default value of multioutput (not exposed in score method) will change from 'variance_weighted' to 'uniform_average' in 0.23 to keep consistent with 'metrics.r2_score'. To specify the default value manually and avoid the warning, please either call 'metrics.r2_score' directly or make a custom scorer with 'metrics.make_scorer' (the built-in scorer 'r2' uses multioutput='uniform_average').\n",
      "  \"multioutput='uniform_average').\", FutureWarning)\n",
      "/usr/local/lib/python3.7/dist-packages/sklearn/base.py:434: FutureWarning: The default value of multioutput (not exposed in score method) will change from 'variance_weighted' to 'uniform_average' in 0.23 to keep consistent with 'metrics.r2_score'. To specify the default value manually and avoid the warning, please either call 'metrics.r2_score' directly or make a custom scorer with 'metrics.make_scorer' (the built-in scorer 'r2' uses multioutput='uniform_average').\n",
      "  \"multioutput='uniform_average').\", FutureWarning)\n",
      "/usr/local/lib/python3.7/dist-packages/sklearn/base.py:434: FutureWarning: The default value of multioutput (not exposed in score method) will change from 'variance_weighted' to 'uniform_average' in 0.23 to keep consistent with 'metrics.r2_score'. To specify the default value manually and avoid the warning, please either call 'metrics.r2_score' directly or make a custom scorer with 'metrics.make_scorer' (the built-in scorer 'r2' uses multioutput='uniform_average').\n",
      "  \"multioutput='uniform_average').\", FutureWarning)\n",
      "/usr/local/lib/python3.7/dist-packages/sklearn/base.py:434: FutureWarning: The default value of multioutput (not exposed in score method) will change from 'variance_weighted' to 'uniform_average' in 0.23 to keep consistent with 'metrics.r2_score'. To specify the default value manually and avoid the warning, please either call 'metrics.r2_score' directly or make a custom scorer with 'metrics.make_scorer' (the built-in scorer 'r2' uses multioutput='uniform_average').\n",
      "  \"multioutput='uniform_average').\", FutureWarning)\n",
      "/usr/local/lib/python3.7/dist-packages/sklearn/base.py:434: FutureWarning: The default value of multioutput (not exposed in score method) will change from 'variance_weighted' to 'uniform_average' in 0.23 to keep consistent with 'metrics.r2_score'. To specify the default value manually and avoid the warning, please either call 'metrics.r2_score' directly or make a custom scorer with 'metrics.make_scorer' (the built-in scorer 'r2' uses multioutput='uniform_average').\n",
      "  \"multioutput='uniform_average').\", FutureWarning)\n",
      "/usr/local/lib/python3.7/dist-packages/sklearn/base.py:434: FutureWarning: The default value of multioutput (not exposed in score method) will change from 'variance_weighted' to 'uniform_average' in 0.23 to keep consistent with 'metrics.r2_score'. To specify the default value manually and avoid the warning, please either call 'metrics.r2_score' directly or make a custom scorer with 'metrics.make_scorer' (the built-in scorer 'r2' uses multioutput='uniform_average').\n",
      "  \"multioutput='uniform_average').\", FutureWarning)\n",
      "/usr/local/lib/python3.7/dist-packages/sklearn/base.py:434: FutureWarning: The default value of multioutput (not exposed in score method) will change from 'variance_weighted' to 'uniform_average' in 0.23 to keep consistent with 'metrics.r2_score'. To specify the default value manually and avoid the warning, please either call 'metrics.r2_score' directly or make a custom scorer with 'metrics.make_scorer' (the built-in scorer 'r2' uses multioutput='uniform_average').\n",
      "  \"multioutput='uniform_average').\", FutureWarning)\n",
      "/usr/local/lib/python3.7/dist-packages/sklearn/base.py:434: FutureWarning: The default value of multioutput (not exposed in score method) will change from 'variance_weighted' to 'uniform_average' in 0.23 to keep consistent with 'metrics.r2_score'. To specify the default value manually and avoid the warning, please either call 'metrics.r2_score' directly or make a custom scorer with 'metrics.make_scorer' (the built-in scorer 'r2' uses multioutput='uniform_average').\n",
      "  \"multioutput='uniform_average').\", FutureWarning)\n",
      "/usr/local/lib/python3.7/dist-packages/sklearn/base.py:434: FutureWarning: The default value of multioutput (not exposed in score method) will change from 'variance_weighted' to 'uniform_average' in 0.23 to keep consistent with 'metrics.r2_score'. To specify the default value manually and avoid the warning, please either call 'metrics.r2_score' directly or make a custom scorer with 'metrics.make_scorer' (the built-in scorer 'r2' uses multioutput='uniform_average').\n",
      "  \"multioutput='uniform_average').\", FutureWarning)\n"
     ]
    },
    {
     "data": {
      "text/plain": [
       "[(1, [7], 53.97746196068476),\n",
       " (2, [7, 6], 49.218233979163166),\n",
       " (3, [7, 6, 5], 43.44748096597761),\n",
       " (4, [7, 6, 5, 4], 41.35873170298585)]"
      ]
     },
     "metadata": {
      "tags": []
     },
     "output_type": "display_data"
    },
    {
     "name": "stdout",
     "output_type": "stream",
     "text": [
      "beta_hat:  [[-7.01168077e+01 -2.24521873e+01 -4.38040557e+01 -1.70020208e+01]\n",
      " [ 5.93005155e-02 -5.40280813e-03  2.87995004e-02  2.24180510e-02]\n",
      " [ 5.55210176e-02  1.06772777e-02  2.82155567e-02  1.20301686e-02]\n",
      " [ 8.25302467e+01  2.77880039e+01  4.45860407e+01  1.57712183e+01]]\n"
     ]
    }
   ],
   "source": [
    "#Initialization variables\n",
    "Y = df.iloc[:,0:4]\n",
    "X = df.iloc[:,4:]\n",
    "k = 4\n",
    "\n",
    "remaining_features = list(X.columns.values)\n",
    "features = []\n",
    "RSS_list, R_squared_list = [np.inf], [np.inf] #Due to 1 indexing of the loop...\n",
    "features_list = dict()\n",
    "\n",
    "for i in range(1,k+1):\n",
    "    best_RSS = np.inf\n",
    "    \n",
    "    for combo in itertools.combinations(remaining_features,1):\n",
    "\n",
    "            RSS = fit_linear_reg(X[list(combo) + features],Y)   #Store temp result \n",
    "\n",
    "            if RSS[0] < best_RSS:\n",
    "                best_RSS = RSS[0]\n",
    "                best_R_squared = RSS[1] \n",
    "                best_feature = combo[0]\n",
    "\n",
    "    #Updating variables for next loop\n",
    "    features.append(best_feature)\n",
    "    remaining_features.remove(best_feature)\n",
    "    \n",
    "    #Saving values for plotting\n",
    "    RSS_list.append(best_RSS)\n",
    "    R_squared_list.append(best_R_squared)\n",
    "    features_list[i] = features.copy()\n",
    "\n",
    "print('Forward stepwise subset selection')\n",
    "print('Number of features |', 'Features |', 'RSS')\n",
    "display([(i,features_list[i], RSS_list[i]) for i in range(1,5)])\n",
    "\n",
    "#Từ đây, ta sẽ chọn 3 ẩn 5, 6, 7 vào model của mình.\n",
    "\n",
    "#Construct Z, Y\n",
    "Z=np.concatenate(((np.ones((df.shape[0],1)),df.iloc[:,5:])),axis=1)\n",
    "Y=df.iloc[:,:4].values\n",
    "\n",
    "#Fit the model\n",
    "a=np.linalg.inv(np.matmul(Z.T,Z))\n",
    "b=np.matmul(Z.T,Y)\n",
    "beta_hat=np.matmul(a,b)\n",
    "print('beta_hat: ',beta_hat)"
   ]
  },
  {
   "cell_type": "code",
   "execution_count": 43,
   "metadata": {
    "colab": {
     "base_uri": "https://localhost:8080/"
    },
    "id": "bk0EcsG4V8B0",
    "outputId": "bb213e79-4eb3-4905-eb98-0237f5f55e71"
   },
   "outputs": [
    {
     "data": {
      "text/plain": [
       "array([[2.15913096, 0.40238408, 0.88597429, 0.48665889],\n",
       "       [0.40238408, 0.12220699, 0.19464583, 0.08855109],\n",
       "       [0.88597429, 0.19464583, 0.40687454, 0.20086689],\n",
       "       [0.48665889, 0.08855109, 0.20086689, 0.11485079]])"
      ]
     },
     "execution_count": 43,
     "metadata": {
      "tags": []
     },
     "output_type": "execute_result"
    }
   ],
   "source": [
    "#Calculate estimated error covariance matrix\n",
    "sigma=1/Y.shape[0]*np.matmul((Y-np.matmul(Z,beta_hat)).T,Y-np.matmul(Z,beta_hat))\n",
    "sigma"
   ]
  },
  {
   "cell_type": "code",
   "execution_count": 44,
   "metadata": {
    "colab": {
     "base_uri": "https://localhost:8080/"
    },
    "id": "0ign8hMfWjwy",
    "outputId": "3a2d642a-5a11-46d3-f0f8-a05feb9bf9dd"
   },
   "outputs": [
    {
     "name": "stdout",
     "output_type": "stream",
     "text": [
      "Observation 50 could be a outlier\n",
      "Observation 51 could be a outlier\n",
      "Observation 55 could be a outlier\n",
      "Observation 60 could be a outlier\n"
     ]
    }
   ],
   "source": [
    "y_hat=np.matmul(Z,beta_hat)\n",
    "residuals=Y-y_hat\n",
    "Q1 = pd.DataFrame(residuals).quantile(0.25)\n",
    "Q3 = pd.DataFrame(residuals).quantile(0.75)\n",
    "IQR = Q3 - Q1\n",
    "index=0\n",
    "for row in residuals:\n",
    "  for i in range(4):\n",
    "    if (row[i] < (Q1-1.5*IQR)[i]) | (row[i]> (Q3+1.5*IQR)[i]):\n",
    "      print('Observation {} could be a outlier'.format(index))\n",
    "      break\n",
    "  index+=1\n",
    "#Do đó, ta có các quan trắc 50,51, 55, 60 có residuals làm điểm ngoại lai"
   ]
  },
  {
   "cell_type": "code",
   "execution_count": 45,
   "metadata": {
    "colab": {
     "base_uri": "https://localhost:8080/"
    },
    "id": "8kyNM82yZOB3",
    "outputId": "75f902ab-ee86-4d01-ffca-26386268dfb7"
   },
   "outputs": [
    {
     "name": "stdout",
     "output_type": "stream",
     "text": [
      "95% simultaneous prediction interval for Y_01: [11.322294700006552, 22.814016734022488]\n",
      "95% simultaneous prediction interval for Y_02: [4.218433633879856, 6.952403043778416]\n",
      "95% simultaneous prediction interval for Y_03: [0.6188307349279873, 5.607398529906158]\n",
      "95% simultaneous prediction interval for Y_04: [-1.133157938351057, 1.5172492903930488]\n"
     ]
    }
   ],
   "source": [
    "#Construct simultaneous 95% prediction interval\n",
    "z0=np.array([1,45.5,20.375, 1.010]).T\n",
    "n=Y.shape[0]\n",
    "r=3\n",
    "m=4\n",
    "alpha=0.05\n",
    "f = stats.f.ppf(q=1-alpha, dfn=m, dfd=n-r-m)\n",
    "value=m*(n-r-1)/(n-r-m)*f\n",
    "value_1=np.matmul(z0.T,np.linalg.inv(np.matmul(Z.T,Z)))\n",
    "value_1=np.matmul(value_1,z0)\n",
    "for i in range(1,5):\n",
    "  lowerbound=np.matmul(z0.T,beta_hat[:,i-1])-np.sqrt(value)*np.sqrt((1+value_1)*(n/(n-r-1)*sigma[i-1][i-1]))\n",
    "  upperbound=np.matmul(z0.T,beta_hat[:,i-1])+np.sqrt(value)*np.sqrt((1+value_1)*((n/(n-r-1)*sigma[i-1][i-1])))\n",
    "  print('95% simultaneous prediction interval for Y_0{}: [{}, {}]'.format(i,lowerbound,upperbound))"
   ]
  },
  {
   "cell_type": "markdown",
   "metadata": {
    "id": "xgDSDtbAh1F1"
   },
   "source": [
    "### Khoảng dự đoán $95\\%$ ở câu a (iii) thu được là $(1.587672350571919, 4.638556914274423)$. \n",
    "### Từ đây ta nhận thấy là khoảng dự đoán $95\\%$ đồng thời rộng hơn so với khoảng dự đoán riêng lẻ với cùng $\\alpha$."
   ]
  }
 ],
 "metadata": {
  "colab": {
   "collapsed_sections": [
    "cmVGYnfBkUTE",
    "XLAV0btgkgNE",
    "9duGKREfSeDP",
    "2ca2nyH3jrxv",
    "OH-PSGpKBrmk",
    "8HC0y7nAMXCx",
    "wTqmOwnSN0Gg",
    "X5_IwZEMPPA2",
    "bSXYp8GTSiqo",
    "8Hd5LhwwT4L4"
   ],
   "name": "TKNC_9,19,21,26_official.ipynb",
   "provenance": []
  },
  "kernelspec": {
   "display_name": "Python 3",
   "language": "python",
   "name": "python3"
  },
  "language_info": {
   "codemirror_mode": {
    "name": "ipython",
    "version": 3
   },
   "file_extension": ".py",
   "mimetype": "text/x-python",
   "name": "python",
   "nbconvert_exporter": "python",
   "pygments_lexer": "ipython3",
   "version": "3.7.10"
  }
 },
 "nbformat": 4,
 "nbformat_minor": 1
}
