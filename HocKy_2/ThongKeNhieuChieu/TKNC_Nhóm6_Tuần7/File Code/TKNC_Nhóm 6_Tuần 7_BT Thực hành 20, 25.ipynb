{
 "cells": [
  {
   "cell_type": "code",
   "execution_count": 1,
   "id": "63bab1a7",
   "metadata": {},
   "outputs": [],
   "source": [
    "import numpy as np\n",
    "import pandas as pd\n",
    "import scipy.stats as stats\n",
    "from matplotlib import pyplot as plt\n",
    "import pandas as pd\n",
    "import statsmodels.formula.api as smf\n",
    "import statsmodels.api as sm\n",
    "import warnings\n",
    "warnings.filterwarnings(\"ignore\")"
   ]
  },
  {
   "cell_type": "code",
   "execution_count": 2,
   "id": "d3496023",
   "metadata": {},
   "outputs": [],
   "source": [
    "def fit_linear_reg(X,Y):\n",
    "    from sklearn import linear_model\n",
    "    from sklearn.metrics import mean_squared_error\n",
    "    #Fit linear regression model and return RSS and R squared values\n",
    "    model_k = linear_model.LinearRegression(fit_intercept = True)\n",
    "    model_k.fit(X,Y)\n",
    "    RSS = mean_squared_error(Y,model_k.predict(X)) * len(Y)\n",
    "    R_squared = model_k.score(X,Y)\n",
    "    return RSS, R_squared\n",
    "\n",
    "def forward_stepwise(X, Y):\n",
    "    import itertools\n",
    "    #Initialization variables\n",
    "    k = X.shape[1]\n",
    "\n",
    "    remaining_features = list(X.columns.values)\n",
    "    features = []\n",
    "    RSS_list, R_squared_list = [np.inf], [np.inf] #Due to 1 indexing of the loop...\n",
    "    features_list = dict()\n",
    "\n",
    "    for i in range(1,k+1):\n",
    "        best_RSS = np.inf\n",
    "\n",
    "        for combo in itertools.combinations(remaining_features,1):\n",
    "\n",
    "                RSS = fit_linear_reg(X[list(combo) + features],Y)   #Store temp result \n",
    "\n",
    "                if RSS[0] < best_RSS:\n",
    "                    best_RSS = RSS[0]\n",
    "                    best_R_squared = RSS[1] \n",
    "                    best_feature = combo[0]\n",
    "\n",
    "        #Updating variables for next loop\n",
    "        features.append(best_feature)\n",
    "        remaining_features.remove(best_feature)\n",
    "\n",
    "        #Saving values for plotting\n",
    "        RSS_list.append(best_RSS)\n",
    "        R_squared_list.append(best_R_squared)\n",
    "        features_list[i] = features.copy()\n",
    "    \n",
    "    table = np.array([[i, features_list[i], RSS_list[i], RSS_list[i-1]-RSS_list[i]] for i in range(1,k+1)])\n",
    "    subsets = pd.DataFrame({'no_features': table[:,0], 'features': table[:,1], 'RSS': table[:,2], 'distance': table[:,3]})\n",
    "    print('Forward stepwise subset selection')\n",
    "#     print('Number of features |', 'Features |', 'RSS')\n",
    "    print(subsets)"
   ]
  },
  {
   "cell_type": "code",
   "execution_count": 3,
   "id": "87603605",
   "metadata": {},
   "outputs": [],
   "source": [
    "from matplotlib.patches import Ellipse, Rectangle\n",
    "\n",
    "def get_cov_ellipse(cov, centre, nstd, eig = False, **kwargs):\n",
    "    \"\"\"\n",
    "    Return a matplotlib Ellipse patch representing the covariance matrix\n",
    "    cov centred at centre and scaled by the factor nstd.\n",
    "\n",
    "    \"\"\"\n",
    "\n",
    "    # Find and sort eigenvalues and eigenvectors into descending order\n",
    "    eigvals, eigvecs = np.linalg.eigh(cov)\n",
    "    order = eigvals.argsort()[::-1]\n",
    "    eigvals, eigvecs = eigvals[order], eigvecs[:, order]\n",
    "    # The anti-clockwise angle to rotate our ellipse by \n",
    "    vx, vy = eigvecs[:,0][0], eigvecs[:,0][1]\n",
    "    theta = np.arctan2(vy, vx)\n",
    "\n",
    "    # Width and height of ellipse to draw\n",
    "    width, height = 2 * nstd * np.sqrt(eigvals)\n",
    "    if eig:\n",
    "        return Ellipse(xy=centre, width=width, height=height,\n",
    "                   angle=np.degrees(theta), **kwargs), eigvals, eigvecs\n",
    "    else: \n",
    "        return Ellipse(xy=centre, width=width, height=height,\n",
    "                   angle=np.degrees(theta), **kwargs)\n",
    "    \n",
    "def simultaneous_ci_2d(IC_1, IC_2, **kwargs):\n",
    "    height = IC_2[1]-IC_2[0]\n",
    "    width = IC_1[1]-IC_1[0]\n",
    "    point = [IC_1[0],IC_2[0]]\n",
    "    return Rectangle(point, width, height, **kwargs)"
   ]
  },
  {
   "cell_type": "markdown",
   "id": "01ad595d",
   "metadata": {},
   "source": [
    "### 7.20\n",
    "**Sử dụng dữ liệu battery-failure ở bảng 7.5, hồi quy $\\ln{(Y)}$ trên thành phần chính thứ nhất của các biến dự đoán $z_1,z_2,...,z_5$ (Xem Section 8.3). So sánh kết quả với mô hình được fit thu được ở bài tập 7.19(a).**"
   ]
  },
  {
   "cell_type": "code",
   "execution_count": 4,
   "id": "fdc5c54d",
   "metadata": {},
   "outputs": [
    {
     "name": "stdout",
     "output_type": "stream",
     "text": [
      ">> Data: \n",
      "        Z1    Z2     Z3  Z4    Z5    Y\n",
      "0   0.375  3.13   60.0  40  2.00  101\n",
      "1   1.000  3.13   76.8  30  1.99  141\n",
      "2   1.000  3.13   60.0  20  2.00   96\n",
      "3   1.000  3.13   60.0  20  1.98  125\n",
      "4   1.625  3.13   43.2  10  2.01   43\n",
      "5   1.625  3.13   60.0  20  2.00   16\n",
      "6   1.625  3.13   60.0  20  2.02  188\n",
      "7   0.375  5.00   76.8  10  2.01   10\n",
      "8   1.000  5.00   43.2  10  1.99    3\n",
      "9   1.000  5.00   43.2  30  2.01  386\n",
      "10  1.000  5.00  100.0  20  2.00   45\n",
      "11  1.625  5.00   76.8  10  1.99    2\n",
      "12  0.375  1.25   76.8  10  2.01   76\n",
      "13  1.000  1.25   43.2  10  1.99   78\n",
      "14  1.000  1.25   76.8  30  2.00  160\n",
      "15  1.000  1.25   60.0   0  2.00    3\n",
      "16  1.625  1.25   43.2  30  1.99  216\n",
      "17  1.625  1.25   60.0  20  2.00   73\n",
      "18  0.375  3.13   76.8  30  1.99  314\n",
      "19  0.375  3.13   60.0  20  2.00  170\n"
     ]
    }
   ],
   "source": [
    "path_20 = 'T7-5.txt'\n",
    "data_20 = pd.read_table(path_20, delim_whitespace=True, header=None)\n",
    "data_20.columns = ['Z1', 'Z2', 'Z3', 'Z4', 'Z5', 'Y']\n",
    "\n",
    "X = data_20.drop('Y', axis=1)\n",
    "y = data_20['Y']\n",
    "\n",
    "print(\">> Data: \\n\", data_20) "
   ]
  },
  {
   "cell_type": "code",
   "execution_count": 5,
   "id": "4269a7b9",
   "metadata": {
    "scrolled": true
   },
   "outputs": [
    {
     "name": "stdout",
     "output_type": "stream",
     "text": [
      "[[-0.60642416  0.39013152  0.63569492  0.27553455  0.00445201]]\n"
     ]
    }
   ],
   "source": [
    "from sklearn.preprocessing import StandardScaler\n",
    "from sklearn.decomposition import PCA\n",
    "\n",
    "X_scaled = (X - X.mean(axis = 0))/X.std(axis = 0, ddof = 1)\n",
    "\n",
    "pca = PCA(n_components=1)\n",
    "X_pca = pca.fit_transform(X_scaled)\n",
    "print(pca.components_)"
   ]
  },
  {
   "cell_type": "code",
   "execution_count": 6,
   "id": "94569afa",
   "metadata": {},
   "outputs": [],
   "source": [
    "def regression_model(X, y):\n",
    "    z = np.concatenate([np.ones([X.shape[0],1]), X], axis=1)\n",
    "    zz = (z.T).dot(z)\n",
    "    zy = (z.T).dot(y)\n",
    "    beta = np.linalg.inv(zz).dot(zy)\n",
    "    y_hat = z.dot(beta)\n",
    "    epsilon = y - y_hat\n",
    "    \n",
    "    y_mean = y.mean()\n",
    "    R2 = (y_hat - y_mean).T.dot((y_hat - y_mean))/(y - y_mean).T.dot((y - y_mean))\n",
    "    \n",
    "    print(\">> Least square estimates: beta = \\n\", beta)\n",
    "    print(\"\\n>> The vector of fitted (predicted) values: y_hat = \\n\", y_hat)\n",
    "    print(\"\\n>> The residuals: epsilon = \\n\", np.array(epsilon))\n",
    "    print(\"\\n>> The coefficient of determination: R2 = \", R2)"
   ]
  },
  {
   "cell_type": "code",
   "execution_count": 7,
   "id": "2678dc09",
   "metadata": {
    "scrolled": true
   },
   "outputs": [
    {
     "name": "stdout",
     "output_type": "stream",
     "text": [
      ">> Least square estimates: beta = \n",
      " [3.99978876 0.16129133]\n",
      "\n",
      ">> The vector of fitted (predicted) values: y_hat = \n",
      " [4.21180656 4.14911605 3.99396477 3.99248101 3.70997155 3.86512283\n",
      " 3.86660659 4.2730997  3.91998754 4.01047115 4.34184455 4.01393206\n",
      " 4.10734208 3.75422991 4.06675811 3.8218651  3.71438782 3.78202301\n",
      " 4.27795799 4.12280671]\n",
      "\n",
      ">> The residuals: epsilon = \n",
      " [ 0.40331395  0.79964384  0.57038342  0.83583272  0.05122856 -1.09253411\n",
      "  1.36983537 -1.97051461 -2.82137525  1.94536622 -0.53518206 -3.32078488\n",
      "  0.22339126  0.60247891  1.00841571 -2.72325281  1.66089058  0.50843643\n",
      "  1.471435    1.01299172]\n",
      "\n",
      ">> The coefficient of determination: R2 =  0.015017645625395865\n"
     ]
    }
   ],
   "source": [
    "regression_model(X_pca, np.log(y))"
   ]
  },
  {
   "cell_type": "markdown",
   "id": "543fc154",
   "metadata": {},
   "source": [
    "Từ tính toán ở trên, ta có\n",
    "* Phương trình hồi quy tuyến tính của $\\ln(Y)$ trên thành phần chính thứ nhất của các biến dự đoán $x_1^* = -0.60642416z_1 + 0.39013152z_2 + 0.63569492z_3 + 0.27553455z_4 + 0.00445201z_5$ là:  $\\ln(Y)=3.99978876 +0.16129133x_1^*$.\n",
    "* $R^2 = 0.015$.\n",
    "\n",
    "\n",
    "Ta có kết quả của bài tập 7.19(a) như sau:\n",
    "\n",
    "* Phương trình hồi quy tuyến tính từ bộ tập con các biến phù hợp là: $\\ln(Y)=2.756 -0.322z_1+0.114z_3$.\n",
    "* $R^2 = 0.60$\n",
    "\n",
    "Từ đây, ta thấy rằng $R^2$ của $\\ln(Y)$ trên thành phần chính khá thấp do đó tính giải thích được thấp hơn rất nhiều so với kết quả từ bài tập 7.19(a) với $R^2 = 0.6$."
   ]
  },
  {
   "cell_type": "markdown",
   "id": "68387505",
   "metadata": {},
   "source": [
    "### 7.25\n",
    "**Amitriptyline được một số bác sĩ kê đơn như thuốc chống trầm cảm. Tuy nhiên, cũng có những tác dụng phụ được phỏng đoán liên quan đến việc sử dụng thuốc như: nhịp tim không đều, huyết áp bất thường và sóng không đều trên điện tâm đồ, cũng nhiều triệu chứng khác. Dữ liệu thu được trên 17 bệnh nhân nhập viện sau khi dùng quá liều amitriptyline được đưa ra trong bảng 7.6. Hai biến phản hồi là**\n",
    "\n",
    "* $Y_1$ **= Tổng mức TCAD trong huyết tương (TOT)**\n",
    "* $Y_2$ **= Lượng amitriptyline có trong mức TCAD trong huyết tương (AMI)**\n",
    "\n",
    "**5 biến dự đoán là**\n",
    "\n",
    "* $Z_1$ **= Giới tính: 1 nếu là nữ, 0 nếu là nam (GEN)**\n",
    "* $Z_2$ **= Lượng antidepressants dùng tại thời điểm quá liều (AMT)**\n",
    "* $Z_3$ **= Phép đo sóng PR (PR)**\n",
    "* $Z_4$ **= Huyết áp tâm trương (DIAP)**\n",
    "* $Z_5$ **= Phép đo sóng QRS (QRS)**"
   ]
  },
  {
   "cell_type": "code",
   "execution_count": 8,
   "id": "198c664d",
   "metadata": {},
   "outputs": [
    {
     "name": "stdout",
     "output_type": "stream",
     "text": [
      ">> Data: \n",
      "       Y1    Y2  Z1    Z2   Z3  Z4   Z5\n",
      "0   3389  3149   1  7500  220   0  140\n",
      "1   1101   653   1  1975  200   0  100\n",
      "2   1131   810   0  3600  205  60  111\n",
      "3    596   448   1   675  160  60  120\n",
      "4    896   844   1   750  185  70   83\n",
      "5   1767  1450   1  2500  180  60   80\n",
      "6    807   493   1   350  154  80   98\n",
      "7   1111   941   0  1500  200  70   93\n",
      "8    645   547   1   375  137  60  105\n",
      "9    628   392   1  1050  167  60   74\n",
      "10  1360  1283   1  3000  180  60   80\n",
      "11   652   458   1   450  160  64   60\n",
      "12   860   722   1  1750  135  90   79\n",
      "13   500   384   0  2000  160  60   80\n",
      "14   781   501   0  4500  180   0  100\n",
      "15  1070   405   0  1500  170  90  120\n",
      "16  1754  1520   1  3000  180   0  129\n"
     ]
    }
   ],
   "source": [
    "path_25 = 'T7-6.txt'\n",
    "data_25 = pd.read_table(path_25, delim_whitespace=True, header=None)\n",
    "data_25.columns = ['Y1', 'Y2', 'Z1', 'Z2', 'Z3', 'Z4', 'Z5']\n",
    "\n",
    "X = data_25.drop(['Y1', 'Y2'], axis=1)\n",
    "y = data_25[['Y1', 'Y2']]\n",
    "\n",
    "print(\">> Data: \\n\", data_25) "
   ]
  },
  {
   "cell_type": "markdown",
   "id": "7c5c71dc",
   "metadata": {},
   "source": [
    "**(a) Thực hiện phân tích hồi quy bằng cách sử dụng biến phản hồi thứ 1 $Y_1$.**\n",
    "\n",
    "*    **(i) Đề xuất và fit một xấp xỉ mô hình hồi quy tuyến tính.**\n",
    "\n",
    "*    **(ii) Phân tích residuals.**\n",
    "\n",
    "*    **(iii) Xây dựng khoảng dự đoán 95% cho tổng mức TCAD với $z_1=1, z_2 = 1200, z_3 = 140, z_4 = 70$ và $z_5 = 85$.**"
   ]
  },
  {
   "cell_type": "code",
   "execution_count": 9,
   "id": "2e0aaae9",
   "metadata": {},
   "outputs": [
    {
     "name": "stdout",
     "output_type": "stream",
     "text": [
      "Forward stepwise subset selection\n",
      "  no_features              features             RSS       distance\n",
      "0           1                  [Z2]  2680807.253741            inf\n",
      "1           2              [Z2, Z1]  1800356.362461   880450.89128\n",
      "2           3          [Z2, Z1, Z3]  1459222.333278  341134.029183\n",
      "3           4      [Z2, Z1, Z3, Z4]  1178249.015138   280973.31814\n",
      "4           5  [Z2, Z1, Z3, Z4, Z5]   870008.310486  308240.704652\n"
     ]
    }
   ],
   "source": [
    "forward_stepwise(X, y['Y1'])"
   ]
  },
  {
   "cell_type": "markdown",
   "id": "7badbbe6",
   "metadata": {},
   "source": [
    "Từ phương pháp hồi quy từng bước, ta có thể chọn ra `[Z1, Z2, Z3]` là các thành phần quan trọng của dữ liệu trên biến phản hồi thứ 1.\n",
    "\n",
    "Khi đó, ta đi kiểm định giả thuyết $H_0: \\beta_4 = \\beta_5 = 0$.\n",
    "\n",
    "Giả sử $H_0$ đúng, ta xét thống kê\n",
    "$$\\dfrac{(SS_{res}(Z_1) - SS_{res}(Z))/(r-q)}{s^2} \\sim \\mathcal{F}_{r-q, n-r-1}(\\alpha)$$\n",
    "\n",
    "Ta tiến hành kiểm định như sau"
   ]
  },
  {
   "cell_type": "code",
   "execution_count": 10,
   "id": "50b09a07",
   "metadata": {},
   "outputs": [],
   "source": [
    "def likelihood_ratio_test(X, y, features, alpha):\n",
    "    import statsmodels.api as sm\n",
    "    \n",
    "    n, r = X.shape\n",
    "    q = len(features)\n",
    "    \n",
    "    _X = sm.add_constant(X)\n",
    "    X1 = X[features]\n",
    "    X2 = X.drop(features, axis=1)\n",
    "    _X1 = sm.add_constant(X1)\n",
    "    \n",
    "    model = sm.OLS(y, _X).fit()\n",
    "    beta_hat = model.params.to_numpy()\n",
    "    \n",
    "    model1 = sm.OLS(y, _X1).fit()\n",
    "    beta1_hat = model1.params.to_numpy()\n",
    "    \n",
    "    SS_Z1 = (y - _X1.dot(beta1_hat)).dot((y - _X1.dot(beta1_hat)))\n",
    "    \n",
    "    SS_Z = (y - _X.dot(beta_hat)).dot((y - _X.dot(beta_hat)))\n",
    "    \n",
    "    s_square = SS_Z/(n-r-1)\n",
    "    \n",
    "    c = ((SS_Z1 - SS_Z)/(r-q))/s_square\n",
    "    \n",
    "    critical_value = stats.f.ppf(q=1-alpha, dfn=r-q, dfd=n-r-1)\n",
    "    \n",
    "    print(f'>> Statistic = {c}')\n",
    "    print(f'>> F-distribution degree of freedom = {r-q}, {n-r-1}')\n",
    "    print(f'>> Critical value = {critical_value}')\n",
    "    \n",
    "    if c > critical_value:\n",
    "        print('>> Conclusion : Reject H_0')\n",
    "    else:\n",
    "        print('>> conclusion : Accept H_0')"
   ]
  },
  {
   "cell_type": "code",
   "execution_count": 11,
   "id": "329db1f3",
   "metadata": {
    "scrolled": true
   },
   "outputs": [
    {
     "name": "stdout",
     "output_type": "stream",
     "text": [
      ">> Statistic = 3.7248806549301703\n",
      ">> F-distribution degree of freedom = 2, 11\n",
      ">> Critical value = 3.9822979570944836\n",
      ">> conclusion : Accept H_0\n"
     ]
    }
   ],
   "source": [
    "likelihood_ratio_test(X, y['Y1'], ['Z1', 'Z2', 'Z3'], 0.05)"
   ]
  },
  {
   "cell_type": "markdown",
   "id": "b2bdeadf",
   "metadata": {},
   "source": [
    "Từ kết quả trên, ta không đủ cơ sở để bác bỏ giả thuyết $H_0$ với mức ý nghĩa $\\alpha = 0.05$. Khi đó, các biến $Z_4, Z_5$ không có ảnh hưởng đến kết quả hồi quy."
   ]
  },
  {
   "cell_type": "code",
   "execution_count": 12,
   "id": "d50c9b8a",
   "metadata": {
    "scrolled": false
   },
   "outputs": [
    {
     "name": "stdout",
     "output_type": "stream",
     "text": [
      "                            OLS Regression Results                            \n",
      "==============================================================================\n",
      "Dep. Variable:                     Y1   R-squared:                       0.811\n",
      "Model:                            OLS   Adj. R-squared:                  0.767\n",
      "Method:                 Least Squares   F-statistic:                     18.55\n",
      "Date:                Wed, 02 Jun 2021   Prob (F-statistic):           5.57e-05\n",
      "Time:                        13:27:20   Log-Likelihood:                -120.68\n",
      "No. Observations:                  17   AIC:                             249.4\n",
      "Df Residuals:                      13   BIC:                             252.7\n",
      "Df Model:                           3                                         \n",
      "Covariance Type:            nonrobust                                         \n",
      "==============================================================================\n",
      "                 coef    std err          t      P>|t|      [0.025      0.975]\n",
      "------------------------------------------------------------------------------\n",
      "Intercept  -1327.9887    817.440     -1.625      0.128   -3093.960     437.983\n",
      "Z1           558.2374    183.417      3.044      0.009     161.989     954.485\n",
      "Z2             0.2583      0.062      4.187      0.001       0.125       0.392\n",
      "Z3             8.5783      4.921      1.743      0.105      -2.052      19.209\n",
      "==============================================================================\n",
      "Omnibus:                        0.083   Durbin-Watson:                   1.908\n",
      "Prob(Omnibus):                  0.959   Jarque-Bera (JB):                0.311\n",
      "Skew:                          -0.029   Prob(JB):                        0.856\n",
      "Kurtosis:                       2.340   Cond. No.                     2.81e+04\n",
      "==============================================================================\n",
      "\n",
      "Notes:\n",
      "[1] Standard Errors assume that the covariance matrix of the errors is correctly specified.\n",
      "[2] The condition number is large, 2.81e+04. This might indicate that there are\n",
      "strong multicollinearity or other numerical problems.\n"
     ]
    }
   ],
   "source": [
    "mod = smf.ols('Y1 ~ Z1 + Z2 + Z3', data=data_25)\n",
    "res = mod.fit()\n",
    "print(res.summary())"
   ]
  },
  {
   "cell_type": "markdown",
   "id": "5df60ca3",
   "metadata": {},
   "source": [
    "Từ bảng trên, ta có được phương trình hồi quy $\\hat{y}_1 = -1327.9887 + 558Z_1 + 0.2583Z_2 + 8.5783Z_3$"
   ]
  },
  {
   "cell_type": "code",
   "execution_count": 13,
   "id": "3843a132",
   "metadata": {},
   "outputs": [],
   "source": [
    "def prediction_interval(X, y, z0, beta, alpha, name_y, confidence = True, return_value = False):\n",
    "    z0 = np.insert(z0, 0, 1, axis=0)\n",
    "    x = z0.dot(beta)\n",
    "    \n",
    "    n, r = X.shape\n",
    "    \n",
    "    t = stats.t.ppf(1-alpha/2, n-r-1)\n",
    "    z = np.concatenate([np.ones([X.shape[0],1]), X], axis=1)\n",
    "    zz = (z.T).dot(z)\n",
    "    y_hat = z.dot(beta)\n",
    "    epsilon = y - y_hat\n",
    "    s2 = (epsilon.dot(epsilon))/(n-r-1)\n",
    "    \n",
    "    c1 = t*np.sqrt(s2*(z0.dot(np.linalg.inv(zz).dot(z0))))\n",
    "    c2 = t*np.sqrt(s2*(1+z0.dot(np.linalg.inv(zz).dot(z0))))\n",
    "    \n",
    "    if confidence:\n",
    "        print(\">> {}% confidence interval for the mean {} at {} is :\\n ({}, {})\".format((1-alpha)*100, name_y, z0, x-c1, x+c1))\n",
    "    print(\"\\n>> {}% prediction interval for {} with conditions {} is :\\n ({}, {})\".format((1-alpha)*100, name_y, z0, x-c2, x+c2))\n",
    "    if return_value:\n",
    "        return np.array([x-c1, x+c1]), np.array([x-c2, x+c2]) "
   ]
  },
  {
   "cell_type": "code",
   "execution_count": 14,
   "id": "d89efebe",
   "metadata": {},
   "outputs": [],
   "source": [
    "beta1 = res.params\n",
    "z0 = np.array([1, 1200, 140])\n",
    "alpha = 0.05"
   ]
  },
  {
   "cell_type": "code",
   "execution_count": 15,
   "id": "9a068dd7",
   "metadata": {},
   "outputs": [
    {
     "name": "stdout",
     "output_type": "stream",
     "text": [
      "\n",
      ">> 95.0% prediction interval for Total TCAD with conditions [   1    1 1200  140] is :\n",
      " (-62.409078953467315, 1544.7601170333667)\n"
     ]
    }
   ],
   "source": [
    "prediction_interval(X[['Z1', 'Z2', 'Z3']], y['Y1'], z0, beta1, alpha, \"Total TCAD\", confidence=False)"
   ]
  },
  {
   "cell_type": "markdown",
   "id": "9427f20a",
   "metadata": {},
   "source": [
    "Kết quả dưới đây dùng để phục vụ cho câu (c)."
   ]
  },
  {
   "cell_type": "code",
   "execution_count": 16,
   "id": "cc8ab57f",
   "metadata": {},
   "outputs": [
    {
     "name": "stdout",
     "output_type": "stream",
     "text": [
      "\n",
      ">> 95.0% prediction interval for Total TCAD with conditions [   1    1 1200] is :\n",
      " (154.04019453341039, 1763.0544287790306)\n"
     ]
    }
   ],
   "source": [
    "mod1 = smf.ols('Y1 ~ Z1 + Z2', data=data_25)\n",
    "res1 = mod1.fit()\n",
    "beta1 = res1.params\n",
    "z0 = np.array([1, 1200])\n",
    "_, IC1 = prediction_interval(X[['Z1', 'Z2']], y['Y1'], z0, beta1, alpha, \"Total TCAD\", confidence=False, return_value=True)"
   ]
  },
  {
   "cell_type": "markdown",
   "id": "b0689060",
   "metadata": {},
   "source": [
    "**(b) Lặp lại câu (a) bằng cách sử dụng biến phản hồi thứ 2 $Y_2$.**"
   ]
  },
  {
   "cell_type": "code",
   "execution_count": 17,
   "id": "019c4ad1",
   "metadata": {},
   "outputs": [
    {
     "name": "stdout",
     "output_type": "stream",
     "text": [
      "Forward stepwise subset selection\n",
      "  no_features              features             RSS        distance\n",
      "0           1                  [Z2]  2879446.531494             inf\n",
      "1           2              [Z2, Z1]  1620657.343979  1258789.187515\n",
      "2           3          [Z2, Z1, Z3]  1393645.312982   227012.030997\n",
      "3           4      [Z2, Z1, Z3, Z4]   1073494.68598   320150.627001\n",
      "4           5  [Z2, Z1, Z3, Z4, Z5]   940708.899381     132785.7866\n"
     ]
    }
   ],
   "source": [
    "forward_stepwise(X, y['Y2'])"
   ]
  },
  {
   "cell_type": "markdown",
   "id": "5f4109cf",
   "metadata": {},
   "source": [
    "Từ phương pháp hồi quy từng bước, ta có thể chọn ra `[Z1, Z2]` là các thành phần quan trọng của dữ liệu trên biến phản hồi thứ 2.\n",
    "\n",
    "Khi đó, ta đi kiểm định giả thuyết $H_0: \\beta_3 = \\beta_4 = \\beta_5 = 0$.\n",
    "\n",
    "Giả sử $H_0$ đúng, ta xét thống kê\n",
    "$$\\dfrac{(SS_{res}(Z_1) - SS_{res}(Z))/(r-q)}{s^2} \\sim \\mathcal{F}_{r-q, n-r-1}(\\alpha)$$\n",
    "\n",
    "Ta tiến hành kiểm định như sau"
   ]
  },
  {
   "cell_type": "code",
   "execution_count": 18,
   "id": "bda547e6",
   "metadata": {},
   "outputs": [
    {
     "name": "stdout",
     "output_type": "stream",
     "text": [
      ">> Statistic = 2.6502824609203635\n",
      ">> F-distribution degree of freedom = 3, 11\n",
      ">> Critical value = 3.5874337024204936\n",
      ">> conclusion : Accept H_0\n"
     ]
    }
   ],
   "source": [
    "likelihood_ratio_test(X, y['Y2'], ['Z1', 'Z2'], 0.05)"
   ]
  },
  {
   "cell_type": "markdown",
   "id": "e1d83799",
   "metadata": {},
   "source": [
    "Từ kết quả trên, ta không đủ cơ sở để bác bỏ giả thuyết $H_0$ với mức ý nghĩa $\\alpha = 0.05$. Khi đó, các biến $Z_3, Z_4, Z_5$ không có ảnh hưởng đến kết quả hồi quy."
   ]
  },
  {
   "cell_type": "code",
   "execution_count": 19,
   "id": "325da9b1",
   "metadata": {},
   "outputs": [
    {
     "name": "stdout",
     "output_type": "stream",
     "text": [
      "                            OLS Regression Results                            \n",
      "==============================================================================\n",
      "Dep. Variable:                     Y2   R-squared:                       0.787\n",
      "Model:                            OLS   Adj. R-squared:                  0.757\n",
      "Method:                 Least Squares   F-statistic:                     25.87\n",
      "Date:                Wed, 02 Jun 2021   Prob (F-statistic):           1.99e-05\n",
      "Time:                        13:27:21   Log-Likelihood:                -121.58\n",
      "No. Observations:                  17   AIC:                             249.2\n",
      "Df Residuals:                      14   BIC:                             251.7\n",
      "Df Model:                           2                                         \n",
      "Covariance Type:            nonrobust                                         \n",
      "==============================================================================\n",
      "                 coef    std err          t      P>|t|      [0.025      0.975]\n",
      "------------------------------------------------------------------------------\n",
      "Intercept   -241.3479    196.116     -1.231      0.239    -661.976     179.280\n",
      "Z1           606.3097    183.865      3.298      0.005     211.958    1000.661\n",
      "Z2             0.3243      0.047      6.866      0.000       0.223       0.426\n",
      "==============================================================================\n",
      "Omnibus:                        1.520   Durbin-Watson:                   1.941\n",
      "Prob(Omnibus):                  0.468   Jarque-Bera (JB):                0.244\n",
      "Skew:                          -0.063   Prob(JB):                        0.885\n",
      "Kurtosis:                       3.573   Cond. No.                     8.49e+03\n",
      "==============================================================================\n",
      "\n",
      "Notes:\n",
      "[1] Standard Errors assume that the covariance matrix of the errors is correctly specified.\n",
      "[2] The condition number is large, 8.49e+03. This might indicate that there are\n",
      "strong multicollinearity or other numerical problems.\n"
     ]
    }
   ],
   "source": [
    "mod = smf.ols('Y2 ~ Z1 + Z2', data=data_25)\n",
    "res = mod.fit()\n",
    "print(res.summary())"
   ]
  },
  {
   "cell_type": "markdown",
   "id": "303f6b41",
   "metadata": {},
   "source": [
    "Từ bảng trên, ta có được phương trình hồi quy $\\hat{y}_2 = -241.3479 + 606.3097Z_1 + 0.3243Z_2$"
   ]
  },
  {
   "cell_type": "code",
   "execution_count": 20,
   "id": "91e3e424",
   "metadata": {},
   "outputs": [
    {
     "name": "stdout",
     "output_type": "stream",
     "text": [
      "\n",
      ">> 95.0% prediction interval for Y2 (AMI) with conditions [   1    1 1200] is :\n",
      " (-9.234070954111417, 1517.3694088117181)\n"
     ]
    }
   ],
   "source": [
    "beta2 = res.params\n",
    "z0 = np.array([1, 1200])\n",
    "alpha = 0.05\n",
    "_, IC2 = prediction_interval(X[['Z1', 'Z2']], y['Y2'], z0, beta2, alpha, \"Y2 (AMI)\", confidence=False, return_value=True)"
   ]
  },
  {
   "cell_type": "markdown",
   "id": "9b27d5af",
   "metadata": {},
   "source": [
    "**(c) Thực hiện phân tích hồi quy bội đa biến bằng cách sử dụng cả 2 biến phản hồi $Y_1$ và $Y_2$.**\n",
    "\n",
    "*    **(i) Đề xuất và fit một xấp xỉ mô hình hồi quy tuyến tính.**\n",
    "\n",
    "*    **(ii) Phân tích residuals.**\n",
    "\n",
    "*    **(iii) Xây dựng khoảng dự đoán 95% cho tổng mức TCAD với $z_1=1, z_2 = 1200, z_3 = 140, z_4 = 70$ và $z_5 = 85$. So sánh hình ellipse với các khoảng tin cậy dự đoán ở câu (a) và (b). Nhận xét.**"
   ]
  },
  {
   "cell_type": "code",
   "execution_count": 21,
   "id": "d750b273",
   "metadata": {},
   "outputs": [],
   "source": [
    "def likelihood_ratio_test_multivariate(X, Y, features, alpha):\n",
    "    import statsmodels.api as sm\n",
    "    \n",
    "    n, r = X.shape\n",
    "    q = len(features)\n",
    "    m = 2\n",
    "    \n",
    "    Y = Y.to_numpy()\n",
    "    X1 = X[features]\n",
    "    _X = sm.add_constant(X).to_numpy()\n",
    "    _X1 = sm.add_constant(X1).to_numpy()\n",
    "    \n",
    "    from sklearn import linear_model\n",
    "    lm = linear_model.LinearRegression()\n",
    "    \n",
    "    model = lm.fit(X, Y)\n",
    "    beta_hat = np.concatenate([model.intercept_.reshape(2,-1), model.coef_], axis=1).T\n",
    "    \n",
    "    model1 = lm.fit(X1, Y)\n",
    "    beta1_hat = np.concatenate([model1.intercept_.reshape(2,-1), model1.coef_], axis=1).T\n",
    "    \n",
    "    nSigma_hat = (Y - _X.dot(beta_hat)).T.dot((Y - _X.dot(beta_hat)))\n",
    "    \n",
    "    nSigma1_hat = (Y - _X1.dot(beta1_hat)).T.dot((Y - _X1.dot(beta1_hat)))\n",
    "    \n",
    "    c = -(n-r-1-0.5*(m-r+q+1))*np.log(np.linalg.det(nSigma_hat)/np.linalg.det(nSigma1_hat))\n",
    "    \n",
    "    critical_value = stats.chi2.ppf(1 - alpha, df = m*(r-q))\n",
    "    \n",
    "    print(f'>> Statistic = {c}')\n",
    "    print(f'>> Chi-square degree of freedom = {m*(r-q)}')\n",
    "    print(f'>> Critical value = {critical_value}')\n",
    "    \n",
    "    if c > critical_value:\n",
    "        print('>> Conclusion : Reject H_0')\n",
    "    else:\n",
    "        print('>> conclusion : Accept H_0')"
   ]
  },
  {
   "cell_type": "code",
   "execution_count": 22,
   "id": "2c7b9e40",
   "metadata": {
    "scrolled": true
   },
   "outputs": [
    {
     "name": "stdout",
     "output_type": "stream",
     "text": [
      "Forward stepwise subset selection\n",
      "  no_features              features             RSS        distance\n",
      "0           1                  [Z2]  2780126.892618             inf\n",
      "1           2              [Z2, Z1]   1710506.85322  1069620.039398\n",
      "2           3          [Z2, Z1, Z3]   1426433.82313    284073.03009\n",
      "3           4      [Z2, Z1, Z3, Z4]  1125871.850559   300561.972571\n",
      "4           5  [Z2, Z1, Z3, Z4, Z5]   905358.604933   220513.245626\n"
     ]
    }
   ],
   "source": [
    "forward_stepwise(X, y)"
   ]
  },
  {
   "cell_type": "markdown",
   "id": "0b2afcca",
   "metadata": {},
   "source": [
    "Từ phương pháp hồi quy từng bước, ta có thể chọn ra `[Z1, Z2]` là các thành phần quan trọng của dữ liệu trên cả 2 biến phản hồi.\n",
    "\n",
    "Khi đó, ta đi kiểm định giả thuyết $H_0: \\beta_3 = \\beta_4 = \\beta_5 = 0$.\n",
    "\n",
    "Giả sử $H_0$ đúng, mặc dù $n=17$ không quá lớn, ta xét thống kê\n",
    "$$-\\left[n-r-1-\\dfrac{1}{2}(m-r+q+1)\\right]\\ln{\\left(\\dfrac{|\\hat{\\Sigma}|}{|\\hat{\\Sigma}_1|}\\right)} \\sim \\chi_{m(r-q)}^2$$\n",
    "\n",
    "Ta tiến hành kiểm định như sau"
   ]
  },
  {
   "cell_type": "code",
   "execution_count": 23,
   "id": "1f1a8dff",
   "metadata": {},
   "outputs": [
    {
     "name": "stdout",
     "output_type": "stream",
     "text": [
      ">> Statistic = 9.018239620001712\n",
      ">> Chi-square degree of freedom = 6\n",
      ">> Critical value = 12.591587243743977\n",
      ">> conclusion : Accept H_0\n"
     ]
    }
   ],
   "source": [
    "likelihood_ratio_test_multivariate(X, y, ['Z1', 'Z2'], 0.05)"
   ]
  },
  {
   "cell_type": "markdown",
   "id": "8f069000",
   "metadata": {},
   "source": [
    "Từ kết quả trên, ta không đủ cơ sở để bác bỏ giả thuyết $H_0$ với mức ý nghĩa $\\alpha = 0.05$. Khi đó, các biến $Z_3, Z_4, Z_5$ không có ý nghĩa."
   ]
  },
  {
   "cell_type": "code",
   "execution_count": 24,
   "id": "f152da22",
   "metadata": {},
   "outputs": [],
   "source": [
    "X_ = X[['Z1', 'Z2']]\n",
    "n, r = X_.shape\n",
    "m = 2\n",
    "q = 2\n",
    "from sklearn import linear_model\n",
    "lm = linear_model.LinearRegression()\n",
    "model = lm.fit(X_,y)"
   ]
  },
  {
   "cell_type": "code",
   "execution_count": 25,
   "id": "afc39bec",
   "metadata": {},
   "outputs": [
    {
     "name": "stdout",
     "output_type": "stream",
     "text": [
      "     Intercept          Z1        Z2\n",
      "Y1   56.720053  507.073084  0.328962\n",
      "Y2 -241.347910  606.309666  0.324255\n"
     ]
    }
   ],
   "source": [
    "coef_table = {'Intercept': model.intercept_}\n",
    "for i, col in enumerate(X_.columns):\n",
    "    coef_table[col] = model.coef_[:,i]\n",
    "coef_table = pd.DataFrame(coef_table, index=['Y1', 'Y2'])\n",
    "coef = coef_table.to_numpy()\n",
    "print(coef_table)"
   ]
  },
  {
   "cell_type": "code",
   "execution_count": 26,
   "id": "86945c13",
   "metadata": {},
   "outputs": [
    {
     "name": "stdout",
     "output_type": "stream",
     "text": [
      "y_hat =  [958.54731166 754.06766893]\n"
     ]
    }
   ],
   "source": [
    "z0 = np.array([1, 1200])\n",
    "y_hat = lm.predict(z0.reshape(1,-1))\n",
    "print(\"y_hat = \", y_hat[0])"
   ]
  },
  {
   "cell_type": "code",
   "execution_count": 27,
   "id": "521a4c7f",
   "metadata": {},
   "outputs": [
    {
     "name": "stdout",
     "output_type": "stream",
     "text": [
      "Signa_hat = \n",
      " [[105903.31543889  90952.60133417]\n",
      " [ 90952.60133417  95332.78493993]]\n"
     ]
    }
   ],
   "source": [
    "_X = sm.add_constant(X_).to_numpy()\n",
    "Sigma_hat = (y.to_numpy() - _X.dot(coef.T)).T.dot((y.to_numpy() - _X.dot(coef.T)))/n\n",
    "print(\"Signa_hat = \\n\", Sigma_hat)"
   ]
  },
  {
   "cell_type": "code",
   "execution_count": 28,
   "id": "b99354e1",
   "metadata": {},
   "outputs": [
    {
     "name": "stdout",
     "output_type": "stream",
     "text": [
      ">> Critical value:  8.93282608048545\n"
     ]
    }
   ],
   "source": [
    "alpha = 0.05\n",
    "c = 1 + z0.T.dot(np.linalg.inv(X_.T.dot(X_)).dot(z0))\n",
    "critical_value = c*((m*(n-r-1))/(n-r-m))*stats.f.ppf(q=1-alpha, dfn=m, dfd=n-r-m)\n",
    "print(\">> Critical value: \", critical_value)"
   ]
  },
  {
   "cell_type": "code",
   "execution_count": 29,
   "id": "5c6704f4",
   "metadata": {},
   "outputs": [
    {
     "data": {
      "image/png": "[encoded data removed]",
      "text/plain": [
       "<Figure size 432x288 with 1 Axes>"
      ]
     },
     "metadata": {
      "needs_background": "light"
     },
     "output_type": "display_data"
    }
   ],
   "source": [
    "fig, ax = plt.subplots()\n",
    "\n",
    "e = get_cov_ellipse(Sigma_hat, y_hat[0], np.sqrt(critical_value*(n/(n-r-1))), edgecolor='red', facecolor='None')\n",
    "r = simultaneous_ci_2d(IC1, IC2, ec ='blue', fc='None')\n",
    "ax.axvline(c='grey', lw=1)\n",
    "ax.axhline(c='grey', lw=1)\n",
    "ax.scatter(y_hat[0][0], y_hat[0][1], c='blue', s=25)\n",
    "ax.add_patch(e)\n",
    "ax.add_patch(r)\n",
    "ax.set_title(\"95% prediction ellipse for Y1 and Y2\")\n",
    "ax.set_xlabel('Y1')\n",
    "ax.set_ylabel('Y2')\n",
    "\n",
    "plt.show()"
   ]
  },
  {
   "cell_type": "markdown",
   "id": "10741497",
   "metadata": {},
   "source": [
    "Ta có thể thấy rằng phạm vi của từng biến phản hồi khi xét riêng lẻ nhỏ hơn so với hình ellipse. Hình ellipse vẫn chứa điểm **0** trong khi từng biến phản hồi riêng lẻ thì chỉ có biến thứ 2 là có chứa 0. Điều này nói lên được, tổng mức TCAD trong huyết tương (TOT) luôn có, lượng amitriptyline có trong mức TCAD trong huyết tương vẫn xuất hiện nhưng khả năng lại kém hơn 1 ít do tồn tại giá trị 0 trong khoảng dự đoán 95%. Hơn nữa, vẫn có trường hợp không có tác dụng phụ khi xét cả 2 biến phản hồi với độ tin cậy 95% do hình ellipse dự đoán 95% vẫn chứa **0**.\n"
   ]
  }
 ],
 "metadata": {
  "kernelspec": {
   "display_name": "Python 3",
   "language": "python",
   "name": "python3"
  },
  "language_info": {
   "codemirror_mode": {
    "name": "ipython",
    "version": 3
   },
   "file_extension": ".py",
   "mimetype": "text/x-python",
   "name": "python",
   "nbconvert_exporter": "python",
   "pygments_lexer": "ipython3",
   "version": "3.7.10"
  }
 },
 "nbformat": 4,
 "nbformat_minor": 5
}
