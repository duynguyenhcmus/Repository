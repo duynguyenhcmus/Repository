{
 "cells": [
  {
   "cell_type": "code",
   "execution_count": 1,
   "metadata": {
    "id": "jbyykhF6F1CZ"
   },
   "outputs": [],
   "source": [
    "import numpy as np\n",
    "import pandas as pd\n",
    "import scipy.stats as stats"
   ]
  },
  {
   "cell_type": "code",
   "execution_count": 2,
   "metadata": {
    "colab": {
     "base_uri": "https://localhost:8080/"
    },
    "id": "LhrgDBVS0h7x",
    "outputId": "d425bf52-2123-4a32-c34d-e8e23a23a6f2"
   },
   "outputs": [
    {
     "name": "stdout",
     "output_type": "stream",
     "text": [
      "Drive already mounted at /content/drive; to attempt to forcibly remount, call drive.mount(\"/content/drive\", force_remount=True).\n"
     ]
    }
   ],
   "source": [
    "from google.colab import drive\n",
    "drive.mount('/content/drive')"
   ]
  },
  {
   "cell_type": "code",
   "execution_count": 3,
   "metadata": {
    "id": "n_ukR_SQyi4c"
   },
   "outputs": [],
   "source": [
    "import matplotlib.pyplot as plt\n",
    "from matplotlib.patches import Ellipse, Rectangle\n",
    "\n",
    "def get_cov_ellipse(cov, centre, nstd, eig = False, **kwargs):\n",
    "    \"\"\"\n",
    "    Return a matplotlib Ellipse patch representing the covariance matrix\n",
    "    cov centred at centre and scaled by the factor nstd.\n",
    "\n",
    "    \"\"\"\n",
    "\n",
    "    # Find and sort eigenvalues and eigenvectors into descending order\n",
    "    eigvals, eigvecs = np.linalg.eigh(cov)\n",
    "    order = eigvals.argsort()[::-1]\n",
    "    eigvals, eigvecs = eigvals[order], eigvecs[:, order]\n",
    "    # The anti-clockwise angle to rotate our ellipse by \n",
    "    vx, vy = eigvecs[:,0][0], eigvecs[:,0][1]\n",
    "    theta = np.arctan2(vy, vx)\n",
    "\n",
    "    # Width and height of ellipse to draw\n",
    "    width, height = 2 * nstd * np.sqrt(eigvals)\n",
    "    if eig:\n",
    "        return Ellipse(xy=centre, width=width, height=height,\n",
    "                   angle=np.degrees(theta), **kwargs), eigvals, eigvecs\n",
    "    else: \n",
    "        return Ellipse(xy=centre, width=width, height=height,\n",
    "                   angle=np.degrees(theta), **kwargs)\n",
    "    \n",
    "def simultaneous_ci_2d(IC_1, IC_2, **kwargs):\n",
    "    height = IC_2[1]-IC_2[0]\n",
    "    width = IC_1[1]-IC_1[0]\n",
    "    point = [IC_1[0],IC_2[0]]\n",
    "    return Rectangle(point, width, height, **kwargs)"
   ]
  },
  {
   "cell_type": "markdown",
   "metadata": {
    "id": "GQixHvOeoMV1"
   },
   "source": [
    "### Ví dụ 6.1 (Kiểm tra độ chênh lệch trung bình với các cặp quan sát)"
   ]
  },
  {
   "cell_type": "code",
   "execution_count": 4,
   "metadata": {
    "colab": {
     "base_uri": "https://localhost:8080/"
    },
    "id": "EuMzcenXYu-4",
    "outputId": "e860e1fb-b2e1-487e-ba06-2c56f7ac7406"
   },
   "outputs": [
    {
     "name": "stdout",
     "output_type": "stream",
     "text": [
      "       0      1     2     3\n",
      "0    6.0   27.0  25.0  15.0\n",
      "1    6.0   23.0  28.0  13.0\n",
      "2   18.0   64.0  36.0  22.0\n",
      "3    8.0   44.0  35.0  29.0\n",
      "4   11.0   30.0  15.0  31.0\n",
      "5   34.0   75.0  44.0  64.0\n",
      "6   28.0   26.0  42.0  30.0\n",
      "7   71.0  124.0  54.0  64.0\n",
      "8   43.0   54.0  34.0  56.0\n",
      "9   33.0   30.0  29.0  20.0\n",
      "10  20.0   14.0  39.0  21.0\n"
     ]
    }
   ],
   "source": [
    "path = '/content/drive/MyDrive/2020-2021/TKNC/Dataset/T6-1.txt'\n",
    "data = pd.DataFrame(np.loadtxt(path))\n",
    "print(data.head(11))"
   ]
  },
  {
   "cell_type": "code",
   "execution_count": 5,
   "metadata": {
    "colab": {
     "base_uri": "https://localhost:8080/"
    },
    "id": "XPZ_RiICdyeK",
    "outputId": "f2813538-b4a6-4915-9732-677329c20dcf"
   },
   "outputs": [
    {
     "name": "stdout",
     "output_type": "stream",
     "text": [
      "Differences of paired observations: \n",
      " [[-19. -22. -18. -27.  -4. -10. -14.  17.   9.   4. -19.]\n",
      " [ 12.  10.  42.  15.  -1.  11.  -4.  60.  -2.  10.  -7.]]\n",
      "\n",
      "Mean vector d_mean: \n",
      " [-9.36363636 13.27272727]\n",
      "\n",
      "Covariance matrix Sd: \n",
      " [[199.25454545  88.30909091]\n",
      " [ 88.30909091 418.61818182]]\n"
     ]
    }
   ],
   "source": [
    "# differences giữa các cặp quan trắc\n",
    "d1 = data.loc[:,0] - data.loc[:,2]\n",
    "d2 = data.loc[:,1] - data.loc[:,3]\n",
    "d = np.array([d1, d2])\n",
    "print(\"Differences of paired observations: \\n\",d)\n",
    "\n",
    "# vectơ trung bình\n",
    "d_mean = np.mean(d, axis=1)\n",
    "print(\"\\nMean vector d_mean: \\n\", d_mean)\n",
    "\n",
    "# Ma trận hiệp phương sai\n",
    "Sd = np.cov(d)\n",
    "print(\"\\nCovariance matrix Sd: \\n\", Sd)"
   ]
  },
  {
   "cell_type": "code",
   "execution_count": 6,
   "metadata": {
    "colab": {
     "base_uri": "https://localhost:8080/"
    },
    "id": "jdJPdXjxFl3c",
    "outputId": "6038ceca-c4d5-470e-fc88-83204150633a"
   },
   "outputs": [
    {
     "name": "stdout",
     "output_type": "stream",
     "text": [
      "13.639312140174688\n"
     ]
    }
   ],
   "source": [
    "# Ma trận nghịch đảo của Sd\n",
    "invSd = np.linalg.inv(Sd)\n",
    "\n",
    "# Tính giá trị thống kê T^2\n",
    "T2 = len(data)*np.matmul(np.matmul(d_mean,invSd),np.transpose(d_mean))\n",
    "print(T2)"
   ]
  },
  {
   "cell_type": "code",
   "execution_count": 7,
   "metadata": {
    "colab": {
     "base_uri": "https://localhost:8080/"
    },
    "id": "9lauSvXEKchm",
    "outputId": "1c3a86fc-1c04-4c2f-8acb-c8bd4e24c55d"
   },
   "outputs": [
    {
     "name": "stdout",
     "output_type": "stream",
     "text": [
      "9.458877175763888\n"
     ]
    }
   ],
   "source": [
    "alpha = 0.05\n",
    "p, n = d.shape\n",
    "\n",
    "# Giá trị tới hạn của phân phối fisher với mức ý nghĩa 0.05\n",
    "f = stats.f.ppf(q=1-alpha, dfn=p, dfd=n-p)\n",
    "F = (p*(n-1)/(n-p))*f\n",
    "print(F)"
   ]
  },
  {
   "cell_type": "code",
   "execution_count": 8,
   "metadata": {
    "colab": {
     "base_uri": "https://localhost:8080/"
    },
    "id": "a7mmdw5qt4dx",
    "outputId": "1040cee9-4cb0-4426-8b4f-3475e7d08562"
   },
   "outputs": [
    {
     "name": "stdout",
     "output_type": "stream",
     "text": [
      "95% Simultaneous confidence intervals of delta_1: \n",
      " [-22.45327235   3.72599962]\n",
      "\n",
      "95% Simultaneous confidence intervals of delta_2: \n",
      " [-5.70011927 32.24557382]\n"
     ]
    }
   ],
   "source": [
    "lcb = lambda i: d_mean[i-1] - np.sqrt(F)*np.sqrt(Sd[i-1][i-1]/n)\n",
    "ucb = lambda i: d_mean[i-1] + np.sqrt(F)*np.sqrt(Sd[i-1][i-1]/n)\n",
    "\n",
    "# Khoảng tin cậy đồng thời với độ tin cậy 95% cho từng delta\n",
    "IC_1 = np.array([lcb(1),ucb(1)])\n",
    "print(\"95% Simultaneous confidence intervals of delta_1: \\n\", IC_1)\n",
    "\n",
    "IC_2 = np.array([lcb(2),ucb(2)])\n",
    "print(\"\\n95% Simultaneous confidence intervals of delta_2: \\n\", IC_2)"
   ]
  },
  {
   "cell_type": "code",
   "execution_count": 9,
   "metadata": {
    "colab": {
     "base_uri": "https://localhost:8080/",
     "height": 282
    },
    "id": "eV9ivd-JXCgK",
    "outputId": "7ad75a0d-4a7a-4587-9208-25a8e49b8d93"
   },
   "outputs": [
    {
     "data": {
      "text/plain": [
       "<matplotlib.patches.Ellipse at 0x7f6b0e4f1350>"
      ]
     },
     "execution_count": 9,
     "metadata": {
      "tags": []
     },
     "output_type": "execute_result"
    },
    {
     "data": {
      "image/png": "[encoded data removed]",
      "text/plain": [
       "<Figure size 432x288 with 1 Axes>"
      ]
     },
     "metadata": {
      "needs_background": "light",
      "tags": []
     },
     "output_type": "display_data"
    }
   ],
   "source": [
    "fig, ax = plt.subplots()\n",
    "\n",
    "e = get_cov_ellipse(Sd, d_mean, np.sqrt(F/n), edgecolor='red', facecolor='None')\n",
    "r = simultaneous_ci_2d(IC_1, IC_2, ec ='blue', fc='None')\n",
    "ax.axvline(c='grey', lw=1)\n",
    "ax.axhline(c='grey', lw=1)\n",
    "ax.scatter(d_mean[0], d_mean[1], c='blue', s=25)\n",
    "ax.add_patch(r)\n",
    "ax.add_patch(e)"
   ]
  },
  {
   "cell_type": "markdown",
   "metadata": {
    "id": "SirIs518coDv"
   },
   "source": [
    "### Ví dụ 6.2 (Kiểm định sự tương đồng giữa các treatment trong repeated measures design)"
   ]
  },
  {
   "cell_type": "code",
   "execution_count": 10,
   "metadata": {
    "colab": {
     "base_uri": "https://localhost:8080/"
    },
    "id": "M981V0jnLJj7",
    "outputId": "e00bbe64-a419-4354-867d-6af206138f96"
   },
   "outputs": [
    {
     "name": "stdout",
     "output_type": "stream",
     "text": [
      "        0      1      2      3\n",
      "0   426.0  609.0  556.0  600.0\n",
      "1   253.0  236.0  392.0  395.0\n",
      "2   359.0  433.0  349.0  357.0\n",
      "3   432.0  431.0  522.0  600.0\n",
      "4   405.0  426.0  513.0  513.0\n",
      "5   324.0  438.0  507.0  539.0\n",
      "6   310.0  312.0  410.0  456.0\n",
      "7   326.0  326.0  350.0  504.0\n",
      "8   375.0  447.0  547.0  548.0\n",
      "9   286.0  286.0  403.0  422.0\n",
      "10  349.0  382.0  473.0  497.0\n",
      "11  429.0  410.0  488.0  547.0\n",
      "12  348.0  377.0  447.0  514.0\n",
      "13  412.0  473.0  472.0  446.0\n",
      "14  347.0  326.0  455.0  468.0\n",
      "15  434.0  458.0  637.0  524.0\n",
      "16  364.0  367.0  432.0  469.0\n",
      "17  420.0  395.0  508.0  531.0\n",
      "18  397.0  556.0  645.0  625.0\n"
     ]
    }
   ],
   "source": [
    "path = '/content/drive/MyDrive/2020-2021/TKNC/Dataset/T6-2.txt'\n",
    "data = np.loadtxt(path)\n",
    "data = pd.DataFrame(data)\n",
    "print(data.head(20))"
   ]
  },
  {
   "cell_type": "code",
   "execution_count": 11,
   "metadata": {
    "colab": {
     "base_uri": "https://localhost:8080/"
    },
    "id": "ylAAG7A_M9pM",
    "outputId": "a245a1fd-218d-49f8-c74b-ba32d7a2a1d3"
   },
   "outputs": [
    {
     "name": "stdout",
     "output_type": "stream",
     "text": [
      "\n",
      "Mean vector x_mean: \n",
      " [368.21052632 404.63157895 479.26315789 502.89473684]\n",
      "\n",
      "Covariance matrix S: \n",
      " [[2819.28654971 3568.41520468 2943.49707602 2295.35672515]\n",
      " [3568.41520468 7963.13450292 5303.99122807 4065.45906433]\n",
      " [2943.49707602 5303.99122807 6851.31578947 4499.64035088]\n",
      " [2295.35672515 4065.45906433 4499.64035088 4878.98830409]]\n"
     ]
    }
   ],
   "source": [
    "# vectơ trung bình\n",
    "x_mean = np.array(data.apply(np.mean))\n",
    "print(\"\\nMean vector x_mean: \\n\", x_mean)\n",
    "\n",
    "# Ma trận hiệp phương sai\n",
    "S = np.array(np.cov(data.T))\n",
    "print(\"\\nCovariance matrix S: \\n\", S)"
   ]
  },
  {
   "cell_type": "code",
   "execution_count": 12,
   "metadata": {
    "colab": {
     "base_uri": "https://localhost:8080/"
    },
    "id": "b49fZy8qPybB",
    "outputId": "58234216-c5e5-4b54-ddac-d187afaaacb0"
   },
   "outputs": [
    {
     "name": "stdout",
     "output_type": "stream",
     "text": [
      "Contrast matrix C: \n",
      " [[-1 -1  1  1]\n",
      " [ 1 -1  1 -1]\n",
      " [ 1 -1 -1  1]]\n"
     ]
    }
   ],
   "source": [
    "# contrast matrix\n",
    "C = np.array([[-1,-1,1,1],[1,-1,1,-1],[1,-1,-1,1]])\n",
    "print(\"Contrast matrix C: \\n\", C)"
   ]
  },
  {
   "cell_type": "code",
   "execution_count": 13,
   "metadata": {
    "colab": {
     "base_uri": "https://localhost:8080/"
    },
    "id": "n3vez_ipQ3DC",
    "outputId": "59488cdb-3672-4719-f29b-cf19f48dbf9a"
   },
   "outputs": [
    {
     "name": "stdout",
     "output_type": "stream",
     "text": [
      "C.x_mean: \n",
      " [209.31578947 -60.05263158 -12.78947368]\n",
      "\n",
      "CSC': \n",
      " [[9432.22807018 1098.90643275  927.59649123]\n",
      " [1098.90643275 5195.83040936  914.56725146]\n",
      " [ 927.59649123  914.56725146 7557.39766082]]\n"
     ]
    }
   ],
   "source": [
    "Cx_mean = np.matmul(C,x_mean)\n",
    "CSC = np.matmul(np.matmul(C,S),np.transpose(C))\n",
    "print(\"C.x_mean: \\n\", Cx_mean)\n",
    "print(\"\\nCSC': \\n\", CSC)"
   ]
  },
  {
   "cell_type": "code",
   "execution_count": 14,
   "metadata": {
    "colab": {
     "base_uri": "https://localhost:8080/"
    },
    "id": "7KJTpGN9RFQx",
    "outputId": "04f54bb6-6b3d-4474-a194-7db17d7b5cfe"
   },
   "outputs": [
    {
     "name": "stdout",
     "output_type": "stream",
     "text": [
      "116.01632120098769\n"
     ]
    }
   ],
   "source": [
    "# Ma trận nghịch đảo của Sd\n",
    "invCSC = np.linalg.inv(CSC)\n",
    "n = data.shape[0]\n",
    "\n",
    "# Tính giá trị thống kê T^2\n",
    "T2 = n*np.matmul(np.matmul(np.transpose(Cx_mean),invCSC),Cx_mean)\n",
    "print(T2)"
   ]
  },
  {
   "cell_type": "code",
   "execution_count": 15,
   "metadata": {
    "colab": {
     "base_uri": "https://localhost:8080/"
    },
    "id": "sxsC1PA4SYrK",
    "outputId": "5f737c9f-4409-4dc9-cf16-6667f597e814"
   },
   "outputs": [
    {
     "name": "stdout",
     "output_type": "stream",
     "text": [
      "10.931191371405848\n"
     ]
    }
   ],
   "source": [
    "alpha = 0.05\n",
    "n, q = data.shape\n",
    "\n",
    "# Giá trị tới hạn của phân phối fisher với mức ý nghĩa 0.05\n",
    "f = stats.f.ppf(q=1-alpha, dfn=q-1, dfd=n-q+1)\n",
    "F = ((n-1)*(q-1)/(n-q+1))*f\n",
    "print(F)"
   ]
  },
  {
   "cell_type": "code",
   "execution_count": 16,
   "metadata": {
    "colab": {
     "base_uri": "https://localhost:8080/"
    },
    "id": "Pum5Tn4oY-XR",
    "outputId": "2eb487b9-275f-465f-d07b-96397a54ab7e"
   },
   "outputs": [
    {
     "name": "stdout",
     "output_type": "stream",
     "text": [
      "95% simultaneous confidence intervals for c'1mu: \n",
      "[135.65029726884833, 282.98128167851996]\n",
      "\n",
      "95% simultaneous confidence intervals for c'2mu: \n",
      "[-114.72708271716843, -5.378180440726595]\n",
      "\n",
      "95% simultaneous confidence intervals for c'3mu: \n",
      "[-78.72858439298815, 53.14963702456711]\n",
      "\n"
     ]
    }
   ],
   "source": [
    "lcb = lambda i: Cx_mean[i] - np.sqrt(F)*np.sqrt(CSC[i][i]/n)\n",
    "ucb = lambda i: Cx_mean[i] + np.sqrt(F)*np.sqrt(CSC[i][i]/n)\n",
    "\n",
    "# 95% simultaneous confidence intervals for these contrasts\n",
    "IC = []\n",
    "for i in range(C.shape[0]):\n",
    "    ic = [lcb(i), ucb(i)]\n",
    "    print(\"95% simultaneous confidence intervals for c'{}mu: \\n{}\\n\".format(i+1, ic))\n",
    "    IC.append(ic)"
   ]
  },
  {
   "cell_type": "markdown",
   "metadata": {
    "id": "wtPLcXfe_uNX"
   },
   "source": [
    "### Ví dụ 6.3 (Xây dựng miền tin cậy cho differece giữa hai vectơ trung bình)"
   ]
  },
  {
   "cell_type": "code",
   "execution_count": 17,
   "metadata": {
    "id": "wQ2yOESoaVlK"
   },
   "outputs": [],
   "source": [
    "x_mean_1 = np.array([8.3, 4.1])\n",
    "x_mean_2 = np.array([10.2, 3.9])\n",
    "S_1 = np.array([[2, 1], [1, 6]])\n",
    "S_2 = np.array([[2, 1], [1, 4]])\n",
    "n1 = n2 = 50"
   ]
  },
  {
   "cell_type": "code",
   "execution_count": 18,
   "metadata": {
    "colab": {
     "base_uri": "https://localhost:8080/"
    },
    "id": "sjyl4njRZy7P",
    "outputId": "c90048d4-79a6-4db9-dae6-f5b711726512"
   },
   "outputs": [
    {
     "name": "stdout",
     "output_type": "stream",
     "text": [
      "x_mean: \n",
      " [-1.9  0.2]\n",
      "\n",
      "S_pooled: \n",
      " [[2. 1.]\n",
      " [1. 5.]]\n"
     ]
    }
   ],
   "source": [
    "S_pooled = (n1-1)/(n1+n2-2)*S_1+(n2-1)/(n1+n2-2)*S_2\n",
    "x_mean = x_mean_1 - x_mean_2\n",
    "print(\"x_mean: \\n\", x_mean)\n",
    "print(\"\\nS_pooled: \\n\",S_pooled)"
   ]
  },
  {
   "cell_type": "code",
   "execution_count": 19,
   "metadata": {
    "colab": {
     "base_uri": "https://localhost:8080/"
    },
    "id": "n4NvG5VYu1VM",
    "outputId": "8df19398-fad7-4394-be00-80311f5c3838"
   },
   "outputs": [
    {
     "name": "stdout",
     "output_type": "stream",
     "text": [
      "0.24976354157952674\n"
     ]
    }
   ],
   "source": [
    "alpha =0.05\n",
    "p=2\n",
    "f = stats.f.ppf(q=1-alpha, dfn=p, dfd=n1+n2-p-1)\n",
    "c2 = ((n1+n2-2)*p)/(n1+n2-p-1)*f\n",
    "C2 = (1/n1+1/n2)*c2\n",
    "print(C2)"
   ]
  },
  {
   "cell_type": "code",
   "execution_count": 20,
   "metadata": {
    "colab": {
     "base_uri": "https://localhost:8080/",
     "height": 384
    },
    "id": "lR8-l34VaZlU",
    "outputId": "faecccb6-c72c-45ef-c41a-db3b91239048"
   },
   "outputs": [
    {
     "name": "stdout",
     "output_type": "stream",
     "text": [
      "Eigenvalues: \n",
      " [5.30277564 1.69722436]\n",
      "\n",
      "Eigenvectors: \n",
      " [[ 0.28978415 -0.95709203]\n",
      " [ 0.95709203  0.28978415]]\n"
     ]
    },
    {
     "data": {
      "text/plain": [
       "<matplotlib.patches.Ellipse at 0x7f6b04f3ed50>"
      ]
     },
     "execution_count": 20,
     "metadata": {
      "tags": []
     },
     "output_type": "execute_result"
    },
    {
     "data": {
      "image/png": "[encoded data removed]",
      "text/plain": [
       "<Figure size 432x288 with 1 Axes>"
      ]
     },
     "metadata": {
      "needs_background": "light",
      "tags": []
     },
     "output_type": "display_data"
    }
   ],
   "source": [
    "e, eigvals, eigvecs = get_cov_ellipse(S_pooled.T, x_mean, np.sqrt(C2), edgecolor='red', facecolor='None', eig=True)\n",
    "print(\"Eigenvalues: \\n\",eigvals)\n",
    "print(\"\\nEigenvectors: \\n\",eigvecs)\n",
    "fig, ax = plt.subplots()\n",
    "ax.axvline(c='grey', lw=1)\n",
    "ax.axhline(c='grey', lw=1)\n",
    "ax.scatter(x_mean[0], x_mean[1], c='blue', s=25)\n",
    "ax.add_patch(e)"
   ]
  },
  {
   "cell_type": "markdown",
   "metadata": {
    "id": "z_4RA34P6gGV"
   },
   "source": [
    "### Ví dụ 6.4 (Tìm khoảng tin cậy đồng thời cho differences giữa các thành phần của trung bình)"
   ]
  },
  {
   "cell_type": "code",
   "execution_count": 21,
   "metadata": {
    "id": "DlIoKv2ZazX0"
   },
   "outputs": [],
   "source": [
    "x_mean_1 = np.array([204.4, 556.6])\n",
    "S_1 = np.array([[13825.3, 23823.4], [23823.4, 73107.4]])\n",
    "n1 = 45\n",
    "\n",
    "x_mean_2 = np.array([130.0, 355.0])\n",
    "S_2 = np.array([[8632.0, 19616.7], [19616.7, 55964.5]])\n",
    "n2 = 55"
   ]
  },
  {
   "cell_type": "code",
   "execution_count": 22,
   "metadata": {
    "colab": {
     "base_uri": "https://localhost:8080/"
    },
    "id": "a86uCycStRez",
    "outputId": "406ca73a-52d1-4eb0-babb-97d8079605de"
   },
   "outputs": [
    {
     "name": "stdout",
     "output_type": "stream",
     "text": [
      "[[10963.68571429 21505.42244898]\n",
      " [21505.42244898 63661.3122449 ]]\n"
     ]
    }
   ],
   "source": [
    "x_mean = x_mean_1 - x_mean_2\n",
    "S_pooled = (n1-1)/(n1+n2-2)*S_1+(n2-1)/(n1+n2-2)*S_2\n",
    "print(S_pooled)"
   ]
  },
  {
   "cell_type": "code",
   "execution_count": 23,
   "metadata": {
    "colab": {
     "base_uri": "https://localhost:8080/"
    },
    "id": "BgxSwev1tnaA",
    "outputId": "0931ad32-c7ba-4f58-fd5c-aa4be88afbb2"
   },
   "outputs": [
    {
     "name": "stdout",
     "output_type": "stream",
     "text": [
      "6.244088539488168\n"
     ]
    }
   ],
   "source": [
    "alpha = 0.05\n",
    "p = 2\n",
    "f = stats.f.ppf(q=1-alpha, dfn=p, dfd=n1+n2-p-1)\n",
    "c2 = ((n1+n2-2)*p)/(n1+n2-p-1)*f\n",
    "print(c2)"
   ]
  },
  {
   "cell_type": "code",
   "execution_count": 24,
   "metadata": {
    "colab": {
     "base_uri": "https://localhost:8080/"
    },
    "id": "KdQc5CUCu-96",
    "outputId": "8099f493-f01a-4746-ef56-ea8a9d93ff30"
   },
   "outputs": [
    {
     "name": "stdout",
     "output_type": "stream",
     "text": [
      "95% simultaneous confidence intervals for mu11-mu21: \n",
      "[21.807330725864006, 126.992669274136]\n",
      "\n",
      "95% simultaneous confidence intervals for mu12-mu22: \n",
      "[74.86845836837189, 328.33154163162817]\n",
      "\n"
     ]
    }
   ],
   "source": [
    "lcb = lambda i: x_mean[i] - np.sqrt(c2)*np.sqrt((1/n1+1/n2)*S_pooled[i][i])\n",
    "ucb = lambda i: x_mean[i] + np.sqrt(c2)*np.sqrt((1/n1+1/n2)*S_pooled[i][i])\n",
    "\n",
    "# 95% simultaneous confidence intervals for these contrasts\n",
    "IC = []\n",
    "for i in range(p):\n",
    "    ic = [lcb(i), ucb(i)]\n",
    "    print(\"95% simultaneous confidence intervals for mu1{}-mu2{}: \\n{}\\n\".format(i+1, i+1, ic))\n",
    "    IC.append(ic)"
   ]
  },
  {
   "cell_type": "code",
   "execution_count": 25,
   "metadata": {
    "colab": {
     "base_uri": "https://localhost:8080/",
     "height": 384
    },
    "id": "Drab5yDByrWT",
    "outputId": "11c65770-54e5-456c-e3d2-9788453f3c5f"
   },
   "outputs": [
    {
     "name": "stdout",
     "output_type": "stream",
     "text": [
      "Eigenvalues: \n",
      " [71323.42597665  3301.57198254]\n",
      "\n",
      "Eigenvectors: \n",
      " [[ 0.33562172 -0.94199685]\n",
      " [ 0.94199685  0.33562172]]\n"
     ]
    },
    {
     "data": {
      "text/plain": [
       "<matplotlib.patches.Rectangle at 0x7f6b04f266d0>"
      ]
     },
     "execution_count": 25,
     "metadata": {
      "tags": []
     },
     "output_type": "execute_result"
    },
    {
     "data": {
      "image/png": "[encoded data removed]",
      "text/plain": [
       "<Figure size 432x288 with 1 Axes>"
      ]
     },
     "metadata": {
      "needs_background": "light",
      "tags": []
     },
     "output_type": "display_data"
    }
   ],
   "source": [
    "C2 = (1/n1+1/n2)*c2\n",
    "e, eigvals, eigvecs = get_cov_ellipse(S_pooled.T, x_mean, np.sqrt(C2), edgecolor='red', facecolor='None', eig=True)\n",
    "print(\"Eigenvalues: \\n\",eigvals)\n",
    "print(\"\\nEigenvectors: \\n\",eigvecs)\n",
    "r = simultaneous_ci_2d(IC[0], IC[1], ec ='blue', fc='None')\n",
    "fig, ax = plt.subplots()\n",
    "ax.axvline(c='grey', lw=1)\n",
    "ax.axhline(c='grey', lw=1)\n",
    "ax.scatter(x_mean[0], x_mean[1], c='blue', s=25)\n",
    "ax.add_patch(e)\n",
    "ax.add_patch(r)"
   ]
  },
  {
   "cell_type": "markdown",
   "metadata": {
    "id": "LDbywwmnlPF-"
   },
   "source": [
    "### Ví dụ 6.5 (Phương pháp mẫu lớn cho suy luận về differences trong kỳ vọng)"
   ]
  },
  {
   "cell_type": "code",
   "execution_count": 26,
   "metadata": {
    "colab": {
     "base_uri": "https://localhost:8080/"
    },
    "id": "8q-klSIxz8FZ",
    "outputId": "32dcc5af-27c0-4242-d860-41423de1879f"
   },
   "outputs": [
    {
     "name": "stdout",
     "output_type": "stream",
     "text": [
      "[[ 464.17434343  886.07616162]\n",
      " [ 886.07616162 2642.14525253]]\n"
     ]
    }
   ],
   "source": [
    "S = 1/n1*S_1 + 1/n2*S_2\n",
    "print(S)"
   ]
  },
  {
   "cell_type": "code",
   "execution_count": 27,
   "metadata": {
    "colab": {
     "base_uri": "https://localhost:8080/"
    },
    "id": "wxY6NIgFlaZO",
    "outputId": "fdb3b635-fd02-4beb-8451-f1549692fb11"
   },
   "outputs": [
    {
     "name": "stdout",
     "output_type": "stream",
     "text": [
      "15.658529097464301\n"
     ]
    }
   ],
   "source": [
    "T2 = np.matmul(np.matmul(np.transpose(x_mean), np.linalg.inv(S)),x_mean)\n",
    "print(T2)"
   ]
  },
  {
   "cell_type": "code",
   "execution_count": 28,
   "metadata": {
    "colab": {
     "base_uri": "https://localhost:8080/"
    },
    "id": "aOjfFBqSoatA",
    "outputId": "4abd09e1-4d12-4235-dedc-6a5c8dc6a70f"
   },
   "outputs": [
    {
     "name": "stdout",
     "output_type": "stream",
     "text": [
      "5.991464547107979\n"
     ]
    }
   ],
   "source": [
    "alpha = 0.05\n",
    "critical_value = stats.chi2.ppf(q=1-alpha, df=2)\n",
    "print(critical_value)"
   ]
  },
  {
   "cell_type": "code",
   "execution_count": 29,
   "metadata": {
    "colab": {
     "base_uri": "https://localhost:8080/"
    },
    "id": "USQhi8SKpT7Y",
    "outputId": "12c7a944-72d1-4a5c-9fcd-a4020bda45a6"
   },
   "outputs": [
    {
     "data": {
      "text/plain": [
       "array([0.04066  , 0.0626658])"
      ]
     },
     "execution_count": 29,
     "metadata": {
      "tags": []
     },
     "output_type": "execute_result"
    }
   ],
   "source": [
    "a_hat = np.matmul(np.linalg.inv(S), x_mean)\n",
    "a_hat"
   ]
  },
  {
   "cell_type": "markdown",
   "metadata": {
    "id": "fMAfd0qu_HRe"
   },
   "source": [
    "### Ví dụ 6.6 (Xấp xỉ phân phối $T^2$ khi $\\boldsymbol\\Sigma_1\\neq\\boldsymbol\\Sigma_2$)"
   ]
  },
  {
   "cell_type": "code",
   "execution_count": 30,
   "metadata": {
    "colab": {
     "base_uri": "https://localhost:8080/"
    },
    "id": "snDzWIOhA9Hc",
    "outputId": "beae2be7-c861-4e4f-a69f-2748e800eced"
   },
   "outputs": [
    {
     "name": "stdout",
     "output_type": "stream",
     "text": [
      "(1/n1)S1 = \n",
      " [[ 307.22888889  529.40888889]\n",
      " [ 529.40888889 1624.60888889]]\n",
      "\n",
      "(1/n2)S2 = \n",
      " [[ 156.94545455  356.66727273]\n",
      " [ 356.66727273 1017.53636364]]\n"
     ]
    }
   ],
   "source": [
    "cS_1 = 1/n1*S_1\n",
    "cS_2 = 1/n2*S_2\n",
    "print(\"(1/n1)S1 = \\n\",cS_1)\n",
    "print(\"\\n(1/n2)S2 = \\n\",cS_2)"
   ]
  },
  {
   "cell_type": "code",
   "execution_count": 31,
   "metadata": {
    "colab": {
     "base_uri": "https://localhost:8080/"
    },
    "id": "c5h4e2FDvwXI",
    "outputId": "c3672d27-0286-48d1-c9ec-14f7c60fe993"
   },
   "outputs": [
    {
     "name": "stdout",
     "output_type": "stream",
     "text": [
      "Invert of S: \n",
      " [[ 0.00598739 -0.00200795]\n",
      " [-0.00200795  0.00105187]]\n"
     ]
    }
   ],
   "source": [
    "invS = np.linalg.inv(S)\n",
    "print(\"Invert of S: \\n\",invS)"
   ]
  },
  {
   "cell_type": "code",
   "execution_count": 32,
   "metadata": {
    "colab": {
     "base_uri": "https://localhost:8080/"
    },
    "id": "6ayTwrOAAPGE",
    "outputId": "18fa5e64-3a6b-4fda-d12b-f1dbbc8fb935"
   },
   "outputs": [
    {
     "name": "stdout",
     "output_type": "stream",
     "text": [
      "(1/n1)S1[(1/n1)S1 + (1/n2)S2]^(-1) = \n",
      " [[ 0.77647483 -0.06002961]\n",
      " [-0.09234853  0.64585273]]\n",
      "\n",
      "((1/n1)S1[(1/n1)S1 + (1/n2)S2]^(-1))^2 = \n",
      " [[ 0.60845681 -0.08538177]\n",
      " [-0.13134985  0.42266939]]\n",
      "\n",
      "(1/n2)S2[(1/n1)S1 + (1/n2)S2]^(-1) = \n",
      " [[0.22352517 0.06002961]\n",
      " [0.09234853 0.35414727]]\n",
      "\n",
      "((1/n2)S2[(1/n1)S1 + (1/n2)S2]^(-1))^2 = \n",
      " [[0.05550715 0.03467745]\n",
      " [0.0533472  0.13096394]]\n"
     ]
    }
   ],
   "source": [
    "square_mt = lambda X: np.matmul(X,X)\n",
    "\n",
    "A1 = np.matmul(cS_1,invS)\n",
    "sqA1 = square_mt(A1)\n",
    "print(\"(1/n1)S1[(1/n1)S1 + (1/n2)S2]^(-1) = \\n\", A1)\n",
    "print(\"\\n((1/n1)S1[(1/n1)S1 + (1/n2)S2]^(-1))^2 = \\n\", sqA1)\n",
    "\n",
    "A2 = np.matmul(cS_2,invS)\n",
    "sqA2 = square_mt(A2)\n",
    "print(\"\\n(1/n2)S2[(1/n1)S1 + (1/n2)S2]^(-1) = \\n\", A2)\n",
    "print(\"\\n((1/n2)S2[(1/n1)S1 + (1/n2)S2]^(-1))^2 = \\n\", sqA2)"
   ]
  },
  {
   "cell_type": "code",
   "execution_count": 33,
   "metadata": {
    "colab": {
     "base_uri": "https://localhost:8080/"
    },
    "id": "MLbUPffKCIR0",
    "outputId": "286254e8-1116-4c69-af4f-d8efd79c1d26"
   },
   "outputs": [
    {
     "name": "stdout",
     "output_type": "stream",
     "text": [
      "\n",
      " 0.06786981982503869\n",
      "\n",
      " 0.009457755109839696\n"
     ]
    }
   ],
   "source": [
    "a1 = 1/n1*(np.matrix.trace(sqA1)+np.matrix.trace(A1)**2)\n",
    "a2 = 1/n2*(np.matrix.trace(sqA2)+np.matrix.trace(A2)**2)\n",
    "print(\"\\n\", a1)\n",
    "print(\"\\n\", a2)"
   ]
  },
  {
   "cell_type": "code",
   "execution_count": 34,
   "metadata": {
    "colab": {
     "base_uri": "https://localhost:8080/"
    },
    "id": "1R0YygFGEHgK",
    "outputId": "b8dae9f6-c749-4380-f302-1d7e3b3113f2"
   },
   "outputs": [
    {
     "name": "stdout",
     "output_type": "stream",
     "text": [
      "Estimated d.f v =  77.5919845547066\n"
     ]
    }
   ],
   "source": [
    "p = 2\n",
    "v = (p + p**2)/(a1 + a2)\n",
    "print(\"Estimated d.f v = \", v)"
   ]
  },
  {
   "cell_type": "code",
   "execution_count": 35,
   "metadata": {
    "colab": {
     "base_uri": "https://localhost:8080/"
    },
    "id": "rx3fWjIwFWi_",
    "outputId": "dfbe19d1-9da0-4363-992f-cb812f986139"
   },
   "outputs": [
    {
     "name": "stdout",
     "output_type": "stream",
     "text": [
      "The critical value:  6.313406609436417\n"
     ]
    }
   ],
   "source": [
    "alpha = 0.05\n",
    "f = stats.f.ppf(q=1-alpha, dfn=p, dfd=v-p+1)\n",
    "c2 = ((v*p)/(v-p+1))*f\n",
    "print(\"The critical value: \", c2)"
   ]
  },
  {
   "cell_type": "markdown",
   "metadata": {
    "id": "LDhKxVM9tw2U"
   },
   "source": [
    "### Ví dụ 6.7 (Tổng bình phương phân rã cho ANOVA một chiều)"
   ]
  },
  {
   "cell_type": "code",
   "execution_count": 36,
   "metadata": {
    "colab": {
     "base_uri": "https://localhost:8080/"
    },
    "id": "bbuljxOrFvNY",
    "outputId": "4c1d4db0-9618-4533-ea1a-e89e42a2d366"
   },
   "outputs": [
    {
     "name": "stdout",
     "output_type": "stream",
     "text": [
      "   0  1    2\n",
      "0  9  6  9.0\n",
      "1  0  2  NaN\n",
      "2  3  1  2.0\n"
     ]
    }
   ],
   "source": [
    "population1_1 = [9,6,9]\n",
    "population2_1 = [0,2]\n",
    "population3_1 = [3,1,2]\n",
    "data_1 = pd.DataFrame([population1_1, population2_1, population3_1])\n",
    "print(data_1)"
   ]
  },
  {
   "cell_type": "code",
   "execution_count": 37,
   "metadata": {
    "colab": {
     "base_uri": "https://localhost:8080/"
    },
    "id": "XcNk2hrOSkYA",
    "outputId": "688d766e-61b0-4f47-b5a9-b71b339653fd"
   },
   "outputs": [
    {
     "name": "stdout",
     "output_type": "stream",
     "text": [
      "   mean_j  value  mean\n",
      "0     8.0    9.0   4.0\n",
      "1     8.0    6.0   4.0\n",
      "2     8.0    9.0   4.0\n",
      "3     1.0    0.0   4.0\n",
      "4     1.0    2.0   4.0\n",
      "5     2.0    3.0   4.0\n",
      "6     2.0    1.0   4.0\n",
      "7     2.0    2.0   4.0\n"
     ]
    }
   ],
   "source": [
    "df_1 = data_1.copy()\n",
    "df_1['mean_j'] = df_1.mean(axis=1)\n",
    "group_mean_1 = df_1.groupby(\"mean_j\",sort=False).mean().stack().reset_index().rename(columns={0:'value'})\n",
    "group_mean_1 = group_mean_1.drop(group_mean_1.columns[1],axis=1)\n",
    "x_mean_1 = group_mean_1['value'].mean()\n",
    "group_mean_1[\"mean\"]=float(x_mean_1)\n",
    "print(group_mean_1)"
   ]
  },
  {
   "cell_type": "code",
   "execution_count": 40,
   "metadata": {
    "colab": {
     "base_uri": "https://localhost:8080/"
    },
    "id": "FgqJashNvz3B",
    "outputId": "2664ddc1-8f73-4ef7-945b-ad8d6843fbf9"
   },
   "outputs": [
    {
     "name": "stdout",
     "output_type": "stream",
     "text": [
      "     0    1    2\n",
      "0  1.0 -2.0  1.0\n",
      "1 -1.0  1.0  NaN\n",
      "2  1.0 -1.0  0.0\n"
     ]
    }
   ],
   "source": [
    "residual_1 = pd.DataFrame(np.transpose([df_1[i]-df_1[\"mean_j\"] for i in range(data_1.shape[0])]))\n",
    "print(residual_1)\n",
    "residual_1 = residual_1.stack().reset_index().drop(['level_0', 'level_1'],axis=1).rename(columns={0:'value'})"
   ]
  },
  {
   "cell_type": "code",
   "execution_count": 41,
   "metadata": {
    "colab": {
     "base_uri": "https://localhost:8080/"
    },
    "id": "_JJEAZs1_qbT",
    "outputId": "d6014bd7-515b-4da7-b362-aa9b6a574156"
   },
   "outputs": [
    {
     "data": {
      "text/plain": [
       "216.0"
      ]
     },
     "execution_count": 41,
     "metadata": {
      "tags": []
     },
     "output_type": "execute_result"
    }
   ],
   "source": [
    "SS_obs_1 = np.sum(group_mean_1['value'].values**2)\n",
    "SS_obs_1"
   ]
  },
  {
   "cell_type": "code",
   "execution_count": 42,
   "metadata": {
    "colab": {
     "base_uri": "https://localhost:8080/"
    },
    "id": "n7m6w1MlHemp",
    "outputId": "025733b4-5129-4753-db8a-e082cc35a981"
   },
   "outputs": [
    {
     "data": {
      "text/plain": [
       "128.0"
      ]
     },
     "execution_count": 42,
     "metadata": {
      "tags": []
     },
     "output_type": "execute_result"
    }
   ],
   "source": [
    "SS_mean_1 = np.sum(group_mean_1[\"mean\"].values**2)\n",
    "SS_mean_1"
   ]
  },
  {
   "cell_type": "code",
   "execution_count": 43,
   "metadata": {
    "colab": {
     "base_uri": "https://localhost:8080/"
    },
    "id": "P2WAvuRpHkvG",
    "outputId": "2e8cdb23-c945-4add-b530-958098eddd8e"
   },
   "outputs": [
    {
     "data": {
      "text/plain": [
       "78.0"
      ]
     },
     "execution_count": 43,
     "metadata": {
      "tags": []
     },
     "output_type": "execute_result"
    }
   ],
   "source": [
    "SS_tr_1 = np.sum((group_mean_1[\"mean_j\"]-group_mean_1[\"mean\"]).values**2)\n",
    "SS_tr_1"
   ]
  },
  {
   "cell_type": "code",
   "execution_count": 44,
   "metadata": {
    "colab": {
     "base_uri": "https://localhost:8080/"
    },
    "id": "XefHaiabUQyd",
    "outputId": "35e18a61-9f9b-4c12-c89e-a7cd711d447b"
   },
   "outputs": [
    {
     "data": {
      "text/plain": [
       "10.0"
      ]
     },
     "execution_count": 44,
     "metadata": {
      "tags": []
     },
     "output_type": "execute_result"
    }
   ],
   "source": [
    "SS_res_1 = np.sum(residual_1['value'].values**2)\n",
    "SS_res_1"
   ]
  },
  {
   "cell_type": "markdown",
   "metadata": {
    "id": "jx9Xn8_GWKd1"
   },
   "source": [
    "### Ví dụ 6.8 (Bảng ANOVA một chiều và kiểm định F cho treatment effects)"
   ]
  },
  {
   "cell_type": "code",
   "execution_count": 45,
   "metadata": {
    "colab": {
     "base_uri": "https://localhost:8080/"
    },
    "id": "ldBXfj3oUcEh",
    "outputId": "a041dae8-7c2b-4a2d-ccf6-f03ab19aa435"
   },
   "outputs": [
    {
     "name": "stdout",
     "output_type": "stream",
     "text": [
      "Sum of squares of treatment:  78.0\n",
      "\n",
      "Sum of squares of residual:  10.0\n",
      "\n",
      "Sum of squares of total:  88.0\n"
     ]
    }
   ],
   "source": [
    "SS_cor_1 = np.sum((group_mean_1['value']-group_mean_1['mean']).values**2)\n",
    "print(\"Sum of squares of treatment: \", SS_tr_1)\n",
    "print(\"\\nSum of squares of residual: \", SS_res_1)\n",
    "print(\"\\nSum of squares of total: \", SS_cor_1)"
   ]
  },
  {
   "cell_type": "code",
   "execution_count": 46,
   "metadata": {
    "colab": {
     "base_uri": "https://localhost:8080/"
    },
    "id": "vsgN-zvMWq8D",
    "outputId": "c9c38af1-fcc6-4de4-ddfb-f9c30625cfee"
   },
   "outputs": [
    {
     "name": "stdout",
     "output_type": "stream",
     "text": [
      "df of treatment:  2\n",
      "\n",
      "df of residual:  5\n",
      "\n",
      "df of total:  7\n"
     ]
    }
   ],
   "source": [
    "g = data_1.shape[0]\n",
    "n = data_1.count(axis=1)\n",
    "df_tr_1 = g - 1\n",
    "df_res_1 = np.sum(n) - g\n",
    "df_cor_1 = np.sum(n) - 1\n",
    "print(\"df of treatment: \", df_tr_1)\n",
    "print(\"\\ndf of residual: \", df_res_1)\n",
    "print(\"\\ndf of total: \", df_cor_1)"
   ]
  },
  {
   "cell_type": "code",
   "execution_count": 47,
   "metadata": {
    "colab": {
     "base_uri": "https://localhost:8080/"
    },
    "id": "nGnPkOKjXQnl",
    "outputId": "9db4639e-3bb8-4bc3-9b89-52a63f4365f6"
   },
   "outputs": [
    {
     "data": {
      "text/plain": [
       "19.5"
      ]
     },
     "execution_count": 47,
     "metadata": {
      "tags": []
     },
     "output_type": "execute_result"
    }
   ],
   "source": [
    "F = (SS_tr_1/df_tr_1)/(SS_res_1/df_res_1)\n",
    "F"
   ]
  },
  {
   "cell_type": "code",
   "execution_count": 48,
   "metadata": {
    "colab": {
     "base_uri": "https://localhost:8080/"
    },
    "id": "FuNJe9-lag-a",
    "outputId": "95e8fb29-507b-4771-8a15-7ec1764bfeb9"
   },
   "outputs": [
    {
     "data": {
      "text/plain": [
       "13.273933612004825"
      ]
     },
     "execution_count": 48,
     "metadata": {
      "tags": []
     },
     "output_type": "execute_result"
    }
   ],
   "source": [
    "alpha = 0.01\n",
    "f = stats.f.ppf(q=1-alpha, dfn=df_tr_1, dfd=df_res_1)\n",
    "f"
   ]
  },
  {
   "cell_type": "markdown",
   "metadata": {
    "id": "quzZrYehm0Kk"
   },
   "source": [
    "### Ví dụ 6.9: (Bảng MANOVA và số lambda của Wilk về kiểm định tính bằng nhau của 3 véctơ trung bình"
   ]
  },
  {
   "cell_type": "code",
   "execution_count": 49,
   "metadata": {
    "id": "meUPyxSaD4x1"
   },
   "outputs": [],
   "source": [
    "population1_2 = [3,2,7]\n",
    "population2_2 = [4,0]\n",
    "population3_2 = [8,9,7]\n",
    "data_2 = pd.DataFrame([population1_2, population2_2, population3_2])\n",
    "\n",
    "df_2 = data_2.copy()\n",
    "df_2['mean_j'] = df_2.mean(axis=1)\n",
    "group_mean_2 = df_2.groupby(\"mean_j\",sort=False).mean().stack().reset_index().rename(columns={0:'value'})\n",
    "group_mean_2 = group_mean_2.drop(group_mean_2.columns[1],axis=1)\n",
    "x_mean_2 = group_mean_2['value'].mean()\n",
    "group_mean_2[\"mean\"]=float(x_mean_2)\n",
    "\n",
    "residual_2 = pd.DataFrame(np.transpose([df_2[i]-df_2[\"mean_j\"] for i in range(data_2.shape[0])]))\n",
    "residual_2 = residual_2.stack().reset_index().drop(['level_0', 'level_1'],axis=1).rename(columns={0:'value'})\n",
    "\n",
    "SS_obs_2 = np.sum(group_mean_2['value'].values**2)\n",
    "SS_mean_2 = np.sum(group_mean_2[\"mean\"].values**2)\n",
    "SS_tr_2 = np.sum((group_mean_2[\"mean_j\"]-group_mean_2[\"mean\"]).values**2)\n",
    "SS_res_2 = np.sum(residual_2['value'].values**2)\n",
    "SS_cor_2 = np.sum((group_mean_2['value']-group_mean_2['mean']).values**2)"
   ]
  },
  {
   "cell_type": "code",
   "execution_count": 50,
   "metadata": {
    "colab": {
     "base_uri": "https://localhost:8080/"
    },
    "id": "3K_toqR_EcD1",
    "outputId": "30fb272e-f57f-41f5-dbee-112a80f6a487"
   },
   "outputs": [
    {
     "name": "stdout",
     "output_type": "stream",
     "text": [
      "All values in univariate ANOVA for second variable:\n",
      "\n",
      "- Observations with mean: \n",
      "    mean_j  value  mean\n",
      "0     4.0    3.0   5.0\n",
      "1     4.0    2.0   5.0\n",
      "2     4.0    7.0   5.0\n",
      "3     2.0    4.0   5.0\n",
      "4     2.0    0.0   5.0\n",
      "5     8.0    8.0   5.0\n",
      "6     8.0    9.0   5.0\n",
      "7     8.0    7.0   5.0\n",
      "\n",
      "- Residual: \n",
      "    value\n",
      "0   -1.0\n",
      "1   -2.0\n",
      "2    3.0\n",
      "3    2.0\n",
      "4   -2.0\n",
      "5    0.0\n",
      "6    1.0\n",
      "7   -1.0\n",
      "\n",
      "- Sum of squares of observations:  272.0\n",
      "\n",
      "- Sum of squares of mean:  200.0\n",
      "\n",
      "- Sum of squares of treatment:  48.0\n",
      "\n",
      "- Sum of squares of residual:  24.0\n",
      "\n",
      "- Sum of squares of total:  72.0\n"
     ]
    }
   ],
   "source": [
    "print(\"All values in univariate ANOVA for second variable:\\n\")\n",
    "print(\"- Observations with mean: \\n\", group_mean_2)\n",
    "print(\"\\n- Residual: \\n\",residual_2)\n",
    "print(\"\\n- Sum of squares of observations: \", SS_obs_2)\n",
    "print(\"\\n- Sum of squares of mean: \", SS_mean_2)\n",
    "print(\"\\n- Sum of squares of treatment: \", SS_tr_2)\n",
    "print(\"\\n- Sum of squares of residual: \", SS_res_2)\n",
    "print(\"\\n- Sum of squares of total: \", SS_cor_2)"
   ]
  },
  {
   "cell_type": "code",
   "execution_count": 55,
   "metadata": {
    "colab": {
     "base_uri": "https://localhost:8080/"
    },
    "id": "PfLa2-pnD4tI",
    "outputId": "eae304b8-4de7-413c-8a6d-888d63112eca"
   },
   "outputs": [
    {
     "name": "stdout",
     "output_type": "stream",
     "text": [
      "   mean_j  value  mean\n",
      "0    32.0   27.0  20.0\n",
      "1    32.0   12.0  20.0\n",
      "2    32.0   63.0  20.0\n",
      "3     2.0    0.0  20.0\n",
      "4     2.0    0.0  20.0\n",
      "5    16.0   24.0  20.0\n",
      "6    16.0    9.0  20.0\n",
      "7    16.0   14.0  20.0\n",
      "   value\n",
      "0   -1.0\n",
      "1    4.0\n",
      "2    3.0\n",
      "3   -2.0\n",
      "4   -2.0\n",
      "5    0.0\n",
      "6   -1.0\n",
      "7   -0.0\n"
     ]
    }
   ],
   "source": [
    "# Nhân từng dòng của các ma trận tương ứng của hai biến\n",
    "group_mean_3 = group_mean_1.multiply(group_mean_2)\n",
    "print(group_mean_3)\n",
    "residual_3 = residual_1.multiply(residual_2)\n",
    "print(residual_3)"
   ]
  },
  {
   "cell_type": "code",
   "execution_count": 56,
   "metadata": {
    "colab": {
     "base_uri": "https://localhost:8080/"
    },
    "id": "NXDEUoxOD4iD",
    "outputId": "e41b861c-e344-4d3d-8312-fca80b743351"
   },
   "outputs": [
    {
     "name": "stdout",
     "output_type": "stream",
     "text": [
      "\n",
      "- Sum of observations:  149.0\n",
      "\n",
      "- Sum of mean:  160.0\n",
      "\n",
      "- Sum of treatment:  -12.0\n",
      "\n",
      "- Sum of residual:  1.0\n",
      "\n",
      "- Sum of total:  -11.0\n"
     ]
    }
   ],
   "source": [
    "S_obs_3 = np.sum(group_mean_3['value'].values)\n",
    "S_mean_3 = np.sum(group_mean_3[\"mean\"].values)\n",
    "S_tr_3 = np.sum((group_mean_3[\"mean_j\"]-group_mean_3[\"mean\"]).values)\n",
    "S_res_3 = np.sum(residual_3['value'].values)\n",
    "S_cor_3 = np.sum((group_mean_3['value']-group_mean_3['mean']).values)\n",
    "\n",
    "print(\"\\n- Sum of observations: \", S_obs_3)\n",
    "print(\"\\n- Sum of mean: \", S_mean_3)\n",
    "print(\"\\n- Sum of treatment: \", S_tr_3)\n",
    "print(\"\\n- Sum of residual: \", S_res_3)\n",
    "print(\"\\n- Sum of total: \", S_cor_3)"
   ]
  },
  {
   "cell_type": "code",
   "execution_count": 116,
   "metadata": {
    "colab": {
     "base_uri": "https://localhost:8080/"
    },
    "id": "woBMuSYmVnQ7",
    "outputId": "0e9c8173-e7ac-42da-8e25-0bfb2a777480"
   },
   "outputs": [
    {
     "name": "stdout",
     "output_type": "stream",
     "text": [
      "W =  [[10.  1.]\n",
      " [ 1. 24.]]\n",
      "\n",
      "B =  [[ 78. -12.]\n",
      " [-12.  48.]]\n"
     ]
    }
   ],
   "source": [
    "B = np.array([[SS_tr_1, S_tr_3],[S_tr_3, SS_tr_2]])\n",
    "W = np.array([[SS_res_1, S_res_3],[S_res_3, SS_res_2]])\n",
    "\n",
    "print(\"W = \", W)\n",
    "print(\"\\nB = \", B)"
   ]
  },
  {
   "cell_type": "code",
   "execution_count": 118,
   "metadata": {
    "colab": {
     "base_uri": "https://localhost:8080/"
    },
    "id": "ur38QQknWKPh",
    "outputId": "33487289-eff7-4e45-a11e-8d7b152050c8"
   },
   "outputs": [
    {
     "data": {
      "text/plain": [
       "0.0384553499597747"
      ]
     },
     "execution_count": 118,
     "metadata": {
      "tags": []
     },
     "output_type": "execute_result"
    }
   ],
   "source": [
    "Lambda = np.linalg.det(W)/np.linalg.det(B+W)\n",
    "Lambda"
   ]
  },
  {
   "cell_type": "code",
   "execution_count": 119,
   "metadata": {
    "colab": {
     "base_uri": "https://localhost:8080/"
    },
    "id": "SirVEZs0QMcw",
    "outputId": "54138679-d034-4021-df2f-25bfc7b797b4"
   },
   "outputs": [
    {
     "data": {
      "text/plain": [
       "8.198859563778381"
      ]
     },
     "execution_count": 119,
     "metadata": {
      "tags": []
     },
     "output_type": "execute_result"
    }
   ],
   "source": [
    "p = 2\n",
    "g = 3\n",
    "((1-np.sqrt(Lambda))/np.sqrt(Lambda))*((np.sum(n)-g-1)/(g-1))"
   ]
  },
  {
   "cell_type": "code",
   "execution_count": 121,
   "metadata": {
    "colab": {
     "base_uri": "https://localhost:8080/"
    },
    "id": "knEIygHzX2tQ",
    "outputId": "f104f5eb-3140-4e3d-e6de-3be3886120a5"
   },
   "outputs": [
    {
     "data": {
      "text/plain": [
       "7.006076622955586"
      ]
     },
     "execution_count": 121,
     "metadata": {
      "tags": []
     },
     "output_type": "execute_result"
    }
   ],
   "source": [
    "alpha = 0.01\n",
    "v1 = 2*(g-1)\n",
    "v2 = 2*(np.sum(n)-g-1)\n",
    "f = stats.f.ppf(q=1-alpha, dfn=v1, dfd=v2)\n",
    "f"
   ]
  },
  {
   "cell_type": "markdown",
   "metadata": {
    "id": "o6fudvk4YUw1"
   },
   "source": [
    "### Ví dụ 6.10 (Phân tích nhiều biến cho dữ liệu viện dưỡng lão Wisconsin)"
   ]
  },
  {
   "cell_type": "code",
   "execution_count": 154,
   "metadata": {
    "id": "bp8UCfAEYNbJ"
   },
   "outputs": [],
   "source": [
    "p = 4\n",
    "g = 3\n",
    "n1 = 271\n",
    "n2 = 138\n",
    "n3 = 107\n",
    "n = n1+n2+n3\n",
    "x1_mean = np.array([2.066, .480, .082, .360])\n",
    "x2_mean = np.array([2.167, .596, .124, .418])\n",
    "x3_mean = np.array([2.273, .521, .125, .383])\n",
    "S1 = np.array([[.291, -.001, .002, .010], [-.001, .011, .000, .003], [.002, .000, .001, .000], [.010, .003, .000, .010]])\n",
    "S2 = np.array([[.561, .011, .001, .037], [.011, .025, .004, .007], [.001, .004, .005, .002], [.037, .007, .002, .019]])\n",
    "S3 = np.array([[.261, .030, .003, .018], [.030, .017, -.000, .006], [.003, -.000, .004, .001], [.018, .006, .001, .013]])"
   ]
  },
  {
   "cell_type": "code",
   "execution_count": 140,
   "metadata": {
    "colab": {
     "base_uri": "https://localhost:8080/"
    },
    "id": "s3q-MKbYaH8h",
    "outputId": "57714029-05d6-4da4-c481-980dd9241c9d"
   },
   "outputs": [
    {
     "data": {
      "text/plain": [
       "array([[183.093,   4.417,   0.995,   9.677],\n",
       "       [  4.417,   8.197,   0.548,   2.405],\n",
       "       [  0.995,   0.548,   1.379,   0.38 ],\n",
       "       [  9.677,   2.405,   0.38 ,   6.681]])"
      ]
     },
     "execution_count": 140,
     "metadata": {
      "tags": []
     },
     "output_type": "execute_result"
    }
   ],
   "source": [
    "W = (n1-1)*S1 + (n2-1)*S2 + (n3-1)*S3\n",
    "W"
   ]
  },
  {
   "cell_type": "code",
   "execution_count": 141,
   "metadata": {
    "colab": {
     "base_uri": "https://localhost:8080/"
    },
    "id": "ASofqRXlcpGb",
    "outputId": "2be168d4-9276-4984-babf-62f1dc60d383"
   },
   "outputs": [
    {
     "data": {
      "text/plain": [
       "array([[2.13593605],\n",
       "       [0.51952519],\n",
       "       [0.10214922],\n",
       "       [0.38028101]])"
      ]
     },
     "execution_count": 141,
     "metadata": {
      "tags": []
     },
     "output_type": "execute_result"
    }
   ],
   "source": [
    "x_mean = (n1*x1_mean + n2*x2_mean + n3*x3_mean)/n\n",
    "x_mean = x_mean[:, np.newaxis]\n",
    "x_mean"
   ]
  },
  {
   "cell_type": "code",
   "execution_count": 142,
   "metadata": {
    "colab": {
     "base_uri": "https://localhost:8080/"
    },
    "id": "tkBKEBqqdozr",
    "outputId": "da41c221-47eb-48f5-df71-1154652f2746"
   },
   "outputs": [
    {
     "data": {
      "text/plain": [
       "array([[3.46879889, 1.09857133, 0.81067792, 0.58595027],\n",
       "       [1.09857133, 1.23067867, 0.45003356, 0.61573385],\n",
       "       [0.81067792, 0.45003356, 0.23178351, 0.23112936],\n",
       "       [0.58595027, 0.61573385, 0.23112936, 0.30859425]])"
      ]
     },
     "execution_count": 142,
     "metadata": {
      "tags": []
     },
     "output_type": "execute_result"
    }
   ],
   "source": [
    "B1 = n1*np.matmul((x1_mean[:, np.newaxis] - x_mean),np.transpose((x1_mean[:, np.newaxis] - x_mean)))\n",
    "B2 = n2*np.matmul((x2_mean[:, np.newaxis] - x_mean),np.transpose((x2_mean[:, np.newaxis] - x_mean)))\n",
    "B3 = n3*np.matmul((x3_mean[:, np.newaxis] - x_mean),np.transpose((x3_mean[:, np.newaxis] - x_mean)))\n",
    "B = B1 + B2 + B3\n",
    "B"
   ]
  },
  {
   "cell_type": "code",
   "execution_count": 143,
   "metadata": {
    "colab": {
     "base_uri": "https://localhost:8080/"
    },
    "id": "7RN0M-_Ed57N",
    "outputId": "41b7a7ec-1d37-422d-e4c7-4579a13395a4"
   },
   "outputs": [
    {
     "data": {
      "text/plain": [
       "0.7627582047406533"
      ]
     },
     "execution_count": 143,
     "metadata": {
      "tags": []
     },
     "output_type": "execute_result"
    }
   ],
   "source": [
    "Lambda = (np.linalg.det(W))/(np.linalg.det(B+W))\n",
    "Lambda"
   ]
  },
  {
   "cell_type": "code",
   "execution_count": 152,
   "metadata": {
    "colab": {
     "base_uri": "https://localhost:8080/"
    },
    "id": "5GspNBNGfKxR",
    "outputId": "a4f44c61-2640-42fc-b974-0160cae6c0a4"
   },
   "outputs": [
    {
     "data": {
      "text/plain": [
       "18.48785946853036"
      ]
     },
     "execution_count": 152,
     "metadata": {
      "tags": []
     },
     "output_type": "execute_result"
    }
   ],
   "source": [
    "((n-p-2)/p)*((1-np.sqrt(Lambda))/np.sqrt(Lambda))"
   ]
  },
  {
   "cell_type": "code",
   "execution_count": 153,
   "metadata": {
    "colab": {
     "base_uri": "https://localhost:8080/"
    },
    "id": "xG0Y8L3Sf0Vu",
    "outputId": "6b5bd821-cc50-4c3b-a02c-724ed6c87625"
   },
   "outputs": [
    {
     "data": {
      "text/plain": [
       "2.5286474809091057"
      ]
     },
     "execution_count": 153,
     "metadata": {
      "tags": []
     },
     "output_type": "execute_result"
    }
   ],
   "source": [
    "alpha = 0.01\n",
    "v1 = 2*p\n",
    "v2 = 2*(np.sum(n)-g-2)\n",
    "f = stats.f.ppf(q=1-alpha, dfn=v1, dfd=v2)\n",
    "f"
   ]
  },
  {
   "cell_type": "code",
   "execution_count": 155,
   "metadata": {
    "colab": {
     "base_uri": "https://localhost:8080/"
    },
    "id": "2rp-AKT0goP3",
    "outputId": "61147639-08bf-4870-ea9e-a5f9f70a44cd"
   },
   "outputs": [
    {
     "data": {
      "text/plain": [
       "138.5214626117343"
      ]
     },
     "execution_count": 155,
     "metadata": {
      "tags": []
     },
     "output_type": "execute_result"
    }
   ],
   "source": [
    "-(n-1-(p+g)/2)*np.log(Lambda)"
   ]
  },
  {
   "cell_type": "code",
   "execution_count": null,
   "metadata": {
    "id": "frtKne9Hg95w"
   },
   "outputs": [],
   "source": []
  }
 ],
 "metadata": {
  "colab": {
   "collapsed_sections": [],
   "name": "Untitled0.ipynb",
   "provenance": []
  },
  "kernelspec": {
   "display_name": "Python 3",
   "language": "python",
   "name": "python3"
  },
  "language_info": {
   "codemirror_mode": {
    "name": "ipython",
    "version": 3
   },
   "file_extension": ".py",
   "mimetype": "text/x-python",
   "name": "python",
   "nbconvert_exporter": "python",
   "pygments_lexer": "ipython3",
   "version": "3.8.3"
  }
 },
 "nbformat": 4,
 "nbformat_minor": 1
}
