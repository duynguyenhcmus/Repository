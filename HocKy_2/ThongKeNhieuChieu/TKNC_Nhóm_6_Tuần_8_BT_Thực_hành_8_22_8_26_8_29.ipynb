{
 "cells": [
  {
   "cell_type": "markdown",
   "metadata": {
    "id": "yRyf3BxcQ6CT"
   },
   "source": [
    "**Bảng phân công công việc:**\n",
    "\n",
    "Thành viên | MSSV | Bài tập\n",
    "--- | --- | ---\n",
    "Đinh Anh Huy | 18110103 | 8.11, 8.23, 8.28\n",
    "Nguyễn Đức Vũ Duy | 18110004 | 8.22, 8.26, 8.29"
   ]
  },
  {
   "cell_type": "code",
   "execution_count": 1,
   "metadata": {
    "colab": {
     "base_uri": "https://localhost:8080/"
    },
    "id": "uuAoIPkmQyp1",
    "outputId": "67e5b92e-ec68-4930-f574-d730e424cde6"
   },
   "outputs": [],
   "source": [
    "import numpy as np\n",
    "import pandas as pd\n",
    "import scipy.stats as stats\n",
    "from matplotlib import pyplot as plt\n",
    "import pandas as pd\n",
    "import statsmodels.formula.api as smf\n",
    "import statsmodels.api as sm\n",
    "from sklearn.preprocessing import StandardScaler\n",
    "from sklearn.decomposition import PCA\n",
    "import warnings\n",
    "warnings.filterwarnings(\"ignore\")"
   ]
  },
  {
   "cell_type": "markdown",
   "metadata": {
    "id": "SeOGNrjWRFBM"
   },
   "source": [
    "###8.22"
   ]
  },
  {
   "cell_type": "markdown",
   "metadata": {
    "id": "PpU8MAERRGYI"
   },
   "source": [
    "###Xét dữ liệu về bò tót ở bảng 1.10. Tận dụng 7 biến YrHgt, FtFrBody, PrctFFB, Frame, BkFat, SaleHi and SaleWt, thực hiện phân tích thành phần chính sử dụng ma trận hiệp phương sai $\\boldsymbol{S}$ và ma trận tương quan $\\boldsymbol{R}$. Phân tích cần bao gồm:\n"
   ]
  },
  {
   "cell_type": "markdown",
   "metadata": {
    "id": "74keAXcnRq54"
   },
   "source": [
    "###(a) Xác định số lượng thành phần chính phù hợp để tóm tắt hiệu quả sự thay đổi ở mẫu. Vẽ scree plot để hỗ trợ xác định của bạn."
   ]
  },
  {
   "cell_type": "code",
   "execution_count": 2,
   "metadata": {
    "colab": {
     "base_uri": "https://localhost:8080/",
     "height": 204
    },
    "id": "NzjSQ0jtQ-iV",
    "outputId": "42c66f8f-6680-4083-bfea-c407e8342231"
   },
   "outputs": [
    {
     "ename": "OSError",
     "evalue": "/content/T1-10.dat.txt not found.",
     "output_type": "error",
     "traceback": [
      "\u001b[0;31m---------------------------------------------------------------------------\u001b[0m",
      "\u001b[0;31mOSError\u001b[0m                                   Traceback (most recent call last)",
      "\u001b[0;32m<ipython-input-2-d601aab4ae80>\u001b[0m in \u001b[0;36m<module>\u001b[0;34m\u001b[0m\n\u001b[1;32m      1\u001b[0m \u001b[0mpath\u001b[0m\u001b[0;34m=\u001b[0m\u001b[0;34m'/content/T1-10.dat.txt'\u001b[0m\u001b[0;34m\u001b[0m\u001b[0;34m\u001b[0m\u001b[0m\n\u001b[0;32m----> 2\u001b[0;31m \u001b[0mdf\u001b[0m\u001b[0;34m=\u001b[0m\u001b[0mpd\u001b[0m\u001b[0;34m.\u001b[0m\u001b[0mDataFrame\u001b[0m\u001b[0;34m(\u001b[0m\u001b[0mnp\u001b[0m\u001b[0;34m.\u001b[0m\u001b[0mloadtxt\u001b[0m\u001b[0;34m(\u001b[0m\u001b[0mpath\u001b[0m\u001b[0;34m)\u001b[0m\u001b[0;34m)\u001b[0m\u001b[0;34m.\u001b[0m\u001b[0miloc\u001b[0m\u001b[0;34m[\u001b[0m\u001b[0;34m:\u001b[0m\u001b[0;34m,\u001b[0m\u001b[0;36m2\u001b[0m\u001b[0;34m:\u001b[0m\u001b[0;34m]\u001b[0m\u001b[0;34m\u001b[0m\u001b[0;34m\u001b[0m\u001b[0m\n\u001b[0m\u001b[1;32m      3\u001b[0m \u001b[0mdf\u001b[0m\u001b[0;34m.\u001b[0m\u001b[0mcolumns\u001b[0m\u001b[0;34m=\u001b[0m\u001b[0;34m[\u001b[0m\u001b[0;34m'YrHgt'\u001b[0m\u001b[0;34m,\u001b[0m\u001b[0;34m'FtFrBody'\u001b[0m\u001b[0;34m,\u001b[0m\u001b[0;34m'PrctFFB'\u001b[0m\u001b[0;34m,\u001b[0m\u001b[0;34m'Frame'\u001b[0m\u001b[0;34m,\u001b[0m\u001b[0;34m'BkFat'\u001b[0m\u001b[0;34m,\u001b[0m\u001b[0;34m'SaleHt'\u001b[0m\u001b[0;34m,\u001b[0m\u001b[0;34m'SaleWt'\u001b[0m\u001b[0;34m]\u001b[0m\u001b[0;34m\u001b[0m\u001b[0;34m\u001b[0m\u001b[0m\n\u001b[1;32m      4\u001b[0m \u001b[0mdf\u001b[0m\u001b[0;34m.\u001b[0m\u001b[0mhead\u001b[0m\u001b[0;34m(\u001b[0m\u001b[0;34m)\u001b[0m\u001b[0;34m\u001b[0m\u001b[0;34m\u001b[0m\u001b[0m\n",
      "\u001b[0;32m~/anaconda3/envs/work/lib/python3.8/site-packages/numpy/lib/npyio.py\u001b[0m in \u001b[0;36mloadtxt\u001b[0;34m(fname, dtype, comments, delimiter, converters, skiprows, usecols, unpack, ndmin, encoding, max_rows, like)\u001b[0m\n\u001b[1;32m   1063\u001b[0m             \u001b[0mfname\u001b[0m \u001b[0;34m=\u001b[0m \u001b[0mos_fspath\u001b[0m\u001b[0;34m(\u001b[0m\u001b[0mfname\u001b[0m\u001b[0;34m)\u001b[0m\u001b[0;34m\u001b[0m\u001b[0;34m\u001b[0m\u001b[0m\n\u001b[1;32m   1064\u001b[0m         \u001b[0;32mif\u001b[0m \u001b[0m_is_string_like\u001b[0m\u001b[0;34m(\u001b[0m\u001b[0mfname\u001b[0m\u001b[0;34m)\u001b[0m\u001b[0;34m:\u001b[0m\u001b[0;34m\u001b[0m\u001b[0;34m\u001b[0m\u001b[0m\n\u001b[0;32m-> 1065\u001b[0;31m             \u001b[0mfh\u001b[0m \u001b[0;34m=\u001b[0m \u001b[0mnp\u001b[0m\u001b[0;34m.\u001b[0m\u001b[0mlib\u001b[0m\u001b[0;34m.\u001b[0m\u001b[0m_datasource\u001b[0m\u001b[0;34m.\u001b[0m\u001b[0mopen\u001b[0m\u001b[0;34m(\u001b[0m\u001b[0mfname\u001b[0m\u001b[0;34m,\u001b[0m \u001b[0;34m'rt'\u001b[0m\u001b[0;34m,\u001b[0m \u001b[0mencoding\u001b[0m\u001b[0;34m=\u001b[0m\u001b[0mencoding\u001b[0m\u001b[0;34m)\u001b[0m\u001b[0;34m\u001b[0m\u001b[0;34m\u001b[0m\u001b[0m\n\u001b[0m\u001b[1;32m   1066\u001b[0m             \u001b[0mfencoding\u001b[0m \u001b[0;34m=\u001b[0m \u001b[0mgetattr\u001b[0m\u001b[0;34m(\u001b[0m\u001b[0mfh\u001b[0m\u001b[0;34m,\u001b[0m \u001b[0;34m'encoding'\u001b[0m\u001b[0;34m,\u001b[0m \u001b[0;34m'latin1'\u001b[0m\u001b[0;34m)\u001b[0m\u001b[0;34m\u001b[0m\u001b[0;34m\u001b[0m\u001b[0m\n\u001b[1;32m   1067\u001b[0m             \u001b[0mfh\u001b[0m \u001b[0;34m=\u001b[0m \u001b[0miter\u001b[0m\u001b[0;34m(\u001b[0m\u001b[0mfh\u001b[0m\u001b[0;34m)\u001b[0m\u001b[0;34m\u001b[0m\u001b[0;34m\u001b[0m\u001b[0m\n",
      "\u001b[0;32m~/anaconda3/envs/work/lib/python3.8/site-packages/numpy/lib/_datasource.py\u001b[0m in \u001b[0;36mopen\u001b[0;34m(path, mode, destpath, encoding, newline)\u001b[0m\n\u001b[1;32m    192\u001b[0m \u001b[0;34m\u001b[0m\u001b[0m\n\u001b[1;32m    193\u001b[0m     \u001b[0mds\u001b[0m \u001b[0;34m=\u001b[0m \u001b[0mDataSource\u001b[0m\u001b[0;34m(\u001b[0m\u001b[0mdestpath\u001b[0m\u001b[0;34m)\u001b[0m\u001b[0;34m\u001b[0m\u001b[0;34m\u001b[0m\u001b[0m\n\u001b[0;32m--> 194\u001b[0;31m     \u001b[0;32mreturn\u001b[0m \u001b[0mds\u001b[0m\u001b[0;34m.\u001b[0m\u001b[0mopen\u001b[0m\u001b[0;34m(\u001b[0m\u001b[0mpath\u001b[0m\u001b[0;34m,\u001b[0m \u001b[0mmode\u001b[0m\u001b[0;34m,\u001b[0m \u001b[0mencoding\u001b[0m\u001b[0;34m=\u001b[0m\u001b[0mencoding\u001b[0m\u001b[0;34m,\u001b[0m \u001b[0mnewline\u001b[0m\u001b[0;34m=\u001b[0m\u001b[0mnewline\u001b[0m\u001b[0;34m)\u001b[0m\u001b[0;34m\u001b[0m\u001b[0;34m\u001b[0m\u001b[0m\n\u001b[0m\u001b[1;32m    195\u001b[0m \u001b[0;34m\u001b[0m\u001b[0m\n\u001b[1;32m    196\u001b[0m \u001b[0;34m\u001b[0m\u001b[0m\n",
      "\u001b[0;32m~/anaconda3/envs/work/lib/python3.8/site-packages/numpy/lib/_datasource.py\u001b[0m in \u001b[0;36mopen\u001b[0;34m(self, path, mode, encoding, newline)\u001b[0m\n\u001b[1;32m    529\u001b[0m                                       encoding=encoding, newline=newline)\n\u001b[1;32m    530\u001b[0m         \u001b[0;32melse\u001b[0m\u001b[0;34m:\u001b[0m\u001b[0;34m\u001b[0m\u001b[0;34m\u001b[0m\u001b[0m\n\u001b[0;32m--> 531\u001b[0;31m             \u001b[0;32mraise\u001b[0m \u001b[0mIOError\u001b[0m\u001b[0;34m(\u001b[0m\u001b[0;34m\"%s not found.\"\u001b[0m \u001b[0;34m%\u001b[0m \u001b[0mpath\u001b[0m\u001b[0;34m)\u001b[0m\u001b[0;34m\u001b[0m\u001b[0;34m\u001b[0m\u001b[0m\n\u001b[0m\u001b[1;32m    532\u001b[0m \u001b[0;34m\u001b[0m\u001b[0m\n\u001b[1;32m    533\u001b[0m \u001b[0;34m\u001b[0m\u001b[0m\n",
      "\u001b[0;31mOSError\u001b[0m: /content/T1-10.dat.txt not found."
     ]
    }
   ],
   "source": [
    "path='/content/T1-10.dat.txt'\n",
    "df=pd.DataFrame(np.loadtxt(path)).iloc[:,2:]\n",
    "df.columns=['YrHgt','FtFrBody','PrctFFB','Frame','BkFat','SaleHt','SaleWt']\n",
    "df.head()"
   ]
  },
  {
   "cell_type": "code",
   "execution_count": null,
   "metadata": {
    "colab": {
     "base_uri": "https://localhost:8080/"
    },
    "id": "_SHwTB6-2aHk",
    "outputId": "ab64ffec-8701-4e80-cf62-254ad43e93d7"
   },
   "outputs": [],
   "source": [
    "pd.DataFrame(np.loadtxt(path)).iloc[:,0]"
   ]
  },
  {
   "cell_type": "code",
   "execution_count": null,
   "metadata": {
    "colab": {
     "base_uri": "https://localhost:8080/"
    },
    "id": "kAp9tUorQ-nX",
    "outputId": "f83bb607-5396-4835-f74e-0d1a8321e696"
   },
   "outputs": [],
   "source": [
    "S=np.cov(df.T)\n",
    "S"
   ]
  },
  {
   "cell_type": "code",
   "execution_count": null,
   "metadata": {
    "colab": {
     "base_uri": "https://localhost:8080/"
    },
    "id": "ab-6iKPHQ-qA",
    "outputId": "1ff970de-3b66-48ef-d8bd-d6f73e003725"
   },
   "outputs": [],
   "source": [
    "R=np.corrcoef(df.T)\n",
    "R"
   ]
  },
  {
   "cell_type": "code",
   "execution_count": null,
   "metadata": {
    "id": "FckhAuXIQ-ss"
   },
   "outputs": [],
   "source": [
    "def eigen_pairs(model, data):\n",
    "    eigenvals = model.explained_variance_\n",
    "    eigenvecs = model.components_\n",
    "\n",
    "    print(\">> Eigenanalysis\")\n",
    "    eigenvals_ = pd.DataFrame(eigenvals.reshape(1,-1))\n",
    "    eigenvals_.columns = ['PC%s' % i for i in range(1, model.n_components_+1)]\n",
    "    eigenvals_.index = ['Eigenvalue']\n",
    "    \n",
    "    eigenvecs_ = pd.DataFrame(eigenvecs.T)\n",
    "    eigenvecs_.columns = ['PC%s' % i for i in range(1, model.n_components_+1)]\n",
    "    eigenvecs_.index = data.columns\n",
    "    print(eigenvals_)\n",
    "    print(\"\\n\",eigenvecs_)\n",
    "    return eigenvals_, eigenvecs_"
   ]
  },
  {
   "cell_type": "code",
   "execution_count": null,
   "metadata": {
    "colab": {
     "base_uri": "https://localhost:8080/"
    },
    "id": "MVLY13I9Q-vB",
    "outputId": "10a4bd51-500f-4194-9101-38222d49264e"
   },
   "outputs": [],
   "source": [
    "pca = PCA(n_components=7).fit(df)\n",
    "eigenvals_, eigenvecs_=eigen_pairs(pca, df)"
   ]
  },
  {
   "cell_type": "code",
   "execution_count": null,
   "metadata": {
    "id": "9TazmbRgQ-xy"
   },
   "outputs": [],
   "source": [
    "def PCA_(matrix, n_components=None, correlation=False, column_names=None, return_=False):\n",
    "    # Eigendecomposition\n",
    "    eigenvals, eigenvecs = np.linalg.eigh(matrix)\n",
    "\n",
    "    # Sort paires (eigenvalue, eigenvector) in descending order\n",
    "    eigenpairs = [(abs(eigenval), eigenvec) for (eigenval, eigenvec) in zip(eigenvals, eigenvecs.T)]\n",
    "    eigenpairs = sorted(eigenpairs, key = lambda pair: pair[0], reverse = True)\n",
    "\n",
    "    # Select a subset from the rearranged Eigenvalues vector\n",
    "    # If n_components is None, select all. Otherwise, select first n_components elements\n",
    "    if n_components is None:\n",
    "        eigenpairs_ = eigenpairs\n",
    "    else:\n",
    "        eigenpairs_ = eigenpairs[:n_components]\n",
    "\n",
    "    # Construct weight matrix from above subset\n",
    "    components_ = [eigenvec for (_, eigenvec) in eigenpairs_]\n",
    "    explained_variance_ = [eigenval for (eigenval, _) in eigenpairs_]\n",
    "\n",
    "    # Calculate percentage of cariance explained by each of the selected components\n",
    "    explained_variance_ratio_ = []\n",
    "    if correlation:\n",
    "        for i in range(len(explained_variance_)):\n",
    "            explained_variance_ratio_.append(explained_variance_[i]/len(explained_variance_))\n",
    "    else:\n",
    "        for i in range(len(explained_variance_)):\n",
    "            explained_variance_ratio_.append(explained_variance_[i]/np.sum(eigenvals))\n",
    "    explained_variance_ratio_ = np.array(explained_variance_ratio_)\n",
    "        \n",
    "    if correlation:\n",
    "        print(\">> Eigenanalysis of the Correlation Matrix\")\n",
    "    else:\n",
    "        print(\">> Eigenanalysis of the Covariance Matrix\")\n",
    "    \n",
    "    eigenanalys = np.concatenate([np.array(explained_variance_).reshape(-1,1), explained_variance_ratio_.reshape(-1,1), np.cumsum(explained_variance_ratio_).reshape(-1,1)], axis=1)  \n",
    "    eigenanalys = pd.DataFrame(eigenanalys.T)\n",
    "    eigenanalys.columns = ['PC%s' % i for i in range(1, len(explained_variance_)+1)]\n",
    "    eigenanalys.index = ['Eigenvalue', 'Proportion', 'Cumulative']\n",
    "    \n",
    "    eigenvecs_ = pd.DataFrame(np.array(components_).T)\n",
    "    eigenvecs_.columns = ['PC%s' % i for i in range(1, len(explained_variance_)+1)]\n",
    "    if column_names is not None:\n",
    "        eigenvecs_.index = column_names\n",
    "    print(eigenanalys)\n",
    "    print(\"\\n\",eigenvecs_)\n",
    "    \n",
    "    if return_:\n",
    "        return explained_variance_, components_, explained_variance_ratio_"
   ]
  },
  {
   "cell_type": "code",
   "execution_count": null,
   "metadata": {
    "colab": {
     "base_uri": "https://localhost:8080/"
    },
    "id": "bSu4eKYtQ-1V",
    "outputId": "07bee1c0-8426-4b94-fbdd-052535ada6bc"
   },
   "outputs": [],
   "source": [
    "eigenvals, eigenvecs, proportions = PCA_(S, correlation=False, column_names=df.columns, return_=True)"
   ]
  },
  {
   "cell_type": "markdown",
   "metadata": {
    "id": "f2o-R-pIx0AS"
   },
   "source": [
    "2 thành phần mẫu chính đầu tiên là:\n",
    "\\begin{equation*}\n",
    "\\hat{y_1}=-0.0059x_1-0.487x_2-0.009x_3-0.0031x_4-0.000069x_5-0.0093x_6-0.8733x_7\n",
    "\\end{equation*}\n",
    "\\begin{equation*}\n",
    "\\hat{y_2}=0.00968x_1+0.873x_2+0.029196x_3+0.00489x_4-0.0005x_5+0.0086x_6-0.4872x_7\n",
    "\\end{equation*}"
   ]
  },
  {
   "cell_type": "code",
   "execution_count": null,
   "metadata": {
    "colab": {
     "base_uri": "https://localhost:8080/",
     "height": 350
    },
    "id": "wl7z6lucQ-38",
    "outputId": "75f7b3e3-c3d4-41dc-fb94-ff363d139b17"
   },
   "outputs": [],
   "source": [
    "fig, ax = plt.subplots(figsize=(10,5))\n",
    "\n",
    "PC_values = np.arange(len(eigenvals)) + 1\n",
    "ax.plot(PC_values, eigenvals, 'ro-', linewidth=2)\n",
    "ax.set_title('Scree Plot')\n",
    "ax.set_xlabel('Principal Component')\n",
    "ax.set_ylabel('Eigenvalue')\n",
    "\n",
    "plt.show()"
   ]
  },
  {
   "cell_type": "markdown",
   "metadata": {
    "id": "IZ-BKHlEqC6A"
   },
   "source": [
    "Theo scree plot ở trên thì số lượng thành phần phù hợp để thực hiện PCA sẽ là 2. "
   ]
  },
  {
   "cell_type": "markdown",
   "metadata": {
    "id": "AoGPtAboqZIj"
   },
   "source": [
    "###(b) Tính thành phần chính của mẫu."
   ]
  },
  {
   "cell_type": "code",
   "execution_count": null,
   "metadata": {
    "id": "fF4r6ywvQ-7m"
   },
   "outputs": [],
   "source": [
    "from matplotlib.patches import Ellipse, Rectangle\n",
    "def get_cov_ellipse(cov, centre, nstd, eig = False, **kwargs):\n",
    "    \"\"\"\n",
    "    Return a matplotlib Ellipse patch representing the covariance matrix\n",
    "    cov centred at centre and scaled by the factor nstd.\n",
    "\n",
    "    \"\"\"\n",
    "\n",
    "    # Find and sort eigenvalues and eigenvectors into descending order\n",
    "    eigvals, eigvecs = np.linalg.eigh(cov)\n",
    "    order = eigvals.argsort()[::-1]\n",
    "    eigvals, eigvecs = eigvals[order], eigvecs[:, order]\n",
    "    # The anti-clockwise angle to rotate our ellipse by \n",
    "    vx, vy = eigvecs[:,0][0], eigvecs[:,0][1]\n",
    "    theta = np.arctan2(vy, vx)\n",
    "\n",
    "    # Width and height of ellipse to draw\n",
    "    width, height = 2 * nstd * np.sqrt(eigvals)\n",
    "    if eig:\n",
    "        return Ellipse(xy=centre, width=width, height=height,\n",
    "                   angle=np.degrees(theta), **kwargs), eigvals, eigvecs\n",
    "    else: \n",
    "        return Ellipse(xy=centre, width=width, height=height,\n",
    "                   angle=np.degrees(theta), **kwargs)"
   ]
  },
  {
   "cell_type": "code",
   "execution_count": null,
   "metadata": {
    "colab": {
     "base_uri": "https://localhost:8080/",
     "height": 282
    },
    "id": "aBl_kaK5v2uv",
    "outputId": "e3936d05-6ce3-4a1a-c404-64f58d120208"
   },
   "outputs": [],
   "source": [
    "pca = PCA(n_components=2).fit(df)\n",
    "X_pca=pca.transform(df)\n",
    "X_mean_1,X_mean_2=X_pca[:,0].mean(), X_pca[:,1].mean()\n",
    "fig, ax = plt.subplots()\n",
    "e = Ellipse(xy=(X_mean_1,X_mean_2),width=2*np.sqrt(eigenvals[0]),height=2*np.sqrt(eigenvals[1]),angle=np.arctan2(eigenvecs[0][0],eigenvecs[0][1]), edgecolor='blue', facecolor='None')\n",
    "ax.scatter(x=X_pca[:,0],y=X_pca[:,1], c='red', s=25)\n",
    "ax.scatter(X_mean_1,X_mean_2, c='green',s=25)\n",
    "ax.add_patch(e)"
   ]
  },
  {
   "cell_type": "markdown",
   "metadata": {
    "id": "L5dWy-27w-LO"
   },
   "source": [
    "###(d) Sử dụng những giá trị cho 2 thành phần chính đầu tiên, plot dữ liệu lên không gian 2 chiều với $\\hat{y_1}$ là trục dọc và $\\hat{y_2}$ trục ngang. Bạn có thể phân biệt những nhóm thể hiện 3 giống cattle ? có điểm ngoại lai không ?"
   ]
  },
  {
   "cell_type": "code",
   "execution_count": null,
   "metadata": {
    "colab": {
     "base_uri": "https://localhost:8080/",
     "height": 419
    },
    "id": "xIXy0yc32rzM",
    "outputId": "78bff9e5-e848-43aa-ee0f-6faca6c4512d"
   },
   "outputs": [],
   "source": [
    "breed= pd.DataFrame(np.loadtxt(path)).iloc[:,0].values\n",
    "df_new=pd.DataFrame(np.concatenate((X_pca,breed.reshape(-1,1)),axis=1))\n",
    "df_new"
   ]
  },
  {
   "cell_type": "code",
   "execution_count": null,
   "metadata": {
    "colab": {
     "base_uri": "https://localhost:8080/",
     "height": 319
    },
    "id": "SJG2JvpJ0j5G",
    "outputId": "4aa04374-b0c7-4c42-dfee-2a6a657ec742"
   },
   "outputs": [],
   "source": [
    "fig, ax = plt.subplots()\n",
    "ax.scatter(df_new.iloc[:,1],df_new.iloc[:,0],c=df_new.iloc[:,2])\n",
    "ax.set_title('Scatter plot')\n",
    "ax.set_xlabel('$\\hat{y_2}$')\n",
    "ax.set_ylabel('$\\hat{y_1}$')"
   ]
  },
  {
   "cell_type": "markdown",
   "metadata": {
    "id": "s0mypqrw5-FW"
   },
   "source": [
    "Ta có thể thấy là các nhóm cho 3 chủng loại không tách biệt nhau ra nên chúng ta phân biệt các nhóm này. Ngoài ra chúng ta cũng nhận ra có 2 điểm outlier ở góc trên bên phải."
   ]
  },
  {
   "cell_type": "code",
   "execution_count": null,
   "metadata": {
    "colab": {
     "base_uri": "https://localhost:8080/",
     "height": 295
    },
    "id": "W_Ye1hP66QeP",
    "outputId": "5ee249e8-d742-4c57-dfdc-0921b89e71dc"
   },
   "outputs": [],
   "source": [
    "import pylab\n",
    "import statsmodels.api as sm\n",
    "sm.qqplot(df_new.iloc[:,0],line='r')\n",
    "plt.title('Q-Q plot using the first principal component')\n",
    "plt.show()"
   ]
  },
  {
   "cell_type": "markdown",
   "metadata": {
    "id": "t9xLFUPH7r1N"
   },
   "source": [
    "Từ Q-Q plot, ta thấy dữ liệu sử dụng thành phần chính đầu tiên có tính chuẩn và có 1 điểm outlier ở góc trên bên phải. "
   ]
  },
  {
   "cell_type": "markdown",
   "metadata": {
    "id": "jk8ani_88b9P"
   },
   "source": [
    "###8.26"
   ]
  },
  {
   "cell_type": "markdown",
   "metadata": {
    "id": "uWTgKF168dm2"
   },
   "source": [
    "###Sử dụg dữ liệu về profile tâm lý học ở bảng 4.6. Sử dụng 5 biến Indep, Supp, Benev, Conform và Leader, thực hiện phân tích thành phần chính sử dụng ma trận hiệp phương sai $\\boldsymbol{S}$ và ma trận tương quan $\\boldsymbol{R}$. Phân tích cần bao gồm"
   ]
  },
  {
   "cell_type": "markdown",
   "metadata": {
    "id": "o6ebNolT9Wx4"
   },
   "source": [
    "###(a) Xác định số lượng thành phần chính phù hợp để tóm tắt hiệu quả sự thay đổi ở mẫu. Vẽ scree plot để hỗ trợ xác định của bạn.\n",
    "\n"
   ]
  },
  {
   "cell_type": "code",
   "execution_count": null,
   "metadata": {
    "colab": {
     "base_uri": "https://localhost:8080/",
     "height": 204
    },
    "id": "8kJK3Bsu7qu2",
    "outputId": "9bd3fa29-b879-44c1-e320-33b38c8cd0e5"
   },
   "outputs": [],
   "source": [
    "path='/content/T4-6.DAT.txt'\n",
    "df=pd.DataFrame(np.loadtxt(path)).iloc[:,:-2]\n",
    "df.columns=['Indep','Supp','Benev','Conform','Leader']\n",
    "df.head()"
   ]
  },
  {
   "cell_type": "code",
   "execution_count": null,
   "metadata": {
    "colab": {
     "base_uri": "https://localhost:8080/"
    },
    "id": "YmyIqKDe2xYi",
    "outputId": "7421e668-a7dc-4f32-a536-672941c99c92"
   },
   "outputs": [],
   "source": [
    "S=np.cov(df.T)\n",
    "S"
   ]
  },
  {
   "cell_type": "code",
   "execution_count": null,
   "metadata": {
    "colab": {
     "base_uri": "https://localhost:8080/"
    },
    "id": "iJe7qEi026ST",
    "outputId": "53d7ca16-6435-4fa3-fe7f-152f1a2452e5"
   },
   "outputs": [],
   "source": [
    "R=np.corrcoef(df.T)\n",
    "R"
   ]
  },
  {
   "cell_type": "code",
   "execution_count": null,
   "metadata": {
    "colab": {
     "base_uri": "https://localhost:8080/"
    },
    "id": "2zBRHYq73FQu",
    "outputId": "13629096-1da5-405f-9e84-3ac7ba4fb798"
   },
   "outputs": [],
   "source": [
    "eigenvals, eigenvecs, proportions = PCA_(S, correlation=False, column_names=df.columns, return_=True)"
   ]
  },
  {
   "cell_type": "markdown",
   "metadata": {
    "id": "2Rq8LUwL3Rce"
   },
   "source": [
    "2 thành phần mẫu chính đầu tiên là:\n",
    "\\begin{equation*}\n",
    "\\hat{y_1}=-0.579x_1+0.0417x_2+0.524x_3+0.493x_4-0.38x_5\n",
    "\\end{equation*}\n",
    "\\begin{equation*}\n",
    "\\hat{y_2}=0.079x_1+0.612x_2+0.219x_3-0.572x_4-0.494x_5\n",
    "\\end{equation*}"
   ]
  },
  {
   "cell_type": "code",
   "execution_count": null,
   "metadata": {
    "colab": {
     "base_uri": "https://localhost:8080/",
     "height": 350
    },
    "id": "0AZgB_ab3MyY",
    "outputId": "e9d323cb-9ea2-4517-e260-c085f45c5382"
   },
   "outputs": [],
   "source": [
    "fig, ax = plt.subplots(figsize=(10,5))\n",
    "\n",
    "PC_values = np.arange(len(eigenvals)) + 1\n",
    "ax.plot(PC_values, eigenvals, 'ro-', linewidth=2)\n",
    "ax.set_title('Scree Plot')\n",
    "ax.set_xlabel('Principal Component')\n",
    "ax.set_ylabel('Eigenvalue')\n",
    "\n",
    "plt.show()"
   ]
  },
  {
   "cell_type": "markdown",
   "metadata": {
    "id": "jBhTpwSE4Aut"
   },
   "source": [
    "Theo scree plot ở trên thì số lượng thành phần phù hợp để thực hiện PCA sẽ là 3, chiếm $86\\%$ variance tổng. "
   ]
  },
  {
   "cell_type": "markdown",
   "metadata": {
    "id": "htxsPEu19ivG"
   },
   "source": [
    "###(b) Tính thành phần chính của mẫu."
   ]
  },
  {
   "cell_type": "code",
   "execution_count": null,
   "metadata": {
    "colab": {
     "base_uri": "https://localhost:8080/",
     "height": 282
    },
    "id": "ZrZGpjuZ6FM8",
    "outputId": "05b370c0-2983-4679-b8f2-8653242e1cac"
   },
   "outputs": [],
   "source": [
    "pca = PCA(n_components=3).fit(df)\n",
    "X_pca=pca.transform(df)\n",
    "X_mean_1,X_mean_2=X_pca[:,0].mean(), X_pca[:,1].mean()\n",
    "fig, ax = plt.subplots()\n",
    "e = Ellipse(xy=(X_mean_1,X_mean_2),width=2*np.sqrt(eigenvals[0]),height=2*np.sqrt(eigenvals[1]),angle=np.arctan2(eigenvecs[0][0],eigenvecs[0][1]), edgecolor='blue', facecolor='None')\n",
    "ax.scatter(x=X_pca[:,0],y=X_pca[:,1], c='red', s=25)\n",
    "ax.scatter(X_mean_1,X_mean_2, c='green',s=25)\n",
    "ax.add_patch(e)"
   ]
  },
  {
   "cell_type": "markdown",
   "metadata": {
    "id": "FWMEJLlW9uS_"
   },
   "source": [
    "###(c) Sử dụng những giá trị cho 2 thành phần chính đầu tiên, plot dữ liệu lên không gian 2 chiều với $\\hat{y_1}$ là trục dọc và $\\hat{y_2}$ trục ngang. Bạn có thể phân biệt những nhóm thể hiện 2 mức socioeconomic  hoặc 2 giới tính? có điểm ngoại lai không ?"
   ]
  },
  {
   "cell_type": "code",
   "execution_count": null,
   "metadata": {
    "colab": {
     "base_uri": "https://localhost:8080/",
     "height": 419
    },
    "id": "TBgNQzAp-HE_",
    "outputId": "e90767bf-df5e-4940-ac0f-ab9d3c805ec1"
   },
   "outputs": [],
   "source": [
    "gender_socio= pd.DataFrame(np.loadtxt(path)).iloc[:,-2:].values\n",
    "df_new=pd.DataFrame(np.concatenate((X_pca,gender_socio),axis=1))\n",
    "df_new"
   ]
  },
  {
   "cell_type": "code",
   "execution_count": null,
   "metadata": {
    "colab": {
     "base_uri": "https://localhost:8080/",
     "height": 319
    },
    "id": "TTzeBz4j7kOr",
    "outputId": "5279ed3b-57e0-4f18-e637-c6974d9e12a9"
   },
   "outputs": [],
   "source": [
    "fig, ax = plt.subplots()\n",
    "ax.scatter(df_new.iloc[:,1],df_new.iloc[:,0],c=df_new.iloc[:,3])\n",
    "ax.set_title('Scatter plot with gender')\n",
    "ax.set_xlabel('$\\hat{y_2}$')\n",
    "ax.set_ylabel('$\\hat{y_1}$')"
   ]
  },
  {
   "cell_type": "markdown",
   "metadata": {
    "id": "ogd0oWaq796e"
   },
   "source": [
    "Theo scatterplot trên thì ta không thể phân biệt được 2 nhóm theo giới tính. Cũng từ 2 scatterplot ta thấy có 1 điểm ngoại lai."
   ]
  },
  {
   "cell_type": "code",
   "execution_count": null,
   "metadata": {
    "colab": {
     "base_uri": "https://localhost:8080/",
     "height": 319
    },
    "id": "e8lK2lyl8F4t",
    "outputId": "0aa92a39-93dd-4628-f769-646a82d8c28f"
   },
   "outputs": [],
   "source": [
    "fig, ax = plt.subplots()\n",
    "ax.scatter(df_new.iloc[:,1],df_new.iloc[:,0],c=df_new.iloc[:,4])\n",
    "ax.set_title('Scatter plot with socioeconomic levels')\n",
    "ax.set_xlabel('$\\hat{y_2}$')\n",
    "ax.set_ylabel('$\\hat{y_1}$')"
   ]
  },
  {
   "cell_type": "markdown",
   "metadata": {
    "id": "nW9y9ots8OnK"
   },
   "source": [
    "Tương tự như scatterplot trên thì ta cũng không phân biệt được 2 nhóm thể hiện 2 socioeconomic levels."
   ]
  },
  {
   "cell_type": "markdown",
   "metadata": {
    "id": "H0FBodOp-HdM"
   },
   "source": [
    "###(d) Xây dựng khoảng tin cậy $95\\%$ cho $\\lambda_1$, variance của thành phần chính đầu tiên của tổng thể từ ma trận hiệp phương sai. "
   ]
  },
  {
   "cell_type": "code",
   "execution_count": null,
   "metadata": {
    "colab": {
     "base_uri": "https://localhost:8080/"
    },
    "id": "JDmO1itX8Zb9",
    "outputId": "9e030e7a-c2b6-4fd0-863d-11ecceef1095"
   },
   "outputs": [],
   "source": [
    "alpha=0.05\n",
    "n=df.shape[0]\n",
    "import scipy.stats\n",
    "z=scipy.stats.norm.ppf(1-alpha/2)\n",
    "lowerbound=eigenvals[0]/(1+z*np.sqrt(2/n))\n",
    "upperbound=eigenvals[0]/(1-z*np.sqrt(2/n))\n",
    "print('95% confidence interval for $\\lambda_1$ is: [{}, {}]'.format(lowerbound,upperbound))"
   ]
  },
  {
   "cell_type": "markdown",
   "metadata": {
    "id": "QN6sN6zt-ZN0"
   },
   "source": [
    "###8.29"
   ]
  },
  {
   "cell_type": "markdown",
   "metadata": {
    "id": "A2iFQk_u-a9V"
   },
   "source": [
    "###Theo bài 5.28, sử dụng ma trận hiệp phương sai $\\boldsymbol{S}$ cho 30 cases đầu tiên của dữ liệu dây chuyền thân xe hơi, đạt được thành phần chính mẫu."
   ]
  },
  {
   "cell_type": "markdown",
   "metadata": {
    "id": "ujkWFKkd-sdP"
   },
   "source": [
    "###(a) Xây dựng $95\\%$ ellipse format chart sử dụng 2 thành phần chính đầu tiên $\\hat{y_1}$ và $\\hat{y_2}$. Xác định vị trí xe mà ngoài tầm kiểm soát"
   ]
  },
  {
   "cell_type": "code",
   "execution_count": null,
   "metadata": {
    "colab": {
     "base_uri": "https://localhost:8080/",
     "height": 204
    },
    "id": "dwxd7Abc--7j",
    "outputId": "f113fa64-2be5-41ab-c612-7264b90956df"
   },
   "outputs": [],
   "source": [
    "path='/content/T5-14.dat.txt'\n",
    "df=pd.DataFrame(np.loadtxt(path)).iloc[:30,:]\n",
    "df.head()"
   ]
  },
  {
   "cell_type": "code",
   "execution_count": null,
   "metadata": {
    "colab": {
     "base_uri": "https://localhost:8080/"
    },
    "id": "zbQKmvds_4B6",
    "outputId": "0a94bf7d-f531-4635-de05-cc07d5eb6f18"
   },
   "outputs": [],
   "source": [
    "S=np.cov(df.T)\n",
    "S"
   ]
  },
  {
   "cell_type": "code",
   "execution_count": null,
   "metadata": {
    "colab": {
     "base_uri": "https://localhost:8080/"
    },
    "id": "mGEbhPVPApqr",
    "outputId": "307973a3-7f35-4e7c-bbbe-1fba2083766e"
   },
   "outputs": [],
   "source": [
    "eigenvals, eigenvecs, proportions = PCA_(S, correlation=False, column_names=df.columns, return_=True)"
   ]
  },
  {
   "cell_type": "markdown",
   "metadata": {
    "id": "gLrpASpVA22A"
   },
   "source": [
    "2 thành phần chính đầu tiên giải thích $68\\%$ tổng variance. Số lượng thành phần chính phù hợp để thực hiện phân tích sẽ là 4, giải thích $94.6\\%$ tổng variance."
   ]
  },
  {
   "cell_type": "code",
   "execution_count": null,
   "metadata": {
    "colab": {
     "base_uri": "https://localhost:8080/",
     "height": 282
    },
    "id": "0UhxPiTHA-_q",
    "outputId": "f262846b-26aa-47a2-e734-1e4a4d082670"
   },
   "outputs": [],
   "source": [
    "pca = PCA(n_components=4).fit(df)\n",
    "X_pca=pca.transform(df)\n",
    "fig, ax = plt.subplots()\n",
    "centre=(0,0)\n",
    "#the upper 95% percentile of chi square with degree of freedom of 2 is 5.99\n",
    "e = Ellipse(centre,width=2*np.sqrt(5.99*eigenvals[0]),height=2*np.sqrt(5.99*eigenvals[1]), edgecolor='blue', facecolor='None')\n",
    "ax.scatter(x=X_pca[:,0],y=X_pca[:,1], c='red', s=25)\n",
    "ax.add_patch(e)"
   ]
  },
  {
   "cell_type": "markdown",
   "metadata": {
    "id": "XydHzUh6G1zH"
   },
   "source": [
    "Theo $95\\%$ ellipse format chart ta có 2 điểm nằm ngoài hình ellipse. 2 điểm này chính là các quan trắc ngoài tầm kiểm soát."
   ]
  },
  {
   "cell_type": "code",
   "execution_count": null,
   "metadata": {
    "colab": {
     "base_uri": "https://localhost:8080/"
    },
    "id": "Kd4_66anHLnd",
    "outputId": "4e9f2472-b172-4121-d747-92a97024d303"
   },
   "outputs": [],
   "source": [
    "print(np.argmin(X_pca[:,1]))\n",
    "print(np.argmax(X_pca[:,1]))"
   ]
  },
  {
   "cell_type": "markdown",
   "metadata": {
    "id": "RuUE0qozHgSy"
   },
   "source": [
    "Theo đó, quan trắc thứ 3 và quan trắc thứ 11 nằm ngoài tầm kiểm soát."
   ]
  },
  {
   "cell_type": "markdown",
   "metadata": {
    "id": "OiiyWwJt--RG"
   },
   "source": [
    "###(b) Xây dụng một chart kiểm soát thay thế, dựa trên tổng bình phương $d_{ij}^2$ để kiểm xoát sự thay đổi trong các quan trắc ban đầu được tóm tắt bởi 4 thành phần chính còn lại. Diễn giải chart này."
   ]
  },
  {
   "cell_type": "code",
   "execution_count": null,
   "metadata": {
    "colab": {
     "base_uri": "https://localhost:8080/"
    },
    "id": "o6PSuHSLHpLg",
    "outputId": "8854dacd-78b4-4dc2-90c6-24871be12336"
   },
   "outputs": [],
   "source": [
    "pca = PCA(n_components=6).fit(df)\n",
    "X_pca=pca.transform(df)\n",
    "X_pca.shape"
   ]
  },
  {
   "cell_type": "code",
   "execution_count": null,
   "metadata": {
    "colab": {
     "base_uri": "https://localhost:8080/"
    },
    "id": "8nZutcQINGH4",
    "outputId": "fd1592de-24e2-4239-cd76-707c2c340c85"
   },
   "outputs": [],
   "source": [
    "X_pca=X_pca-X_pca.mean(axis=0)\n",
    "X_pca[:,2:]=X_pca[:,2:]**2\n",
    "X=X_pca[:,2:].copy()\n",
    "d_j=X.sum(axis=1)\n",
    "d_j.shape"
   ]
  },
  {
   "cell_type": "code",
   "execution_count": null,
   "metadata": {
    "colab": {
     "base_uri": "https://localhost:8080/"
    },
    "id": "A-3RHOxvRSbG",
    "outputId": "018a4351-4bc6-40eb-abad-2c377834a11d"
   },
   "outputs": [],
   "source": [
    "d_u=d_j.mean()\n",
    "s_u=d_j.std(ddof=1)\n",
    "print(d_u)\n",
    "print(s_u)"
   ]
  },
  {
   "cell_type": "code",
   "execution_count": null,
   "metadata": {
    "colab": {
     "base_uri": "https://localhost:8080/"
    },
    "id": "_TvD0UAXVfNA",
    "outputId": "9ba4c712-58d2-45c2-c942-e49791a13f88"
   },
   "outputs": [],
   "source": [
    "c=s_u/(2*d_u)\n",
    "v=2*(d_u**2)/s_u\n",
    "print(c)\n",
    "print(v)\n",
    "#Từ đây, ta chọn bậc tự do v = 1"
   ]
  },
  {
   "cell_type": "code",
   "execution_count": null,
   "metadata": {
    "colab": {
     "base_uri": "https://localhost:8080/"
    },
    "id": "FHKFdsAUZ22V",
    "outputId": "73484f27-f98f-40bf-c35b-937c95826d0e"
   },
   "outputs": [],
   "source": [
    "from scipy.stats import chi2\n",
    "#Tính giới hạn kiểm soát trên\n",
    "upper_control_limit=c*chi2.ppf(0.95,1)\n",
    "upper_control_limit"
   ]
  },
  {
   "cell_type": "code",
   "execution_count": null,
   "metadata": {
    "colab": {
     "base_uri": "https://localhost:8080/",
     "height": 979
    },
    "id": "eE54iDL7c4-h",
    "outputId": "898710a7-ef17-4ed1-89a9-3cb804447524"
   },
   "outputs": [],
   "source": [
    "#Tính T^2\n",
    "X_new=pd.DataFrame(X_pca)\n",
    "X_new['T^2']=X_new[2]**2/eigenvals[2]+X_new[3]**2/eigenvals[3]+X_new[4]**2/eigenvals[4]+X_new[5]**2/eigenvals[5]\n",
    "X_new"
   ]
  },
  {
   "cell_type": "code",
   "execution_count": null,
   "metadata": {
    "colab": {
     "base_uri": "https://localhost:8080/",
     "height": 282
    },
    "id": "M67SCx0TeBmW",
    "outputId": "78d771ee-27dd-4264-9224-b30eb9c6461e"
   },
   "outputs": [],
   "source": [
    "fig, ax = plt.subplots()\n",
    "ax.plot(X_new['T^2'])\n",
    "ax.axhline(upper_control_limit,c='red')\n",
    "ax.axhline(0,c='red')"
   ]
  },
  {
   "cell_type": "markdown",
   "metadata": {
    "id": "tub3RPUVfLqZ"
   },
   "source": [
    "Từ đây ta thấy có 3 quan trắc ngoài tầm kiểm soát là quan trắc thứ 14, 17, 19."
   ]
  }
 ],
 "metadata": {
  "colab": {
   "collapsed_sections": [
    "74keAXcnRq54",
    "AoGPtAboqZIj",
    "L5dWy-27w-LO",
    "o6ebNolT9Wx4",
    "htxsPEu19ivG",
    "FWMEJLlW9uS_",
    "H0FBodOp-HdM",
    "ujkWFKkd-sdP",
    "OiiyWwJt--RG"
   ],
   "name": "TKNC_Nhóm-6_Tuần-8_BT-Thực-hành-8.22-8.26-8.29.ipynb",
   "provenance": []
  },
  "kernelspec": {
   "display_name": "Python 3",
   "language": "python",
   "name": "python3"
  },
  "language_info": {
   "codemirror_mode": {
    "name": "ipython",
    "version": 3
   },
   "file_extension": ".py",
   "mimetype": "text/x-python",
   "name": "python",
   "nbconvert_exporter": "python",
   "pygments_lexer": "ipython3",
   "version": "3.8.5"
  }
 },
 "nbformat": 4,
 "nbformat_minor": 1
}
