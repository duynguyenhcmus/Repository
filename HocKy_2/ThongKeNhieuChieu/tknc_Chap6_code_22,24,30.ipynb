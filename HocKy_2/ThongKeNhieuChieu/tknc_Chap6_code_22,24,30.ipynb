{
  "nbformat": 4,
  "nbformat_minor": 0,
  "metadata": {
    "colab": {
      "name": "tknc_Chap6_code_22,24,30.ipynb",
      "provenance": [],
      "collapsed_sections": [
        "cjwOqoUEpMPW",
        "CGXvABFB97LV",
        "B4q9UbW6-Wub",
        "bAgHcw6qEPnm",
        "npWHR6FAFUDz",
        "7zEDLRJPesJi",
        "52cUNDV-kcso",
        "Qb5zjRnHmfqe"
      ]
    },
    "kernelspec": {
      "name": "python3",
      "display_name": "Python 3"
    },
    "language_info": {
      "name": "python"
    }
  },
  "cells": [
    {
      "cell_type": "code",
      "metadata": {
        "id": "j-Uvw1LqHfl9"
      },
      "source": [
        "import numpy as np\n",
        "import pandas as pd\n",
        "import scipy.stats as stats\n",
        "import matplotlib.pyplot as plt\n",
        "from matplotlib.patches import Ellipse, Rectangle\n",
        "from google.colab import drive"
      ],
      "execution_count": 1,
      "outputs": []
    },
    {
      "cell_type": "markdown",
      "metadata": {
        "id": "bxTsCJ2TjBUi"
      },
      "source": [
        "###6.22"
      ]
    },
    {
      "cell_type": "markdown",
      "metadata": {
        "id": "cjwOqoUEpMPW"
      },
      "source": [
        "###Các nhà nghiên cứu thích thú việc đánh giá chức năng của phổi trong một tổng thể những người không có bệnh lý được yêu cầu chạy trên một máy chạy bộ tới khi kiệt sức. Những mẫu không khí được sưu tập ở một khoảng xác định và thành phần thể khí được phân tích. Kết quả trên 4 phép đo lượng tiêu thụ oxy của 25 nam và 25 nữ được cho bởi bảng 6.12 ở trang 348."
      ]
    },
    {
      "cell_type": "code",
      "metadata": {
        "id": "d9YWJiOEvBLa",
        "colab": {
          "base_uri": "https://localhost:8080/"
        },
        "outputId": "456ccfd8-f62c-4a24-8ee2-45a1ad3ea9a7"
      },
      "source": [
        "drive.mount('/content/drive')"
      ],
      "execution_count": 2,
      "outputs": [
        {
          "output_type": "stream",
          "text": [
            "Drive already mounted at /content/drive; to attempt to forcibly remount, call drive.mount(\"/content/drive\", force_remount=True).\n"
          ],
          "name": "stdout"
        }
      ]
    },
    {
      "cell_type": "code",
      "metadata": {
        "id": "v0xBg-AtdMbD"
      },
      "source": [
        "#Import dataset\n",
        "path = '/content/T6-12.dat.txt'\n",
        "f = open(path, \"r\")\n",
        "data=f.readlines()\n",
        "male_data=list()\n",
        "female_data=list()\n",
        "for txt in data:\n",
        "  if 'female' in txt:\n",
        "    female_data.append(txt[:-7])\n",
        "  else:\n",
        "    male_data.append(txt[:-6])\n",
        "\n",
        "male_df=pd.DataFrame(np.loadtxt(male_data))\n",
        "female_df=pd.DataFrame(np.loadtxt(female_data))"
      ],
      "execution_count": 3,
      "outputs": []
    },
    {
      "cell_type": "markdown",
      "metadata": {
        "id": "CGXvABFB97LV"
      },
      "source": [
        "###(a) Tìm sự chênh lệch về giới tính bằng cách kiểm định tính bằng nhau của trung bình từng group. Sử dụng $\\alpha=.05$. Nếu bác bỏ $H_0: \\boldsymbol{\\mu_1}-\\boldsymbol{\\mu_2}=0$, hãy tìm tổ hợp tuyến tính thoả mãn."
      ]
    },
    {
      "cell_type": "code",
      "metadata": {
        "colab": {
          "base_uri": "https://localhost:8080/"
        },
        "id": "5CaOXzwxxZvl",
        "outputId": "48b1c002-5077-4eb5-de99-80b871bc5cd1"
      },
      "source": [
        "# vectơ trung bình\n",
        "male_mean = np.array(male_df.apply(np.mean))\n",
        "print(\"\\nMean vector Male: \\n\", male_mean)\n",
        "\n",
        "# Ma trận hiệp phương sai\n",
        "S_male = np.array(np.cov(male_df.T))\n",
        "print(\"\\nCovariance matrix Male: \\n\", S_male)"
      ],
      "execution_count": 4,
      "outputs": [
        {
          "output_type": "stream",
          "text": [
            "\n",
            "Mean vector Male: \n",
            " [ 0.3972  5.3296  3.6876 49.4204]\n",
            "\n",
            "Covariance matrix Male: \n",
            " [[7.12100000e-03 7.00030000e-02 3.14471667e-02 1.50580333e-01]\n",
            " [7.00030000e-02 1.14417900e+00 1.47678167e-01 3.43090850e+00]\n",
            " [3.14471667e-02 1.47678167e-01 4.55877333e-01 3.30812183e+00]\n",
            " [1.50580333e-01 3.43090850e+00 3.30812183e+00 5.52521457e+01]]\n"
          ],
          "name": "stdout"
        }
      ]
    },
    {
      "cell_type": "code",
      "metadata": {
        "colab": {
          "base_uri": "https://localhost:8080/"
        },
        "id": "5ftjRCbq3Has",
        "outputId": "e6e41822-8fd9-4115-9a1b-cc6e9c4fdae1"
      },
      "source": [
        "# vectơ trung bình\n",
        "female_mean = np.array(female_df.apply(np.mean))\n",
        "print(\"\\nMean vector female: \\n\", female_mean)\n",
        "\n",
        "# Ma trận hiệp phương sai\n",
        "S_female = np.array(np.cov(female_df.T))\n",
        "print(\"\\nCovariance matrix female: \\n\", S_female)"
      ],
      "execution_count": 5,
      "outputs": [
        {
          "output_type": "stream",
          "text": [
            "\n",
            "Mean vector female: \n",
            " [ 0.3136  5.1788  2.3152 38.1548]\n",
            "\n",
            "Covariance matrix female: \n",
            " [[ 9.73233333e-03  1.54087833e-01  4.16800000e-03  2.97570000e-02]\n",
            " [ 1.54087833e-01  2.78066100e+00 -3.94476667e-02  1.28069767e+00]\n",
            " [ 4.16800000e-03 -3.94476667e-02  1.20509333e-01  1.09814900e+00]\n",
            " [ 2.97570000e-02  1.28069767e+00  1.09814900e+00  2.32608260e+01]]\n"
          ],
          "name": "stdout"
        }
      ]
    },
    {
      "cell_type": "code",
      "metadata": {
        "colab": {
          "base_uri": "https://localhost:8080/"
        },
        "id": "t7HTlXgp4bFg",
        "outputId": "3875c577-703e-4e32-b2cb-557ef9432653"
      },
      "source": [
        "n_1=n_2=male_df.shape[0]\n",
        "S_pooled=(n_1-1)/(n_1+n_2-2)*S_male+(n_2-1)/(n_1+n_2-2)*S_female\n",
        "print(S_pooled)"
      ],
      "execution_count": 6,
      "outputs": [
        {
          "output_type": "stream",
          "text": [
            "[[8.42666667e-03 1.12045417e-01 1.78075833e-02 9.01686667e-02]\n",
            " [1.12045417e-01 1.96242000e+00 5.41152500e-02 2.35580308e+00]\n",
            " [1.78075833e-02 5.41152500e-02 2.88193333e-01 2.20313542e+00]\n",
            " [9.01686667e-02 2.35580308e+00 2.20313542e+00 3.92564858e+01]]\n"
          ],
          "name": "stdout"
        }
      ]
    },
    {
      "cell_type": "code",
      "metadata": {
        "colab": {
          "base_uri": "https://localhost:8080/"
        },
        "id": "zwNxyrk94yWm",
        "outputId": "a8a3b2e2-8859-4764-b3d5-741d3b34d161"
      },
      "source": [
        "t_2=np.matmul((male_mean-female_mean).T,np.linalg.inv((1/n_1+1/n_2)*S_pooled))\n",
        "t_2=np.matmul(t_2,(male_mean-female_mean))\n",
        "print('Hotelling T^2: ',t_2)"
      ],
      "execution_count": 7,
      "outputs": [
        {
          "output_type": "stream",
          "text": [
            "Hotelling T^2:  96.37322129759951\n"
          ],
          "name": "stdout"
        }
      ]
    },
    {
      "cell_type": "code",
      "metadata": {
        "colab": {
          "base_uri": "https://localhost:8080/"
        },
        "id": "W047RxBu5Z9j",
        "outputId": "1b00a437-ec24-455e-a19d-199598d35555"
      },
      "source": [
        "p=male_df.shape[1]\n",
        "f = stats.f.ppf(q=1-0.05, dfn=p, dfd=n_1+n_2-p-1)\n",
        "c_2=(n_1+n_2-2)*p/(n_1+n_2-p-1)*f\n",
        "print('Critical Value: ',c_2)"
      ],
      "execution_count": 8,
      "outputs": [
        {
          "output_type": "stream",
          "text": [
            "Critical Value:  11.002620519729316\n"
          ],
          "name": "stdout"
        }
      ]
    },
    {
      "cell_type": "markdown",
      "metadata": {
        "id": "IumDVgWs-HbL"
      },
      "source": [
        "Với Hotelling $T^2=96.373 > 11$, ta bác bỏ $H_0$ với mức ý nghĩa $\\alpha=0.05$. Ta kết luận là với mức ý nghĩa $95\\%$ có sự chênh lệch trong chức năng của phổi giữa 2 giới tính nam và nữ."
      ]
    },
    {
      "cell_type": "code",
      "metadata": {
        "colab": {
          "base_uri": "https://localhost:8080/"
        },
        "id": "W27Hh6Ll8h15",
        "outputId": "2a422735-cd74-4aaa-d311-09c83e2533e4"
      },
      "source": [
        "linear_combination=np.matmul(np.linalg.inv(S_pooled),(male_mean-female_mean))\n",
        "print('linear combination most reponsible: ',linear_combination)"
      ],
      "execution_count": 9,
      "outputs": [
        {
          "output_type": "stream",
          "text": [
            "linear combination most reponsible:  [99.39897799 -6.3759988  -6.2281408   0.79082376]\n"
          ],
          "name": "stdout"
        }
      ]
    },
    {
      "cell_type": "markdown",
      "metadata": {
        "id": "B4q9UbW6-Wub"
      },
      "source": [
        "###(b) Xây dựng khoảng tin cậy đồng thời $95\\%$ cho mỗi $\\mu_{1i}-\\mu_{2i}, i=1,2,3,4$. So sánh với khoảng tin cậy Bonferroni"
      ]
    },
    {
      "cell_type": "code",
      "metadata": {
        "colab": {
          "base_uri": "https://localhost:8080/"
        },
        "id": "SwKoC3ME5llC",
        "outputId": "ccb8735a-7e52-469a-9757-2ffa24196d8b"
      },
      "source": [
        "for i in range(male_df.shape[1]):\n",
        "  lowerbound=(male_mean[i]-female_mean[i])-np.sqrt(c_2)*np.sqrt((1/n_1+1/n_2)*S_pooled[i][i])\n",
        "  upperbound=(male_mean[i]-female_mean[i])+np.sqrt(c_2)*np.sqrt((1/n_1+1/n_2)*S_pooled[i][i])\n",
        "  print('95% confidence interval for mu_1{}-mu_2{} in range [{}, {}]'.format(i+1,i+1,lowerbound,upperbound))"
      ],
      "execution_count": 10,
      "outputs": [
        {
          "output_type": "stream",
          "text": [
            "95% confidence interval for mu_11-mu_21 in range [-0.0025233606309393725, 0.16972336063093962]\n",
            "95% confidence interval for mu_12-mu_22 in range [-1.1634834568030512, 1.46508345680305]\n",
            "95% confidence interval for mu_13-mu_23 in range [0.8687428242955314, 1.8760571757044682]\n",
            "95% confidence interval for mu_14-mu_24 in range [5.387340280917852, 17.143859719082148]\n"
          ],
          "name": "stdout"
        }
      ]
    },
    {
      "cell_type": "code",
      "metadata": {
        "colab": {
          "base_uri": "https://localhost:8080/"
        },
        "id": "L48o80uY_jZl",
        "outputId": "253a3c70-0364-4f41-db8a-bb549d3aa1ad"
      },
      "source": [
        "t = stats.t.ppf(q=1-(0.05/(2*p)),df=n_1+n_2-2)\n",
        "for i in range(male_df.shape[1]):\n",
        "  lowerbound=(male_mean[i]-female_mean[i])-t*np.sqrt((1/n_1+1/n_2)*S_pooled[i][i])\n",
        "  upperbound=(male_mean[i]-female_mean[i])+t*np.sqrt((1/n_1+1/n_2)*S_pooled[i][i])\n",
        "  print('Bonferroni confidence interval for mu_1{}-mu_2{} in range [{},{}]'.format(i+1,i+1,lowerbound,upperbound))"
      ],
      "execution_count": 11,
      "outputs": [
        {
          "output_type": "stream",
          "text": [
            "Bonferroni confidence interval for mu_11-mu_21 in range [0.01621483894956366,0.15098516105043658]\n",
            "Bonferroni confidence interval for mu_12-mu_22 in range [-0.8775296164221205,1.1791296164221192]\n",
            "Bonferroni confidence interval for mu_13-mu_23 in range [0.978325504411156,1.7664744955888438]\n",
            "Bonferroni confidence interval for mu_14-mu_24 in range [6.666296454890269,15.86490354510973]\n"
          ],
          "name": "stdout"
        }
      ]
    },
    {
      "cell_type": "markdown",
      "metadata": {
        "id": "WsLR3zzHoEm-"
      },
      "source": [
        "Từ các khoảng tin cậy trên, ta thấy khoảng tin cậy $95\\%$ Bonferroni nhỏ hơn so với khoảng tin cậy còn lại."
      ]
    },
    {
      "cell_type": "markdown",
      "metadata": {
        "id": "bAgHcw6qEPnm"
      },
      "source": [
        "###(c) Với bộ dữ liệu bảng 6.12 được thu thập từ những tình nguyện viên đại học, do đó, họ không đại diện cho một mẫu ngẫu nhiên. Suy ra điều gì từ thông tin này."
      ]
    },
    {
      "cell_type": "markdown",
      "metadata": {
        "id": "fNA06CZmE61d"
      },
      "source": [
        "Do dữ liệu bảng 6.12 chỉ được thu thập từ một lượng tình nguyện viên đại học nhỏ và cũng không thể hiện mẫu ngẫu nhiên nên ta không thể mở rộng các kết quả trên cho tổng thể lớn hơn là tổng thể những người đang ở độ tuổi sinh viên đại học."
      ]
    },
    {
      "cell_type": "markdown",
      "metadata": {
        "id": "us7kxXwlFOpb"
      },
      "source": [
        "###6.24\n"
      ]
    },
    {
      "cell_type": "markdown",
      "metadata": {
        "id": "npWHR6FAFUDz"
      },
      "source": [
        "###Các nhà nghiên cứu đã nhận định rằng một thay đổi trong kích thước hộp sọ theo thời gian là bằng chứng cho một giao phối giữa tổng thể bản địa và tổng thể di cư. 4 phép đo được tạo bởi hộp sọ đàn ông Ai Cập trong 3 thời kì khác nhau: thời kì 1 là 4000 năm trước công nguyên, thời kì 2 là 3300 năm trước công nguyên và thời kì 3 là 1850 năm trước công nguyên. Bộ dữ liệu được thể hiện ở bảng 6.13 trang 349. Hãy xây dựng MANOVA 1 chiều của bộ dữ liệu hộp sọ người Ai Cập. Sử dụng $\\alpha=.05$. Xây dựng khoảng tin cậy đồng thời $95\\%$ để xác định thành phần trung bình nào khác nhau trong các tổng thể được thể hiện bởi 3 thời kì. Giả định MANOVA thông thường có thực tế với những dữ liệu này không ? Giải thích"
      ]
    },
    {
      "cell_type": "code",
      "metadata": {
        "colab": {
          "base_uri": "https://localhost:8080/"
        },
        "id": "zuCUN-85EKhK",
        "outputId": "37e34f05-cadd-487d-c052-f94c71f24717"
      },
      "source": [
        "#Import dữ liệu\n",
        "path = '/content/T6-13.dat.txt'\n",
        "data = pd.DataFrame(np.loadtxt(path))\n",
        "print(data.head(11))"
      ],
      "execution_count": 12,
      "outputs": [
        {
          "output_type": "stream",
          "text": [
            "        0      1      2     3    4\n",
            "0   131.0  138.0   89.0  49.0  1.0\n",
            "1   125.0  131.0   92.0  48.0  1.0\n",
            "2   131.0  132.0   99.0  50.0  1.0\n",
            "3   119.0  132.0   96.0  44.0  1.0\n",
            "4   136.0  143.0  100.0  54.0  1.0\n",
            "5   138.0  137.0   89.0  56.0  1.0\n",
            "6   139.0  130.0  108.0  48.0  1.0\n",
            "7   125.0  136.0   93.0  48.0  1.0\n",
            "8   131.0  134.0  102.0  51.0  1.0\n",
            "9   134.0  134.0   99.0  51.0  1.0\n",
            "10  129.0  138.0   95.0  50.0  1.0\n"
          ],
          "name": "stdout"
        }
      ]
    },
    {
      "cell_type": "code",
      "metadata": {
        "id": "FqSvjEHyHM4E"
      },
      "source": [
        "list_mean=list()\n",
        "list_data=list()\n",
        "list_cov=list()\n",
        "\n",
        "#Trung bình và ma trận hiệp phương sai của hộp sọ trong thời kì 1\n",
        "data_1=data[data.iloc[:,-1]==1]\n",
        "data_1=data_1.drop([4],axis=1)\n",
        "list_data.append(data_1)\n",
        "list_cov.append(np.cov(data_1.T))\n",
        "\n",
        "x_1_mean=np.mean(data_1,axis=0)\n",
        "list_mean.append(x_1_mean.to_numpy().reshape(-1,1))\n",
        "\n",
        "#Trung bình và ma trận hiệp phương sai của hộp sọ trong thời kì 2\n",
        "data_2=data[data.iloc[:,-1]==2]\n",
        "data_2=data_2.drop([4],axis=1)\n",
        "list_data.append(data_2)\n",
        "list_cov.append(np.cov(data_2.T))\n",
        "\n",
        "x_2_mean=np.mean(data_2,axis=0)\n",
        "list_mean.append(x_2_mean.to_numpy().reshape(-1,1))\n",
        "\n",
        "#Trung bình và ma trận hiệp phương sai của hộp sọ trong thời kì 3\n",
        "data_3=data[data.iloc[:,-1]==3]\n",
        "data_3=data_3.drop([4],axis=1)\n",
        "list_data.append(data_3)\n",
        "list_cov.append(np.cov(data_3.T))\n",
        "\n",
        "x_3_mean=np.mean(data_3,axis=0)\n",
        "list_mean.append(x_3_mean.to_numpy().reshape(-1,1))\n",
        "\n",
        "data_all=data.copy()\n",
        "data_all=data_all.drop([4],axis=1)\n",
        "x_all_mean=np.mean(data_all,axis=0).to_numpy().reshape(-1,1)\n",
        "\n"
      ],
      "execution_count": 13,
      "outputs": []
    },
    {
      "cell_type": "code",
      "metadata": {
        "colab": {
          "base_uri": "https://localhost:8080/"
        },
        "id": "iMQIJAxng-nc",
        "outputId": "06a6f6f3-6046-4119-a271-36871febd31b"
      },
      "source": [
        "#Tính B\n",
        "B=np.zeros([x_1_mean.shape[0],x_1_mean.shape[0]])\n",
        "for i in range(0,3):\n",
        "  B+=list_data[i].shape[0]*np.matmul((list_mean[i]-x_all_mean),(list_mean[i]-x_all_mean).T)\n",
        "\n",
        "print(B)"
      ],
      "execution_count": 14,
      "outputs": [
        {
          "output_type": "stream",
          "text": [
            "[[ 150.2          20.3        -161.83333333    5.03333333]\n",
            " [  20.3          20.6         -38.73333333    6.43333333]\n",
            " [-161.83333333  -38.73333333  190.28888889  -10.85555556]\n",
            " [   5.03333333    6.43333333  -10.85555556    2.02222222]]\n"
          ],
          "name": "stdout"
        }
      ]
    },
    {
      "cell_type": "code",
      "metadata": {
        "colab": {
          "base_uri": "https://localhost:8080/"
        },
        "id": "8LWDbodyjl3M",
        "outputId": "e28581fb-296a-4382-c19c-7eb333fa9f58"
      },
      "source": [
        "#Tính W\n",
        "W=np.zeros([x_1_mean.shape[0],x_1_mean.shape[0]])\n",
        "for i in range(0,2):\n",
        "  W+=(list_data[i].shape[0]-1)*list_cov[i]\n",
        "\n",
        "print(W)"
      ],
      "execution_count": 15,
      "outputs": [
        {
          "output_type": "stream",
          "text": [
            "[[1433.93333333  149.7         151.43333333  263.56666667]\n",
            " [ 149.7        1205.5          74.6         174.5       ]\n",
            " [ 151.43333333   74.6        1552.03333333  -50.13333333]\n",
            " [ 263.56666667  174.5         -50.13333333  474.83333333]]\n"
          ],
          "name": "stdout"
        }
      ]
    },
    {
      "cell_type": "code",
      "metadata": {
        "colab": {
          "base_uri": "https://localhost:8080/"
        },
        "id": "eCIdpDqImfVm",
        "outputId": "f2f92bdb-0c7b-462f-dc22-66c2c9d25ab0"
      },
      "source": [
        "#Tính hệ số wilk lambda\n",
        "wilk_lambda=(np.linalg.det(W))/(np.linalg.det(B+W))\n",
        "print(wilk_lambda)"
      ],
      "execution_count": 16,
      "outputs": [
        {
          "output_type": "stream",
          "text": [
            "0.7730783604911525\n"
          ],
          "name": "stdout"
        }
      ]
    },
    {
      "cell_type": "code",
      "metadata": {
        "colab": {
          "base_uri": "https://localhost:8080/"
        },
        "id": "Dl29Arw0rubt",
        "outputId": "9afaf5ff-fadb-41a4-f364-392970a39a1e"
      },
      "source": [
        "#Tính giá trị\n",
        "p=4\n",
        "value=((data.shape[0]-p-2)/p)*((1-np.sqrt(wilk_lambda))/np.sqrt(wilk_lambda))\n",
        "print('Calculated value: ',value)"
      ],
      "execution_count": 17,
      "outputs": [
        {
          "output_type": "stream",
          "text": [
            "Calculated value:  2.884026053800916\n"
          ],
          "name": "stdout"
        }
      ]
    },
    {
      "cell_type": "code",
      "metadata": {
        "colab": {
          "base_uri": "https://localhost:8080/"
        },
        "id": "5RzDzcjXtdjt",
        "outputId": "800b5d2c-f218-4304-c8b4-8cb6f709edbc"
      },
      "source": [
        "#Tính giá trị tới hạn\n",
        "f=stats.f.ppf(q=1-0.05,dfn=2*p,dfd=2*(data.shape[0]-p-2))\n",
        "print('Critical value: ',f)"
      ],
      "execution_count": 18,
      "outputs": [
        {
          "output_type": "stream",
          "text": [
            "Critical value:  1.9938838709988889\n"
          ],
          "name": "stdout"
        }
      ]
    },
    {
      "cell_type": "markdown",
      "metadata": {
        "id": "4nquEkx1pwvN"
      },
      "source": [
        "Ta nhận thấy 2.884 > 1.99388. Nghĩa là: $(\\dfrac{\\sum n_l-p-2}{p})(\\dfrac{1-\\sqrt{\\Lambda*}}{\\sqrt{\\Lambda*}}) > F_{2p,2(\\sum n_l-p-2)}(\\alpha)$. Nên ta bác bỏ $H_0$ với mức ý nghĩa $95\\%$. Nghĩa là có sự thay đổi trong kích thước hộp sọ ở 3 thời kì"
      ]
    },
    {
      "cell_type": "code",
      "metadata": {
        "colab": {
          "base_uri": "https://localhost:8080/"
        },
        "id": "wwRuAhiZuGkd",
        "outputId": "974c36fd-376f-4897-e813-d8c4e42be413"
      },
      "source": [
        "#Tính khoảng tin cậy 95%\n",
        "t=stats.t.ppf(q=1-0.05/(p*3*2),df=data.shape[0]-3)\n",
        "for i in range(0,4):\n",
        "  for l in range(0,3):\n",
        "    for k in range(l+1,3):\n",
        "      lower=list_mean[k][i]-list_mean[l][i]-t*np.sqrt(1/(data.shape[0]-3)*(1/list_data[k].shape[0]+1/list_data[l].shape[0])*W[i][i])\n",
        "      upper=list_mean[k][i]-list_mean[l][i]+t*np.sqrt(1/(data.shape[0]-3)*(1/list_data[k].shape[0]+1/list_data[l].shape[0])*W[i][i])\n",
        "      print('95% Confidence interval of tau_{}{} - tau_{}{}: [{}, {}]'.format(k,i,l,i,lower,upper))\n"
      ],
      "execution_count": 19,
      "outputs": [
        {
          "output_type": "stream",
          "text": [
            "95% Confidence interval of tau_10 - tau_00: [[-2.08494115], [4.08494115]]\n",
            "95% Confidence interval of tau_20 - tau_00: [[0.01505885], [6.18494115]]\n",
            "95% Confidence interval of tau_20 - tau_10: [[-0.98494115], [5.18494115]]\n",
            "95% Confidence interval of tau_11 - tau_01: [[-3.72856401], [1.92856401]]\n",
            "95% Confidence interval of tau_21 - tau_01: [[-2.62856401], [3.02856401]]\n",
            "95% Confidence interval of tau_21 - tau_11: [[-1.72856401], [3.92856401]]\n",
            "95% Confidence interval of tau_12 - tau_02: [[-3.30946708], [3.10946708]]\n",
            "95% Confidence interval of tau_22 - tau_02: [[-6.34280042], [0.07613375]]\n",
            "95% Confidence interval of tau_22 - tau_12: [[-6.24280042], [0.17613375]]\n",
            "95% Confidence interval of tau_13 - tau_03: [[-2.07522336], [1.47522336]]\n",
            "95% Confidence interval of tau_23 - tau_03: [[-1.74189002], [1.80855669]]\n",
            "95% Confidence interval of tau_23 - tau_13: [[-1.44189002], [2.10855669]]\n"
          ],
          "name": "stdout"
        }
      ]
    },
    {
      "cell_type": "markdown",
      "metadata": {
        "id": "n-aJEwffq66O"
      },
      "source": [
        "Ta nhận thấy có khoảng tin cậy $95\\%$ ở biến 0 là độ rộng tối đa của hộp sọ không có chứa 0. Đây chính là thành phần có trung bình mà khác nhau trong các tổng thể qua các thời kì.\n",
        "Để kiểm tra giả định MANOVA ta sẽ dùng kiểm định Box để kiểm định tính bằng nhau của các ma trận hiệp phương sai với mức ý nghĩa $5\\%$"
      ]
    },
    {
      "cell_type": "code",
      "metadata": {
        "colab": {
          "base_uri": "https://localhost:8080/"
        },
        "id": "82Cvho2GuZvA",
        "outputId": "cf63acfe-1679-43ea-9d2a-3395b765184d"
      },
      "source": [
        "#Box Test cho kiểm định tính bằng nhau của ma trận hiệp phương sai với mức ý nghĩa 95%\n",
        "n_1,n_2,n_3=data_1.shape[0],data_2.shape[0],data_3.shape[0]\n",
        "p=4\n",
        "g=3\n",
        "u=(1/(n_1-1)+1/(n_2-1)+1/(n_3-1)-1/(n_1+n_2+n_3-3))*((2*p*p+3*p-1)/(6*(p+1)*(g-1)))\n",
        "S_pooled=1/(n_1+n_2+n_3-3)*((n_1-1)*list_cov[0]+(n_2-1)*list_cov[1]+(n_3-1)*list_cov[2])\n",
        "C=(1-u)*((n_1+n_2+n_3-3)*np.log(np.linalg.det(S_pooled))-(n_1-1)*np.log(np.linalg.det(list_cov[0]))-(n_2-1)*np.log(np.linalg.det(list_cov[1]))-(n_3-1)*np.log(np.linalg.det(list_cov[2])))\n",
        "print('C value: ',C)\n",
        "chi=stats.chi2.ppf(q=1-0.05,df=p*(p+1)*(g-1)/2)\n",
        "print('Critical value chi square: ',chi)"
      ],
      "execution_count": 20,
      "outputs": [
        {
          "output_type": "stream",
          "text": [
            "C value:  21.048436386915938\n",
            "Critical value chi square:  31.410432844230918\n"
          ],
          "name": "stdout"
        }
      ]
    },
    {
      "cell_type": "markdown",
      "metadata": {
        "id": "M_E_C-5By0SX"
      },
      "source": [
        "Ta thấy $C=21.04 < 31.414=\\chi^2_{p(p+1)(g-1)/2}(\\alpha)$ Nên ta không đủ cơ sở bác bỏ $H_0$. Do đó, với mức ý nghĩa $\\alpha=.05$, ta kết luận các ma trận hiệp phương sai của các tổng thể là bằng nhau. Do đó, giả đinh MANOVA thông thường là phù hợp với bộ dữ liệu này"
      ]
    },
    {
      "cell_type": "markdown",
      "metadata": {
        "id": "JwLuz2m3dsZN"
      },
      "source": [
        "###6.30"
      ]
    },
    {
      "cell_type": "markdown",
      "metadata": {
        "id": "MiFRVjJ_eEk-"
      },
      "source": [
        "###Bảng 6.16 ở trang 353 chứa thông tin về thành phần trong các quặng khoáng sản của xương. Với 24 đối tượng đầu tiên là bảng 1.8, 1 năm sau sự tham gia của họ vào một chương trình thí nghiệm. So sánh dữ liệu từ hai bảng và xác định xem có mất mát xương không ?"
      ]
    },
    {
      "cell_type": "markdown",
      "metadata": {
        "id": "7zEDLRJPesJi"
      },
      "source": [
        "###(a) Kiểm định với $\\alpha=.05$"
      ]
    },
    {
      "cell_type": "code",
      "metadata": {
        "colab": {
          "base_uri": "https://localhost:8080/"
        },
        "id": "JnSzJBABdrFC",
        "outputId": "61462117-d68d-47bd-9c68-f259a914000b"
      },
      "source": [
        "path = '/content/T6-16.dat.txt'\n",
        "bone_after = pd.DataFrame(np.loadtxt(path))\n",
        "print(bone_after.head(11))\n",
        "print(bone_after.shape)"
      ],
      "execution_count": 21,
      "outputs": [
        {
          "output_type": "stream",
          "text": [
            "        0      1      2      3      4      5\n",
            "0   1.027  1.051  2.268  2.246  0.869  0.964\n",
            "1   0.857  0.817  1.718  1.710  0.602  0.689\n",
            "2   0.875  0.880  1.953  1.756  0.765  0.738\n",
            "3   0.873  0.698  1.668  1.443  0.761  0.698\n",
            "4   0.811  0.813  1.643  1.661  0.551  0.619\n",
            "5   0.640  0.734  1.396  1.378  0.753  0.515\n",
            "6   0.947  0.865  1.851  1.686  0.708  0.787\n",
            "7   0.886  0.806  1.742  1.815  0.687  0.715\n",
            "8   0.991  0.923  1.931  1.776  0.844  0.656\n",
            "9   0.977  0.925  1.933  2.106  0.869  0.789\n",
            "10  0.825  0.826  1.609  1.651  0.654  0.726\n",
            "(24, 6)\n"
          ],
          "name": "stdout"
        }
      ]
    },
    {
      "cell_type": "code",
      "metadata": {
        "colab": {
          "base_uri": "https://localhost:8080/"
        },
        "id": "-Wz0UqkKgErj",
        "outputId": "f2b81cad-52aa-4e1a-91d7-a288194165be"
      },
      "source": [
        "path = '/content/T1-8.DAT.txt'\n",
        "bone_before = pd.DataFrame(np.loadtxt(path))\n",
        "bone_before=bone_before.iloc[:24,:]\n",
        "print(bone_before.head(11))\n",
        "print(bone_before.shape)"
      ],
      "execution_count": 22,
      "outputs": [
        {
          "output_type": "stream",
          "text": [
            "        0      1      2      3      4      5\n",
            "0   1.103  1.052  2.139  2.238  0.873  0.872\n",
            "1   0.842  0.859  1.873  1.741  0.590  0.744\n",
            "2   0.925  0.873  1.887  1.809  0.767  0.713\n",
            "3   0.857  0.744  1.739  1.547  0.706  0.674\n",
            "4   0.795  0.809  1.734  1.715  0.549  0.654\n",
            "5   0.787  0.779  1.509  1.474  0.782  0.571\n",
            "6   0.933  0.880  1.695  1.656  0.737  0.803\n",
            "7   0.799  0.851  1.740  1.777  0.618  0.682\n",
            "8   0.945  0.876  1.811  1.759  0.853  0.777\n",
            "9   0.921  0.906  1.954  2.009  0.823  0.765\n",
            "10  0.792  0.825  1.624  1.657  0.686  0.668\n",
            "(24, 6)\n"
          ],
          "name": "stdout"
        }
      ]
    },
    {
      "cell_type": "code",
      "metadata": {
        "colab": {
          "base_uri": "https://localhost:8080/"
        },
        "id": "UhLn5Z5ign5v",
        "outputId": "f57f1b66-425c-47a7-8dee-dc03b7ba61b0"
      },
      "source": [
        "# vectơ trung bình\n",
        "bone_before_mean = np.array(bone_before.apply(np.mean))\n",
        "print(\"\\nMean vector Mineral Content Before: \\n\", bone_before_mean)\n",
        "\n",
        "# Ma trận hiệp phương sai\n",
        "S_before = np.array(np.cov(bone_before.T))\n",
        "print(\"\\nCovariance matrix Mineral Content Before: \\n\", S_before)\n",
        "\n",
        "# vectơ trung bình\n",
        "bone_after_mean = np.array(bone_after.apply(np.mean))\n",
        "print(\"\\nMean vector Mineral Content After: \\n\", bone_after_mean)\n",
        "\n",
        "# Ma trận hiệp phương sai\n",
        "S_after = np.array(np.cov(bone_after.T))\n",
        "print(\"\\nCovariance matrix Male: \\n\", S_after)"
      ],
      "execution_count": 23,
      "outputs": [
        {
          "output_type": "stream",
          "text": [
            "\n",
            "Mean vector Mineral Content Before: \n",
            " [0.84083333 0.81341667 1.78525    1.72925    0.69754167 0.68658333]\n",
            "\n",
            "Covariance matrix Mineral Content Before: \n",
            " [[0.01333728 0.0104502  0.0227467  0.02052635 0.00898649 0.00774223]\n",
            " [0.0104502  0.01128712 0.01839067 0.02130185 0.00802337 0.00836762]\n",
            " [0.0227467  0.01839067 0.08241089 0.06859602 0.01623964 0.01199907]\n",
            " [0.02052635 0.02130185 0.06859602 0.07169037 0.01750647 0.01646554]\n",
            " [0.00898649 0.00802337 0.01623964 0.01750647 0.01084435 0.00712376]\n",
            " [0.00774223 0.00836762 0.01199907 0.01646554 0.00712376 0.00968625]]\n",
            "\n",
            "Mean vector Mineral Content After: \n",
            " [0.84095833 0.81016667 1.77808333 1.71691667 0.71266667 0.68675   ]\n",
            "\n",
            "Covariance matrix Male: \n",
            " [[0.01551526 0.01116144 0.02949613 0.02415421 0.00897607 0.00928429]\n",
            " [0.01116144 0.01175754 0.02348533 0.02357567 0.00868114 0.0096873 ]\n",
            " [0.02949613 0.02348533 0.10505521 0.08406183 0.02396133 0.01832702]\n",
            " [0.02415421 0.02357567 0.08406183 0.0843433  0.02121584 0.01965733]\n",
            " [0.00897607 0.00868114 0.02396133 0.02121584 0.01150754 0.00754317]\n",
            " [0.00928429 0.0096873  0.01832702 0.01965733 0.00754317 0.0125462 ]]\n"
          ],
          "name": "stdout"
        }
      ]
    },
    {
      "cell_type": "code",
      "metadata": {
        "colab": {
          "base_uri": "https://localhost:8080/"
        },
        "id": "62q7LZrRhjS6",
        "outputId": "477d1c32-dc28-43c3-b0a5-3ce85ee81284"
      },
      "source": [
        "n_1=n_2=24\n",
        "S_pooled=(n_1-1)/(n_1+n_2-2)*S_before+(n_2-1)/(n_1+n_2-2)*S_after\n",
        "print(S_pooled)"
      ],
      "execution_count": 24,
      "outputs": [
        {
          "output_type": "stream",
          "text": [
            "[[0.01442627 0.01080582 0.02612141 0.02234028 0.00898128 0.00851326]\n",
            " [0.01080582 0.01152233 0.020938   0.02243876 0.00835226 0.00902746]\n",
            " [0.02612141 0.020938   0.09373305 0.07632893 0.02010049 0.01516304]\n",
            " [0.02234028 0.02243876 0.07632893 0.07801683 0.01936115 0.01806143]\n",
            " [0.00898128 0.00835226 0.02010049 0.01936115 0.01117594 0.00733347]\n",
            " [0.00851326 0.00902746 0.01516304 0.01806143 0.00733347 0.01111622]]\n"
          ],
          "name": "stdout"
        }
      ]
    },
    {
      "cell_type": "code",
      "metadata": {
        "colab": {
          "base_uri": "https://localhost:8080/"
        },
        "id": "TrpZEgcIhxOx",
        "outputId": "66f8ab6d-3e0f-4839-b9ac-1b62f6638816"
      },
      "source": [
        "t_2=np.matmul((bone_after_mean-bone_before_mean).T,np.linalg.inv((1/n_1+1/n_2)*S_pooled))\n",
        "t_2=np.matmul(t_2,(bone_after_mean-bone_before_mean))\n",
        "print('Hotelling T^2: ',t_2)"
      ],
      "execution_count": 25,
      "outputs": [
        {
          "output_type": "stream",
          "text": [
            "Hotelling T^2:  0.8299432210795187\n"
          ],
          "name": "stdout"
        }
      ]
    },
    {
      "cell_type": "code",
      "metadata": {
        "colab": {
          "base_uri": "https://localhost:8080/"
        },
        "id": "hhQlZJeujPln",
        "outputId": "f838bcc6-fb79-415c-8154-3ec57b5a4b17"
      },
      "source": [
        "p=6\n",
        "f = stats.f.ppf(q=1-0.05, dfn=p, dfd=n_1+n_2-p-1)\n",
        "c_2=(n_1+n_2-2)*p/(n_1+n_2-p-1)*f\n",
        "print('Critical Value: ',c_2)"
      ],
      "execution_count": 26,
      "outputs": [
        {
          "output_type": "stream",
          "text": [
            "Critical Value:  15.683337743007508\n"
          ],
          "name": "stdout"
        }
      ]
    },
    {
      "cell_type": "markdown",
      "metadata": {
        "id": "yPXn6nsAztCL"
      },
      "source": [
        "Ta thấy Hotelling 0.829 < 15.683 nên ta không đủ cơ sở để bác bỏ $H_0$ với mức ý nghĩa $5\\%$. Ta kết luận các thành phần của xương không bị mất mát "
      ]
    },
    {
      "cell_type": "markdown",
      "metadata": {
        "id": "52cUNDV-kcso"
      },
      "source": [
        "###(b) Xây dựng khoảng tin cậy đồng thời $95\\%$ cho sự chênh lệch trung bình"
      ]
    },
    {
      "cell_type": "code",
      "metadata": {
        "colab": {
          "base_uri": "https://localhost:8080/"
        },
        "id": "2r_ZuJCgjqon",
        "outputId": "c6158ace-4a16-4c28-ad9c-342c9dd62dff"
      },
      "source": [
        "for i in range(6):\n",
        "  lowerbound=(bone_after_mean[i]-bone_before_mean[i])-np.sqrt(c_2)*np.sqrt((1/n_1+1/n_2)*S_pooled[i][i])\n",
        "  upperbound=(bone_after_mean[i]-bone_before_mean[i])+np.sqrt(c_2)*np.sqrt((1/n_1+1/n_2)*S_pooled[i][i])\n",
        "  print('95% confidence interval for mu_1{}-mu_2{} in range [{}, {}]'.format(i+1,i+1,lowerbound,upperbound))"
      ],
      "execution_count": 27,
      "outputs": [
        {
          "output_type": "stream",
          "text": [
            "95% confidence interval for mu_11-mu_21 in range [-0.13718608872058177, 0.13743608872058163]\n",
            "95% confidence interval for mu_12-mu_22 in range [-0.12596531703856026, 0.11946531703856053]\n",
            "95% confidence interval for mu_13-mu_23 in range [-0.35717227283569053, 0.34283893950235655]\n",
            "95% confidence interval for mu_14-mu_24 in range [-0.33165087993423037, 0.30698421326756375]\n",
            "95% confidence interval for mu_15-mu_25 in range [-0.10573168483474202, 0.13598168483474235]\n",
            "95% confidence interval for mu_16-mu_26 in range [-0.12036669849968282, 0.12070003183301634]\n"
          ],
          "name": "stdout"
        }
      ]
    },
    {
      "cell_type": "markdown",
      "metadata": {
        "id": "Qb5zjRnHmfqe"
      },
      "source": [
        "###(c) Xây dựng khoảng tin cậy $95\\%$ Bonferroni và so sánh khoảng này với khoảng ở phần b"
      ]
    },
    {
      "cell_type": "code",
      "metadata": {
        "colab": {
          "base_uri": "https://localhost:8080/"
        },
        "id": "xcLLq_DxmJN5",
        "outputId": "00e98a79-3f06-4602-f7e3-258991cd97a7"
      },
      "source": [
        "t = stats.t.ppf(q=1-(0.05/(2*p)),df=n_1+n_2-2)\n",
        "for i in range(6):\n",
        "  lowerbound=(bone_after_mean[i]-bone_before_mean[i])-t*np.sqrt((1/n_1+1/n_2)*S_pooled[i][i])\n",
        "  upperbound=(bone_after_mean[i]-bone_before_mean[i])+t*np.sqrt((1/n_1+1/n_2)*S_pooled[i][i])\n",
        "  print('Bonferroni confidence interval for mu_1{}-mu_2{} in range [{},{}]'.format(i+1,i+1,lowerbound,upperbound))"
      ],
      "execution_count": 28,
      "outputs": [
        {
          "output_type": "stream",
          "text": [
            "Bonferroni confidence interval for mu_11-mu_21 in range [-0.09547340556508102,0.09572340556508088]\n",
            "Bonferroni confidence interval for mu_12-mu_22 in range [-0.08868657148602403,0.0821865714860243]\n",
            "Bonferroni confidence interval for mu_13-mu_23 in range [-0.2508467525240225,0.23651341919068852]\n",
            "Bonferroni confidence interval for mu_14-mu_24 in range [-0.23464785001536137,0.20998118334869476]\n",
            "Bonferroni confidence interval for mu_15-mu_25 in range [-0.06901755891302268,0.09926755891302301]\n",
            "Bonferroni confidence interval for mu_16-mu_26 in range [-0.08375079138178526,0.08408412471511878]\n"
          ],
          "name": "stdout"
        }
      ]
    },
    {
      "cell_type": "markdown",
      "metadata": {
        "id": "MewybEMq0JcL"
      },
      "source": [
        "Từ các khoảng tin cậy trên, ta thấy khoảng tin cậy Bonferroni hẹp hơn so với khoảng tin cậy còn lại."
      ]
    }
  ]
}