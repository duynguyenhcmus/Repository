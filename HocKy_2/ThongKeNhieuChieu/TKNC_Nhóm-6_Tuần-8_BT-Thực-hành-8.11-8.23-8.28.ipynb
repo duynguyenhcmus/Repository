{
 "cells": [
  {
   "cell_type": "markdown",
   "id": "405a3ec2",
   "metadata": {},
   "source": [
    "**Bảng phân công công việc:**\n",
    "\n",
    "Thành viên | MSSV | Bài tập\n",
    "--- | --- | ---\n",
    "Đinh Anh Huy | 18110103 | 8.11, 8.23, 8.28\n",
    "Nguyễn Đức Vũ Duy | 18110004 | 8.22, 8.26, 8.29\n"
   ]
  },
  {
   "cell_type": "code",
   "execution_count": 1,
   "id": "3003c7e5",
   "metadata": {},
   "outputs": [],
   "source": [
    "import numpy as np\n",
    "import pandas as pd\n",
    "import scipy.stats as stats\n",
    "from matplotlib import pyplot as plt\n",
    "import pandas as pd\n",
    "import statsmodels.formula.api as smf\n",
    "import statsmodels.api as sm\n",
    "from sklearn.preprocessing import StandardScaler\n",
    "from sklearn.decomposition import PCA\n",
    "import warnings\n",
    "warnings.filterwarnings(\"ignore\")"
   ]
  },
  {
   "cell_type": "code",
   "execution_count": 2,
   "id": "c4af4ced",
   "metadata": {},
   "outputs": [],
   "source": [
    "def read_symmetric_matrix(path_file):\n",
    "    with open(path_file, 'r') as f:\n",
    "        lines = f.readlines()\n",
    "        size = len(lines)\n",
    "        matrix = np.zeros((size,size))\n",
    "        for i, line in enumerate(lines):\n",
    "            for j, elem in enumerate(line.split()):\n",
    "                matrix[int(i),int(j)] = matrix[int(j),int(i)] = elem\n",
    "        return matrix"
   ]
  },
  {
   "cell_type": "markdown",
   "id": "b3ed0090",
   "metadata": {},
   "source": [
    "### 8.11\n",
    "\n",
    "**Xét bộ dữ liệu census-tract được liệt kê ở bảng 8.5. Giả sử các quan sát trên $X_5=$ giá nhà trung bình (Median home value) có đơn vị là $\\$10,000$ thay vì $\\$100,000$; tức là, nhân tất cả các số được liệt kê trong cột thứ 6 của bảng 8.5 với 10.**"
   ]
  },
  {
   "cell_type": "code",
   "execution_count": 42,
   "id": "b6a6940b",
   "metadata": {},
   "outputs": [
    {
     "data": {
      "text/html": [
       "<div>\n",
       "<style scoped>\n",
       "    .dataframe tbody tr th:only-of-type {\n",
       "        vertical-align: middle;\n",
       "    }\n",
       "\n",
       "    .dataframe tbody tr th {\n",
       "        vertical-align: top;\n",
       "    }\n",
       "\n",
       "    .dataframe thead th {\n",
       "        text-align: right;\n",
       "    }\n",
       "</style>\n",
       "<table border=\"1\" class=\"dataframe\">\n",
       "  <thead>\n",
       "    <tr style=\"text-align: right;\">\n",
       "      <th></th>\n",
       "      <th>total_population</th>\n",
       "      <th>professional_degree</th>\n",
       "      <th>employed_agre_over_16</th>\n",
       "      <th>goverment_employment</th>\n",
       "      <th>median_home_value</th>\n",
       "    </tr>\n",
       "  </thead>\n",
       "  <tbody>\n",
       "    <tr>\n",
       "      <th>0</th>\n",
       "      <td>2.67</td>\n",
       "      <td>5.71</td>\n",
       "      <td>69.02</td>\n",
       "      <td>30.3</td>\n",
       "      <td>14.8</td>\n",
       "    </tr>\n",
       "    <tr>\n",
       "      <th>1</th>\n",
       "      <td>2.25</td>\n",
       "      <td>4.37</td>\n",
       "      <td>72.98</td>\n",
       "      <td>43.3</td>\n",
       "      <td>14.4</td>\n",
       "    </tr>\n",
       "    <tr>\n",
       "      <th>2</th>\n",
       "      <td>3.12</td>\n",
       "      <td>10.27</td>\n",
       "      <td>64.94</td>\n",
       "      <td>32.0</td>\n",
       "      <td>21.1</td>\n",
       "    </tr>\n",
       "    <tr>\n",
       "      <th>3</th>\n",
       "      <td>5.14</td>\n",
       "      <td>7.44</td>\n",
       "      <td>71.29</td>\n",
       "      <td>24.5</td>\n",
       "      <td>18.5</td>\n",
       "    </tr>\n",
       "    <tr>\n",
       "      <th>4</th>\n",
       "      <td>5.54</td>\n",
       "      <td>9.25</td>\n",
       "      <td>74.94</td>\n",
       "      <td>31.0</td>\n",
       "      <td>22.3</td>\n",
       "    </tr>\n",
       "    <tr>\n",
       "      <th>...</th>\n",
       "      <td>...</td>\n",
       "      <td>...</td>\n",
       "      <td>...</td>\n",
       "      <td>...</td>\n",
       "      <td>...</td>\n",
       "    </tr>\n",
       "    <tr>\n",
       "      <th>56</th>\n",
       "      <td>2.14</td>\n",
       "      <td>6.30</td>\n",
       "      <td>86.54</td>\n",
       "      <td>17.4</td>\n",
       "      <td>28.0</td>\n",
       "    </tr>\n",
       "    <tr>\n",
       "      <th>57</th>\n",
       "      <td>6.62</td>\n",
       "      <td>4.79</td>\n",
       "      <td>78.84</td>\n",
       "      <td>20.0</td>\n",
       "      <td>23.3</td>\n",
       "    </tr>\n",
       "    <tr>\n",
       "      <th>58</th>\n",
       "      <td>4.24</td>\n",
       "      <td>5.82</td>\n",
       "      <td>71.39</td>\n",
       "      <td>27.1</td>\n",
       "      <td>16.9</td>\n",
       "    </tr>\n",
       "    <tr>\n",
       "      <th>59</th>\n",
       "      <td>4.72</td>\n",
       "      <td>4.71</td>\n",
       "      <td>78.01</td>\n",
       "      <td>20.6</td>\n",
       "      <td>15.5</td>\n",
       "    </tr>\n",
       "    <tr>\n",
       "      <th>60</th>\n",
       "      <td>6.48</td>\n",
       "      <td>4.93</td>\n",
       "      <td>74.23</td>\n",
       "      <td>20.9</td>\n",
       "      <td>19.8</td>\n",
       "    </tr>\n",
       "  </tbody>\n",
       "</table>\n",
       "<p>61 rows × 5 columns</p>\n",
       "</div>"
      ],
      "text/plain": [
       "    total_population  professional_degree  employed_agre_over_16  \\\n",
       "0               2.67                 5.71                  69.02   \n",
       "1               2.25                 4.37                  72.98   \n",
       "2               3.12                10.27                  64.94   \n",
       "3               5.14                 7.44                  71.29   \n",
       "4               5.54                 9.25                  74.94   \n",
       "..               ...                  ...                    ...   \n",
       "56              2.14                 6.30                  86.54   \n",
       "57              6.62                 4.79                  78.84   \n",
       "58              4.24                 5.82                  71.39   \n",
       "59              4.72                 4.71                  78.01   \n",
       "60              6.48                 4.93                  74.23   \n",
       "\n",
       "    goverment_employment  median_home_value  \n",
       "0                   30.3               14.8  \n",
       "1                   43.3               14.4  \n",
       "2                   32.0               21.1  \n",
       "3                   24.5               18.5  \n",
       "4                   31.0               22.3  \n",
       "..                   ...                ...  \n",
       "56                  17.4               28.0  \n",
       "57                  20.0               23.3  \n",
       "58                  27.1               16.9  \n",
       "59                  20.6               15.5  \n",
       "60                  20.9               19.8  \n",
       "\n",
       "[61 rows x 5 columns]"
      ]
     },
     "execution_count": 42,
     "metadata": {},
     "output_type": "execute_result"
    }
   ],
   "source": [
    "path_11 = 'T8-5.txt'\n",
    "data_11 = pd.read_table(path_11, delim_whitespace=True, header=None)\n",
    "data_11.columns = ['total_population', 'professional_degree', 'employed_agre_over_16', 'goverment_employment', 'median_home_value']\n",
    "\n",
    "data_11['median_home_value'] *= 10\n",
    "\n",
    "data_11"
   ]
  },
  {
   "cell_type": "markdown",
   "id": "4c1c2e65",
   "metadata": {},
   "source": [
    "**(a) Xây dựng ma trận hiệp phương sai mẫu S cho bộ dữ liệu census-tract khi $X_5 =$ giá nhà trung bình với đơn vị là $\\$10,000$.**"
   ]
  },
  {
   "cell_type": "code",
   "execution_count": 43,
   "id": "ae498bd2",
   "metadata": {},
   "outputs": [
    {
     "name": "stdout",
     "output_type": "stream",
     "text": [
      "[[  3.39689902  -1.10213937   4.30555484  -2.07828525   0.27203907]\n",
      " [ -1.10213937   9.67277464  -1.51323628  10.95323224  12.03063661]\n",
      " [  4.30555484  -1.51323628  55.62591164 -28.93746421  -0.43559071]\n",
      " [ -2.07828525  10.95323224 -28.93746421  89.06661202   9.57299727]\n",
      " [  0.27203907  12.03063661  -0.43559071   9.57299727  31.8625082 ]]\n"
     ]
    }
   ],
   "source": [
    "S = np.cov(data_11.T)\n",
    "print(S)"
   ]
  },
  {
   "cell_type": "markdown",
   "id": "4866806a",
   "metadata": {},
   "source": [
    "**(b) Tính các cặp trị riêng - vectơ riêng và 2 thành phần chính đầu tiên với ma trận hiệp phương sai ở câu (a).**"
   ]
  },
  {
   "cell_type": "code",
   "execution_count": 63,
   "id": "7fb6fd61",
   "metadata": {},
   "outputs": [],
   "source": [
    "def eigen_pairs(model, data):\n",
    "    eigenvals = model.explained_variance_\n",
    "    eigenvecs = model.components_\n",
    "\n",
    "    print(\">> Eigenanalysis\")\n",
    "    eigenvals_ = pd.DataFrame(eigenvals.reshape(1,-1))\n",
    "    eigenvals_.columns = ['PC%s' % i for i in range(1, model.n_components_+1)]\n",
    "    eigenvals_.index = ['Eigenvalue']\n",
    "    \n",
    "    eigenvecs_ = pd.DataFrame(eigenvecs.T)\n",
    "    eigenvecs_.columns = ['PC%s' % i for i in range(1, model.n_components_+1)]\n",
    "    eigenvecs_.index = data.columns\n",
    "    print(eigenvals_)\n",
    "    print(\"\\n\",eigenvecs_)"
   ]
  },
  {
   "cell_type": "code",
   "execution_count": 64,
   "id": "81121743",
   "metadata": {},
   "outputs": [],
   "source": [
    "pca = PCA(n_components=5).fit(data_11)"
   ]
  },
  {
   "cell_type": "code",
   "execution_count": 65,
   "id": "24626d59",
   "metadata": {},
   "outputs": [
    {
     "name": "stdout",
     "output_type": "stream",
     "text": [
      ">> Eigenanalysis\n",
      "                   PC1        PC2        PC3       PC4       PC5\n",
      "Eigenvalue  108.271939  43.139674  31.267127  4.598098  2.347868\n",
      "\n",
      "                             PC1       PC2       PC3       PC4       PC5\n",
      "total_population      -0.037629 -0.062309 -0.039979  0.555532 -0.827338\n",
      "professional_degree    0.118930 -0.249301  0.260525 -0.768392 -0.515175\n",
      "employed_agre_over_16 -0.479673 -0.759677 -0.430649 -0.028079  0.080986\n",
      "goverment_employment   0.858912 -0.316400 -0.393644  0.068674  0.049898\n",
      "median_home_value      0.128935 -0.506704  0.768189  0.308955  0.202630\n"
     ]
    }
   ],
   "source": [
    "eigen_pairs(pca, data_11)"
   ]
  },
  {
   "cell_type": "markdown",
   "id": "1362cf00",
   "metadata": {},
   "source": [
    "2 thành phần chính đầu tiên sau khi phân tích thành phần chính là:\n",
    "$$ \\hat{y}_1 = -0.03762881x_1 +0.11892964x_2 - 0.47967291x_3 +0.85891177x_4 +0.12893518x_5$$\n",
    "và\n",
    "$$ \\hat{y}_2 = -0.06230915x_1 -0.24930105x_2 -0.75967654x_3 -0.31639989x_4 -0.50670427x_5$$"
   ]
  },
  {
   "cell_type": "code",
   "execution_count": 8,
   "id": "74c9acc9",
   "metadata": {},
   "outputs": [
    {
     "name": "stdout",
     "output_type": "stream",
     "text": [
      "[[ 4.13372335e+00  1.21669721e+00]\n",
      " [ 1.32049359e+01 -5.34190546e+00]\n",
      " [ 8.88861668e+00 -5.78791120e-01]\n",
      " [-1.34695715e+00 -1.13264943e+00]\n",
      " [ 3.17532805e+00 -8.36370286e+00]\n",
      " [ 2.68620768e+01  6.72092884e+00]\n",
      " [ 1.13007597e+01  4.31435575e-01]\n",
      " [ 1.01018802e+01  1.78821333e+00]\n",
      " [-1.11999062e+01 -8.87943089e+00]\n",
      " [-3.17269194e+00  1.08813047e+00]\n",
      " [ 3.86736079e+00  6.03416355e+00]\n",
      " [-1.12676764e+01 -5.63723573e+00]\n",
      " [-1.18520797e+01 -6.74257795e+00]\n",
      " [-9.22785045e+00  7.62472475e+00]\n",
      " [ 3.11476073e+00 -2.21866241e+00]\n",
      " [ 9.56916672e+00 -2.43798069e+00]\n",
      " [ 1.48086077e+01 -6.89362948e+00]\n",
      " [ 1.25696500e+00 -7.93857209e+00]\n",
      " [ 1.20147715e+01  7.13886558e-02]\n",
      " [ 6.80325982e+00  4.06913082e+00]\n",
      " [-4.71378255e+00  1.32086945e+01]\n",
      " [-6.47193932e+00  1.24208360e+00]\n",
      " [-8.00849814e+00 -1.00133570e+01]\n",
      " [-6.41950249e+00  6.44822392e+00]\n",
      " [-8.20461403e+00 -6.94419801e-01]\n",
      " [ 1.19116150e+01 -1.15976047e-01]\n",
      " [ 3.77805996e+00  4.73439092e+00]\n",
      " [ 2.18797935e+00 -6.09141756e+00]\n",
      " [-2.25758202e+00 -1.03204419e+01]\n",
      " [-4.73839278e+00  2.88213614e-02]\n",
      " [-5.09978769e+00  2.29710327e+00]\n",
      " [-8.85771270e-01  9.01153653e+00]\n",
      " [ 2.56868755e-01  5.63544214e+00]\n",
      " [ 5.94987571e+00  1.91887179e+01]\n",
      " [-2.93421064e+00  1.03949372e+00]\n",
      " [-2.52566331e+00  8.75881924e+00]\n",
      " [ 2.87853058e-01  1.33231940e+01]\n",
      " [-2.51038389e+00  5.82634146e+00]\n",
      " [-1.23158124e+01  3.41461635e-01]\n",
      " [-1.47750983e+01 -3.78409262e+00]\n",
      " [ 1.64903108e+00  6.79442084e+00]\n",
      " [-3.42004315e+00  4.51446584e+00]\n",
      " [-7.39053869e+00  5.42431473e+00]\n",
      " [ 1.38442800e+00 -2.46530072e-01]\n",
      " [-1.11830314e+01  3.92556311e+00]\n",
      " [-7.80926953e+00 -1.90270898e+00]\n",
      " [ 4.28202865e+01 -6.47358309e+00]\n",
      " [ 2.61275206e+01 -1.25126277e+01]\n",
      " [ 1.44944768e+00 -3.07862004e+00]\n",
      " [ 1.65062737e+00  6.55202818e+00]\n",
      " [-1.57855384e+00  6.91219975e+00]\n",
      " [-6.86556097e+00 -3.13274771e+00]\n",
      " [-5.14534242e+00 -6.47622042e-02]\n",
      " [-2.76351737e+00 -7.13232801e+00]\n",
      " [-9.98582714e+00 -3.41429586e+00]\n",
      " [-6.16907039e+00 -1.10613894e+00]\n",
      " [-1.35580517e+01 -1.48138374e+01]\n",
      " [-8.58555591e+00 -7.30815812e+00]\n",
      " [ 4.73149788e-01 -7.60584016e-01]\n",
      " [-8.61579438e+00 -2.77684171e+00]\n",
      " [-6.03059815e+00 -2.34352307e+00]]\n"
     ]
    }
   ],
   "source": [
    "X_pca = pca.transform(data_11)\n",
    "print(X_pca[:,:2])"
   ]
  },
  {
   "cell_type": "markdown",
   "id": "ca989c28",
   "metadata": {},
   "source": [
    "**(c) Tính tỉ lệ của phương sai tổng được giải thích bởi 2 thành phần chính đầu tiên thu được ở câu (b). Tính hệ số tương quan, $r_{y_i, x_k}$, và giải thích các thành phần này nếu có. So sánh kết quả của bạn với kết quả ở ví dụ 8.3. Bạn có thể nói gì về ảnh hưởng của sử thay đổi tỷ lệ đối với các thành phần chính?**"
   ]
  },
  {
   "cell_type": "code",
   "execution_count": 9,
   "id": "5f92cbb4",
   "metadata": {},
   "outputs": [
    {
     "name": "stdout",
     "output_type": "stream",
     "text": [
      ">> The proportion of total variance explained:  0.7984804100381016\n"
     ]
    }
   ],
   "source": [
    "proportions = np.cumsum(pca.explained_variance_ratio_)\n",
    "print(\">> The proportion of total variance explained: \", proportions[1])"
   ]
  },
  {
   "cell_type": "code",
   "execution_count": 10,
   "id": "47d028b0",
   "metadata": {},
   "outputs": [],
   "source": [
    "def correlation_coef(model, cov_mat):\n",
    "    eigenvecs = model.components_\n",
    "    eigenvals = model.explained_variance_\n",
    "    diag = [cov_mat[i][i] for i in range(cov_mat.shape[0])]\n",
    "    corr_coef = [eigenvecs[i]*np.sqrt(eigenvals[i])/np.sqrt(diag) for i in range(model.n_components_)]\n",
    "    return corr_coef"
   ]
  },
  {
   "cell_type": "code",
   "execution_count": 11,
   "id": "8994d94b",
   "metadata": {
    "scrolled": true
   },
   "outputs": [
    {
     "name": "stdout",
     "output_type": "stream",
     "text": [
      ">> The correlation coefficients: \n"
     ]
    },
    {
     "data": {
      "text/html": [
       "<div>\n",
       "<style scoped>\n",
       "    .dataframe tbody tr th:only-of-type {\n",
       "        vertical-align: middle;\n",
       "    }\n",
       "\n",
       "    .dataframe tbody tr th {\n",
       "        vertical-align: top;\n",
       "    }\n",
       "\n",
       "    .dataframe thead th {\n",
       "        text-align: right;\n",
       "    }\n",
       "</style>\n",
       "<table border=\"1\" class=\"dataframe\">\n",
       "  <thead>\n",
       "    <tr style=\"text-align: right;\">\n",
       "      <th></th>\n",
       "      <th>X1</th>\n",
       "      <th>X2</th>\n",
       "      <th>X3</th>\n",
       "      <th>X4</th>\n",
       "      <th>X5</th>\n",
       "    </tr>\n",
       "  </thead>\n",
       "  <tbody>\n",
       "    <tr>\n",
       "      <th>r_Y1_Xi</th>\n",
       "      <td>-0.212440</td>\n",
       "      <td>0.397899</td>\n",
       "      <td>-0.669213</td>\n",
       "      <td>0.946998</td>\n",
       "      <td>0.237678</td>\n",
       "    </tr>\n",
       "    <tr>\n",
       "      <th>r_Y2_Xi</th>\n",
       "      <td>-0.222049</td>\n",
       "      <td>-0.526486</td>\n",
       "      <td>-0.669004</td>\n",
       "      <td>-0.220200</td>\n",
       "      <td>-0.589594</td>\n",
       "    </tr>\n",
       "  </tbody>\n",
       "</table>\n",
       "</div>"
      ],
      "text/plain": [
       "               X1        X2        X3        X4        X5\n",
       "r_Y1_Xi -0.212440  0.397899 -0.669213  0.946998  0.237678\n",
       "r_Y2_Xi -0.222049 -0.526486 -0.669004 -0.220200 -0.589594"
      ]
     },
     "execution_count": 11,
     "metadata": {},
     "output_type": "execute_result"
    }
   ],
   "source": [
    "corr_coef = correlation_coef(pca, S)[:2]\n",
    "corr_coef = pd.DataFrame(corr_coef)\n",
    "corr_coef.columns = ['X1', 'X2', 'X3', 'X4', 'X5']\n",
    "corr_coef.index = ['r_Y1_Xi', 'r_Y2_Xi']\n",
    "print(\">> The correlation coefficients: \")\n",
    "corr_coef"
   ]
  },
  {
   "cell_type": "markdown",
   "id": "e283376d",
   "metadata": {},
   "source": [
    "Nhận xét về hệ số tương quan: \n",
    "\n",
    "* Đối với thành phần chính thứ 1 ($Y_1$), có sự chênh lệch rõ ràng ở hệ số tương quan giữa $X_4$ (goverment employment (%)) so với các biến khác, với hệ số 0.946998, có trọng số cao nhất trong thành phần chính $Y_1$. *Goverment employment (%)* cũng có mối tương quan lớn nhất (xét trên giá trị tuyệt đối) với $Y_1$. Biến có mối tương quan cao thứ 2 với $Y_1$ là $X_3$ (Employed age over 16 (%)), với hệ số -0.669213. Hệ số của *Employed age over 16 (%)* cũng tính là khá cao so với các biến còn lại. Như vậy, 2 biến *Goverment employment (%)* và *Employed age over 16 (%)* tham gia giải thích cho $Y_1$ nhiều nhất trong đó *Goverment employment (%)* đóng góp nhiều hơn.\n",
    "\n",
    "\n",
    "* Đối với thành phần chính thứ 2 ($Y_2$), $Y_2$ được giải thích bởi các thành phần có hệ số dường như gần bằng nhau là *professional degree (%)* ($X_2$), *employed age over 16 (%)* ($X_3$) và *median home value* ($X_5$) với các hệ số lần lượt là -0.526486, -0.669004, -0.589594. Do các hệ số này có sự chênh lệch không quá cao nên ta có thể nói cả 3 biến này đều tham gia giải thích cho $Y_2$ là như nhau.\n",
    "\n",
    "Kết quả ở ví dụ 8.3\n",
    "\n",
    "Variable | $\\hat{e}_1(r_{\\hat{y}_1,x_k})$ | $\\hat{e}_2(r_{\\hat{y}_2,x})$ | $\\hat{e}_3$ | $\\hat{e}_4$ | $\\hat{e}_5$\n",
    "-----------------: | :-: | :-: | :-: | :-: | :-:\n",
    "Total population | -0.039(-.22) | 0.071(.24) | 0.188 | 0.977 | -0.058\n",
    "Profession | 0.105(.35) | 0.130(.26) | -0.961 | 0.171 | -0.139\n",
    "Employment (%) | -0.492(-.68) | 0.864(.73) | 0.046 | -0.091 | 0.005\n",
    "Goverment employment (%) | 0.863(.95) | 0.480(.32) | 0.153 | -0.030 | 0.007\n",
    "Median home value | 0.009(.16) | 0.015(.17) | -0.125 | 0.082 | 0.989\n",
    "Variance ($\\hat{\\lambda}_i$): | 107.02 | 39.67 | 8.37 | 2.87 | 0.15\n",
    "Cumulative percentage of total variance | 67.7 | 92.8 | 98.1 | 99.9 | 1.000\n",
    "\n",
    "Sự thay đổi tỷ lệ ở $X_5$ không ảnh hưởng quá nhiều lên thành phần chính thứ 1. Cụ thể, ta có thể thấy các hệ số tương quan ở trên với kết quả ở ví dụ 8.3 có sự chệnh lệch rất nhỏ. Trong khi bản chất của thành phần chính thứ 2 bị ảnh hưởng khá nhiều khi các hệ số tương quan của các biến với $Y_2$ ở trên chênh lệch nhiều so với kết quả ở ví dụ 8.3."
   ]
  },
  {
   "cell_type": "markdown",
   "id": "ebcae42a",
   "metadata": {},
   "source": [
    "### 8.23\n",
    "\n",
    "**Một nhà tự nhiên học của Alaska Fish and Game Department nghiên cứu về gấu xám với mục tiêu duy trì một quần thể khoẻ mạnh. Các phép đo trên $n=61$ con gấu được cung cấp theo các thống kê sau:**\n",
    "\n",
    "Variable | Weight (kg) | Body length (cm) | Neck (cm) | Girth (cm) | Head length (cm) | Head width (cm)\n",
    "--- | --- | --- | --- | --- | --- | --- \n",
    "Sample mean $\\overline{x}$ | 95.52 | 164.38 | 55.69 | 93.39 | 17.98 | 31.13\n",
    "\n",
    "**và ma trận covariance:**\n",
    "\n",
    "$$ \\textbf{S} = \\left[\\begin{array}[rrrrrr] \n",
    " 3266.46 & 1343.97 & 731.54 & 1175.5  & 162.68 & 238.37\\\\\n",
    " 1343.97 & 721.91 & 324.25&  537.35 &  80.17  &117.73\\\\\n",
    "  731.54 & 324.25 & 179.28&  281.17 &  39.15  & 56.8 \\\\\n",
    " 1175.5  & 537.35 & 281.17&  474.98 &  63.73  & 94.85\\\\\n",
    "  162.68 &  80.17 &  39.15&   63.73 &   9.95  & 13.88\\\\\n",
    "  238.37 & 117.73 &  56.8 &   94.85 &  13.88  & 21.26\\\\\n",
    "\\end{array}\\right]$$"
   ]
  },
  {
   "cell_type": "code",
   "execution_count": 84,
   "id": "f1c27c7c",
   "metadata": {},
   "outputs": [
    {
     "name": "stdout",
     "output_type": "stream",
     "text": [
      ">> Sample mean: \n",
      " [ 95.52 164.38  55.69  93.39  17.98  31.13]\n",
      "\n",
      ">> Covariance matrix: \n",
      " [[3266.46 1343.97  731.54 1175.5   162.68  238.37]\n",
      " [1343.97  721.91  324.25  537.35   80.17  117.73]\n",
      " [ 731.54  324.25  179.28  281.17   39.15   56.8 ]\n",
      " [1175.5   537.35  281.17  474.98   63.73   94.85]\n",
      " [ 162.68   80.17   39.15   63.73    9.95   13.88]\n",
      " [ 238.37  117.73   56.8    94.85   13.88   21.26]]\n"
     ]
    }
   ],
   "source": [
    "x_mean = np.array([95.52, 164.38, 55.69, 93.39, 17.98, 31.13])\n",
    "S = read_symmetric_matrix('P8-23.txt')\n",
    "print(\">> Sample mean: \\n\", x_mean)\n",
    "print(\"\\n>> Covariance matrix: \\n\", S)"
   ]
  },
  {
   "cell_type": "markdown",
   "id": "51171e59",
   "metadata": {},
   "source": [
    "**(a) Thực hiện phân tích thành phần chính bằng cách sử dụng ma trận hiệp phương sai. Dữ liệu có thể còn đảm bảo thông tin khi số chiều ít hơn 6 hay không?**"
   ]
  },
  {
   "cell_type": "code",
   "execution_count": 102,
   "id": "e18e6f8b",
   "metadata": {},
   "outputs": [],
   "source": [
    "def PCA_(matrix, n_components=None, correlation=False, column_names=None, return_=False):\n",
    "    # Eigendecomposition\n",
    "    eigenvals, eigenvecs = np.linalg.eigh(matrix)\n",
    "\n",
    "    # Sort paires (eigenvalue, eigenvector) in descending order\n",
    "    eigenpairs = [(abs(eigenval), eigenvec) for (eigenval, eigenvec) in zip(eigenvals, eigenvecs.T)]\n",
    "    eigenpairs = sorted(eigenpairs, key = lambda pair: pair[0], reverse = True)\n",
    "\n",
    "    # Select a subset from the rearranged Eigenvalues vector\n",
    "    # If n_components is None, select all. Otherwise, select first n_components elements\n",
    "    if n_components is None:\n",
    "        eigenpairs_ = eigenpairs\n",
    "    else:\n",
    "        eigenpairs_ = eigenpairs[:n_components]\n",
    "\n",
    "    # Construct weight matrix from above subset\n",
    "    components_ = [eigenvec for (_, eigenvec) in eigenpairs_]\n",
    "    explained_variance_ = [eigenval for (eigenval, _) in eigenpairs_]\n",
    "\n",
    "    # Calculate percentage of cariance explained by each of the selected components\n",
    "    explained_variance_ratio_ = []\n",
    "    if correlation:\n",
    "        for i in range(len(explained_variance_)):\n",
    "            explained_variance_ratio_.append(explained_variance_[i]/len(explained_variance_))\n",
    "    else:\n",
    "        for i in range(len(explained_variance_)):\n",
    "            explained_variance_ratio_.append(explained_variance_[i]/np.sum(eigenvals))\n",
    "    explained_variance_ratio_ = np.array(explained_variance_ratio_)\n",
    "        \n",
    "    if correlation:\n",
    "        print(\">> Eigenanalysis of the Correlation Matrix\")\n",
    "    else:\n",
    "        print(\">> Eigenanalysis of the Covariance Matrix\")\n",
    "    \n",
    "    eigenanalys = np.concatenate([np.array(explained_variance_).reshape(-1,1), explained_variance_ratio_.reshape(-1,1), np.cumsum(explained_variance_ratio_).reshape(-1,1)], axis=1)  \n",
    "    eigenanalys = pd.DataFrame(eigenanalys.T)\n",
    "    eigenanalys.columns = ['PC%s' % i for i in range(1, len(explained_variance_)+1)]\n",
    "    eigenanalys.index = ['Eigenvalue', 'Proportion', 'Cumulative']\n",
    "    \n",
    "    eigenvecs_ = pd.DataFrame(np.array(components_).T)\n",
    "    eigenvecs_.columns = ['PC%s' % i for i in range(1, len(explained_variance_)+1)]\n",
    "    if column_names is not None:\n",
    "        eigenvecs_.index = column_names\n",
    "    print(eigenanalys)\n",
    "    print(\"\\n\",eigenvecs_)\n",
    "    \n",
    "    if return_:\n",
    "        return explained_variance_, components_, explained_variance_ratio_"
   ]
  },
  {
   "cell_type": "code",
   "execution_count": 86,
   "id": "e7916a61",
   "metadata": {
    "scrolled": false
   },
   "outputs": [
    {
     "name": "stdout",
     "output_type": "stream",
     "text": [
      ">> Eigenanalysis of the Covariance Matrix\n",
      "                    PC1         PC2        PC3       PC4       PC5       PC6\n",
      "Eigenvalue  4478.873817  152.466164  32.323857  8.116758  1.516856  0.542547\n",
      "Proportion     0.958286    0.032621   0.006916  0.001737  0.000325  0.000116\n",
      "Cumulative     0.958286    0.990907   0.997823  0.999559  0.999884  1.000000\n",
      "\n",
      "                   PC1       PC2       PC3       PC4       PC5       PC6\n",
      "Weight      -0.849339 -0.470832  0.226606 -0.074260  0.008692  0.000202\n",
      "Body_length -0.368552  0.846078  0.368132 -0.012754  0.110784  0.019105\n",
      "Neck        -0.194132  0.058127 -0.303143  0.928388  0.012289  0.070597\n",
      "Girth       -0.314678  0.216748 -0.848576 -0.355060  0.082353 -0.032666\n",
      "Head_length -0.043918  0.060354 -0.001815  0.060162 -0.440119 -0.892805\n",
      "Head_width  -0.064458  0.092026 -0.033880 -0.052267 -0.887138  0.443264\n"
     ]
    }
   ],
   "source": [
    "column_names = ['Weight', 'Body_length', 'Neck', 'Girth', 'Head_length', 'Head_width']\n",
    "PCA_(S, column_names = column_names)"
   ]
  },
  {
   "cell_type": "markdown",
   "id": "a8afe516",
   "metadata": {},
   "source": [
    "Dựa vào chỉ số proportion of total variance theo từng thành phần chính, ta thấy rằng:\n",
    "* Thành phần chính đầu tiên giải thích đến 95.8% trên tổng số phương sai mẫu. Hay nói cách khác, thành phần chính đầu tiên lưu giữ đến 95,8% lượng thông tin của dữ liệu ban đầu. \n",
    "* Với 2 thành phần chính đầu tiên sau khi thực hiện PCA, lượng thông tin được giải thích lên đến 99.1% so với lượng thông tin ban đầu. \n",
    "\n",
    "Do đó, dữ liệu trên có thể được tóm tắt một cách hiệu quả với số chiều nhỏ hơn 6 (cụ thể là 1 chiều)."
   ]
  },
  {
   "cell_type": "markdown",
   "id": "b6cb2ffb",
   "metadata": {},
   "source": [
    "**(b) Thực hiện phân tích thành phần chính bằng cách sử dụng ma trận tương quan.**"
   ]
  },
  {
   "cell_type": "code",
   "execution_count": 87,
   "id": "b46fd873",
   "metadata": {},
   "outputs": [],
   "source": [
    "def correlation_from_covariance(covariance):\n",
    "    v = np.sqrt(np.diag(covariance))\n",
    "    outer_v = np.outer(v, v)\n",
    "    correlation = covariance / outer_v\n",
    "    correlation[covariance == 0] = 0\n",
    "    return correlation"
   ]
  },
  {
   "cell_type": "code",
   "execution_count": 88,
   "id": "2d17bdb7",
   "metadata": {},
   "outputs": [
    {
     "name": "stdout",
     "output_type": "stream",
     "text": [
      ">> Correlation matrix: \n",
      " [[1.         0.87520416 0.95594627 0.94372682 0.90236855 0.90454733]\n",
      " [0.87520416 1.         0.90130656 0.9176521  0.9459296  0.95030712]\n",
      " [0.95594627 0.90130656 1.         0.96353035 0.92694572 0.92002745]\n",
      " [0.94372682 0.9176521  0.96353035 1.         0.92703198 0.94388274]\n",
      " [0.90236855 0.9459296  0.92694572 0.92703198 1.         0.95432499]\n",
      " [0.90454733 0.95030712 0.92002745 0.94388274 0.95432499 1.        ]]\n"
     ]
    }
   ],
   "source": [
    "R = correlation_from_covariance(S)\n",
    "print(\">> Correlation matrix: \\n\", R)"
   ]
  },
  {
   "cell_type": "code",
   "execution_count": 89,
   "id": "16bf576f",
   "metadata": {},
   "outputs": [
    {
     "name": "stdout",
     "output_type": "stream",
     "text": [
      ">> Eigenanalysis of the Correlation Matrix\n",
      "                 PC1       PC2       PC3       PC4       PC5       PC6\n",
      "Eigenvalue  5.644572  0.175775  0.056519  0.049241  0.047339  0.026555\n",
      "Proportion  0.940762  0.029296  0.009420  0.008207  0.007890  0.004426\n",
      "Cumulative  0.940762  0.970058  0.979477  0.987684  0.995574  1.000000\n",
      "\n",
      "                   PC1       PC2       PC3       PC4       PC5       PC6\n",
      "Weight      -0.403681  0.558277  0.279671 -0.280325  0.593023 -0.129981\n",
      "Body_length -0.404307 -0.532271 -0.196208 -0.716909 -0.023653 -0.014435\n",
      "Neck        -0.409952  0.389254  0.037865 -0.061752 -0.560953  0.600421\n",
      "Girth       -0.412002  0.222934 -0.575998  0.243759 -0.230551 -0.579835\n",
      "Head_length -0.409135 -0.319023  0.701510  0.289800 -0.240282 -0.311445\n",
      "Head_width  -0.410341 -0.319407 -0.240755  0.510141  0.471388  0.434954\n"
     ]
    }
   ],
   "source": [
    "PCA_(R, correlation=True, column_names=column_names)"
   ]
  },
  {
   "cell_type": "markdown",
   "id": "e62cfc18",
   "metadata": {},
   "source": [
    "Sau khi thực hiện phân tích thành phần chính với ma trận tương quan, ta thấy rằng:\n",
    "* Thành phần chính thứ nhất giải thích đến 94.1% phương sai mẫu tổng thể. \n",
    "* 2 thành phần chính đầu tiên giải thích đến 97% phương sai mẫu tổng thể. \n",
    "* Các thành phần chính còn lại chỉ giải thích được 1 phần rất nhỏ phương sai mẫu tổng thể (dưới 1%).\n",
    "\n",
    "Do đó dữ liệu ban đầu có thể được tóm tắt hiệu quả chỉ với số chiều ít hơn 6 (cụ thể là 1 chiều)."
   ]
  },
  {
   "cell_type": "markdown",
   "id": "3ad2c904",
   "metadata": {},
   "source": [
    "**(c) Nhận xét điểm giống và khác nhau giữa 2 phép phân tích.**"
   ]
  },
  {
   "cell_type": "markdown",
   "id": "ece2ca1e",
   "metadata": {},
   "source": [
    "Từ kết quả của câu (a) và (b), ta thấy rằng cả 2 phép phần tích đều cho ra cùng một kết quả:\n",
    "* Thành phần chính thứ nhất giữ phần lớn thông tin của dữ liệu (hơn 94%).\n",
    "* 2 thành phần chính đầu tiền đóng góp vào việc giữ lượng thông tin của dữ liệu lên đến hơn 95%.\n",
    "* Các thành phần chính còn lại đều giải thích 1 phần rất nhỏ phương sai mẫu tổng thể (dưới 1%).\n",
    "* Dữ liệu ban đầu được tóm tắt hiệu quả với số chiều nhỏ hơn 6 (cụ thể là 1 chiều).\n",
    "\n",
    "Việc phân tích bằng 2 ma trận như trên cho ra sự chênh lệch ở thành phần thứ 2 và các thành phần còn lại. Tuy nhiên, các thành phần này tham gia giải thích phương sai mẫu tổng thể rất ít nên ảnh hưởng không nhiều đến kết quả."
   ]
  },
  {
   "cell_type": "markdown",
   "id": "23c889c3",
   "metadata": {},
   "source": [
    "### 8.28\n",
    "\n",
    "**Bộ dữ liệu survey được thu thập như một phần của cuộc nghiên cứu nhằm đánh giá các lựa chọn để tăng cường đảm bảo an toàn lương thực thực phẩm thông qua việc sử dụng nguồn tài nguyên thiên nhiên ở vùng Sikasso của Mali (Tây Phi). Tổng số $n=76$  nông dân đã được khảo sát và các quan trắc trên 9 biến**\n",
    "\n",
    "* $x_1 = $ Family (tổng số thành viên trong hộ)\n",
    "* $x_2 = $ DistRd (khoảng cách tính bằng kilometers đến đường có thể đi qua gần nhất)\n",
    "* $x_3 = $ Cotton (số hectares bông được trồng trong năm 2000)\n",
    "* $x_4 = $ Maize (số hectares ngô được trồng trong năm 2000)\n",
    "* $x_5 = $ Sorg (số hectares cao lương được trồng trong năm 2000)\n",
    "* $x_6 = $ Millet (số hectares kê được trồng trong năm 2000)\n",
    "* $x_7 = $ Bull (tổng số con bò hoặc gia súc kéo)\n",
    "* $x_8 = $ Cattle (tổng số gia súc)\n",
    "* $x_9 = $ Goats (tổng số con dê)\n",
    "\n",
    "**được ghi lại. Dữ liệu được liệt kê trong bảng 8.7 và trên website [www.prenhall.com/statistics](www.prenhall.com/statistics).**"
   ]
  },
  {
   "cell_type": "code",
   "execution_count": 90,
   "id": "8b0e05a3",
   "metadata": {},
   "outputs": [
    {
     "data": {
      "text/html": [
       "<div>\n",
       "<style scoped>\n",
       "    .dataframe tbody tr th:only-of-type {\n",
       "        vertical-align: middle;\n",
       "    }\n",
       "\n",
       "    .dataframe tbody tr th {\n",
       "        vertical-align: top;\n",
       "    }\n",
       "\n",
       "    .dataframe thead th {\n",
       "        text-align: right;\n",
       "    }\n",
       "</style>\n",
       "<table border=\"1\" class=\"dataframe\">\n",
       "  <thead>\n",
       "    <tr style=\"text-align: right;\">\n",
       "      <th></th>\n",
       "      <th>Family</th>\n",
       "      <th>DistRD</th>\n",
       "      <th>Cotton</th>\n",
       "      <th>Maize</th>\n",
       "      <th>Sorg</th>\n",
       "      <th>Millet</th>\n",
       "      <th>Bull</th>\n",
       "      <th>Cattle</th>\n",
       "      <th>Goats</th>\n",
       "    </tr>\n",
       "  </thead>\n",
       "  <tbody>\n",
       "    <tr>\n",
       "      <th>0</th>\n",
       "      <td>12</td>\n",
       "      <td>80.0</td>\n",
       "      <td>1.5</td>\n",
       "      <td>1.0</td>\n",
       "      <td>3.0</td>\n",
       "      <td>0.25</td>\n",
       "      <td>2</td>\n",
       "      <td>0</td>\n",
       "      <td>1</td>\n",
       "    </tr>\n",
       "    <tr>\n",
       "      <th>1</th>\n",
       "      <td>54</td>\n",
       "      <td>8.0</td>\n",
       "      <td>6.0</td>\n",
       "      <td>4.0</td>\n",
       "      <td>0.0</td>\n",
       "      <td>1.00</td>\n",
       "      <td>6</td>\n",
       "      <td>32</td>\n",
       "      <td>5</td>\n",
       "    </tr>\n",
       "    <tr>\n",
       "      <th>2</th>\n",
       "      <td>11</td>\n",
       "      <td>13.0</td>\n",
       "      <td>0.5</td>\n",
       "      <td>1.0</td>\n",
       "      <td>0.0</td>\n",
       "      <td>0.00</td>\n",
       "      <td>0</td>\n",
       "      <td>0</td>\n",
       "      <td>0</td>\n",
       "    </tr>\n",
       "    <tr>\n",
       "      <th>3</th>\n",
       "      <td>21</td>\n",
       "      <td>13.0</td>\n",
       "      <td>2.0</td>\n",
       "      <td>2.5</td>\n",
       "      <td>1.0</td>\n",
       "      <td>0.00</td>\n",
       "      <td>1</td>\n",
       "      <td>0</td>\n",
       "      <td>5</td>\n",
       "    </tr>\n",
       "    <tr>\n",
       "      <th>4</th>\n",
       "      <td>61</td>\n",
       "      <td>30.0</td>\n",
       "      <td>3.0</td>\n",
       "      <td>5.0</td>\n",
       "      <td>0.0</td>\n",
       "      <td>0.00</td>\n",
       "      <td>4</td>\n",
       "      <td>21</td>\n",
       "      <td>0</td>\n",
       "    </tr>\n",
       "    <tr>\n",
       "      <th>...</th>\n",
       "      <td>...</td>\n",
       "      <td>...</td>\n",
       "      <td>...</td>\n",
       "      <td>...</td>\n",
       "      <td>...</td>\n",
       "      <td>...</td>\n",
       "      <td>...</td>\n",
       "      <td>...</td>\n",
       "      <td>...</td>\n",
       "    </tr>\n",
       "    <tr>\n",
       "      <th>71</th>\n",
       "      <td>21</td>\n",
       "      <td>500.0</td>\n",
       "      <td>5.0</td>\n",
       "      <td>1.0</td>\n",
       "      <td>3.0</td>\n",
       "      <td>4.00</td>\n",
       "      <td>1</td>\n",
       "      <td>0</td>\n",
       "      <td>5</td>\n",
       "    </tr>\n",
       "    <tr>\n",
       "      <th>72</th>\n",
       "      <td>13</td>\n",
       "      <td>100.0</td>\n",
       "      <td>0.5</td>\n",
       "      <td>0.5</td>\n",
       "      <td>0.0</td>\n",
       "      <td>1.00</td>\n",
       "      <td>0</td>\n",
       "      <td>0</td>\n",
       "      <td>4</td>\n",
       "    </tr>\n",
       "    <tr>\n",
       "      <th>73</th>\n",
       "      <td>24</td>\n",
       "      <td>100.0</td>\n",
       "      <td>2.0</td>\n",
       "      <td>3.0</td>\n",
       "      <td>0.0</td>\n",
       "      <td>0.50</td>\n",
       "      <td>3</td>\n",
       "      <td>14</td>\n",
       "      <td>10</td>\n",
       "    </tr>\n",
       "    <tr>\n",
       "      <th>74</th>\n",
       "      <td>29</td>\n",
       "      <td>90.0</td>\n",
       "      <td>2.0</td>\n",
       "      <td>1.5</td>\n",
       "      <td>1.5</td>\n",
       "      <td>1.50</td>\n",
       "      <td>2</td>\n",
       "      <td>0</td>\n",
       "      <td>2</td>\n",
       "    </tr>\n",
       "    <tr>\n",
       "      <th>75</th>\n",
       "      <td>57</td>\n",
       "      <td>90.0</td>\n",
       "      <td>10.0</td>\n",
       "      <td>7.0</td>\n",
       "      <td>0.0</td>\n",
       "      <td>1.50</td>\n",
       "      <td>7</td>\n",
       "      <td>8</td>\n",
       "      <td>7</td>\n",
       "    </tr>\n",
       "  </tbody>\n",
       "</table>\n",
       "<p>76 rows × 9 columns</p>\n",
       "</div>"
      ],
      "text/plain": [
       "    Family  DistRD  Cotton  Maize  Sorg  Millet  Bull  Cattle  Goats\n",
       "0       12    80.0     1.5    1.0   3.0    0.25     2       0      1\n",
       "1       54     8.0     6.0    4.0   0.0    1.00     6      32      5\n",
       "2       11    13.0     0.5    1.0   0.0    0.00     0       0      0\n",
       "3       21    13.0     2.0    2.5   1.0    0.00     1       0      5\n",
       "4       61    30.0     3.0    5.0   0.0    0.00     4      21      0\n",
       "..     ...     ...     ...    ...   ...     ...   ...     ...    ...\n",
       "71      21   500.0     5.0    1.0   3.0    4.00     1       0      5\n",
       "72      13   100.0     0.5    0.5   0.0    1.00     0       0      4\n",
       "73      24   100.0     2.0    3.0   0.0    0.50     3      14     10\n",
       "74      29    90.0     2.0    1.5   1.5    1.50     2       0      2\n",
       "75      57    90.0    10.0    7.0   0.0    1.50     7       8      7\n",
       "\n",
       "[76 rows x 9 columns]"
      ]
     },
     "execution_count": 90,
     "metadata": {},
     "output_type": "execute_result"
    }
   ],
   "source": [
    "path_28 = 'T8-7.txt'\n",
    "data_28 = pd.read_table(path_28, delim_whitespace=True, header=None)\n",
    "data_28.columns = ['Family', 'DistRD', 'Cotton', 'Maize', 'Sorg', 'Millet', 'Bull', 'Cattle', 'Goats']\n",
    "\n",
    "data_28"
   ]
  },
  {
   "cell_type": "markdown",
   "id": "af75aeca",
   "metadata": {},
   "source": [
    "**(a) Xây dựng các biểu đồ phân tán 2 chiều của Family versus DistRd, và DistRd versus Cattle. Loại bỏ ngoại lai từ bộ dữ liệu.**"
   ]
  },
  {
   "cell_type": "code",
   "execution_count": 91,
   "id": "a0d4f1e7",
   "metadata": {},
   "outputs": [
    {
     "data": {
      "image/png": "[encoded data removed]",
      "text/plain": [
       "<Figure size 1296x360 with 2 Axes>"
      ]
     },
     "metadata": {
      "needs_background": "light"
     },
     "output_type": "display_data"
    }
   ],
   "source": [
    "fig, axs = plt.subplots(1, 2, figsize=(18,5))\n",
    "axs[0].scatter(data_28['Family'], data_28['DistRD'])\n",
    "axs[0].set_xlabel('Family')\n",
    "axs[0].set_ylabel('DistRD')\n",
    "axs[0].set_title('Scatterplot of Family vs DistRD')\n",
    "\n",
    "axs[1].scatter(data_28['Cattle'], data_28['DistRD'])\n",
    "axs[1].set_xlabel('Cattle')\n",
    "axs[1].set_ylabel('DistRD')\n",
    "axs[1].set_title('Scatterplot of Cattle vs DistRD')\n",
    "\n",
    "plt.show()"
   ]
  },
  {
   "cell_type": "code",
   "execution_count": 92,
   "id": "fb303540",
   "metadata": {},
   "outputs": [
    {
     "data": {
      "text/html": [
       "<div>\n",
       "<style scoped>\n",
       "    .dataframe tbody tr th:only-of-type {\n",
       "        vertical-align: middle;\n",
       "    }\n",
       "\n",
       "    .dataframe tbody tr th {\n",
       "        vertical-align: top;\n",
       "    }\n",
       "\n",
       "    .dataframe thead th {\n",
       "        text-align: right;\n",
       "    }\n",
       "</style>\n",
       "<table border=\"1\" class=\"dataframe\">\n",
       "  <thead>\n",
       "    <tr style=\"text-align: right;\">\n",
       "      <th></th>\n",
       "      <th>Family</th>\n",
       "      <th>DistRD</th>\n",
       "      <th>Cotton</th>\n",
       "      <th>Maize</th>\n",
       "      <th>Sorg</th>\n",
       "      <th>Millet</th>\n",
       "      <th>Bull</th>\n",
       "      <th>Cattle</th>\n",
       "      <th>Goats</th>\n",
       "    </tr>\n",
       "  </thead>\n",
       "  <tbody>\n",
       "    <tr>\n",
       "      <th>24</th>\n",
       "      <td>145</td>\n",
       "      <td>36.0</td>\n",
       "      <td>9.5</td>\n",
       "      <td>7.0</td>\n",
       "      <td>13.0</td>\n",
       "      <td>5.5</td>\n",
       "      <td>8</td>\n",
       "      <td>9</td>\n",
       "      <td>15</td>\n",
       "    </tr>\n",
       "    <tr>\n",
       "      <th>33</th>\n",
       "      <td>53</td>\n",
       "      <td>7.0</td>\n",
       "      <td>0.0</td>\n",
       "      <td>1.0</td>\n",
       "      <td>11.0</td>\n",
       "      <td>2.0</td>\n",
       "      <td>8</td>\n",
       "      <td>104</td>\n",
       "      <td>10</td>\n",
       "    </tr>\n",
       "    <tr>\n",
       "      <th>68</th>\n",
       "      <td>18</td>\n",
       "      <td>500.0</td>\n",
       "      <td>2.0</td>\n",
       "      <td>1.0</td>\n",
       "      <td>1.5</td>\n",
       "      <td>0.5</td>\n",
       "      <td>1</td>\n",
       "      <td>0</td>\n",
       "      <td>0</td>\n",
       "    </tr>\n",
       "    <tr>\n",
       "      <th>71</th>\n",
       "      <td>21</td>\n",
       "      <td>500.0</td>\n",
       "      <td>5.0</td>\n",
       "      <td>1.0</td>\n",
       "      <td>3.0</td>\n",
       "      <td>4.0</td>\n",
       "      <td>1</td>\n",
       "      <td>0</td>\n",
       "      <td>5</td>\n",
       "    </tr>\n",
       "  </tbody>\n",
       "</table>\n",
       "</div>"
      ],
      "text/plain": [
       "    Family  DistRD  Cotton  Maize  Sorg  Millet  Bull  Cattle  Goats\n",
       "24     145    36.0     9.5    7.0  13.0     5.5     8       9     15\n",
       "33      53     7.0     0.0    1.0  11.0     2.0     8     104     10\n",
       "68      18   500.0     2.0    1.0   1.5     0.5     1       0      0\n",
       "71      21   500.0     5.0    1.0   3.0     4.0     1       0      5"
      ]
     },
     "execution_count": 92,
     "metadata": {},
     "output_type": "execute_result"
    }
   ],
   "source": [
    "outliers = data_28.loc[(data_28['Family']>100) | (data_28['DistRD']>200) | (data_28['Cattle']>100)]\n",
    "outliers"
   ]
  },
  {
   "cell_type": "markdown",
   "id": "6a042f11",
   "metadata": {},
   "source": [
    "Dựa vào 2 biểu đồ phân tán, ta phát hiện ra 4 điểm ngoại lai là điểm 24, 33, 68 và 71."
   ]
  },
  {
   "cell_type": "code",
   "execution_count": 93,
   "id": "83afe600",
   "metadata": {},
   "outputs": [
    {
     "name": "stdout",
     "output_type": "stream",
     "text": [
      ">> Shape of data before remove outliers:  (76, 9)\n",
      ">> Shape of data after remove outliers:  (72, 9)\n"
     ]
    }
   ],
   "source": [
    "data = data_28.drop(outliers.index, axis=0)\n",
    "print(\">> Shape of data before remove outliers: \", data_28.shape)\n",
    "print(\">> Shape of data after remove outliers: \", data.shape)"
   ]
  },
  {
   "cell_type": "markdown",
   "id": "6af16a8f",
   "metadata": {},
   "source": [
    "**(b) Thực hiện phân tích thành phần chính bằng cách sử dụng ma trận tương quan R. Xác định số thành phần để tóm tắt hiệu quả sự biến thiên. Sử dụng proportion of variation explained và biểu đồ scree để giúp bạn quyết định.**"
   ]
  },
  {
   "cell_type": "code",
   "execution_count": 97,
   "id": "7e08d85e",
   "metadata": {},
   "outputs": [
    {
     "name": "stdout",
     "output_type": "stream",
     "text": [
      ">> Correlation matrix: \n",
      " [[ 1.         -0.03148898  0.7568462   0.6552768   0.38803015  0.49645168\n",
      "   0.7333791   0.55328914  0.36173366]\n",
      " [-0.03148898  1.         -0.03110498  0.10982068 -0.21839611 -0.0832359\n",
      "   0.0283732   0.06006817  0.1709544 ]\n",
      " [ 0.7568462  -0.03110498  1.          0.71570668  0.40686821  0.35205719\n",
      "   0.82134476  0.59865242  0.3726093 ]\n",
      " [ 0.6552768   0.10982068  0.71570668  1.         -0.02987731  0.17561072\n",
      "   0.62896348  0.5298674   0.05091172]\n",
      " [ 0.38803015 -0.21839611  0.40686821 -0.02987731  1.          0.36384004\n",
      "   0.31818024  0.06017202  0.23713752]\n",
      " [ 0.49645168 -0.0832359   0.35205719  0.17561072  0.36384004  1.\n",
      "   0.33620013  0.12529839  0.24981286]\n",
      " [ 0.7333791   0.0283732   0.82134476  0.62896348  0.31818024  0.33620013\n",
      "   1.          0.66980799  0.50378916]\n",
      " [ 0.55328914  0.06006817  0.59865242  0.5298674   0.06017202  0.12529839\n",
      "   0.66980799  1.          0.38185786]\n",
      " [ 0.36173366  0.1709544   0.3726093   0.05091172  0.23713752  0.24981286\n",
      "   0.50378916  0.38185786  1.        ]]\n"
     ]
    }
   ],
   "source": [
    "R = np.corrcoef(data.T)\n",
    "print(\">> Correlation matrix: \\n\", R)"
   ]
  },
  {
   "cell_type": "code",
   "execution_count": 103,
   "id": "21989bcb",
   "metadata": {},
   "outputs": [
    {
     "name": "stdout",
     "output_type": "stream",
     "text": [
      ">> Eigenanalysis of the Correlation Matrix\n",
      "                 PC1       PC2       PC3       PC4       PC5       PC6  \\\n",
      "Eigenvalue  4.185131  1.438087  1.084500  0.791818  0.604325  0.366136   \n",
      "Proportion  0.465015  0.159787  0.120500  0.087980  0.067147  0.040682   \n",
      "Cumulative  0.465015  0.624802  0.745302  0.833282  0.900429  0.941111   \n",
      "\n",
      "                 PC7       PC8       PC9  \n",
      "Eigenvalue  0.240024  0.171825  0.118155  \n",
      "Proportion  0.026669  0.019092  0.013128  \n",
      "Cumulative  0.967780  0.986872  1.000000  \n",
      "\n",
      "              PC1       PC2       PC3       PC4       PC5       PC6       PC7  \\\n",
      "Family -0.433843  0.065089  0.098400 -0.171201  0.011327  0.039979 -0.797460   \n",
      "DistRD -0.007587 -0.496671 -0.568561 -0.495610 -0.377668 -0.186582  0.021070   \n",
      "Cotton -0.446140 -0.008917  0.132117  0.027337 -0.218708  0.199686  0.361248   \n",
      "Maize  -0.352228 -0.352571  0.388203 -0.240205 -0.079203  0.273212 -0.023829   \n",
      "Sorg   -0.203622  0.603667 -0.111492  0.058543 -0.644577 -0.245987 -0.020619   \n",
      "Millet -0.240361  0.415160 -0.115960 -0.616327  0.526967 -0.180779  0.240706   \n",
      "Bull   -0.445274 -0.068042 -0.030388  0.145592 -0.028300  0.134054  0.396219   \n",
      "Cattle -0.355412 -0.284473  0.013826  0.372934  0.217532 -0.759050 -0.010636   \n",
      "Goats  -0.254550  0.048668 -0.686955  0.350788  0.248671  0.402182 -0.130684   \n",
      "\n",
      "             PC8       PC9  \n",
      "Family  0.262810 -0.248622  \n",
      "DistRD  0.047901 -0.064693  \n",
      "Cotton -0.329485 -0.675211  \n",
      "Maize  -0.362974  0.574449  \n",
      "Sorg   -0.125564  0.293402  \n",
      "Millet -0.077133  0.047958  \n",
      "Bull    0.750508  0.189626  \n",
      "Cattle -0.168662  0.038067  \n",
      "Goats  -0.273681  0.149361  \n"
     ]
    }
   ],
   "source": [
    "eigenvals, eigenvecs, proportions = PCA_(R, correlation=True, column_names=data.columns, return_=True)"
   ]
  },
  {
   "cell_type": "code",
   "execution_count": 105,
   "id": "1e852b11",
   "metadata": {},
   "outputs": [
    {
     "data": {
      "image/png": "[encoded data removed]",
      "text/plain": [
       "<Figure size 720x360 with 1 Axes>"
      ]
     },
     "metadata": {
      "needs_background": "light"
     },
     "output_type": "display_data"
    }
   ],
   "source": [
    "fig, ax = plt.subplots(figsize=(10,5))\n",
    "\n",
    "PC_values = np.arange(len(eigenvals)) + 1\n",
    "ax.plot(PC_values, eigenvals, 'ro-', linewidth=2)\n",
    "ax.set_title('Scree Plot')\n",
    "ax.set_xlabel('Principal Component')\n",
    "ax.set_ylabel('Eigenvalue')\n",
    "\n",
    "plt.show()"
   ]
  },
  {
   "cell_type": "markdown",
   "id": "95adba52",
   "metadata": {},
   "source": [
    "Dựa vào bảng phân tích eigenanalysis, ta thấy rằng 5 thành phần chính đầu tiên giải thích đến 90% tổng phương sai của tổng thể trong bộ dự liệu. Trên biểu đồ scree, ta có thế thấy rằng chọn 5 làm số thành phần chính là hợp lý mặc dù độ gấp khúc không quá rõ nét. Do đó, ta chọn số thành phần chính để tóm tắt dữ liệu hiệu quả là 5."
   ]
  },
  {
   "cell_type": "markdown",
   "id": "bc31d743",
   "metadata": {},
   "source": [
    "**(c) Diễn giải năm thành phần chính đầu tiên. Chẳng hạn, bạn có thể xác định một thành phần là \"farm size\"? Một thành phần là \"goats and distance to road\"?**"
   ]
  },
  {
   "cell_type": "markdown",
   "id": "81ba009c",
   "metadata": {},
   "source": [
    "* Thành phần chính thứ 1, tất cả các biến (cây trồng, vật nuôi, gia đình) ngoại trừ biến khoảng cách đến đường có thể đi qua gần nhất (DistRD) đều tham gia góp phần giải thích cho thành phần này tương đối là như nhau. Do đó thành phần này có thể gọi là *kích thước nông trại* (farm size).\n",
    "* Thành phần chính thứ 3, các biến DistRD và Goats tham gia giải thích cho thành phần này cao nhất trong tất cả các biến. Do đó, thành phần này có thể gọi là *goats and distance to road*.\n",
    "* Thành phần chính thứ 5, các biến Sorg và Mallet tham gia giải thích cho thành phần này cao nhất trong tất cả các biến. Do đó, thành phần chính này có thể gọi là *sorghum and millet size*.\n",
    "* 2 thành phần chính còn lại khó có thể diễn giải do có nhiều biến yếu tố cùng tham gia"
   ]
  }
 ],
 "metadata": {
  "kernelspec": {
   "display_name": "Python 3",
   "language": "python",
   "name": "python3"
  },
  "language_info": {
   "codemirror_mode": {
    "name": "ipython",
    "version": 3
   },
   "file_extension": ".py",
   "mimetype": "text/x-python",
   "name": "python",
   "nbconvert_exporter": "python",
   "pygments_lexer": "ipython3",
   "version": "3.7.10"
  }
 },
 "nbformat": 4,
 "nbformat_minor": 5
}
